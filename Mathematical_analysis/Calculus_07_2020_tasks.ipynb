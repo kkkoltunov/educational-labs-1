{
 "cells": [
  {
   "cell_type": "markdown",
   "metadata": {},
   "source": [
    "## Занятие 7\n",
    "## Математический анализ\n",
    "## Исследование функции с sympy.calculus.util и sympy.calculus.singularities"
   ]
  },
  {
   "cell_type": "code",
   "execution_count": 2,
   "metadata": {},
   "outputs": [],
   "source": [
    "import sympy\n",
    "from sympy import S, Interval, plot\n",
    "from sympy import sin as Sin\n",
    "from sympy import cos as Cos\n",
    "from sympy import exp as Exp\n",
    "from sympy import log as Log\n",
    "from sympy import pi as Pi\n",
    "from sympy.calculus.util import continuous_domain, function_range, periodicity, stationary_points, maximum, minimum, AccumBounds\n",
    "from sympy.calculus.singularities import singularities, is_increasing, is_decreasing, is_monotonic\n",
    "from sympy.calculus.singularities import is_strictly_increasing, is_strictly_decreasing\n",
    "%matplotlib inline"
   ]
  },
  {
   "cell_type": "markdown",
   "metadata": {},
   "source": [
    "## Схема анализа функции.\n",
    "1. Область определения\n",
    "\n",
    "sympy.calculus.util.continuous_domain(f, symbol, domain)\n",
    "\n",
    "f - выражение, описывающее функцию, \n",
    "\n",
    "symbol - переменная, от которой зависит исследуемая функция,\n",
    "\n",
    "domain - область значений переменной, на которой рассматривается функция,\n",
    "\n",
    "если функция рассматривается на всей вещественной прямой, то domain=S.Reals\n",
    "\n",
    "Сингулярные точки (точки, в которых функция не существует) находятся с помощью\n",
    "\n",
    "sympy.calculus.singularities.singularities(f, symbol, domain=None)\n",
    "\n",
    "2. Область значений\n",
    "\n",
    "sympy.calculus.util.function_range(f, symbol, domain)\n",
    "\n",
    "3. Периодичность\n",
    "\n",
    "sympy.calculus.util.periodicity(f, symbol, check=False)\n",
    "\n",
    "4. Стационарные точки \n",
    "\n",
    "sympy.calculus.util.stationary_points(f, symbol, domain=Reals)\n",
    "\n",
    "5. Точки экстремума\n",
    "\n",
    "sympy.calculus.util.maximum(f, symbol, domain=Reals)\n",
    "\n",
    "sympy.calculus.util.minimum(f, symbol, domain=Reals)\n",
    "\n",
    "6. Монотонность\n",
    "\n",
    "sympy.calculus.singularities.is_decreasing(f, interval=Reals, symbol=None)\n",
    "\n",
    "sympy.calculus.singularities.is_increasing(f, interval=Reals, symbol=None)\n",
    "\n",
    "sympy.calculus.singularities.is_monotonic(f, interval=Reals, symbol=None)\n",
    "\n",
    "sympy.calculus.singularities.is_strictly_decreasing(f, interval=Reals, symbol=None)\n",
    "\n",
    "sympy.calculus.singularities.is_strictly_increasing(f, interval=Reals, symbol=None)\n",
    "\n",
    "7. Минимальное и максимальное значение функции на интервале \n",
    "\n",
    "sympy.calculus.util.AccumulationBounds(min, max)\n",
    "\n",
    "Свойства: delta, max, min, mid\n",
    "\n",
    "### Задание 1.  \n",
    "Исследовать функцию по п.1 - 5 на области определения и по п. 1 - 7 на одном периоде, построить график.\n",
    "$$\n",
    "f(x) = e^{\\sin(x)}.\n",
    "$$\n",
    "###### 1. Область определения"
   ]
  },
  {
   "cell_type": "code",
   "execution_count": 4,
   "metadata": {},
   "outputs": [
    {
     "data": {
      "text/plain": [
       "'Область определения:'"
      ]
     },
     "metadata": {},
     "output_type": "display_data"
    },
    {
     "data": {
      "text/latex": [
       "$\\displaystyle \\mathbb{R}$"
      ],
      "text/plain": [
       "Reals"
      ]
     },
     "metadata": {},
     "output_type": "display_data"
    }
   ],
   "source": [
    "from sympy.abc import x\n",
    "f = sympy.exp(sympy.sin(x))\n",
    "D = continuous_domain(f, x, S.Reals)\n",
    "display('Область определения:', D)"
   ]
  },
  {
   "cell_type": "markdown",
   "metadata": {},
   "source": [
    "Сингулярные точки (точки, где функция не определена)"
   ]
  },
  {
   "cell_type": "code",
   "execution_count": 7,
   "metadata": {},
   "outputs": [
    {
     "data": {
      "text/plain": [
       "'Сингулярные точки:'"
      ]
     },
     "metadata": {},
     "output_type": "display_data"
    },
    {
     "data": {
      "text/latex": [
       "$\\displaystyle \\emptyset$"
      ],
      "text/plain": [
       "EmptySet"
      ]
     },
     "metadata": {},
     "output_type": "display_data"
    }
   ],
   "source": [
    "display('Сингулярные точки:', singularities(f, x))"
   ]
  },
  {
   "cell_type": "markdown",
   "metadata": {},
   "source": [
    "###### 2. Область значений"
   ]
  },
  {
   "cell_type": "code",
   "execution_count": 10,
   "metadata": {},
   "outputs": [
    {
     "data": {
      "text/plain": [
       "'Область значений:'"
      ]
     },
     "metadata": {},
     "output_type": "display_data"
    },
    {
     "data": {
      "text/latex": [
       "$\\displaystyle \\left[e^{-1}, e\\right]$"
      ],
      "text/plain": [
       "Interval(exp(-1), E)"
      ]
     },
     "metadata": {},
     "output_type": "display_data"
    }
   ],
   "source": [
    "display('Область значений:', function_range(f, x, S.Reals))"
   ]
  },
  {
   "cell_type": "markdown",
   "metadata": {},
   "source": [
    "###### 3. Периодичность"
   ]
  },
  {
   "cell_type": "code",
   "execution_count": 12,
   "metadata": {},
   "outputs": [
    {
     "data": {
      "text/plain": [
       "'Периодичность:'"
      ]
     },
     "metadata": {},
     "output_type": "display_data"
    },
    {
     "data": {
      "text/latex": [
       "$\\displaystyle 2 \\pi$"
      ],
      "text/plain": [
       "2*pi"
      ]
     },
     "metadata": {},
     "output_type": "display_data"
    }
   ],
   "source": [
    "display('Периодичность:', periodicity(f, x, check=False))"
   ]
  },
  {
   "cell_type": "markdown",
   "metadata": {},
   "source": [
    "###### 4. Стационарные точки"
   ]
  },
  {
   "cell_type": "code",
   "execution_count": 13,
   "metadata": {},
   "outputs": [
    {
     "data": {
      "text/plain": [
       "'Стационарные точки:'"
      ]
     },
     "metadata": {},
     "output_type": "display_data"
    },
    {
     "data": {
      "text/latex": [
       "$\\displaystyle \\left\\{2 n \\pi + \\frac{\\pi}{2}\\; |\\; n \\in \\mathbb{Z}\\right\\} \\cup \\left\\{2 n \\pi + \\frac{3 \\pi}{2}\\; |\\; n \\in \\mathbb{Z}\\right\\}$"
      ],
      "text/plain": [
       "Union(ImageSet(Lambda(_n, 2*_n*pi + pi/2), Integers), ImageSet(Lambda(_n, 2*_n*pi + 3*pi/2), Integers))"
      ]
     },
     "metadata": {},
     "output_type": "display_data"
    }
   ],
   "source": [
    "display('Стационарные точки:', stationary_points(f, x))"
   ]
  },
  {
   "cell_type": "markdown",
   "metadata": {},
   "source": [
    "###### 5. Максимальное и минимальное значения функции"
   ]
  },
  {
   "cell_type": "code",
   "execution_count": 14,
   "metadata": {},
   "outputs": [
    {
     "data": {
      "text/plain": [
       "'Максимальное и минимальное значения функции:'"
      ]
     },
     "metadata": {},
     "output_type": "display_data"
    },
    {
     "data": {
      "text/latex": [
       "$\\displaystyle e$"
      ],
      "text/plain": [
       "E"
      ]
     },
     "metadata": {},
     "output_type": "display_data"
    },
    {
     "data": {
      "text/latex": [
       "$\\displaystyle e^{-1}$"
      ],
      "text/plain": [
       "exp(-1)"
      ]
     },
     "metadata": {},
     "output_type": "display_data"
    }
   ],
   "source": [
    "display('Максимальное и минимальное значения функции:', maximum(f, x), minimum(f, x))"
   ]
  },
  {
   "cell_type": "markdown",
   "metadata": {},
   "source": [
    "##### Исследование периодической функции на одном периоде.\n",
    "Найти пересечение с периодом области определения, множества сингулярных точек и стационарных точек.\n",
    "###### 1. Область определения"
   ]
  },
  {
   "cell_type": "code",
   "execution_count": 17,
   "metadata": {},
   "outputs": [
    {
     "data": {
      "text/plain": [
       "'Область определения:'"
      ]
     },
     "metadata": {},
     "output_type": "display_data"
    },
    {
     "data": {
      "text/latex": [
       "$\\displaystyle \\left[0, 2 \\pi\\right]$"
      ],
      "text/plain": [
       "Interval(0, 2*pi)"
      ]
     },
     "metadata": {},
     "output_type": "display_data"
    }
   ],
   "source": [
    "period_pi = Interval(0, 2*Pi)\n",
    "display('Область определения:', continuous_domain(f, x, period_pi))"
   ]
  },
  {
   "cell_type": "markdown",
   "metadata": {},
   "source": [
    "Сингулярные точки (точки, где функция не определена)"
   ]
  },
  {
   "cell_type": "code",
   "execution_count": 18,
   "metadata": {},
   "outputs": [
    {
     "data": {
      "text/plain": [
       "'Сингулярные точки'"
      ]
     },
     "metadata": {},
     "output_type": "display_data"
    },
    {
     "data": {
      "text/latex": [
       "$\\displaystyle \\emptyset$"
      ],
      "text/plain": [
       "EmptySet"
      ]
     },
     "metadata": {},
     "output_type": "display_data"
    }
   ],
   "source": [
    "display('Сингулярные точки', singularities(f, x, period_pi))"
   ]
  },
  {
   "cell_type": "markdown",
   "metadata": {},
   "source": [
    "###### 2. Область значений"
   ]
  },
  {
   "cell_type": "code",
   "execution_count": 19,
   "metadata": {},
   "outputs": [
    {
     "data": {
      "text/plain": [
       "'Область значений:'"
      ]
     },
     "metadata": {},
     "output_type": "display_data"
    },
    {
     "data": {
      "text/latex": [
       "$\\displaystyle \\left[e^{-1}, e\\right]$"
      ],
      "text/plain": [
       "Interval(exp(-1), E)"
      ]
     },
     "metadata": {},
     "output_type": "display_data"
    }
   ],
   "source": [
    "display('Область значений:', function_range(f, x, period_pi))"
   ]
  },
  {
   "cell_type": "markdown",
   "metadata": {},
   "source": [
    "###### 4. Стационарные точки "
   ]
  },
  {
   "cell_type": "code",
   "execution_count": 20,
   "metadata": {},
   "outputs": [
    {
     "data": {
      "text/plain": [
       "'Стационарные точки:'"
      ]
     },
     "metadata": {},
     "output_type": "display_data"
    },
    {
     "data": {
      "text/latex": [
       "$\\displaystyle \\left\\{\\frac{\\pi}{2}, \\frac{3 \\pi}{2}\\right\\}$"
      ],
      "text/plain": [
       "FiniteSet(pi/2, 3*pi/2)"
      ]
     },
     "metadata": {},
     "output_type": "display_data"
    }
   ],
   "source": [
    "display('Стационарные точки:', stationary_points(f, x, period_pi))"
   ]
  },
  {
   "cell_type": "markdown",
   "metadata": {},
   "source": [
    "###### 5. Максимальное и минимальное значения функции"
   ]
  },
  {
   "cell_type": "code",
   "execution_count": 21,
   "metadata": {},
   "outputs": [
    {
     "data": {
      "text/plain": [
       "'Максимальное и минимальное значения функции:'"
      ]
     },
     "metadata": {},
     "output_type": "display_data"
    },
    {
     "data": {
      "text/latex": [
       "$\\displaystyle e$"
      ],
      "text/plain": [
       "E"
      ]
     },
     "metadata": {},
     "output_type": "display_data"
    },
    {
     "data": {
      "text/latex": [
       "$\\displaystyle e^{-1}$"
      ],
      "text/plain": [
       "exp(-1)"
      ]
     },
     "metadata": {},
     "output_type": "display_data"
    }
   ],
   "source": [
    "display('Максимальное и минимальное значения функции:', maximum(f, x, period_pi), minimum(f, x, period_pi))"
   ]
  },
  {
   "cell_type": "markdown",
   "metadata": {},
   "source": [
    "###### 6. Монотонность\n",
    "Исследовать на периоде открытые интервалы (Interval.open), на которые период разбивают стационарные точки."
   ]
  },
  {
   "cell_type": "code",
   "execution_count": 6,
   "metadata": {},
   "outputs": [
    {
     "data": {
      "text/latex": [
       "$\\displaystyle \\left(0, \\frac{\\pi}{2}\\right)$"
      ],
      "text/plain": [
       "Interval.open(0, pi/2)"
      ]
     },
     "metadata": {},
     "output_type": "display_data"
    },
    {
     "name": "stdout",
     "output_type": "stream",
     "text": [
      "True None None None None\n"
     ]
    },
    {
     "data": {
      "text/latex": [
       "$\\displaystyle \\left(\\frac{\\pi}{2}, \\frac{3 \\pi}{2}\\right)$"
      ],
      "text/plain": [
       "Interval.open(pi/2, 3*pi/2)"
      ]
     },
     "metadata": {},
     "output_type": "display_data"
    },
    {
     "name": "stdout",
     "output_type": "stream",
     "text": [
      "True None None None None\n"
     ]
    },
    {
     "data": {
      "text/latex": [
       "$\\displaystyle \\left(\\frac{3 \\pi}{2}, 2 \\pi\\right)$"
      ],
      "text/plain": [
       "Interval.open(3*pi/2, 2*pi)"
      ]
     },
     "metadata": {},
     "output_type": "display_data"
    },
    {
     "name": "stdout",
     "output_type": "stream",
     "text": [
      "True None None None None\n"
     ]
    }
   ],
   "source": [
    "intervals = [Interval.open(0, Pi/2), Interval.open(Pi/2, 3*Pi/2), Interval.open(3*Pi/2, 2*Pi)]\n",
    "for interval in intervals:\n",
    "    display(interval)\n",
    "    print(is_monotonic(f, interval=interval),\n",
    "        is_decreasing(f, interval=interval), is_increasing(f, interval=interval),\n",
    "        is_strictly_decreasing(f, interval=interval), is_strictly_increasing(f, interval=interval))"
   ]
  },
  {
   "cell_type": "markdown",
   "metadata": {},
   "source": [
    "###### 7. Минимальное и максимальное значение функции на интервале \n",
    "Найти максимальное и минимальное значение функции на каждом из интервалов монотонности в пределах одного периода"
   ]
  },
  {
   "cell_type": "code",
   "execution_count": 7,
   "metadata": {},
   "outputs": [
    {
     "data": {
      "text/latex": [
       "$\\displaystyle \\left(0, \\frac{\\pi}{2}\\right)$"
      ],
      "text/plain": [
       "Interval.open(0, pi/2)"
      ]
     },
     "metadata": {},
     "output_type": "display_data"
    },
    {
     "data": {
      "text/latex": [
       "$\\displaystyle \\left\\langle 1, e\\right\\rangle$"
      ],
      "text/plain": [
       "AccumBounds(1, E)"
      ]
     },
     "metadata": {},
     "output_type": "display_data"
    },
    {
     "data": {
      "text/latex": [
       "$\\displaystyle e$"
      ],
      "text/plain": [
       "E"
      ]
     },
     "metadata": {},
     "output_type": "display_data"
    },
    {
     "data": {
      "text/latex": [
       "$\\displaystyle 1$"
      ],
      "text/plain": [
       "1"
      ]
     },
     "metadata": {},
     "output_type": "display_data"
    },
    {
     "data": {
      "text/latex": [
       "$\\displaystyle -1 + e$"
      ],
      "text/plain": [
       "-1 + E"
      ]
     },
     "metadata": {},
     "output_type": "display_data"
    },
    {
     "data": {
      "text/latex": [
       "$\\displaystyle \\frac{1}{2} + \\frac{e}{2}$"
      ],
      "text/plain": [
       "1/2 + E/2"
      ]
     },
     "metadata": {},
     "output_type": "display_data"
    },
    {
     "data": {
      "text/latex": [
       "$\\displaystyle \\left(\\frac{\\pi}{2}, \\frac{3 \\pi}{2}\\right)$"
      ],
      "text/plain": [
       "Interval.open(pi/2, 3*pi/2)"
      ]
     },
     "metadata": {},
     "output_type": "display_data"
    },
    {
     "data": {
      "text/latex": [
       "$\\displaystyle \\left\\langle e^{-1}, e\\right\\rangle$"
      ],
      "text/plain": [
       "AccumBounds(exp(-1), E)"
      ]
     },
     "metadata": {},
     "output_type": "display_data"
    },
    {
     "data": {
      "text/latex": [
       "$\\displaystyle e$"
      ],
      "text/plain": [
       "E"
      ]
     },
     "metadata": {},
     "output_type": "display_data"
    },
    {
     "data": {
      "text/latex": [
       "$\\displaystyle e^{-1}$"
      ],
      "text/plain": [
       "exp(-1)"
      ]
     },
     "metadata": {},
     "output_type": "display_data"
    },
    {
     "data": {
      "text/latex": [
       "$\\displaystyle e - e^{-1}$"
      ],
      "text/plain": [
       "E - exp(-1)"
      ]
     },
     "metadata": {},
     "output_type": "display_data"
    },
    {
     "data": {
      "text/latex": [
       "$\\displaystyle \\frac{1}{2 e} + \\frac{e}{2}$"
      ],
      "text/plain": [
       "exp(-1)/2 + E/2"
      ]
     },
     "metadata": {},
     "output_type": "display_data"
    },
    {
     "data": {
      "text/latex": [
       "$\\displaystyle \\left(\\frac{3 \\pi}{2}, 2 \\pi\\right)$"
      ],
      "text/plain": [
       "Interval.open(3*pi/2, 2*pi)"
      ]
     },
     "metadata": {},
     "output_type": "display_data"
    },
    {
     "data": {
      "text/latex": [
       "$\\displaystyle \\left\\langle e^{-1}, 1\\right\\rangle$"
      ],
      "text/plain": [
       "AccumBounds(exp(-1), 1)"
      ]
     },
     "metadata": {},
     "output_type": "display_data"
    },
    {
     "data": {
      "text/latex": [
       "$\\displaystyle 1$"
      ],
      "text/plain": [
       "1"
      ]
     },
     "metadata": {},
     "output_type": "display_data"
    },
    {
     "data": {
      "text/latex": [
       "$\\displaystyle e^{-1}$"
      ],
      "text/plain": [
       "exp(-1)"
      ]
     },
     "metadata": {},
     "output_type": "display_data"
    },
    {
     "data": {
      "text/latex": [
       "$\\displaystyle 1 - e^{-1}$"
      ],
      "text/plain": [
       "1 - exp(-1)"
      ]
     },
     "metadata": {},
     "output_type": "display_data"
    },
    {
     "data": {
      "text/latex": [
       "$\\displaystyle \\frac{1}{2 e} + \\frac{1}{2}$"
      ],
      "text/plain": [
       "exp(-1)/2 + 1/2"
      ]
     },
     "metadata": {},
     "output_type": "display_data"
    }
   ],
   "source": [
    "right = 0\n",
    "\n",
    "left1 = 0\n",
    "right1 = Pi/2\n",
    "right2=3*Pi/2\n",
    "right3=2*Pi\n",
    "\n",
    "display(Interval.open(left1, right1))\n",
    "f_AccB = f.subs(x, AccumBounds(left1, right1))\n",
    "display(f_AccB, f_AccB.max, f_AccB.min, f_AccB.delta, f_AccB.mid)\n",
    "\n",
    "display(Interval.open(right1, right2))\n",
    "f_AccB = f.subs(x, AccumBounds(right1, right2))\n",
    "display(f_AccB, f_AccB.max, f_AccB.min, f_AccB.delta, f_AccB.mid)\n",
    "\n",
    "display(Interval.open(right2, right3))\n",
    "f_AccB = f.subs(x, AccumBounds(right2, right3))\n",
    "display(f_AccB, f_AccB.max, f_AccB.min, f_AccB.delta, f_AccB.mid)"
   ]
  },
  {
   "cell_type": "markdown",
   "metadata": {},
   "source": [
    "###### График функции на одном периоде."
   ]
  },
  {
   "cell_type": "code",
   "execution_count": 8,
   "metadata": {},
   "outputs": [
    {
     "data": {
      "image/png": "[encoded data removed]",
      "text/plain": [
       "<Figure size 432x288 with 1 Axes>"
      ]
     },
     "metadata": {
      "needs_background": "light"
     },
     "output_type": "display_data"
    },
    {
     "data": {
      "text/plain": [
       "<sympy.plotting.plot.Plot at 0x2352563ca00>"
      ]
     },
     "execution_count": 8,
     "metadata": {},
     "output_type": "execute_result"
    }
   ],
   "source": [
    "plot(f, (x, 0, 2*Pi))"
   ]
  },
  {
   "cell_type": "markdown",
   "metadata": {},
   "source": [
    "### Задание 2.  \n",
    "Исследовать функцию по п.1 - 5 на области определения и по п. 1 - 7  на одном периоде, построить график.\n",
    "$$\n",
    "f(x) = \\frac{1}{\\sin(x) + \\cos(x)}.\n",
    "$$\n",
    "###### 1. Область определения"
   ]
  },
  {
   "cell_type": "code",
   "execution_count": 10,
   "metadata": {},
   "outputs": [
    {
     "data": {
      "text/plain": [
       "'Область определения:'"
      ]
     },
     "metadata": {},
     "output_type": "display_data"
    },
    {
     "data": {
      "text/latex": [
       "$\\displaystyle \\mathbb{R} \\setminus \\left(\\left\\{2 n \\pi + \\frac{3 \\pi}{4}\\; |\\; n \\in \\mathbb{Z}\\right\\} \\cup \\left\\{2 n \\pi + \\frac{7 \\pi}{4}\\; |\\; n \\in \\mathbb{Z}\\right\\}\\right)$"
      ],
      "text/plain": [
       "Complement(Reals, Union(ImageSet(Lambda(_n, 2*_n*pi + 3*pi/4), Integers), ImageSet(Lambda(_n, 2*_n*pi + 7*pi/4), Integers)))"
      ]
     },
     "metadata": {},
     "output_type": "display_data"
    }
   ],
   "source": [
    "from sympy.abc import x\n",
    "f = 1 / (sympy.sin(x) + sympy.cos(x))\n",
    "D = continuous_domain(f, x, S.Reals)\n",
    "display('Область определения:', D)"
   ]
  },
  {
   "cell_type": "markdown",
   "metadata": {},
   "source": [
    "Сингулярные точки (точки, где функция не определена)"
   ]
  },
  {
   "cell_type": "code",
   "execution_count": 41,
   "metadata": {},
   "outputs": [
    {
     "data": {
      "text/plain": [
       "'Сингулярные точки:'"
      ]
     },
     "metadata": {},
     "output_type": "display_data"
    },
    {
     "data": {
      "text/latex": [
       "$\\displaystyle \\left\\{2 n \\pi + \\frac{3 \\pi}{4}\\; |\\; n \\in \\mathbb{Z}\\right\\} \\cup \\left\\{2 n \\pi + \\frac{7 \\pi}{4}\\; |\\; n \\in \\mathbb{Z}\\right\\}$"
      ],
      "text/plain": [
       "Union(ImageSet(Lambda(_n, 2*_n*pi + 3*pi/4), Integers), ImageSet(Lambda(_n, 2*_n*pi + 7*pi/4), Integers))"
      ]
     },
     "metadata": {},
     "output_type": "display_data"
    }
   ],
   "source": [
    "display('Сингулярные точки:', singularities(f, x))"
   ]
  },
  {
   "cell_type": "markdown",
   "metadata": {},
   "source": [
    "###### 2. Область значений"
   ]
  },
  {
   "cell_type": "code",
   "execution_count": 42,
   "metadata": {},
   "outputs": [
    {
     "data": {
      "text/plain": [
       "'Область значений:'"
      ]
     },
     "metadata": {},
     "output_type": "display_data"
    },
    {
     "data": {
      "text/latex": [
       "$\\displaystyle \\left(-\\infty, - \\frac{\\sqrt{2}}{2}\\right] \\cup \\left[\\frac{\\sqrt{2}}{2}, \\infty\\right)$"
      ],
      "text/plain": [
       "Union(Interval(-oo, -sqrt(2)/2), Interval(sqrt(2)/2, oo))"
      ]
     },
     "metadata": {},
     "output_type": "display_data"
    }
   ],
   "source": [
    "display('Область значений:', function_range(f, x, S.Reals))"
   ]
  },
  {
   "cell_type": "markdown",
   "metadata": {},
   "source": [
    "###### 3. Периодичность"
   ]
  },
  {
   "cell_type": "code",
   "execution_count": 43,
   "metadata": {},
   "outputs": [
    {
     "data": {
      "text/plain": [
       "'Периодичность:'"
      ]
     },
     "metadata": {},
     "output_type": "display_data"
    },
    {
     "data": {
      "text/latex": [
       "$\\displaystyle 2 \\pi$"
      ],
      "text/plain": [
       "2*pi"
      ]
     },
     "metadata": {},
     "output_type": "display_data"
    }
   ],
   "source": [
    "display('Периодичность:', periodicity(f, x, check=False))"
   ]
  },
  {
   "cell_type": "markdown",
   "metadata": {},
   "source": [
    "###### 4. Стационарные точки"
   ]
  },
  {
   "cell_type": "code",
   "execution_count": 44,
   "metadata": {},
   "outputs": [
    {
     "data": {
      "text/plain": [
       "'Стационарные точки:'"
      ]
     },
     "metadata": {},
     "output_type": "display_data"
    },
    {
     "data": {
      "text/latex": [
       "$\\displaystyle \\left(\\left\\{2 n \\pi + \\frac{5 \\pi}{4}\\; |\\; n \\in \\mathbb{Z}\\right\\} \\setminus \\left(\\left\\{2 n \\pi + \\frac{3 \\pi}{4}\\; |\\; n \\in \\mathbb{Z}\\right\\} \\cup \\left\\{2 n \\pi + \\frac{7 \\pi}{4}\\; |\\; n \\in \\mathbb{Z}\\right\\}\\right)\\right) \\cup \\left(\\left\\{2 n \\pi + \\frac{\\pi}{4}\\; |\\; n \\in \\mathbb{Z}\\right\\} \\setminus \\left(\\left\\{2 n \\pi + \\frac{3 \\pi}{4}\\; |\\; n \\in \\mathbb{Z}\\right\\} \\cup \\left\\{2 n \\pi + \\frac{7 \\pi}{4}\\; |\\; n \\in \\mathbb{Z}\\right\\}\\right)\\right)$"
      ],
      "text/plain": [
       "Union(Complement(ImageSet(Lambda(_n, 2*_n*pi + 5*pi/4), Integers), Union(ImageSet(Lambda(_n, 2*_n*pi + 3*pi/4), Integers), ImageSet(Lambda(_n, 2*_n*pi + 7*pi/4), Integers))), Complement(ImageSet(Lambda(_n, 2*_n*pi + pi/4), Integers), Union(ImageSet(Lambda(_n, 2*_n*pi + 3*pi/4), Integers), ImageSet(Lambda(_n, 2*_n*pi + 7*pi/4), Integers))))"
      ]
     },
     "metadata": {},
     "output_type": "display_data"
    }
   ],
   "source": [
    "display('Стационарные точки:', stationary_points(f, x))"
   ]
  },
  {
   "cell_type": "markdown",
   "metadata": {},
   "source": [
    "###### 5. Максимальное и минимальное значения функции"
   ]
  },
  {
   "cell_type": "code",
   "execution_count": 48,
   "metadata": {},
   "outputs": [
    {
     "data": {
      "text/plain": [
       "'Максимальное и минимальное значения функции:'"
      ]
     },
     "metadata": {},
     "output_type": "display_data"
    },
    {
     "data": {
      "text/latex": [
       "$\\displaystyle \\infty$"
      ],
      "text/plain": [
       "oo"
      ]
     },
     "metadata": {},
     "output_type": "display_data"
    },
    {
     "data": {
      "text/latex": [
       "$\\displaystyle -\\infty$"
      ],
      "text/plain": [
       "-oo"
      ]
     },
     "metadata": {},
     "output_type": "display_data"
    }
   ],
   "source": [
    "display('Максимальное и минимальное значения функции:', maximum(f, x), minimum(f, x))"
   ]
  },
  {
   "cell_type": "markdown",
   "metadata": {},
   "source": [
    "##### Исследование периодической функции на одном периоде.\n",
    "Найти пересечение с периодом области определения, множества сингулярных точек и стационарных точек.\n",
    "###### 1. Область определения"
   ]
  },
  {
   "cell_type": "code",
   "execution_count": 46,
   "metadata": {},
   "outputs": [
    {
     "data": {
      "text/plain": [
       "'Область определения:'"
      ]
     },
     "metadata": {},
     "output_type": "display_data"
    },
    {
     "data": {
      "text/latex": [
       "$\\displaystyle \\left[0, \\frac{3 \\pi}{4}\\right) \\cup \\left(\\frac{3 \\pi}{4}, \\frac{7 \\pi}{4}\\right) \\cup \\left(\\frac{7 \\pi}{4}, 2 \\pi\\right]$"
      ],
      "text/plain": [
       "Union(Interval.Ropen(0, 3*pi/4), Interval.open(3*pi/4, 7*pi/4), Interval.Lopen(7*pi/4, 2*pi))"
      ]
     },
     "metadata": {},
     "output_type": "display_data"
    }
   ],
   "source": [
    "period_pi = Interval(0, 2*Pi)\n",
    "display('Область определения:', continuous_domain(f, x, period_pi))"
   ]
  },
  {
   "cell_type": "markdown",
   "metadata": {},
   "source": [
    "Сингулярные точки (точки, где функция не определена)"
   ]
  },
  {
   "cell_type": "code",
   "execution_count": 47,
   "metadata": {},
   "outputs": [
    {
     "data": {
      "text/plain": [
       "'Сингулярные точки'"
      ]
     },
     "metadata": {},
     "output_type": "display_data"
    },
    {
     "data": {
      "text/latex": [
       "$\\displaystyle \\left\\{\\frac{3 \\pi}{4}, \\frac{7 \\pi}{4}\\right\\}$"
      ],
      "text/plain": [
       "FiniteSet(3*pi/4, 7*pi/4)"
      ]
     },
     "metadata": {},
     "output_type": "display_data"
    }
   ],
   "source": [
    "display('Сингулярные точки', singularities(f, x, period_pi))"
   ]
  },
  {
   "cell_type": "markdown",
   "metadata": {},
   "source": [
    "###### 2. Область значений"
   ]
  },
  {
   "cell_type": "code",
   "execution_count": 49,
   "metadata": {},
   "outputs": [
    {
     "data": {
      "text/plain": [
       "'Область значений:'"
      ]
     },
     "metadata": {},
     "output_type": "display_data"
    },
    {
     "data": {
      "text/latex": [
       "$\\displaystyle \\left(-\\infty, - \\frac{\\sqrt{2}}{2}\\right] \\cup \\left[\\frac{\\sqrt{2}}{2}, \\infty\\right)$"
      ],
      "text/plain": [
       "Union(Interval(-oo, -sqrt(2)/2), Interval(sqrt(2)/2, oo))"
      ]
     },
     "metadata": {},
     "output_type": "display_data"
    }
   ],
   "source": [
    "display('Область значений:', function_range(f, x, period_pi))"
   ]
  },
  {
   "cell_type": "markdown",
   "metadata": {},
   "source": [
    "###### 4. Стационарные точки"
   ]
  },
  {
   "cell_type": "code",
   "execution_count": 50,
   "metadata": {},
   "outputs": [
    {
     "data": {
      "text/plain": [
       "'Стационарные точки:'"
      ]
     },
     "metadata": {},
     "output_type": "display_data"
    },
    {
     "data": {
      "text/latex": [
       "$\\displaystyle \\left\\{\\frac{\\pi}{4}, \\frac{5 \\pi}{4}\\right\\}$"
      ],
      "text/plain": [
       "FiniteSet(pi/4, 5*pi/4)"
      ]
     },
     "metadata": {},
     "output_type": "display_data"
    }
   ],
   "source": [
    "display('Стационарные точки:', stationary_points(f, x, period_pi))"
   ]
  },
  {
   "cell_type": "markdown",
   "metadata": {},
   "source": [
    "###### 5. Максимальное и минимальное значения функции"
   ]
  },
  {
   "cell_type": "code",
   "execution_count": 51,
   "metadata": {},
   "outputs": [
    {
     "data": {
      "text/plain": [
       "'Максимальное и минимальное значения функции:'"
      ]
     },
     "metadata": {},
     "output_type": "display_data"
    },
    {
     "data": {
      "text/latex": [
       "$\\displaystyle \\infty$"
      ],
      "text/plain": [
       "oo"
      ]
     },
     "metadata": {},
     "output_type": "display_data"
    },
    {
     "data": {
      "text/latex": [
       "$\\displaystyle -\\infty$"
      ],
      "text/plain": [
       "-oo"
      ]
     },
     "metadata": {},
     "output_type": "display_data"
    }
   ],
   "source": [
    "display('Максимальное и минимальное значения функции:', maximum(f, x, period_pi), minimum(f, x, period_pi))"
   ]
  },
  {
   "cell_type": "markdown",
   "metadata": {},
   "source": [
    "###### 6. Монотонность"
   ]
  },
  {
   "cell_type": "code",
   "execution_count": 53,
   "metadata": {},
   "outputs": [
    {
     "data": {
      "text/latex": [
       "$\\displaystyle \\left(0, \\frac{\\pi}{4}\\right)$"
      ],
      "text/plain": [
       "Interval.open(0, pi/4)"
      ]
     },
     "metadata": {},
     "output_type": "display_data"
    },
    {
     "name": "stdout",
     "output_type": "stream",
     "text": [
      "True True False True False\n"
     ]
    },
    {
     "data": {
      "text/latex": [
       "$\\displaystyle \\left(\\frac{\\pi}{4}, \\frac{5 \\pi}{4}\\right)$"
      ],
      "text/plain": [
       "Interval.open(pi/4, 5*pi/4)"
      ]
     },
     "metadata": {},
     "output_type": "display_data"
    },
    {
     "name": "stdout",
     "output_type": "stream",
     "text": [
      "True False None False None\n"
     ]
    },
    {
     "data": {
      "text/latex": [
       "$\\displaystyle \\left(\\frac{5 \\pi}{4}, 2 \\pi\\right)$"
      ],
      "text/plain": [
       "Interval.open(5*pi/4, 2*pi)"
      ]
     },
     "metadata": {},
     "output_type": "display_data"
    },
    {
     "name": "stdout",
     "output_type": "stream",
     "text": [
      "True None False None False\n"
     ]
    }
   ],
   "source": [
    "intervals = [Interval.open(0, Pi/4), Interval.open(Pi/4, 5*Pi/4), Interval.open(5*Pi/4, 2*Pi)]\n",
    "for interval in intervals:\n",
    "    display(interval)\n",
    "    print(is_monotonic(f, interval=interval),\n",
    "        is_decreasing(f, interval=interval), is_increasing(f, interval=interval),\n",
    "        is_strictly_decreasing(f, interval=interval), is_strictly_increasing(f, interval=interval))"
   ]
  },
  {
   "cell_type": "markdown",
   "metadata": {},
   "source": [
    "###### 7. Минимальное и максимальное значение функции на периоде"
   ]
  },
  {
   "cell_type": "code",
   "execution_count": 11,
   "metadata": {},
   "outputs": [
    {
     "data": {
      "text/latex": [
       "$\\displaystyle \\left(0, \\frac{\\pi}{4}\\right)$"
      ],
      "text/plain": [
       "Interval.open(0, pi/4)"
      ]
     },
     "metadata": {},
     "output_type": "display_data"
    },
    {
     "data": {
      "text/latex": [
       "$\\displaystyle \\left\\langle \\frac{1}{\\frac{\\sqrt{2}}{2} + 1}, \\sqrt{2}\\right\\rangle$"
      ],
      "text/plain": [
       "AccumBounds(1/(sqrt(2)/2 + 1), sqrt(2))"
      ]
     },
     "metadata": {},
     "output_type": "display_data"
    },
    {
     "data": {
      "text/latex": [
       "$\\displaystyle \\sqrt{2}$"
      ],
      "text/plain": [
       "sqrt(2)"
      ]
     },
     "metadata": {},
     "output_type": "display_data"
    },
    {
     "data": {
      "text/latex": [
       "$\\displaystyle \\frac{1}{\\frac{\\sqrt{2}}{2} + 1}$"
      ],
      "text/plain": [
       "1/(sqrt(2)/2 + 1)"
      ]
     },
     "metadata": {},
     "output_type": "display_data"
    },
    {
     "data": {
      "text/latex": [
       "$\\displaystyle - \\frac{1}{\\frac{\\sqrt{2}}{2} + 1} + \\sqrt{2}$"
      ],
      "text/plain": [
       "-1/(sqrt(2)/2 + 1) + sqrt(2)"
      ]
     },
     "metadata": {},
     "output_type": "display_data"
    },
    {
     "data": {
      "text/latex": [
       "$\\displaystyle \\frac{1}{2 \\left(\\frac{\\sqrt{2}}{2} + 1\\right)} + \\frac{\\sqrt{2}}{2}$"
      ],
      "text/plain": [
       "1/(2*(sqrt(2)/2 + 1)) + sqrt(2)/2"
      ]
     },
     "metadata": {},
     "output_type": "display_data"
    },
    {
     "data": {
      "text/latex": [
       "$\\displaystyle \\left(\\frac{\\pi}{4}, \\frac{5 \\pi}{4}\\right)$"
      ],
      "text/plain": [
       "Interval.open(pi/4, 5*pi/4)"
      ]
     },
     "metadata": {},
     "output_type": "display_data"
    },
    {
     "data": {
      "text/latex": [
       "$\\displaystyle \\left\\langle -\\infty, \\infty\\right\\rangle$"
      ],
      "text/plain": [
       "AccumBounds(-oo, oo)"
      ]
     },
     "metadata": {},
     "output_type": "display_data"
    },
    {
     "data": {
      "text/latex": [
       "$\\displaystyle \\infty$"
      ],
      "text/plain": [
       "oo"
      ]
     },
     "metadata": {},
     "output_type": "display_data"
    },
    {
     "data": {
      "text/latex": [
       "$\\displaystyle -\\infty$"
      ],
      "text/plain": [
       "-oo"
      ]
     },
     "metadata": {},
     "output_type": "display_data"
    },
    {
     "data": {
      "text/latex": [
       "$\\displaystyle \\infty$"
      ],
      "text/plain": [
       "oo"
      ]
     },
     "metadata": {},
     "output_type": "display_data"
    },
    {
     "data": {
      "text/latex": [
       "$\\displaystyle \\text{NaN}$"
      ],
      "text/plain": [
       "nan"
      ]
     },
     "metadata": {},
     "output_type": "display_data"
    },
    {
     "data": {
      "text/latex": [
       "$\\displaystyle \\left(\\frac{5 \\pi}{4}, 2 \\pi\\right)$"
      ],
      "text/plain": [
       "Interval.open(5*pi/4, 2*pi)"
      ]
     },
     "metadata": {},
     "output_type": "display_data"
    },
    {
     "data": {
      "text/latex": [
       "$\\displaystyle \\left\\langle -\\infty, \\infty\\right\\rangle$"
      ],
      "text/plain": [
       "AccumBounds(-oo, oo)"
      ]
     },
     "metadata": {},
     "output_type": "display_data"
    },
    {
     "data": {
      "text/latex": [
       "$\\displaystyle \\infty$"
      ],
      "text/plain": [
       "oo"
      ]
     },
     "metadata": {},
     "output_type": "display_data"
    },
    {
     "data": {
      "text/latex": [
       "$\\displaystyle -\\infty$"
      ],
      "text/plain": [
       "-oo"
      ]
     },
     "metadata": {},
     "output_type": "display_data"
    },
    {
     "data": {
      "text/latex": [
       "$\\displaystyle \\infty$"
      ],
      "text/plain": [
       "oo"
      ]
     },
     "metadata": {},
     "output_type": "display_data"
    },
    {
     "data": {
      "text/latex": [
       "$\\displaystyle \\text{NaN}$"
      ],
      "text/plain": [
       "nan"
      ]
     },
     "metadata": {},
     "output_type": "display_data"
    }
   ],
   "source": [
    "right = 0\n",
    "\n",
    "left1 = 0\n",
    "right1 = Pi/4\n",
    "right2= 5*Pi/4\n",
    "right3= 2*Pi\n",
    "\n",
    "display(Interval.open(left1, right1))\n",
    "f_AccB = f.subs(x, AccumBounds(left1, right1))\n",
    "display(f_AccB, f_AccB.max, f_AccB.min, f_AccB.delta, f_AccB.mid)\n",
    "\n",
    "display(Interval.open(right1, right2))\n",
    "f_AccB = f.subs(x, AccumBounds(right1, right2))\n",
    "display(f_AccB, f_AccB.max, f_AccB.min, f_AccB.delta, f_AccB.mid)\n",
    "\n",
    "display(Interval.open(right2, right3))\n",
    "f_AccB = f.subs(x, AccumBounds(right2, right3))\n",
    "display(f_AccB, f_AccB.max, f_AccB.min, f_AccB.delta, f_AccB.mid)"
   ]
  },
  {
   "cell_type": "markdown",
   "metadata": {},
   "source": [
    "###### График"
   ]
  },
  {
   "cell_type": "code",
   "execution_count": 79,
   "metadata": {},
   "outputs": [
    {
     "data": {
      "image/png": "[encoded data removed]",
      "text/plain": [
       "<Figure size 432x288 with 1 Axes>"
      ]
     },
     "metadata": {
      "needs_background": "light"
     },
     "output_type": "display_data"
    },
    {
     "data": {
      "text/plain": [
       "<sympy.plotting.plot.Plot at 0x21a2b628f70>"
      ]
     },
     "execution_count": 79,
     "metadata": {},
     "output_type": "execute_result"
    }
   ],
   "source": [
    "plot((f, (x, -Pi/4 + 0.1, 3*Pi/4 - 0.1)), (f, (x, 3*Pi/4 + 0.1, 7*Pi/4 - 0.1)))"
   ]
  },
  {
   "cell_type": "markdown",
   "metadata": {},
   "source": [
    "### Индивидуальное задание.  \n",
    "Исследовать функцию $f(x)$, найти минимальное и максимальное значение на каком-нибудь конечном интервале, не содержащем точек разрыва, построить график.\n",
    "\n",
    "Вариант 92\n",
    "\n",
    "$f(x) = 4 \\sin{\\left(3 x \\right)} + 1$\n",
    "\n",
    "###### 1. Область определения"
   ]
  },
  {
   "cell_type": "code",
   "execution_count": 12,
   "metadata": {},
   "outputs": [
    {
     "data": {
      "text/plain": [
       "'Область определения:'"
      ]
     },
     "metadata": {},
     "output_type": "display_data"
    },
    {
     "data": {
      "text/latex": [
       "$\\displaystyle \\mathbb{R}$"
      ],
      "text/plain": [
       "Reals"
      ]
     },
     "metadata": {},
     "output_type": "display_data"
    }
   ],
   "source": [
    "from sympy.abc import x\n",
    "f = 4 * sympy.sin(3*x) + 1\n",
    "D = continuous_domain(f, x, S.Reals)\n",
    "display('Область определения:', D)"
   ]
  },
  {
   "cell_type": "markdown",
   "metadata": {},
   "source": [
    "Сингулярные точки (точки, где функция не определена)"
   ]
  },
  {
   "cell_type": "code",
   "execution_count": 82,
   "metadata": {},
   "outputs": [
    {
     "data": {
      "text/plain": [
       "'Сингулярные точки:'"
      ]
     },
     "metadata": {},
     "output_type": "display_data"
    },
    {
     "data": {
      "text/latex": [
       "$\\displaystyle \\emptyset$"
      ],
      "text/plain": [
       "EmptySet"
      ]
     },
     "metadata": {},
     "output_type": "display_data"
    }
   ],
   "source": [
    "display('Сингулярные точки:', singularities(f, x))"
   ]
  },
  {
   "cell_type": "markdown",
   "metadata": {},
   "source": [
    "###### 2. Область значений"
   ]
  },
  {
   "cell_type": "code",
   "execution_count": 14,
   "metadata": {},
   "outputs": [
    {
     "data": {
      "text/latex": [
       "$\\displaystyle \\left[-3, 5\\right]$"
      ],
      "text/plain": [
       "Interval(-3, 5)"
      ]
     },
     "execution_count": 14,
     "metadata": {},
     "output_type": "execute_result"
    }
   ],
   "source": [
    "function_range(f, x, S.Reals)"
   ]
  },
  {
   "cell_type": "markdown",
   "metadata": {},
   "source": [
    "###### 3. Периодичность"
   ]
  },
  {
   "cell_type": "code",
   "execution_count": 84,
   "metadata": {},
   "outputs": [
    {
     "data": {
      "text/plain": [
       "'Периодичность:'"
      ]
     },
     "metadata": {},
     "output_type": "display_data"
    },
    {
     "data": {
      "text/latex": [
       "$\\displaystyle \\frac{2 \\pi}{3}$"
      ],
      "text/plain": [
       "2*pi/3"
      ]
     },
     "metadata": {},
     "output_type": "display_data"
    }
   ],
   "source": [
    "display('Периодичность:', periodicity(f, x, check=False))"
   ]
  },
  {
   "cell_type": "markdown",
   "metadata": {},
   "source": [
    "###### 4. Стационарные точки"
   ]
  },
  {
   "cell_type": "code",
   "execution_count": 85,
   "metadata": {},
   "outputs": [
    {
     "data": {
      "text/plain": [
       "'Стационарные точки:'"
      ]
     },
     "metadata": {},
     "output_type": "display_data"
    },
    {
     "data": {
      "text/latex": [
       "$\\displaystyle \\left\\{\\frac{\\pi}{6}, \\frac{\\pi}{2}, \\frac{5 \\pi}{6}, \\frac{7 \\pi}{6}, \\frac{3 \\pi}{2}, \\frac{11 \\pi}{6}\\right\\}$"
      ],
      "text/plain": [
       "FiniteSet(pi/6, pi/2, 5*pi/6, 7*pi/6, 3*pi/2, 11*pi/6)"
      ]
     },
     "metadata": {},
     "output_type": "display_data"
    }
   ],
   "source": [
    "display('Стационарные точки:', stationary_points(f, x, period_pi))"
   ]
  },
  {
   "cell_type": "markdown",
   "metadata": {},
   "source": [
    "###### 5. Максимальное и минимальное значения функции"
   ]
  },
  {
   "cell_type": "code",
   "execution_count": 86,
   "metadata": {},
   "outputs": [
    {
     "data": {
      "text/plain": [
       "'Максимальное и минимальное значения функции:'"
      ]
     },
     "metadata": {},
     "output_type": "display_data"
    },
    {
     "data": {
      "text/latex": [
       "$\\displaystyle 5$"
      ],
      "text/plain": [
       "5"
      ]
     },
     "metadata": {},
     "output_type": "display_data"
    },
    {
     "data": {
      "text/latex": [
       "$\\displaystyle -3$"
      ],
      "text/plain": [
       "-3"
      ]
     },
     "metadata": {},
     "output_type": "display_data"
    }
   ],
   "source": [
    "display('Максимальное и минимальное значения функции:', maximum(f, x), minimum(f, x))"
   ]
  },
  {
   "cell_type": "markdown",
   "metadata": {},
   "source": [
    "###### 6. Монотонность  "
   ]
  },
  {
   "cell_type": "code",
   "execution_count": 15,
   "metadata": {},
   "outputs": [
    {
     "data": {
      "text/latex": [
       "$\\displaystyle \\left(0, \\frac{\\pi}{6}\\right)$"
      ],
      "text/plain": [
       "Interval.open(0, pi/6)"
      ]
     },
     "metadata": {},
     "output_type": "display_data"
    },
    {
     "name": "stdout",
     "output_type": "stream",
     "text": [
      "True False True False True\n"
     ]
    },
    {
     "data": {
      "text/latex": [
       "$\\displaystyle \\left(\\frac{\\pi}{6}, \\frac{\\pi}{2}\\right)$"
      ],
      "text/plain": [
       "Interval.open(pi/6, pi/2)"
      ]
     },
     "metadata": {},
     "output_type": "display_data"
    },
    {
     "name": "stdout",
     "output_type": "stream",
     "text": [
      "True True False True False\n"
     ]
    },
    {
     "data": {
      "text/latex": [
       "$\\displaystyle \\left(\\frac{\\pi}{2}, \\frac{5 \\pi}{6}\\right)$"
      ],
      "text/plain": [
       "Interval.open(pi/2, 5*pi/6)"
      ]
     },
     "metadata": {},
     "output_type": "display_data"
    },
    {
     "name": "stdout",
     "output_type": "stream",
     "text": [
      "True False False False False\n"
     ]
    },
    {
     "data": {
      "text/latex": [
       "$\\displaystyle \\left(\\frac{5 \\pi}{6}, \\frac{7 \\pi}{6}\\right)$"
      ],
      "text/plain": [
       "Interval.open(5*pi/6, 7*pi/6)"
      ]
     },
     "metadata": {},
     "output_type": "display_data"
    },
    {
     "name": "stdout",
     "output_type": "stream",
     "text": [
      "True False False False False\n"
     ]
    },
    {
     "data": {
      "text/latex": [
       "$\\displaystyle \\left(\\frac{7 \\pi}{6}, \\frac{3 \\pi}{2}\\right)$"
      ],
      "text/plain": [
       "Interval.open(7*pi/6, 3*pi/2)"
      ]
     },
     "metadata": {},
     "output_type": "display_data"
    },
    {
     "name": "stdout",
     "output_type": "stream",
     "text": [
      "True False False False False\n"
     ]
    },
    {
     "data": {
      "text/latex": [
       "$\\displaystyle \\left(\\frac{3 \\pi}{2}, \\frac{11 \\pi}{6}\\right)$"
      ],
      "text/plain": [
       "Interval.open(3*pi/2, 11*pi/6)"
      ]
     },
     "metadata": {},
     "output_type": "display_data"
    },
    {
     "name": "stdout",
     "output_type": "stream",
     "text": [
      "True False False False False\n"
     ]
    },
    {
     "data": {
      "text/latex": [
       "$\\displaystyle \\left(\\frac{11 \\pi}{6}, 2 \\pi\\right)$"
      ],
      "text/plain": [
       "Interval.open(11*pi/6, 2*pi)"
      ]
     },
     "metadata": {},
     "output_type": "display_data"
    },
    {
     "name": "stdout",
     "output_type": "stream",
     "text": [
      "True False False False False\n"
     ]
    }
   ],
   "source": [
    "intervals = [Interval.open(0, Pi/6), Interval.open(Pi/6, Pi/2), Interval.open(Pi/2, 5*Pi/6), Interval.open(5*Pi/6, 7*Pi/6), Interval.open(7*Pi/6, 3*Pi/2), Interval.open(3*Pi/2, 11*Pi/6), Interval.open(11*Pi/6, 2*Pi)]\n",
    "for interval in intervals:\n",
    "    display(interval)\n",
    "    print(is_monotonic(f, interval=interval),\n",
    "        is_decreasing(f, interval=interval), is_increasing(f, interval=interval),\n",
    "        is_strictly_decreasing(f, interval=interval), is_strictly_increasing(f, interval=interval))"
   ]
  },
  {
   "cell_type": "markdown",
   "metadata": {},
   "source": [
    "###### 7. Минимальное и максимальное значение функции на интервале "
   ]
  },
  {
   "cell_type": "code",
   "execution_count": 17,
   "metadata": {},
   "outputs": [
    {
     "data": {
      "text/latex": [
       "$\\displaystyle \\left(0, \\frac{\\pi}{6}\\right)$"
      ],
      "text/plain": [
       "Interval.open(0, pi/6)"
      ]
     },
     "metadata": {},
     "output_type": "display_data"
    },
    {
     "data": {
      "text/latex": [
       "$\\displaystyle \\left\\langle 1, 5\\right\\rangle$"
      ],
      "text/plain": [
       "AccumBounds(1, 5)"
      ]
     },
     "metadata": {},
     "output_type": "display_data"
    },
    {
     "data": {
      "text/latex": [
       "$\\displaystyle 5$"
      ],
      "text/plain": [
       "5"
      ]
     },
     "metadata": {},
     "output_type": "display_data"
    },
    {
     "data": {
      "text/latex": [
       "$\\displaystyle 1$"
      ],
      "text/plain": [
       "1"
      ]
     },
     "metadata": {},
     "output_type": "display_data"
    },
    {
     "data": {
      "text/latex": [
       "$\\displaystyle 4$"
      ],
      "text/plain": [
       "4"
      ]
     },
     "metadata": {},
     "output_type": "display_data"
    },
    {
     "data": {
      "text/latex": [
       "$\\displaystyle 3$"
      ],
      "text/plain": [
       "3"
      ]
     },
     "metadata": {},
     "output_type": "display_data"
    },
    {
     "data": {
      "text/latex": [
       "$\\displaystyle \\left(\\frac{\\pi}{6}, \\frac{\\pi}{2}\\right)$"
      ],
      "text/plain": [
       "Interval.open(pi/6, pi/2)"
      ]
     },
     "metadata": {},
     "output_type": "display_data"
    },
    {
     "data": {
      "text/latex": [
       "$\\displaystyle \\left\\langle -3, 5\\right\\rangle$"
      ],
      "text/plain": [
       "AccumBounds(-3, 5)"
      ]
     },
     "metadata": {},
     "output_type": "display_data"
    },
    {
     "data": {
      "text/latex": [
       "$\\displaystyle 5$"
      ],
      "text/plain": [
       "5"
      ]
     },
     "metadata": {},
     "output_type": "display_data"
    },
    {
     "data": {
      "text/latex": [
       "$\\displaystyle -3$"
      ],
      "text/plain": [
       "-3"
      ]
     },
     "metadata": {},
     "output_type": "display_data"
    },
    {
     "data": {
      "text/latex": [
       "$\\displaystyle 8$"
      ],
      "text/plain": [
       "8"
      ]
     },
     "metadata": {},
     "output_type": "display_data"
    },
    {
     "data": {
      "text/latex": [
       "$\\displaystyle 1$"
      ],
      "text/plain": [
       "1"
      ]
     },
     "metadata": {},
     "output_type": "display_data"
    },
    {
     "data": {
      "text/latex": [
       "$\\displaystyle \\left(\\frac{\\pi}{2}, \\frac{5 \\pi}{6}\\right)$"
      ],
      "text/plain": [
       "Interval.open(pi/2, 5*pi/6)"
      ]
     },
     "metadata": {},
     "output_type": "display_data"
    },
    {
     "data": {
      "text/latex": [
       "$\\displaystyle \\left\\langle -3, 5\\right\\rangle$"
      ],
      "text/plain": [
       "AccumBounds(-3, 5)"
      ]
     },
     "metadata": {},
     "output_type": "display_data"
    },
    {
     "data": {
      "text/latex": [
       "$\\displaystyle 5$"
      ],
      "text/plain": [
       "5"
      ]
     },
     "metadata": {},
     "output_type": "display_data"
    },
    {
     "data": {
      "text/latex": [
       "$\\displaystyle -3$"
      ],
      "text/plain": [
       "-3"
      ]
     },
     "metadata": {},
     "output_type": "display_data"
    },
    {
     "data": {
      "text/latex": [
       "$\\displaystyle 8$"
      ],
      "text/plain": [
       "8"
      ]
     },
     "metadata": {},
     "output_type": "display_data"
    },
    {
     "data": {
      "text/latex": [
       "$\\displaystyle 1$"
      ],
      "text/plain": [
       "1"
      ]
     },
     "metadata": {},
     "output_type": "display_data"
    },
    {
     "data": {
      "text/latex": [
       "$\\displaystyle \\left(\\frac{5 \\pi}{6}, \\frac{7 \\pi}{6}\\right)$"
      ],
      "text/plain": [
       "Interval.open(5*pi/6, 7*pi/6)"
      ]
     },
     "metadata": {},
     "output_type": "display_data"
    },
    {
     "data": {
      "text/latex": [
       "$\\displaystyle \\left\\langle -3, 5\\right\\rangle$"
      ],
      "text/plain": [
       "AccumBounds(-3, 5)"
      ]
     },
     "metadata": {},
     "output_type": "display_data"
    },
    {
     "data": {
      "text/latex": [
       "$\\displaystyle 5$"
      ],
      "text/plain": [
       "5"
      ]
     },
     "metadata": {},
     "output_type": "display_data"
    },
    {
     "data": {
      "text/latex": [
       "$\\displaystyle -3$"
      ],
      "text/plain": [
       "-3"
      ]
     },
     "metadata": {},
     "output_type": "display_data"
    },
    {
     "data": {
      "text/latex": [
       "$\\displaystyle 8$"
      ],
      "text/plain": [
       "8"
      ]
     },
     "metadata": {},
     "output_type": "display_data"
    },
    {
     "data": {
      "text/latex": [
       "$\\displaystyle 1$"
      ],
      "text/plain": [
       "1"
      ]
     },
     "metadata": {},
     "output_type": "display_data"
    },
    {
     "data": {
      "text/latex": [
       "$\\displaystyle \\left(\\frac{7 \\pi}{6}, \\frac{3 \\pi}{2}\\right)$"
      ],
      "text/plain": [
       "Interval.open(7*pi/6, 3*pi/2)"
      ]
     },
     "metadata": {},
     "output_type": "display_data"
    },
    {
     "data": {
      "text/latex": [
       "$\\displaystyle \\left\\langle -3, 5\\right\\rangle$"
      ],
      "text/plain": [
       "AccumBounds(-3, 5)"
      ]
     },
     "metadata": {},
     "output_type": "display_data"
    },
    {
     "data": {
      "text/latex": [
       "$\\displaystyle 5$"
      ],
      "text/plain": [
       "5"
      ]
     },
     "metadata": {},
     "output_type": "display_data"
    },
    {
     "data": {
      "text/latex": [
       "$\\displaystyle -3$"
      ],
      "text/plain": [
       "-3"
      ]
     },
     "metadata": {},
     "output_type": "display_data"
    },
    {
     "data": {
      "text/latex": [
       "$\\displaystyle 8$"
      ],
      "text/plain": [
       "8"
      ]
     },
     "metadata": {},
     "output_type": "display_data"
    },
    {
     "data": {
      "text/latex": [
       "$\\displaystyle 1$"
      ],
      "text/plain": [
       "1"
      ]
     },
     "metadata": {},
     "output_type": "display_data"
    },
    {
     "data": {
      "text/latex": [
       "$\\displaystyle \\left(\\frac{3 \\pi}{2}, \\frac{11 \\pi}{6}\\right)$"
      ],
      "text/plain": [
       "Interval.open(3*pi/2, 11*pi/6)"
      ]
     },
     "metadata": {},
     "output_type": "display_data"
    },
    {
     "data": {
      "text/latex": [
       "$\\displaystyle \\left\\langle -3, 5\\right\\rangle$"
      ],
      "text/plain": [
       "AccumBounds(-3, 5)"
      ]
     },
     "metadata": {},
     "output_type": "display_data"
    },
    {
     "data": {
      "text/latex": [
       "$\\displaystyle 5$"
      ],
      "text/plain": [
       "5"
      ]
     },
     "metadata": {},
     "output_type": "display_data"
    },
    {
     "data": {
      "text/latex": [
       "$\\displaystyle -3$"
      ],
      "text/plain": [
       "-3"
      ]
     },
     "metadata": {},
     "output_type": "display_data"
    },
    {
     "data": {
      "text/latex": [
       "$\\displaystyle 8$"
      ],
      "text/plain": [
       "8"
      ]
     },
     "metadata": {},
     "output_type": "display_data"
    },
    {
     "data": {
      "text/latex": [
       "$\\displaystyle 1$"
      ],
      "text/plain": [
       "1"
      ]
     },
     "metadata": {},
     "output_type": "display_data"
    },
    {
     "data": {
      "text/latex": [
       "$\\displaystyle \\left(\\frac{11 \\pi}{6}, 2 \\pi\\right)$"
      ],
      "text/plain": [
       "Interval.open(11*pi/6, 2*pi)"
      ]
     },
     "metadata": {},
     "output_type": "display_data"
    },
    {
     "data": {
      "text/latex": [
       "$\\displaystyle \\left\\langle -3, 1\\right\\rangle$"
      ],
      "text/plain": [
       "AccumBounds(-3, 1)"
      ]
     },
     "metadata": {},
     "output_type": "display_data"
    },
    {
     "data": {
      "text/latex": [
       "$\\displaystyle 1$"
      ],
      "text/plain": [
       "1"
      ]
     },
     "metadata": {},
     "output_type": "display_data"
    },
    {
     "data": {
      "text/latex": [
       "$\\displaystyle -3$"
      ],
      "text/plain": [
       "-3"
      ]
     },
     "metadata": {},
     "output_type": "display_data"
    },
    {
     "data": {
      "text/latex": [
       "$\\displaystyle 4$"
      ],
      "text/plain": [
       "4"
      ]
     },
     "metadata": {},
     "output_type": "display_data"
    },
    {
     "data": {
      "text/latex": [
       "$\\displaystyle -1$"
      ],
      "text/plain": [
       "-1"
      ]
     },
     "metadata": {},
     "output_type": "display_data"
    }
   ],
   "source": [
    "right = 0\n",
    "\n",
    "left = 0\n",
    "right1 = Pi/6\n",
    "right2 = Pi/2\n",
    "right3 = 5*Pi/6\n",
    "right4 = 7*Pi/6\n",
    "right5 = 3*Pi/2\n",
    "right6 = 11*Pi/6\n",
    "right7 = 2*Pi\n",
    "\n",
    "display(Interval.open(left1, right1))\n",
    "f_AccB = f.subs(x, AccumBounds(left1, right1))\n",
    "display(f_AccB, f_AccB.max, f_AccB.min, f_AccB.delta, f_AccB.mid)\n",
    "\n",
    "display(Interval.open(right1, right2))\n",
    "f_AccB = f.subs(x, AccumBounds(right1, right2))\n",
    "display(f_AccB, f_AccB.max, f_AccB.min, f_AccB.delta, f_AccB.mid)\n",
    "\n",
    "display(Interval.open(right2, right3))\n",
    "f_AccB = f.subs(x, AccumBounds(right2, right3))\n",
    "display(f_AccB, f_AccB.max, f_AccB.min, f_AccB.delta, f_AccB.mid)\n",
    "\n",
    "display(Interval.open(right3, right4))\n",
    "f_AccB = f.subs(x, AccumBounds(right3, right4))\n",
    "display(f_AccB, f_AccB.max, f_AccB.min, f_AccB.delta, f_AccB.mid)\n",
    "\n",
    "display(Interval.open(right4, right5))\n",
    "f_AccB = f.subs(x, AccumBounds(right4, right5))\n",
    "display(f_AccB, f_AccB.max, f_AccB.min, f_AccB.delta, f_AccB.mid)\n",
    "\n",
    "display(Interval.open(right5, right6))\n",
    "f_AccB = f.subs(x, AccumBounds(right5, right6))\n",
    "display(f_AccB, f_AccB.max, f_AccB.min, f_AccB.delta, f_AccB.mid)\n",
    "\n",
    "display(Interval.open(right6, right7))\n",
    "f_AccB = f.subs(x, AccumBounds(right6, right7))\n",
    "display(f_AccB, f_AccB.max, f_AccB.min, f_AccB.delta, f_AccB.mid)"
   ]
  },
  {
   "cell_type": "markdown",
   "metadata": {},
   "source": [
    "###### График"
   ]
  },
  {
   "cell_type": "code",
   "execution_count": 16,
   "metadata": {},
   "outputs": [
    {
     "data": {
      "image/png": "[encoded data removed]",
      "text/plain": [
       "<Figure size 432x288 with 1 Axes>"
      ]
     },
     "metadata": {
      "needs_background": "light"
     },
     "output_type": "display_data"
    },
    {
     "data": {
      "text/plain": [
       "<sympy.plotting.plot.Plot at 0x23525942550>"
      ]
     },
     "execution_count": 16,
     "metadata": {},
     "output_type": "execute_result"
    }
   ],
   "source": [
    "plot(f, (x, 0, 2*Pi))"
   ]
  }
 ],
 "metadata": {
  "kernelspec": {
   "display_name": "Python 3",
   "language": "python",
   "name": "python3"
  },
  "language_info": {
   "codemirror_mode": {
    "name": "ipython",
    "version": 3
   },
   "file_extension": ".py",
   "mimetype": "text/x-python",
   "name": "python",
   "nbconvert_exporter": "python",
   "pygments_lexer": "ipython3",
   "version": "3.8.5"
  }
 },
 "nbformat": 4,
 "nbformat_minor": 2
}
