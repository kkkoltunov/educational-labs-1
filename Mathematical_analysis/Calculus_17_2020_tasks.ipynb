{
 "cells": [
  {
   "cell_type": "code",
   "execution_count": 1,
   "metadata": {
    "id": "cDmshUXqE-R4"
   },
   "outputs": [],
   "source": [
    "import numpy as np\n",
    "import sympy\n",
    "from sympy import S, Symbol, symbols, Function, dsolve, solveset, plot_implicit, integrate, diff, plot\n",
    "from sympy import sin as Sin\n",
    "from sympy import cos as Cos\n",
    "from sympy import exp as Exp\n",
    "from sympy import log as Log\n",
    "from sympy import pi as Pi\n",
    "import matplotlib.pyplot as plt\n",
    "%matplotlib inline"
   ]
  },
  {
   "cell_type": "markdown",
   "metadata": {
    "id": "1dTab6WGE-R8"
   },
   "source": [
    "## Занятие 17\n",
    "## Математический анализ\n",
    "## Линейные ОДУ второго порядка с постоянными коэффициентами\n",
    "## Задание № 1\n",
    "Решить аналитически ОДУ с разделяющимися переменными\n",
    "$$\n",
    "y'=\\ln(x+2)e^{2-y}.\n",
    "$$\n",
    "Найти общий интеграл. "
   ]
  },
  {
   "cell_type": "code",
   "execution_count": null,
   "metadata": {
    "colab": {
     "base_uri": "https://localhost:8080/",
     "height": 60
    },
    "id": "qNDJ2pApE-R9",
    "outputId": "0585b912-a739-4abe-8e69-b4b115775df2"
   },
   "outputs": [
    {
     "data": {
      "text/latex": [
       "$\\displaystyle e^{y - 2} = C + x \\log{\\left(x + 2 \\right)} - x + 2 \\log{\\left(x + 2 \\right)}$"
      ],
      "text/plain": [
       "Eq(exp(y - 2), C + x*log(x + 2) - x + 2*log(x + 2))"
      ]
     },
     "metadata": {
      "tags": []
     },
     "output_type": "display_data"
    },
    {
     "data": {
      "text/latex": [
       "$\\displaystyle y = \\log{\\left(C + x \\log{\\left(x + 2 \\right)} - x + 2 \\log{\\left(x + 2 \\right)} \\right)} + 2$"
      ],
      "text/plain": [
       "Eq(y, log(C + x*log(x + 2) - x + 2*log(x + 2)) + 2)"
      ]
     },
     "metadata": {
      "tags": []
     },
     "output_type": "display_data"
    }
   ],
   "source": [
    "x, y = symbols('x y', real=True)\n",
    "C = Symbol('C', positive=True)\n",
    "\n",
    "ODE1 = sympy.Eq(integrate(1 / Exp(2 - y), y), integrate(Log(x + 2), x) + C) \n",
    "display(ODE1, sympy.Eq(y, Log(integrate(Log(x + 2), x) + C) + 2))"
   ]
  },
  {
   "cell_type": "markdown",
   "metadata": {
    "id": "vQD8SwZbE-R9"
   },
   "source": [
    "## Задание № 2\n",
    "Решить аналитически задачу Коши\n",
    "$$\n",
    "y^3y'=\\frac{1}{1+x^2},\\qquad y(0)=1.\n",
    "$$\n",
    "Найти общий интеграл, учесть начальное условие. \n",
    "Построить график $y$, пользуясь plot_implicit."
   ]
  },
  {
   "cell_type": "code",
   "execution_count": null,
   "metadata": {
    "colab": {
     "base_uri": "https://localhost:8080/",
     "height": 350
    },
    "id": "njK1eb3WE-R9",
    "outputId": "00e67325-7ab2-47d0-9299-867a56443693"
   },
   "outputs": [
    {
     "data": {
      "text/latex": [
       "$\\displaystyle \\frac{y^{4}}{4} = C + \\operatorname{atan}{\\left(x \\right)}$"
      ],
      "text/plain": [
       "Eq(y**4/4, C + atan(x))"
      ]
     },
     "metadata": {
      "tags": []
     },
     "output_type": "display_data"
    },
    {
     "data": {
      "image/png": "[encoded data removed]",
      "text/plain": [
       "<Figure size 432x288 with 1 Axes>"
      ]
     },
     "metadata": {
      "needs_background": "light",
      "tags": []
     },
     "output_type": "display_data"
    },
    {
     "data": {
      "text/plain": [
       "<sympy.plotting.plot.Plot at 0x7f5ac2223ed0>"
      ]
     },
     "execution_count": 7,
     "metadata": {
      "tags": []
     },
     "output_type": "execute_result"
    }
   ],
   "source": [
    "x, y, C = symbols('x y C', real=True)\n",
    "\n",
    "ODE2 = sympy.Eq(integrate(y**3, y), integrate(1 / (1 + x**2), x) + C) \n",
    "display(ODE2)\n",
    "\n",
    "x0y0 = {x: 0, y: 1}\n",
    "Cval = solveset(sympy.Eq(ODE2.lhs.subs(x0y0), ODE2.rhs.subs(x0y0)), C) \n",
    "plot_implicit(sympy.Eq(ODE2.lhs, ODE2.rhs.subs(C, *Cval)), (x, -2, 5), (y, -3, 3))"
   ]
  },
  {
   "cell_type": "markdown",
   "metadata": {
    "id": "DRlxNbDPE-R-"
   },
   "source": [
    "## Индивидуальное задание\n",
    "Решить задачу Коши аналитически, методом Эйлера и методом Рунге-Кутты. Построить в одной координатной плоскости графики точного и приближенных решений."
   ]
  },
  {
   "cell_type": "code",
   "execution_count": 3,
   "metadata": {
    "colab": {
     "base_uri": "https://localhost:8080/",
     "height": 383
    },
    "id": "SHPkqfAgE-R-",
    "outputId": "13b9d65b-a6fd-4f05-95b7-16e5a1ceeb96"
   },
   "outputs": [
    {
     "data": {
      "text/latex": [
       "$\\displaystyle - \\frac{\\log{\\left(6 y - 5 \\right)}}{6} = C + \\frac{x^{3}}{3}$"
      ],
      "text/plain": [
       "Eq(-log(6*y - 5)/6, C + x**3/3)"
      ]
     },
     "metadata": {},
     "output_type": "display_data"
    },
    {
     "ename": "ValueError",
     "evalue": "\nWhen a single argument is passed to subs it should be a dictionary of\nold: new pairs or an iterable of (old, new) tuples.",
     "output_type": "error",
     "traceback": [
      "\u001b[1;31m---------------------------------------------------------------------------\u001b[0m",
      "\u001b[1;31mValueError\u001b[0m                                Traceback (most recent call last)",
      "\u001b[1;32m<ipython-input-3-b2f908fb12cf>\u001b[0m in \u001b[0;36m<module>\u001b[1;34m\u001b[0m\n\u001b[0;32m      7\u001b[0m \u001b[0mx0y0\u001b[0m \u001b[1;33m=\u001b[0m \u001b[1;33m{\u001b[0m\u001b[0mx\u001b[0m\u001b[1;33m:\u001b[0m \u001b[1;36m0\u001b[0m\u001b[1;33m,\u001b[0m \u001b[0my\u001b[0m\u001b[1;33m:\u001b[0m \u001b[1;33m-\u001b[0m\u001b[1;36m5\u001b[0m\u001b[1;33m}\u001b[0m\u001b[1;33m\u001b[0m\u001b[1;33m\u001b[0m\u001b[0m\n\u001b[0;32m      8\u001b[0m \u001b[0mCval\u001b[0m \u001b[1;33m=\u001b[0m \u001b[0msolveset\u001b[0m\u001b[1;33m(\u001b[0m\u001b[0msympy\u001b[0m\u001b[1;33m.\u001b[0m\u001b[0mEq\u001b[0m\u001b[1;33m(\u001b[0m\u001b[0mODE2\u001b[0m\u001b[1;33m.\u001b[0m\u001b[0mlhs\u001b[0m\u001b[1;33m.\u001b[0m\u001b[0msubs\u001b[0m\u001b[1;33m(\u001b[0m\u001b[0mx0y0\u001b[0m\u001b[1;33m)\u001b[0m\u001b[1;33m,\u001b[0m \u001b[0mODE2\u001b[0m\u001b[1;33m.\u001b[0m\u001b[0mrhs\u001b[0m\u001b[1;33m.\u001b[0m\u001b[0msubs\u001b[0m\u001b[1;33m(\u001b[0m\u001b[0mx0y0\u001b[0m\u001b[1;33m)\u001b[0m\u001b[1;33m)\u001b[0m\u001b[1;33m,\u001b[0m \u001b[0mC\u001b[0m\u001b[1;33m)\u001b[0m\u001b[1;33m\u001b[0m\u001b[1;33m\u001b[0m\u001b[0m\n\u001b[1;32m----> 9\u001b[1;33m \u001b[0mplot_implicit\u001b[0m\u001b[1;33m(\u001b[0m\u001b[0msympy\u001b[0m\u001b[1;33m.\u001b[0m\u001b[0mEq\u001b[0m\u001b[1;33m(\u001b[0m\u001b[0mODE2\u001b[0m\u001b[1;33m.\u001b[0m\u001b[0mlhs\u001b[0m\u001b[1;33m,\u001b[0m \u001b[0mODE2\u001b[0m\u001b[1;33m.\u001b[0m\u001b[0mrhs\u001b[0m\u001b[1;33m.\u001b[0m\u001b[0msubs\u001b[0m\u001b[1;33m(\u001b[0m\u001b[0mC\u001b[0m\u001b[1;33m,\u001b[0m \u001b[1;33m*\u001b[0m\u001b[0mCval\u001b[0m\u001b[1;33m)\u001b[0m\u001b[1;33m)\u001b[0m\u001b[1;33m,\u001b[0m \u001b[1;33m(\u001b[0m\u001b[0mx\u001b[0m\u001b[1;33m,\u001b[0m \u001b[1;33m-\u001b[0m\u001b[1;36m2\u001b[0m\u001b[1;33m,\u001b[0m \u001b[1;36m0\u001b[0m\u001b[1;33m)\u001b[0m\u001b[1;33m,\u001b[0m \u001b[1;33m(\u001b[0m\u001b[0my\u001b[0m\u001b[1;33m,\u001b[0m \u001b[1;33m-\u001b[0m\u001b[1;36m5\u001b[0m\u001b[1;33m,\u001b[0m \u001b[1;36m5\u001b[0m\u001b[1;33m)\u001b[0m\u001b[1;33m)\u001b[0m\u001b[1;33m\u001b[0m\u001b[1;33m\u001b[0m\u001b[0m\n\u001b[0m",
      "\u001b[1;32mD:\\Anaconda\\lib\\site-packages\\sympy\\core\\basic.py\u001b[0m in \u001b[0;36msubs\u001b[1;34m(self, *args, **kwargs)\u001b[0m\n\u001b[0;32m    885\u001b[0m                 \u001b[0msequence\u001b[0m \u001b[1;33m=\u001b[0m \u001b[0msequence\u001b[0m\u001b[1;33m.\u001b[0m\u001b[0mitems\u001b[0m\u001b[1;33m(\u001b[0m\u001b[1;33m)\u001b[0m\u001b[1;33m\u001b[0m\u001b[1;33m\u001b[0m\u001b[0m\n\u001b[0;32m    886\u001b[0m             \u001b[1;32melif\u001b[0m \u001b[1;32mnot\u001b[0m \u001b[0miterable\u001b[0m\u001b[1;33m(\u001b[0m\u001b[0msequence\u001b[0m\u001b[1;33m)\u001b[0m\u001b[1;33m:\u001b[0m\u001b[1;33m\u001b[0m\u001b[1;33m\u001b[0m\u001b[0m\n\u001b[1;32m--> 887\u001b[1;33m                 raise ValueError(filldedent(\"\"\"\n\u001b[0m\u001b[0;32m    888\u001b[0m                    \u001b[0mWhen\u001b[0m \u001b[0ma\u001b[0m \u001b[0msingle\u001b[0m \u001b[0margument\u001b[0m \u001b[1;32mis\u001b[0m \u001b[0mpassed\u001b[0m \u001b[0mto\u001b[0m \u001b[0msubs\u001b[0m\u001b[1;33m\u001b[0m\u001b[1;33m\u001b[0m\u001b[0m\n\u001b[0;32m    889\u001b[0m                    \u001b[0mit\u001b[0m \u001b[0mshould\u001b[0m \u001b[0mbe\u001b[0m \u001b[0ma\u001b[0m \u001b[0mdictionary\u001b[0m \u001b[0mof\u001b[0m \u001b[0mold\u001b[0m\u001b[1;33m:\u001b[0m \u001b[0mnew\u001b[0m \u001b[0mpairs\u001b[0m \u001b[1;32mor\u001b[0m \u001b[0man\u001b[0m \u001b[0miterable\u001b[0m\u001b[1;33m\u001b[0m\u001b[1;33m\u001b[0m\u001b[0m\n",
      "\u001b[1;31mValueError\u001b[0m: \nWhen a single argument is passed to subs it should be a dictionary of\nold: new pairs or an iterable of (old, new) tuples."
     ]
    }
   ],
   "source": [
    "# -6x**2 * y(x) + 5x**2 y(0) = -5\n",
    "\n",
    "# Коши\n",
    "x, y, C = symbols('x y C', real=True)\n",
    "ODE2 = sympy.Eq(integrate(1 / (-6 * y + 5), y), integrate(x**2, x) + C) \n",
    "display(ODE2)\n",
    "x0y0 = {x: 0, y: -5}\n",
    "Cval = solveset(sympy.Eq(ODE2.lhs.subs(x0y0), ODE2.rhs.subs(x0y0)), C) \n",
    "plot_implicit(sympy.Eq(ODE2.lhs, ODE2.rhs.subs(C, *Cval)), (x, -2, 0), (y, -5, 5))"
   ]
  },
  {
   "cell_type": "code",
   "execution_count": null,
   "metadata": {},
   "outputs": [],
   "source": []
  }
 ],
 "metadata": {
  "colab": {
   "collapsed_sections": [],
   "name": "KOLTUNOVCalculus_17_tasks.ipynb",
   "provenance": []
  },
  "kernelspec": {
   "display_name": "Python 3",
   "language": "python",
   "name": "python3"
  },
  "language_info": {
   "codemirror_mode": {
    "name": "ipython",
    "version": 3
   },
   "file_extension": ".py",
   "mimetype": "text/x-python",
   "name": "python",
   "nbconvert_exporter": "python",
   "pygments_lexer": "ipython3",
   "version": "3.8.5"
  }
 },
 "nbformat": 4,
 "nbformat_minor": 1
}
