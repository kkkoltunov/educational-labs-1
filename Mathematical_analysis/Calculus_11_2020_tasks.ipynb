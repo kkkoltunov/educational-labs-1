{
 "cells": [
  {
   "cell_type": "code",
   "execution_count": 21,
   "metadata": {
    "id": "KbINy3vICHvm"
   },
   "outputs": [],
   "source": [
    "import sympy\n",
    "from sympy import S, Symbol, symbols, Function, integrate, diff, Curve, plot, plot_parametric, latex, solveset, Interval, solve\n",
    "from sympy import sin as Sin\n",
    "from sympy import cos as Cos\n",
    "from sympy import pi as Pi\n",
    "from numpy import linspace\n",
    "import numpy as np\n",
    "import matplotlib.pyplot as plt\n",
    "%matplotlib inline"
   ]
  },
  {
   "cell_type": "markdown",
   "metadata": {
    "id": "Uq-ykM5CCHvv"
   },
   "source": [
    "## Занятие 11\n",
    "## Математический анализ\n",
    "## Применение интегралов для вычисления площади фигуры и длины дуги \n",
    "\n",
    "### Задание 1\n",
    "Вычислить площадь фигуры, ограниченной графиками функций $f = 2 + x^2$ и  $g = 2 - x^3$. Построить графики, найти точки пересечения, затем вычислить соответствующие интегралы."
   ]
  },
  {
   "cell_type": "code",
   "execution_count": 37,
   "metadata": {
    "colab": {
     "base_uri": "https://localhost:8080/",
     "height": 301
    },
    "id": "azx3TB1RCHvv",
    "outputId": "97e5bcb7-d30b-440a-8e03-8d76eff78ec3"
   },
   "outputs": [
    {
     "data": {
      "application/vnd.google.colaboratory.intrinsic+json": {
       "type": "string"
      },
      "text/plain": [
       "'Площадь данной фигуры'"
      ]
     },
     "metadata": {
      "tags": []
     },
     "output_type": "display_data"
    },
    {
     "data": {
      "text/latex": [
       "$\\displaystyle \\frac{1}{12}$"
      ],
      "text/plain": [
       "1/12"
      ]
     },
     "metadata": {
      "tags": []
     },
     "output_type": "display_data"
    },
    {
     "data": {
      "image/png": "[encoded data removed]",
      "text/plain": [
       "<Figure size 432x288 with 1 Axes>"
      ]
     },
     "metadata": {
      "needs_background": "light",
      "tags": []
     },
     "output_type": "display_data"
    }
   ],
   "source": [
    "X = linspace(-2,2,100)\n",
    "x = Symbol('x')\n",
    "\n",
    "def f(x):\n",
    "    return 2 + x**2\n",
    "def g(x):\n",
    "    return 2 - x**3\n",
    "\n",
    "intersection = solve(sympy.Eq(f(x),g(x)))\n",
    "\n",
    "ax = plt.gca()\n",
    "ax.spines['right'].set_color('none') \n",
    "ax.spines['top'].set_color('none') \n",
    "ax.spines['bottom'].set_position(('data', 0)) \n",
    "ax.spines['left'].set_position(('data', 0))\n",
    "a\n",
    "x.plot(X,[f(x) for x in X], color = 'y')\n",
    "ax.plot(X,[g(x) for x in X], color = 'r')\n",
    "for i in intersection:\n",
    "    ax.scatter(i, f(i))\n",
    "    \n",
    "display('Площадь данной фигуры', f(x).integrate((x, -1, 0)) - g(x).integrate((x, -1, 0)))"
   ]
  },
  {
   "cell_type": "markdown",
   "metadata": {
    "id": "zmoSu_A3CHvw"
   },
   "source": [
    "### Задача 2.\n",
    "Вычислить площадь фигуры, ограниченной графиком функции $x = \\cos^3(t)$, $y = \\sin^3(t)$, $0 \\le t \\le 2\\pi$."
   ]
  },
  {
   "cell_type": "code",
   "execution_count": 35,
   "metadata": {
    "colab": {
     "base_uri": "https://localhost:8080/",
     "height": 70
    },
    "id": "OFFcz_jUCHvw",
    "outputId": "ba463a77-aef0-49bc-f071-675f33909be9"
   },
   "outputs": [
    {
     "data": {
      "application/vnd.google.colaboratory.intrinsic+json": {
       "type": "string"
      },
      "text/plain": [
       "'Площадь данной фигуры'"
      ]
     },
     "metadata": {
      "tags": []
     },
     "output_type": "display_data"
    },
    {
     "data": {
      "text/latex": [
       "$\\displaystyle \\frac{3 \\pi}{8}$"
      ],
      "text/plain": [
       "3*pi/8"
      ]
     },
     "metadata": {
      "tags": []
     },
     "output_type": "display_data"
    }
   ],
   "source": [
    "from sympy.abc import t\n",
    "display('Площадь данной фигуры', (Sin(t)**3*(Cos(t)**3).diff(t)).integrate((t, 2*Pi, 0)))"
   ]
  },
  {
   "cell_type": "markdown",
   "metadata": {
    "id": "n43vdmDWCHvx"
   },
   "source": [
    "### Задача 3.\n",
    "Вычислить площадь фигуры, ограниченной графиком функции $r = \\cos(2\\phi)$, $-\\frac{\\pi}{4} \\le \\phi \\le \\frac{\\pi}{4}$. "
   ]
  },
  {
   "cell_type": "code",
   "execution_count": 34,
   "metadata": {
    "colab": {
     "base_uri": "https://localhost:8080/",
     "height": 70
    },
    "id": "_iiwuqSlCHvx",
    "outputId": "2ca50b81-bab7-4f03-939f-d6bf09aebbd4"
   },
   "outputs": [
    {
     "data": {
      "application/vnd.google.colaboratory.intrinsic+json": {
       "type": "string"
      },
      "text/plain": [
       "'Площадь данной фигуры'"
      ]
     },
     "metadata": {
      "tags": []
     },
     "output_type": "display_data"
    },
    {
     "data": {
      "text/latex": [
       "$\\displaystyle \\frac{1}{2}$"
      ],
      "text/plain": [
       "1/2"
      ]
     },
     "metadata": {
      "tags": []
     },
     "output_type": "display_data"
    }
   ],
   "source": [
    "phi = S('phi')\n",
    "\n",
    "def r(x):\n",
    "    return Cos(2*x)\n",
    "\n",
    "display('Площадь данной фигуры', S(1)/2*integrate(r(phi), (phi, -Pi/4, Pi/4)))"
   ]
  },
  {
   "cell_type": "markdown",
   "metadata": {
    "id": "6DBJg7jjCHvx"
   },
   "source": [
    "### Задача 4.\n",
    "Вычислить длину кривой, заданной уравнением $y^2 = x^3$ при $x$ от 1 до 3. (Обратите внимание, что у кривой две ветви, симметричные относительно оси OX!)"
   ]
  },
  {
   "cell_type": "code",
   "execution_count": 31,
   "metadata": {
    "colab": {
     "base_uri": "https://localhost:8080/",
     "height": 74
    },
    "id": "pBOX3fr8CHvx",
    "outputId": "567f2ca2-c396-47b2-c092-5d9bcb88d8cf"
   },
   "outputs": [
    {
     "data": {
      "application/vnd.google.colaboratory.intrinsic+json": {
       "type": "string"
      },
      "text/plain": [
       "'Длина дуги кривой'"
      ]
     },
     "metadata": {
      "tags": []
     },
     "output_type": "display_data"
    },
    {
     "data": {
      "text/latex": [
       "$\\displaystyle - \\frac{13 \\sqrt{13}}{27} + \\frac{31 \\sqrt{31}}{27}$"
      ],
      "text/plain": [
       "-13*sqrt(13)/27 + 31*sqrt(31)/27"
      ]
     },
     "metadata": {
      "tags": []
     },
     "output_type": "display_data"
    }
   ],
   "source": [
    "from sympy.abc import x\n",
    "\n",
    "display('Длина дуги кривой', ((1+x*S(9)/4)**S.Half).integrate((x, 1, 3)).simplify())"
   ]
  },
  {
   "cell_type": "markdown",
   "metadata": {
    "id": "wkkKvdIpCHvy"
   },
   "source": [
    "### Задача 5.\n",
    "Вычислить длину кривой, заданной параметрически $x = \\frac{3}{2}\\cos^3 t $, $y = 3\\sin^3 t$."
   ]
  },
  {
   "cell_type": "code",
   "execution_count": 32,
   "metadata": {
    "colab": {
     "base_uri": "https://localhost:8080/",
     "height": 55
    },
    "id": "evvOth6JCHvy",
    "outputId": "db4c52db-17a3-4fab-994b-e7b9c8e9cc6e"
   },
   "outputs": [
    {
     "data": {
      "application/vnd.google.colaboratory.intrinsic+json": {
       "type": "string"
      },
      "text/plain": [
       "'Длина дуги кривой'"
      ]
     },
     "metadata": {
      "tags": []
     },
     "output_type": "display_data"
    },
    {
     "data": {
      "text/latex": [
       "$\\displaystyle 14.0$"
      ],
      "text/plain": [
       "14.0000000000000"
      ]
     },
     "metadata": {
      "tags": []
     },
     "output_type": "display_data"
    }
   ],
   "source": [
    "t, T = symbols('t T')\n",
    "x = 3/2*(Cos(t)**3)\n",
    "y = 3*(Sin(t)**3)\n",
    "display('Длина дуги кривой', 4*(((x.diff(t)**2 + y.diff(t)**2).simplify())**S.Half).integrate((t, 0, Pi/2)))"
   ]
  },
  {
   "cell_type": "markdown",
   "metadata": {
    "id": "vEgMacbgCHvy"
   },
   "source": [
    "### Задача 6.\n",
    "Вычислить длину кривой, заданной в полярных координатах\n",
    "$r = \\phi$, $\\phi$ от 0 до $2\\pi$. Результат вычислить приближенно до 3 знаков после запятой."
   ]
  },
  {
   "cell_type": "code",
   "execution_count": 33,
   "metadata": {
    "colab": {
     "base_uri": "https://localhost:8080/",
     "height": 55
    },
    "id": "DRR28-D7CHvy",
    "outputId": "9e17102a-75c8-4afc-9397-af2b9f3cf933"
   },
   "outputs": [
    {
     "data": {
      "application/vnd.google.colaboratory.intrinsic+json": {
       "type": "string"
      },
      "text/plain": [
       "'Длина дуги кривой'"
      ]
     },
     "metadata": {
      "tags": []
     },
     "output_type": "display_data"
    },
    {
     "data": {
      "text/latex": [
       "$\\displaystyle 21.256$"
      ],
      "text/plain": [
       "21.256"
      ]
     },
     "metadata": {
      "tags": []
     },
     "output_type": "display_data"
    }
   ],
   "source": [
    "phi = S('phi')\n",
    "r = phi\n",
    "display('Длина дуги кривой', ((r**2 + r.diff(phi)**2)**S.Half).integrate((phi, 0, 2*Pi)).evalf(5))"
   ]
  },
  {
   "cell_type": "markdown",
   "metadata": {
    "id": "gNctifYXCHvz"
   },
   "source": [
    "### Индивидуальное задание\n",
    "Вычислить площадь фигуры, ограниченной графиками функций $f = 2\\sin(x)$ и  $g = \\cos(2x)$ на интервале  $[0, \\pi]$. Построить графики, найти точки пересечения (выделить корни на интервале с помощью intersect и Interval), затем вычислить соответствующие интегралы.\n",
    "\n",
    "[0.1П, 1.9П]\n",
    "\n",
    "f = 4cos(x)\n",
    "g = 2cos(2x)"
   ]
  },
  {
   "cell_type": "code",
   "execution_count": 47,
   "metadata": {
    "colab": {
     "base_uri": "https://localhost:8080/",
     "height": 394
    },
    "id": "v-7BD9qLCHvz",
    "outputId": "c665e9e0-6f5d-4d2f-8f26-4c996b24473a"
   },
   "outputs": [
    {
     "data": {
      "image/png": "[encoded data removed]",
      "text/plain": [
       "<Figure size 432x288 with 1 Axes>"
      ]
     },
     "metadata": {
      "needs_background": "light",
      "tags": []
     },
     "output_type": "display_data"
    },
    {
     "data": {
      "application/vnd.google.colaboratory.intrinsic+json": {
       "type": "string"
      },
      "text/plain": [
       "'Корни на интервале'"
      ]
     },
     "metadata": {
      "tags": []
     },
     "output_type": "display_data"
    },
    {
     "data": {
      "text/latex": [
       "$\\displaystyle \\left\\{\\frac{\\pi}{2}, \\frac{3 \\pi}{2}\\right\\}$"
      ],
      "text/plain": [
       "FiniteSet(pi/2, 3*pi/2)"
      ]
     },
     "metadata": {
      "tags": []
     },
     "output_type": "display_data"
    },
    {
     "data": {
      "application/vnd.google.colaboratory.intrinsic+json": {
       "type": "string"
      },
      "text/plain": [
       "'Площадь'"
      ]
     },
     "metadata": {
      "tags": []
     },
     "output_type": "display_data"
    },
    {
     "data": {
      "text/latex": [
       "$\\displaystyle 4$"
      ],
      "text/plain": [
       "4"
      ]
     },
     "metadata": {
      "tags": []
     },
     "output_type": "display_data"
    }
   ],
   "source": [
    "f = 4*Cos(x)\n",
    "g = 2*Cos(x)\n",
    "\n",
    "I = Interval(0.1*Pi, 1.9*Pi)\n",
    "\n",
    "plot(f, g, (x, 0, 2*Pi))\n",
    "intersection = solve(sympy.Eq(f,g), x)\n",
    "display('Корни на интервале', I.intersect(set(intersection)))\n",
    "display('Площадь', integrate(f-g, (x, 3*Pi/2, Pi/2)))"
   ]
  }
 ],
 "metadata": {
  "colab": {
   "collapsed_sections": [],
   "name": "KOLTUNOVCalculus_11_2020_tasks.ipynb",
   "provenance": []
  },
  "kernelspec": {
   "display_name": "Python 3",
   "language": "python",
   "name": "python3"
  },
  "language_info": {
   "codemirror_mode": {
    "name": "ipython",
    "version": 3
   },
   "file_extension": ".py",
   "mimetype": "text/x-python",
   "name": "python",
   "nbconvert_exporter": "python",
   "pygments_lexer": "ipython3",
   "version": "3.8.5"
  }
 },
 "nbformat": 4,
 "nbformat_minor": 1
}
