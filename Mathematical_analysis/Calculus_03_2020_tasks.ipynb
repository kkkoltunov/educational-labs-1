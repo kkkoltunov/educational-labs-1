{
 "cells": [
  {
   "cell_type": "markdown",
   "metadata": {},
   "source": [
    "## Занятие 3\n",
    "## Математический анализ\n",
    "## Решение нелинейных уравнений в Sympy. Solve и solveset.\n",
    "https://docs.sympy.org/latest/modules/solvers/solveset.html"
   ]
  },
  {
   "cell_type": "code",
   "execution_count": 5,
   "metadata": {},
   "outputs": [],
   "source": [
    "from sympy import Symbol, symbols, S, solve, solveset, Intersection, Interval, EmptySet, Union, Eq \n",
    "import sympy\n",
    "# Продолжим использовать магию\n",
    "%matplotlib inline"
   ]
  },
  {
   "cell_type": "markdown",
   "metadata": {},
   "source": [
    "### Задание 1\n",
    "Решить уравнение $6x^4 + 9x^3 - 99x^2 - 66x + 360 = 0$ с помощью solve и solveset."
   ]
  },
  {
   "cell_type": "code",
   "execution_count": 4,
   "metadata": {},
   "outputs": [
    {
     "data": {
      "text/plain": [
       "[-4, -5/2, 2, 3]"
      ]
     },
     "metadata": {},
     "output_type": "display_data"
    },
    {
     "data": {
      "text/latex": [
       "$\\displaystyle \\left\\{-4, - \\frac{5}{2}, 2, 3\\right\\}$"
      ],
      "text/plain": [
       "FiniteSet(-4, -5/2, 2, 3)"
      ]
     },
     "metadata": {},
     "output_type": "display_data"
    }
   ],
   "source": [
    "x = Symbol('x')\n",
    "display(solve(6*x**4 + 9*x**3 - 99*x**2 - 66*x + 360))\n",
    "display(solveset(6*x**4 + 9*x**3 - 99*x**2 - 66*x + 360))"
   ]
  },
  {
   "cell_type": "markdown",
   "metadata": {},
   "source": [
    "### Задание 2.\n",
    "Найти только вещественные решения уравнения $12x^8 + 32x^6 + 21x^4 - 2x^2 - 3 = 0$."
   ]
  },
  {
   "cell_type": "code",
   "execution_count": 8,
   "metadata": {},
   "outputs": [
    {
     "data": {
      "text/latex": [
       "$\\displaystyle \\left\\{- \\frac{\\sqrt{3}}{3}, \\frac{\\sqrt{3}}{3}\\right\\}$"
      ],
      "text/plain": [
       "FiniteSet(-sqrt(3)/3, sqrt(3)/3)"
      ]
     },
     "metadata": {},
     "output_type": "display_data"
    }
   ],
   "source": [
    "display(solveset(12*x**8 + 32*x**6 + 21*x**4 - 2*x**2 - 3, domain=S.Reals))"
   ]
  },
  {
   "cell_type": "markdown",
   "metadata": {},
   "source": [
    "### Задание 3.\n",
    "Решить уравнение $\\log_2(\\sin(x))=-1$. "
   ]
  },
  {
   "cell_type": "code",
   "execution_count": 37,
   "metadata": {},
   "outputs": [
    {
     "data": {
      "text/latex": [
       "$\\displaystyle \\left\\{2 n \\pi + \\frac{5 \\pi}{6}\\; |\\; n \\in \\mathbb{Z}\\right\\} \\cup \\left\\{2 n \\pi + \\frac{\\pi}{6}\\; |\\; n \\in \\mathbb{Z}\\right\\}$"
      ],
      "text/plain": [
       "Union(ImageSet(Lambda(_n, 2*_n*pi + 5*pi/6), Integers), ImageSet(Lambda(_n, 2*_n*pi + pi/6), Integers))"
      ]
     },
     "metadata": {},
     "output_type": "display_data"
    }
   ],
   "source": [
    "z = Symbol('z')\n",
    "s1 = solveset(sympy.log(2, y) + 1)\n",
    "s2 = {solveset(sympy.sin(z) - s, domain=S.Reals) for s in s1}\n",
    "display(*s2)"
   ]
  },
  {
   "cell_type": "markdown",
   "metadata": {},
   "source": [
    "### Задание 4.\n",
    "Найдем решения уравнения $2{\\rm tg}^2(x) - 3{\\rm tg}(x) - 5 = 0$ на открытом интервале  $(-5\\pi/4, 11\\pi/4)$. "
   ]
  },
  {
   "cell_type": "code",
   "execution_count": 32,
   "metadata": {},
   "outputs": [
    {
     "data": {
      "text/latex": [
       "$\\displaystyle \\left\\{- \\frac{\\pi}{4}, \\frac{3 \\pi}{4}, \\frac{7 \\pi}{4}, - \\pi + \\operatorname{atan}{\\left(\\frac{5}{2} \\right)}, \\operatorname{atan}{\\left(\\frac{5}{2} \\right)} + \\pi, \\operatorname{atan}{\\left(\\frac{5}{2} \\right)} + 2 \\pi, \\operatorname{atan}{\\left(\\frac{5}{2} \\right)}\\right\\}$"
      ],
      "text/plain": [
       "FiniteSet(atan(5/2), -pi/4, 3*pi/4, 7*pi/4, atan(5/2) + pi, -pi + atan(5/2), atan(5/2) + 2*pi)"
      ]
     },
     "execution_count": 32,
     "metadata": {},
     "output_type": "execute_result"
    }
   ],
   "source": [
    "Intersection(solveset(2*sympy.tan(x)**2 - 3*sympy.tan(x) - 5), Interval.open(-5*sympy.pi/4, 11*sympy.pi/4))"
   ]
  },
  {
   "cell_type": "markdown",
   "metadata": {},
   "source": [
    "### Задание 5.\n",
    "Найти область определения функции $\\sqrt{\\sin^2 x - 1}$."
   ]
  },
  {
   "cell_type": "code",
   "execution_count": 47,
   "metadata": {},
   "outputs": [
    {
     "data": {
      "text/latex": [
       "$\\displaystyle \\left\\{2 n \\pi + \\frac{\\pi}{2}\\; |\\; n \\in \\mathbb{Z}\\right\\} \\cup \\left\\{2 n \\pi + \\frac{3 \\pi}{2}\\; |\\; n \\in \\mathbb{Z}\\right\\}$"
      ],
      "text/plain": [
       "Union(ImageSet(Lambda(_n, 2*_n*pi + pi/2), Integers), ImageSet(Lambda(_n, 2*_n*pi + 3*pi/2), Integers))"
      ]
     },
     "execution_count": 47,
     "metadata": {},
     "output_type": "execute_result"
    }
   ],
   "source": [
    "solveset(sympy.sqrt(sympy.sin(x)**2 - 1))"
   ]
  },
  {
   "cell_type": "markdown",
   "metadata": {},
   "source": [
    "### Задание 6.\n",
    "Найти решение уравнения $\\frac{(x^3 + 5 x^2 - 3 x - 15)\\ln(x^2 - 3)}{x^2 - 3 x + 2} = 0$. Выполнить проверку подстановкой subs.\n",
    "#### Указание.\n",
    "Решение нужно разбить на части. Нужно учесть область определения выражения в левой части уравнения."
   ]
  },
  {
   "cell_type": "code",
   "execution_count": 56,
   "metadata": {},
   "outputs": [
    {
     "data": {
      "text/plain": [
       "'ans 1'"
      ]
     },
     "metadata": {},
     "output_type": "display_data"
    },
    {
     "data": {
      "text/latex": [
       "$\\displaystyle \\left\\{-5, -2\\right\\}$"
      ],
      "text/plain": [
       "FiniteSet(-5, -2)"
      ]
     },
     "metadata": {},
     "output_type": "display_data"
    },
    {
     "data": {
      "text/plain": [
       "'ans 2'"
      ]
     },
     "metadata": {},
     "output_type": "display_data"
    },
    {
     "data": {
      "text/latex": [
       "$\\displaystyle \\left\\{-5, - \\sqrt{3}, \\sqrt{3}\\right\\}$"
      ],
      "text/plain": [
       "FiniteSet(-5, sqrt(3), -sqrt(3))"
      ]
     },
     "metadata": {},
     "output_type": "display_data"
    },
    {
     "data": {
      "text/plain": [
       "'ans 3'"
      ]
     },
     "metadata": {},
     "output_type": "display_data"
    },
    {
     "data": {
      "text/latex": [
       "$\\displaystyle \\left\\{-2, 2\\right\\}$"
      ],
      "text/plain": [
       "FiniteSet(-2, 2)"
      ]
     },
     "metadata": {},
     "output_type": "display_data"
    },
    {
     "data": {
      "text/plain": [
       "'ans 4'"
      ]
     },
     "metadata": {},
     "output_type": "display_data"
    },
    {
     "data": {
      "text/latex": [
       "$\\displaystyle \\left\\{1, 2\\right\\}$"
      ],
      "text/plain": [
       "FiniteSet(1, 2)"
      ]
     },
     "metadata": {},
     "output_type": "display_data"
    },
    {
     "data": {
      "text/plain": [
       "'result'"
      ]
     },
     "metadata": {},
     "output_type": "display_data"
    },
    {
     "data": {
      "text/latex": [
       "$\\displaystyle 0$"
      ],
      "text/plain": [
       "0"
      ]
     },
     "metadata": {},
     "output_type": "display_data"
    },
    {
     "data": {
      "text/latex": [
       "$\\displaystyle 0$"
      ],
      "text/plain": [
       "0"
      ]
     },
     "metadata": {},
     "output_type": "display_data"
    }
   ],
   "source": [
    "exp = ((x**3 + 5*x**2 - 3*x - 15) * (sympy.ln(x**2 - 3)))/(x**2 - 3*x + 2)\n",
    "s1 = solveset(exp)\n",
    "s2 = solveset(x**3 + 5*x**2 - 3*x - 15)\n",
    "s3 = solveset(sympy.ln(x**2 - 3))\n",
    "s4 = solveset(x**2 - 3*x + 2)\n",
    "display('ans 1', s1, 'ans 2', s2, 'ans 3', s3, 'ans 4', s4)\n",
    "display('result', exp.subs(x, -5), exp.subs(x, -2))"
   ]
  },
  {
   "cell_type": "markdown",
   "metadata": {},
   "source": [
    "### Индивидуальное задание.\n",
    "Через все точки пересечения графиков функций $f(x)$ и $g(x)$ провести горизонтальные прямые. Изобразить на графике $f(x)$ зеленым цветом, $g(x)$ красным, горизонтальные линии черным. \n",
    "Формулы для $f(x)$ и $g(x)$ включить в легенду.\n",
    "\n",
    "\\begin{align*}\n",
    " f(x) = - \\frac{x^{2}}{16} + x + 3\\\\\n",
    " g(x) = \\frac{3 x^{2}}{8} + x - 4\n",
    "\\end{align*}"
   ]
  },
  {
   "cell_type": "code",
   "execution_count": 57,
   "metadata": {},
   "outputs": [
    {
     "data": {
      "image/png": "[encoded data removed]",
      "text/plain": [
       "<Figure size 432x288 with 1 Axes>"
      ]
     },
     "metadata": {
      "needs_background": "light"
     },
     "output_type": "display_data"
    }
   ],
   "source": [
    "x, y = symbols('x y')\n",
    "p = sympy.plot(((-x**2/16) + x + 3), xlim=(-10, 10), ylim=(-10, 15), line_color='green', show=False,\n",
    "               label='$f(x) = - x^2/16 + x + 3$', legend=True)\n",
    "p.append(sympy.plot(((3*x**2/8) + x - 4), xlim=(-10, 10), ylim=(-10, 15), line_color='red', show=False,\n",
    "               label='$g(x) = - 3x^2/8 + x - 4$', legend=True)[0])\n",
    "p.append(sympy.plot(6, xlim=(-10, 10), ylim=(-10, 15), line_color='black', show=False)[0])\n",
    "p.append(sympy.plot(-2, xlim=(-10, 10), ylim=(-10, 15), line_color='black', show=False)[0])\n",
    "p.show()"
   ]
  },
  {
   "cell_type": "code",
   "execution_count": null,
   "metadata": {},
   "outputs": [],
   "source": []
  }
 ],
 "metadata": {
  "kernelspec": {
   "display_name": "Python 3",
   "language": "python",
   "name": "python3"
  },
  "language_info": {
   "codemirror_mode": {
    "name": "ipython",
    "version": 3
   },
   "file_extension": ".py",
   "mimetype": "text/x-python",
   "name": "python",
   "nbconvert_exporter": "python",
   "pygments_lexer": "ipython3",
   "version": "3.8.3"
  }
 },
 "nbformat": 4,
 "nbformat_minor": 2
}
