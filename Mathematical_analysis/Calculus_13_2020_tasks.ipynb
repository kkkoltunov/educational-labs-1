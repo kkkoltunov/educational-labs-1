{
 "cells": [
  {
   "cell_type": "code",
   "execution_count": 2,
   "metadata": {},
   "outputs": [],
   "source": [
    "import numpy as np\n",
    "import sympy\n",
    "from sympy import S, Symbol, symbols, simplify, solve, solveset, diff, plot, plot_parametric, plot_implicit, latex, Integral\n",
    "from sympy import sin as Sin\n",
    "from sympy import cos as Cos\n",
    "from sympy import exp as Exp\n",
    "from sympy import log as Log\n",
    "from sympy import pi as Pi\n",
    "import matplotlib.pyplot as plt\n",
    "%matplotlib inline"
   ]
  },
  {
   "cell_type": "markdown",
   "metadata": {},
   "source": [
    "## Занятие 13\n",
    "## Математический анализ\n",
    "## Применение интегралов для вычисления площади поверхности тела вращения\n",
    "### Задание 1.\n",
    "Вычислить площадь поверхности, которая образуется в результате вращения $y = \\sqrt{x}$ вокруг оси OX при $x$ от 0 до 1."
   ]
  },
  {
   "cell_type": "code",
   "execution_count": 5,
   "metadata": {},
   "outputs": [
    {
     "data": {
      "text/latex": [
       "$\\displaystyle \\sqrt{x}$"
      ],
      "text/plain": [
       "sqrt(x)"
      ]
     },
     "metadata": {},
     "output_type": "display_data"
    },
    {
     "data": {
      "text/latex": [
       "$\\displaystyle 2 \\pi \\int\\limits_{0}^{1} \\sqrt{x} \\sqrt{1 + \\frac{1}{4 x}}\\, dx$"
      ],
      "text/plain": [
       "2*pi*Integral(sqrt(x)*sqrt(1 + 1/(4*x)), (x, 0, 1))"
      ]
     },
     "metadata": {},
     "output_type": "display_data"
    },
    {
     "data": {
      "text/latex": [
       "$\\displaystyle \\frac{\\pi \\left(-1 + 5 \\sqrt{5}\\right)}{6}$"
      ],
      "text/plain": [
       "pi*(-1 + 5*sqrt(5))/6"
      ]
     },
     "metadata": {},
     "output_type": "display_data"
    }
   ],
   "source": [
    "x = Symbol('x', positive=True)\n",
    "y = Symbol('y')\n",
    "\n",
    "Eq1 = sympy.Eq(y, x**S.Half)\n",
    "y1 = solve(Eq1, y)[0]\n",
    "display(y1)\n",
    "\n",
    "S_OX1 = 2*Pi*Integral(y1*(1 + y1.diff(x)**2)**S.Half, (x, 0, 1)) \n",
    "display(S_OX1, S_OX1.doit().simplify())\n",
    "\n",
    "#plot_implicit(Eq1, (x, 0, 1), (y, -1, 1))"
   ]
  },
  {
   "cell_type": "markdown",
   "metadata": {},
   "source": [
    "###  Задание 2.\n",
    "Вычислить площадь поверхности веретена, которое образуется в результате вращения одной полуволны синусоиды $y = \\sin x$ вокруг оси OX.\n",
    "#### Указание.\n",
    "\n",
    "Для вычисления интеграла воспользоваться заменой переменных $t = \\cos(x)$, для проведения замены пользоваться методом transform класса Integral. Также воспользоваться simplify при необходимости."
   ]
  },
  {
   "cell_type": "code",
   "execution_count": 6,
   "metadata": {},
   "outputs": [
    {
     "data": {
      "text/latex": [
       "$\\displaystyle \\int\\limits_{0}^{\\pi} \\sqrt{\\cos^{2}{\\left(x \\right)} + 1} \\sin{\\left(x \\right)}\\, dx$"
      ],
      "text/plain": [
       "Integral(sqrt(cos(x)**2 + 1)*sin(x), (x, 0, pi))"
      ]
     },
     "metadata": {},
     "output_type": "display_data"
    },
    {
     "data": {
      "text/latex": [
       "$\\displaystyle \\int\\limits_{-1}^{1} \\sqrt{t^{2} + 1}\\, dt$"
      ],
      "text/plain": [
       "Integral(sqrt(t**2 + 1), (t, -1, 1))"
      ]
     },
     "metadata": {},
     "output_type": "display_data"
    },
    {
     "data": {
      "text/latex": [
       "$\\displaystyle \\pi^{2} \\left(\\log{\\left(\\frac{1 + \\sqrt{2}}{-1 + \\sqrt{2}} \\right)} + 2 \\sqrt{2}\\right)$"
      ],
      "text/plain": [
       "pi**2*(log((1 + sqrt(2))/(-1 + sqrt(2))) + 2*sqrt(2))"
      ]
     },
     "metadata": {},
     "output_type": "display_data"
    }
   ],
   "source": [
    "x = Symbol('x', positive=True)\n",
    "t = Symbol('t', positive=True)\n",
    "\n",
    "S_OX = Integral((Sin(x) * (1 + Sin(x).diff()**2)**S.Half), (x, 0, Pi))\n",
    "res = S_OX.transform(Cos(x), t)\n",
    "display(S_OX, res, 2*Pi*simplify(res.integrate((t, 0, Pi))))"
   ]
  },
  {
   "cell_type": "markdown",
   "metadata": {},
   "source": [
    "###  Задание 3.\n",
    "Вычислить площадь поверхности образованной вращением вокруг ОХ кардиоиды \n",
    "$$\n",
    "\\left\\{\n",
    "\\begin{matrix}\n",
    "x=a(2\\cos t-\\cos 2t)\\\\\n",
    "y=a(2\\sin t-\\sin 2t)\n",
    "\\end{matrix}\n",
    "\\right.\n",
    "$$\n",
    "Для облегчения расчетов упростить подынтегральную функцию с помощью simplify."
   ]
  },
  {
   "cell_type": "code",
   "execution_count": 3,
   "metadata": {},
   "outputs": [
    {
     "data": {
      "text/latex": [
       "$\\displaystyle \\int\\limits_{0}^{\\pi} 4 \\pi a^{2} \\sqrt{2 - 2 \\cos{\\left(t \\right)}} \\left(2 \\sin{\\left(t \\right)} - \\sin{\\left(2 t \\right)}\\right)\\, dt$"
      ],
      "text/plain": [
       "Integral(4*pi*a**2*sqrt(2 - 2*cos(t))*(2*sin(t) - sin(2*t)), (t, 0, pi))"
      ]
     },
     "metadata": {},
     "output_type": "display_data"
    },
    {
     "data": {
      "text/latex": [
       "$\\displaystyle \\frac{128 \\pi a^{2}}{5}$"
      ],
      "text/plain": [
       "128*pi*a**2/5"
      ]
     },
     "metadata": {},
     "output_type": "display_data"
    },
    {
     "data": {
      "text/latex": [
       "$\\displaystyle \\int\\limits_{0}^{\\pi} 4 \\pi a^{2} \\sqrt{2 - 2 \\cos{\\left(t \\right)}} \\left(2 \\sin{\\left(t \\right)} - \\sin{\\left(2 t \\right)}\\right)\\, dt = \\frac{128 \\pi a^{2}}{5}$"
      ],
      "text/plain": [
       "Eq(Integral(4*pi*a**2*sqrt(2 - 2*cos(t))*(2*sin(t) - sin(2*t)), (t, 0, pi)), 128*pi*a**2/5)"
      ]
     },
     "metadata": {},
     "output_type": "display_data"
    }
   ],
   "source": [
    "t = Symbol('t')\n",
    "a = Symbol('a', positive=True)\n",
    "x2 = a*(2*Cos(t) - Cos(2*t))\n",
    "y2 = a*(2*Sin(t) - Sin(2*t))\n",
    "\n",
    "S_OX2 = Integral(2*Pi*(y2*(x2.diff(t)**2 + y2.diff(t)**2)**S.Half).simplify(), (t, 0, Pi))\n",
    "display(S_OX2)\n",
    "\n",
    "res = S_OX2.doit()\n",
    "display(res)\n",
    "display(sympy.Eq(S_OX2,res.simplify()))\n",
    "\n",
    "#plot_parametric(x2.subs(a, 1), y2.subs(a, 1), (t, 0, 2*Pi))"
   ]
  },
  {
   "cell_type": "markdown",
   "metadata": {},
   "source": [
    "### Задание 4.\n",
    "Вычислить площадь поверхности образованной вращением лемнискаты $r^2=a^2\\cos2\\phi$ вокруг полярной оси.\n",
    "\n",
    "#### Указание.\n",
    "Построить график, определить пределы интегрирования.\n",
    "Упростить подынтегральную функцию с помощью simplify, затем с помощью display вывести полученный интерал. Замечая, что подынтегральное выражение можно упростить, если сократить, не обращать внимание, что $\\cos(2\\phi) = 0$ в $\\pi/4$, вручную составить интеграл для окончательного расчета. "
   ]
  },
  {
   "cell_type": "code",
   "execution_count": 4,
   "metadata": {},
   "outputs": [
    {
     "data": {
      "text/latex": [
       "$\\displaystyle \\int\\limits_{- \\frac{\\pi}{4}}^{\\frac{\\pi}{4}} 2 \\pi a^{2} \\sqrt{\\frac{1}{\\cos{\\left(2 \\phi \\right)}}} \\sin{\\left(\\phi \\right)} \\sqrt{\\cos{\\left(2 \\phi \\right)}}\\, d\\phi$"
      ],
      "text/plain": [
       "Integral(2*pi*a**2*sqrt(1/cos(2*phi))*sin(phi)*sqrt(cos(2*phi)), (phi, -pi/4, pi/4))"
      ]
     },
     "metadata": {},
     "output_type": "display_data"
    },
    {
     "data": {
      "text/latex": [
       "$\\displaystyle \\int\\limits_{0}^{\\frac{\\pi}{4}} 2 \\pi a^{2} \\sin{\\left(\\phi \\right)}\\, d\\phi = - \\sqrt{2} \\pi a^{2} + 2 \\pi a^{2}$"
      ],
      "text/plain": [
       "Eq(Integral(2*pi*a**2*sin(phi), (phi, 0, pi/4)), -sqrt(2)*pi*a**2 + 2*pi*a**2)"
      ]
     },
     "metadata": {},
     "output_type": "display_data"
    },
    {
     "data": {
      "image/png": "[encoded data removed]",
      "text/plain": [
       "<Figure size 432x288 with 1 Axes>"
      ]
     },
     "metadata": {
      "needs_background": "light"
     },
     "output_type": "display_data"
    }
   ],
   "source": [
    "phi = Symbol('phi')\n",
    "a = Symbol('a', positive=True)\n",
    "\n",
    "Phi = np.linspace(-np.pi/4, np.pi/4, 256)\n",
    "R = (np.cos(Phi*2))**0.5\n",
    "plt.polar(Phi, R, color='green')\n",
    "\n",
    "r = a*(Cos(2*phi))**S.Half\n",
    "S_p = Integral((2*Pi*r*Sin(phi)*(r**2 + r.diff(phi)**2)**S.Half).simplify(), (phi, -Pi/4, Pi/4))\n",
    "display(S_p)\n",
    "\n",
    "S_p = Integral(2*Pi*a**2*Sin(phi), (phi, 0, Pi/4))\n",
    "\n",
    "display(sympy.Eq(S_p,S_p.doit()))"
   ]
  },
  {
   "cell_type": "markdown",
   "metadata": {},
   "source": [
    "### Индивидуальное задание \n",
    "Найти площадь поверхности, образованной вращением $y = f(x)$ около оси OX."
   ]
  },
  {
   "cell_type": "code",
   "execution_count": 5,
   "metadata": {},
   "outputs": [
    {
     "data": {
      "image/png": "[encoded data removed]",
      "text/plain": [
       "<Figure size 432x288 with 1 Axes>"
      ]
     },
     "metadata": {
      "needs_background": "light"
     },
     "output_type": "display_data"
    },
    {
     "data": {
      "text/latex": [
       "$\\displaystyle e^{- \\frac{x}{2}}$"
      ],
      "text/plain": [
       "exp(-x/2)"
      ]
     },
     "metadata": {},
     "output_type": "display_data"
    },
    {
     "data": {
      "text/latex": [
       "$\\displaystyle \\int\\limits_{0}^{\\pi} \\frac{\\sqrt{4 e^{x} + 1} e^{- x}}{2}\\, dx$"
      ],
      "text/plain": [
       "Integral(sqrt(4*exp(x) + 1)*exp(-x)/2, (x, 0, pi))"
      ]
     },
     "metadata": {},
     "output_type": "display_data"
    },
    {
     "data": {
      "text/latex": [
       "$\\displaystyle 2 \\pi \\left(- \\frac{\\sqrt{5}}{2} - 2 \\operatorname{asinh}{\\left(\\frac{1}{2} \\right)} + 2 \\operatorname{asinh}{\\left(\\frac{1}{2 e^{\\frac{\\pi}{2}}} \\right)} + \\frac{\\sqrt{e^{- \\pi} + 4}}{2 e^{\\frac{\\pi}{2}}} + \\frac{- \\frac{\\sqrt{e^{- \\pi} + 4}}{2 e^{\\frac{\\pi}{2}}} - 2 \\operatorname{asinh}{\\left(\\frac{1}{2 e^{\\frac{\\pi}{2}}} \\right)} + 2 \\operatorname{asinh}{\\left(\\frac{1}{2} \\right)} + \\frac{\\sqrt{5}}{2}}{e^{\\frac{\\pi}{4}}}\\right)$"
      ],
      "text/plain": [
       "2*pi*(-sqrt(5)/2 - 2*asinh(1/2) + 2*asinh(exp(-pi/2)/2) + sqrt(exp(-pi) + 4)*exp(-pi/2)/2 + (-sqrt(exp(-pi) + 4)*exp(-pi/2)/2 - 2*asinh(exp(-pi/2)/2) + 2*asinh(1/2) + sqrt(5)/2)*exp(-pi/4))"
      ]
     },
     "metadata": {},
     "output_type": "display_data"
    }
   ],
   "source": [
    "x = Symbol('x', positive=True)\n",
    "y = Symbol('y')\n",
    "t = Symbol('t')\n",
    "\n",
    "Eq1 = sympy.Eq(y, sympy.E**(-x/2))\n",
    "plot_implicit(Eq1, (x, 0, Pi/2), (y, -1, 1))\n",
    "\n",
    "y1 = solve(Eq1, y)[0]\n",
    "display(y1)\n",
    "S_OX1 = Integral((y1*(1 + y1.diff(x)**2)**S.Half).simplify(), (x, 0, Pi))\n",
    "res = S_OX1.transform(sympy.E**(-x), t)\n",
    "\n",
    "display(S_OX1, 2*Pi*res.integrate((t, 1, sympy.E**(-Pi/4))))"
   ]
  },
  {
   "cell_type": "code",
   "execution_count": null,
   "metadata": {},
   "outputs": [],
   "source": []
  }
 ],
 "metadata": {
  "kernelspec": {
   "display_name": "Python 3",
   "language": "python",
   "name": "python3"
  },
  "language_info": {
   "codemirror_mode": {
    "name": "ipython",
    "version": 3
   },
   "file_extension": ".py",
   "mimetype": "text/x-python",
   "name": "python",
   "nbconvert_exporter": "python",
   "pygments_lexer": "ipython3",
   "version": "3.8.5"
  }
 },
 "nbformat": 4,
 "nbformat_minor": 2
}
