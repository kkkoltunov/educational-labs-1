{
 "cells": [
  {
   "cell_type": "markdown",
   "metadata": {},
   "source": [
    "## Занятие 6\n",
    "## Математический анализ\n",
    "## Дифференцирование"
   ]
  },
  {
   "cell_type": "code",
   "execution_count": 24,
   "metadata": {},
   "outputs": [],
   "source": [
    "import numpy as np\n",
    "import matplotlib.pyplot as plt\n",
    "import sympy\n",
    "from sympy import diff, solve, nsolve, solveset, latex, S, simplify, fraction\n",
    "from sympy import sin as Sin\n",
    "from sympy.calculus.util import continuous_domain\n",
    "import sympy\n",
    "import numpy as np\n",
    "%matplotlib inline"
   ]
  },
  {
   "cell_type": "markdown",
   "metadata": {},
   "source": [
    "## Лабораторная работа 6\n",
    "## Математический анализ\n",
    "## Задание 1\n",
    "Исследовать функцию с помощью производной, найти необходимые пределы и решить уравнения.\n",
    "\n",
    "Построить график функции и асимптот, отметить и подписать точки экстремума и точки перегиба,\n",
    "включить функцию и асимптоты в легенду. \n",
    "$$\n",
    "y = x^2e^{-x}\n",
    "$$"
   ]
  },
  {
   "cell_type": "code",
   "execution_count": 25,
   "metadata": {},
   "outputs": [
    {
     "data": {
      "text/plain": [
       "'Область определения:'"
      ]
     },
     "metadata": {},
     "output_type": "display_data"
    },
    {
     "data": {
      "text/latex": [
       "$\\displaystyle \\mathbb{R}$"
      ],
      "text/plain": [
       "Reals"
      ]
     },
     "metadata": {},
     "output_type": "display_data"
    },
    {
     "data": {
      "text/plain": [
       "'Честность:'"
      ]
     },
     "metadata": {},
     "output_type": "display_data"
    },
    {
     "name": "stdout",
     "output_type": "stream",
     "text": [
      "Функция общего вида.\n"
     ]
    },
    {
     "data": {
      "text/plain": [
       "'Периодичность'"
      ]
     },
     "metadata": {},
     "output_type": "display_data"
    },
    {
     "name": "stdout",
     "output_type": "stream",
     "text": [
      "Данная функция не периодическая.\n"
     ]
    },
    {
     "data": {
      "text/plain": [
       "'Точки пересечения с осями координат:'"
      ]
     },
     "metadata": {},
     "output_type": "display_data"
    },
    {
     "data": {
      "text/plain": [
       "[0]"
      ]
     },
     "metadata": {},
     "output_type": "display_data"
    },
    {
     "name": "stdout",
     "output_type": "stream",
     "text": [
      "Предел для асимптоты: 0 0\n"
     ]
    },
    {
     "data": {
      "text/plain": [
       "'Точки экстремума:'"
      ]
     },
     "metadata": {},
     "output_type": "display_data"
    },
    {
     "data": {
      "text/latex": [
       "$\\displaystyle 0$"
      ],
      "text/plain": [
       "0"
      ]
     },
     "metadata": {},
     "output_type": "display_data"
    },
    {
     "data": {
      "text/latex": [
       "$\\displaystyle 2$"
      ],
      "text/plain": [
       "2"
      ]
     },
     "metadata": {},
     "output_type": "display_data"
    },
    {
     "data": {
      "text/plain": [
       "'Точки перегиба:'"
      ]
     },
     "metadata": {},
     "output_type": "display_data"
    },
    {
     "data": {
      "text/latex": [
       "$\\displaystyle 2 - \\sqrt{2}$"
      ],
      "text/plain": [
       "2 - sqrt(2)"
      ]
     },
     "metadata": {},
     "output_type": "display_data"
    },
    {
     "data": {
      "text/latex": [
       "$\\displaystyle \\sqrt{2} + 2$"
      ],
      "text/plain": [
       "sqrt(2) + 2"
      ]
     },
     "metadata": {},
     "output_type": "display_data"
    },
    {
     "data": {
      "text/plain": [
       "<matplotlib.legend.Legend at 0x23f3e6daee0>"
      ]
     },
     "execution_count": 25,
     "metadata": {},
     "output_type": "execute_result"
    },
    {
     "data": {
      "image/png": "[encoded data removed]",
      "text/plain": [
       "<Figure size 432x288 with 1 Axes>"
      ]
     },
     "metadata": {
      "needs_background": "light"
     },
     "output_type": "display_data"
    }
   ],
   "source": [
    "# Функиця.\n",
    "from sympy.abc import x\n",
    "def f(x, lib=\"sympy\"):\n",
    "    if (lib == \"sympy\"):\n",
    "        return x**2 * sympy.exp(-x)\n",
    "    else:\n",
    "        return x**2 * np.exp(-x)\n",
    "\n",
    "# Область определения.    \n",
    "display('Область определения:', continuous_domain(f(x), x, S.Reals))\n",
    "\n",
    "# Четность.\n",
    "display('Честность:')\n",
    "if f(-x) == f(x):\n",
    "    print('Четная функция.')\n",
    "elif f(-x) == -f(x):\n",
    "    print('Нечетная функция.')\n",
    "else:\n",
    "    print('Функция общего вида.')\n",
    "\n",
    "# Периодичность.\n",
    "display('Периодичность')\n",
    "print('Данная функция не периодическая.')\n",
    "\n",
    "# Точки пересечения с осями координат.\n",
    "roots = list(solveset(f(x), domain=S.Reals))\n",
    "roots.sort()\n",
    "display('Точки пересечения с осями координат:', roots)\n",
    "\n",
    "# Точки на графике.  \n",
    "annotations1 = [r'$Min$', r'$Max$'] \n",
    "annotations2 = [r'$A$', r'$B$']\n",
    "\n",
    "# График f(x).   \n",
    "X = np.linspace(-2, 10, 100)\n",
    "ax = plt.gca()\n",
    "ax.plot(X, f(X, \"np\"), label=r'$f(x)=' + sympy.latex(f(x)) + r'$')\n",
    "ax.set_ylim(-1, 1)\n",
    "ax.spines['right'].set_color('none')\n",
    "ax.spines['top'].set_color('none')\n",
    "ax.spines['bottom'].set_position(('data', 0))\n",
    "ax.spines['left'].set_position(('data', 0))\n",
    "\n",
    "# Асимптота.\n",
    "print('Предел для асимптоты:', f(x).limit(x, 0, dir='-'), f(x).limit(x, 0))\n",
    "v_as = 0\n",
    "ax.plot([-1, 10], [0, 0], color='red', linestyle='--', label=r'horizont. aympt. $x=' + latex(v_as) + r'$')\n",
    "\n",
    "# Первая производная.    \n",
    "df = f(x).diff(x, 1)\n",
    "\n",
    "# Точки экстремума.\n",
    "df_roots = solve(df, x)\n",
    "display('Точки экстремума:', *df_roots)\n",
    "#points = [df_roots[0]-1]\n",
    "#points.extend([(df_roots[i] + df_roots[i + 1])/2 for i in range(len(df_roots)-1)])\n",
    "#points.append(df_roots[-1] + 1)\n",
    "#inflection_arr = [item for i, item in enumerate(df_roots) if df.subs(x, points[i])*df.subs(x, points[i + 1]) < 0]\n",
    "#display('Коориданты по x:', inflection_arr)\n",
    "#display('Коориданты по y:', points)\n",
    "\n",
    "for i, x0 in enumerate(df_roots):\n",
    "    f0 = f(x0)\n",
    "    ax.scatter([x0],[f0], 70, color='red')\n",
    "    XYtext=(-120,-10)\n",
    "    ax.annotate(r'$\\left('+latex(x0)+',\\,'+latex(f0)+r'\\right)$', xy=(x0, f0), xycoords='data',\n",
    "        xytext=XYtext, textcoords='offset points', fontsize=10,\n",
    "        arrowprops=dict(arrowstyle=\"->\", connectionstyle=\"arc3,rad=.2\"))\n",
    "    ax.annotate(annotations1[i], xy=(x0, f0), xycoords='data',\n",
    "         xytext=(-5, 10), textcoords='offset points', fontsize=16)\n",
    "\n",
    "# Вторая производная.\n",
    "df2 = f(x).diff(x, 2)\n",
    "\n",
    "# Точки перегиба.\n",
    "df2_roots = solve(df2, x)\n",
    "display('Точки перегиба:', *df2_roots)\n",
    "#points2 = [df2_roots[0]-1]\n",
    "#points2.extend([(df2_roots[i] + df2_roots[i + 1])/2 for i in range(len(df2_roots)-1)])\n",
    "#points2.append(df2_roots[-1] + 1)\n",
    "#inflection_arr2 = [item for i, item in enumerate(df2_roots) if df2.subs(x, points2[i])*df2.subs(x, points2[i + 1]) < 0]\n",
    "#display('Коориданты по x:', inflection_arr2)\n",
    "#display('Коориданты по y:', points2)\n",
    "\n",
    "for i, x0 in enumerate(df2_roots):\n",
    "    f0 = f(x0)\n",
    "    ax.scatter([x0],[f0], 50, color='green')\n",
    "    XYtext=(20,-10)\n",
    "    ax.annotate(r'$\\left('+latex(x0)+',\\,'+latex(f0)+r'\\right)$', xy=(x0, f0), xycoords='data',\n",
    "        xytext=XYtext, textcoords='offset points', fontsize=10,\n",
    "        arrowprops=dict(arrowstyle=\"->\", connectionstyle=\"arc3,rad=.2\"))\n",
    "    ax.annotate(annotations2[i], xy=(x0, f0), xycoords='data',\n",
    "        xytext=(-5, 10), textcoords='offset points', fontsize=16)\n",
    "    \n",
    "ax.legend(loc='lower right')"
   ]
  },
  {
   "cell_type": "markdown",
   "metadata": {},
   "source": [
    "## Задание 2\n",
    "Исследовать функцию с помощью производной, найти необходимые пределы и решить уравнения.\n",
    "\n",
    "Построить график функции и асимптот, отметить и подписать точки экстремума и точки перегиба,\n",
    "включить функцию и асимптоты в легенду. \n",
    "$$\n",
    "y=xe^{2/x} + 1 \n",
    "$$"
   ]
  },
  {
   "cell_type": "code",
   "execution_count": 31,
   "metadata": {},
   "outputs": [
    {
     "data": {
      "text/plain": [
       "'Область определения:'"
      ]
     },
     "metadata": {},
     "output_type": "display_data"
    },
    {
     "data": {
      "text/latex": [
       "$\\displaystyle \\left(-\\infty, 0\\right) \\cup \\left(0, \\infty\\right)$"
      ],
      "text/plain": [
       "Union(Interval.open(-oo, 0), Interval.open(0, oo))"
      ]
     },
     "metadata": {},
     "output_type": "display_data"
    },
    {
     "data": {
      "text/plain": [
       "'Честность:'"
      ]
     },
     "metadata": {},
     "output_type": "display_data"
    },
    {
     "name": "stdout",
     "output_type": "stream",
     "text": [
      "Функция общего вида.\n"
     ]
    },
    {
     "data": {
      "text/plain": [
       "'Периодичность'"
      ]
     },
     "metadata": {},
     "output_type": "display_data"
    },
    {
     "name": "stdout",
     "output_type": "stream",
     "text": [
      "Данная функция не периодическая.\n"
     ]
    },
    {
     "data": {
      "text/plain": [
       "'Предел для асимптоты:'"
      ]
     },
     "metadata": {},
     "output_type": "display_data"
    },
    {
     "data": {
      "text/latex": [
       "$\\displaystyle 1$"
      ],
      "text/plain": [
       "1"
      ]
     },
     "metadata": {},
     "output_type": "display_data"
    },
    {
     "data": {
      "text/latex": [
       "$\\displaystyle \\infty$"
      ],
      "text/plain": [
       "oo"
      ]
     },
     "metadata": {},
     "output_type": "display_data"
    },
    {
     "data": {
      "text/plain": [
       "'Наклонная асимптота'"
      ]
     },
     "metadata": {},
     "output_type": "display_data"
    },
    {
     "data": {
      "text/latex": [
       "$\\displaystyle x + 3$"
      ],
      "text/plain": [
       "x + 3"
      ]
     },
     "metadata": {},
     "output_type": "display_data"
    },
    {
     "data": {
      "text/plain": [
       "'Точки экстремума:'"
      ]
     },
     "metadata": {},
     "output_type": "display_data"
    },
    {
     "data": {
      "text/latex": [
       "$\\displaystyle 2$"
      ],
      "text/plain": [
       "2"
      ]
     },
     "metadata": {},
     "output_type": "display_data"
    },
    {
     "data": {
      "text/plain": [
       "<matplotlib.legend.Legend at 0x23f3e821880>"
      ]
     },
     "execution_count": 31,
     "metadata": {},
     "output_type": "execute_result"
    },
    {
     "data": {
      "image/png": "[encoded data removed]",
      "text/plain": [
       "<Figure size 432x288 with 1 Axes>"
      ]
     },
     "metadata": {
      "needs_background": "light"
     },
     "output_type": "display_data"
    }
   ],
   "source": [
    "# Функиця.\n",
    "from sympy.abc import x\n",
    "def g(x, lib=\"sympy\"):\n",
    "    if (lib == \"sympy\"):\n",
    "        return x*sympy.exp(2/x) + 1\n",
    "    else:\n",
    "        return x*np.exp(2/x) + 1\n",
    "\n",
    "# Область определения.    \n",
    "display('Область определения:', continuous_domain(g(x), x, S.Reals))\n",
    "\n",
    "# Четность.\n",
    "display('Честность:')\n",
    "if g(-x) == g(x):\n",
    "    print('Четная функция.')\n",
    "elif g(-x) == -g(x):\n",
    "    print('Нечетная функция.')\n",
    "else:\n",
    "    print('Функция общего вида.')\n",
    "\n",
    "# Периодичность.\n",
    "display('Периодичность')\n",
    "print('Данная функция не периодическая.')\n",
    "\n",
    "# Точки пересечения с осями координат.\n",
    "#roots = list(solveset(g(x), domain=S.Reals))\n",
    "#roots.sort()\n",
    "#display('Точки пересечения с осями координат:', roots)\n",
    "\n",
    "# Точки на графике.  \n",
    "annotations1 = [r'$Min$', r'$Max$'] \n",
    "annotations2 = [r'$A$', r'$B$']\n",
    "\n",
    "# График f(x).   \n",
    "X1 = np.linspace(-10, -0.01, 100)\n",
    "X2 = np.linspace(0.01, 10, 100)\n",
    "ax = plt.gca()\n",
    "ax.plot(X1, g(X1, \"np\"), label=r'$f(x)=' + sympy.latex(g(x)) + r'$', color='blue')\n",
    "ax.plot(X2, g(X2, \"np\"), color='blue')\n",
    "ax.set_ylim(-8, 15)\n",
    "ax.spines['right'].set_color('none')\n",
    "ax.spines['top'].set_color('none')\n",
    "ax.spines['bottom'].set_position(('data', 0))\n",
    "ax.spines['left'].set_position(('data', 0))\n",
    "\n",
    "# Асимптота.\n",
    "v_as = 0\n",
    "display('Предел для асимптоты:', g(x).limit(x, 0, dir='-'), g(x).limit(x, 0))\n",
    "ax.plot([0, 0], [-8, 15], color='yellow', linestyle='--', label=r'vertikal. aympt. $x=' + latex(v_as) + r'$')\n",
    "\n",
    "# Асимптота #2.\n",
    "kpos = sympy.limit(g(x)/x, x, +sympy.oo)\n",
    "kneg = sympy.limit(g(x)/x, x, -sympy.oo)\n",
    "if kpos == kneg:\n",
    "    k = kpos\n",
    "else:\n",
    "    k = (kneg, kpos)\n",
    "\n",
    "b = sympy.limit(g(x) - k*x, x, sympy.oo) # Вычислим предел (f(x) - k(x)).\n",
    "\n",
    "y_asymptote = k*x + b\n",
    "ax.plot([0, 0], [-8, 15], color='yellow', linestyle='--', label=r'vertikal. aympt. $x=' + latex(v_as) + r'$')\n",
    "display('Наклонная асимптота', y_asymptote)\n",
    "\n",
    "ax.plot([X1[0], X2[-1]], [y_asymptote.subs(x, X1[0]), y_asymptote.subs(x, X2[-1])], 'g--', \n",
    "         label=r'$asympt. y=' + sympy.latex(y_asymptote) + r'$')\n",
    "\n",
    "# Первая производная.    \n",
    "dg = g(x).diff(x, 1)\n",
    "\n",
    "# Точки экстремума.\n",
    "dg_roots = solve(dg, x)\n",
    "display('Точки экстремума:', *dg_roots)\n",
    "#points = [df_roots[0]-1]\n",
    "#points.extend([(df_roots[i] + df_roots[i + 1])/2 for i in range(len(df_roots)-1)])\n",
    "#points.append(df_roots[-1] + 1)\n",
    "#inflection_arr = [item for i, item in enumerate(df_roots) if df.subs(x, points[i])*df.subs(x, points[i + 1]) < 0]\n",
    "#display('Коориданты по x:', inflection_arr)\n",
    "#display('Коориданты по y:', points)\n",
    "\n",
    "for i, x0 in enumerate(dg_roots):\n",
    "    g0 = g(x0)\n",
    "    ax.scatter([x0],[g0], 70, color='red')\n",
    "    XYtext=(30, -30)\n",
    "    ax.annotate(r'$\\left('+latex(x0)+',\\,'+latex(g0)+r'\\right)$', xy=(x0, g0), xycoords='data',\n",
    "        xytext=XYtext, textcoords='offset points', fontsize=10,\n",
    "        arrowprops=dict(arrowstyle=\"->\", connectionstyle=\"arc3,rad=.2\"))\n",
    "    ax.annotate(annotations1[i], xy=(x0, g0), xycoords='data',\n",
    "         xytext=(-5, 10), textcoords='offset points', fontsize=16)\n",
    "\n",
    "# Вторая производная.\n",
    "dg2 = g(x).diff(x, 2)\n",
    "    \n",
    "ax.legend(loc='lower right')"
   ]
  },
  {
   "cell_type": "markdown",
   "metadata": {},
   "source": [
    "## Индивидуальное задание\n",
    "Исследовать функцию с помощью производной, найти необходимые пределы и решить уравнения.\n",
    "\n",
    "Построить график функции и асимптот (если есть), отметить и подписать точки экстремума и точки перегиба (если есть),\n",
    "включить функцию и асимптоты (если есть) в легенду. \n",
    "\n",
    "$f(x) = \\left(3 x + 1\\right) e^{\\frac{5}{x}} + 7$"
   ]
  },
  {
   "cell_type": "code",
   "execution_count": 43,
   "metadata": {},
   "outputs": [
    {
     "data": {
      "text/plain": [
       "'Область определения:'"
      ]
     },
     "metadata": {},
     "output_type": "display_data"
    },
    {
     "data": {
      "text/latex": [
       "$\\displaystyle \\left(-\\infty, 0\\right) \\cup \\left(0, \\infty\\right)$"
      ],
      "text/plain": [
       "Union(Interval.open(-oo, 0), Interval.open(0, oo))"
      ]
     },
     "metadata": {},
     "output_type": "display_data"
    },
    {
     "data": {
      "text/plain": [
       "'Честность:'"
      ]
     },
     "metadata": {},
     "output_type": "display_data"
    },
    {
     "name": "stdout",
     "output_type": "stream",
     "text": [
      "Функция общего вида.\n"
     ]
    },
    {
     "data": {
      "text/plain": [
       "'Периодичность:'"
      ]
     },
     "metadata": {},
     "output_type": "display_data"
    },
    {
     "name": "stdout",
     "output_type": "stream",
     "text": [
      "Данная функция не периодическая.\n"
     ]
    },
    {
     "data": {
      "text/plain": [
       "'Предел для асимптоты:'"
      ]
     },
     "metadata": {},
     "output_type": "display_data"
    },
    {
     "data": {
      "text/latex": [
       "$\\displaystyle 7$"
      ],
      "text/plain": [
       "7"
      ]
     },
     "metadata": {},
     "output_type": "display_data"
    },
    {
     "data": {
      "text/latex": [
       "$\\displaystyle \\infty$"
      ],
      "text/plain": [
       "oo"
      ]
     },
     "metadata": {},
     "output_type": "display_data"
    },
    {
     "data": {
      "text/plain": [
       "'Точки экстремума:'"
      ]
     },
     "metadata": {},
     "output_type": "display_data"
    },
    {
     "data": {
      "text/latex": [
       "$\\displaystyle \\frac{5}{2} - \\frac{\\sqrt{285}}{6}$"
      ],
      "text/plain": [
       "5/2 - sqrt(285)/6"
      ]
     },
     "metadata": {},
     "output_type": "display_data"
    },
    {
     "data": {
      "text/latex": [
       "$\\displaystyle \\frac{5}{2} + \\frac{\\sqrt{285}}{6}$"
      ],
      "text/plain": [
       "5/2 + sqrt(285)/6"
      ]
     },
     "metadata": {},
     "output_type": "display_data"
    },
    {
     "data": {
      "text/plain": [
       "<matplotlib.legend.Legend at 0x23f3ecc0250>"
      ]
     },
     "execution_count": 43,
     "metadata": {},
     "output_type": "execute_result"
    },
    {
     "data": {
      "image/png": "[encoded data removed]",
      "text/plain": [
       "<Figure size 432x288 with 1 Axes>"
      ]
     },
     "metadata": {
      "needs_background": "light"
     },
     "output_type": "display_data"
    }
   ],
   "source": [
    "# Функиця.\n",
    "from sympy.abc import x\n",
    "def l(x, lib=\"sympy\"):\n",
    "    if (lib == \"sympy\"):\n",
    "        return (3*x + 1) * sympy.exp(5/x) + 7\n",
    "    else:\n",
    "        return (3*x + 1) * np.exp(5/x) + 7\n",
    "\n",
    "# Область определения.    \n",
    "display('Область определения:', continuous_domain(l(x), x, S.Reals))\n",
    "\n",
    "# Четность.\n",
    "display('Честность:')\n",
    "if l(-x) == l(x):\n",
    "    print('Четная функция.')\n",
    "elif l(-x) == -l(x):\n",
    "    print('Нечетная функция.')\n",
    "else:\n",
    "    print('Функция общего вида.')\n",
    "\n",
    "# Периодичность.\n",
    "display('Периодичность:')\n",
    "print('Данная функция не периодическая.')\n",
    "\n",
    "# Точки пересечения с осями координат.\n",
    "#roots = list(solveset(l(x), domain=S.Reals))\n",
    "#roots.sort()\n",
    "#display('Точки пересечения с осями координат:', roots)\n",
    "\n",
    "# Точки на графике.  \n",
    "annotations1 = [r'$Max$', r'$Min$'] \n",
    "\n",
    "# График f(x).   \n",
    "X1 = np.linspace(-100, -0.01, 100)\n",
    "X2 = np.linspace(0.01, 100, 100)\n",
    "ax = plt.gca()\n",
    "ax.plot(X1, l(X1, \"np\"), label=r'$l(x)=' + sympy.latex(l(x)) + r'$', color='blue')\n",
    "ax.plot(X2, l(X2, \"np\"), color='blue')\n",
    "ax.set_ylim(-80, 80)\n",
    "ax.spines['right'].set_color('none')\n",
    "ax.spines['top'].set_color('none')\n",
    "ax.spines['bottom'].set_position(('data', 0))\n",
    "ax.spines['left'].set_position(('data', 0))\n",
    "\n",
    "# Асимптота.\n",
    "v_as = 0\n",
    "display('Предел для асимптоты:', l(x).limit(x, 0, dir='-'), l(x).limit(x, 0))\n",
    "ax.plot([0, 0], [-100, 100], color='green', linestyle='--', label=r'vertikal. aympt. $x=' + latex(v_as) + r'$')\n",
    "\n",
    "# Асимптота #2.\n",
    "kpos = sympy.limit(l(x)/x, x, +sympy.oo)\n",
    "kneg = sympy.limit(l(x)/x, x, -sympy.oo)\n",
    "if kpos == kneg:\n",
    "    k = kpos\n",
    "else:\n",
    "    k = (kneg, kpos)\n",
    "\n",
    "b = sympy.limit(l(x) - k*x, x, sympy.oo) # Вычислим предел (f(x) - k(x)).\n",
    "\n",
    "y_asymptote = k*x + b\n",
    "ax.plot([X1[0], X2[-1]], [y_asymptote.subs(x, X1[0]), y_asymptote.subs(x, X2[-1])], 'g--', \n",
    "         label=r'$asympt. y=' + sympy.latex(y_asymptote) + r'$', color='orange')\n",
    "\n",
    "# Первая производная.    \n",
    "dl = l(x).diff(x, 1)\n",
    "\n",
    "# Точки экстремума.\n",
    "dl_roots = solve(dl, x)\n",
    "display('Точки экстремума:', *dl_roots)\n",
    "#points = [df_roots[0]-1]\n",
    "#points.extend([(df_roots[i] + df_roots[i + 1])/2 for i in range(len(df_roots)-1)])\n",
    "#points.append(df_roots[-1] + 1)\n",
    "#inflection_arr = [item for i, item in enumerate(df_roots) if df.subs(x, points[i])*df.subs(x, points[i + 1]) < 0]\n",
    "#display('Коориданты по x:', inflection_arr)\n",
    "#display('Коориданты по y:', points)\n",
    "\n",
    "for i, x0 in enumerate(dl_roots):\n",
    "    l0 = l(x0)\n",
    "    ax.scatter([x0],[l0], 35, color='red')\n",
    "    XYtext=(30, -30)\n",
    "    ax.annotate(r'$\\left('+latex(x0)+',\\,'+latex(l0)+r'\\right)$', xy=(x0, l0), xycoords='data',\n",
    "        xytext=XYtext, textcoords='offset points', fontsize=10,\n",
    "        arrowprops=dict(arrowstyle=\"->\", connectionstyle=\"arc3,rad=.2\"))\n",
    "    ax.annotate(annotations1[i], xy=(x0, l0), xycoords='data',\n",
    "         xytext=(12, 10), textcoords='offset points', fontsize=16)\n",
    "\n",
    "# Вторая производная.\n",
    "dl2 = l(x).diff(x, 2)\n",
    "    \n",
    "ax.legend(loc='lower right')"
   ]
  }
 ],
 "metadata": {
  "kernelspec": {
   "display_name": "Python 3",
   "language": "python",
   "name": "python3"
  },
  "language_info": {
   "codemirror_mode": {
    "name": "ipython",
    "version": 3
   },
   "file_extension": ".py",
   "mimetype": "text/x-python",
   "name": "python",
   "nbconvert_exporter": "python",
   "pygments_lexer": "ipython3",
   "version": "3.8.5"
  }
 },
 "nbformat": 4,
 "nbformat_minor": 2
}
