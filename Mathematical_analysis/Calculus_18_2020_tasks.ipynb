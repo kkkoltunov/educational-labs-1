{
 "cells": [
  {
   "cell_type": "code",
   "execution_count": 2,
   "metadata": {
    "id": "7-os1v-dPTk0"
   },
   "outputs": [],
   "source": [
    "import numpy as np\n",
    "import sympy\n",
    "from sympy import S, symbols, Function, dsolve, solveset, linsolve, integrate, diff, plot, sqrt, Eq\n",
    "from sympy import sin as Sin\n",
    "from sympy import cos as Cos\n",
    "from sympy import exp as Exp\n",
    "from sympy import log as Log\n",
    "from sympy import pi as Pi\n",
    "import matplotlib.pyplot as plt"
   ]
  },
  {
   "cell_type": "markdown",
   "metadata": {
    "id": "toxFWkJwPTk3"
   },
   "source": [
    "## Занятие 18\n",
    "## Математический анализ\n",
    "## Линейные ОДУ второго порядка с постоянными коэффициентами\n",
    "### Задача 1\n",
    "Решить ОДУ $3y''+5y'-2y=0$ по формуле из файла с примерами и с помощью dsolve."
   ]
  },
  {
   "cell_type": "code",
   "execution_count": 4,
   "metadata": {
    "colab": {
     "base_uri": "https://localhost:8080/",
     "height": 153
    },
    "id": "SeGA2V19PTk4",
    "outputId": "4437a84c-0c85-45ea-c55c-46cb86cfd36e"
   },
   "outputs": [
    {
     "data": {
      "text/plain": [
       "[-2, 1/3]"
      ]
     },
     "metadata": {},
     "output_type": "display_data"
    },
    {
     "data": {
      "text/latex": [
       "$\\displaystyle C_{1} e^{- 2 x} + C_{2} e^{\\frac{x}{3}}$"
      ],
      "text/plain": [
       "C_1*exp(-2*x) + C_2*exp(x/3)"
      ]
     },
     "metadata": {},
     "output_type": "display_data"
    },
    {
     "data": {
      "text/latex": [
       "$\\displaystyle - 2 C_{1} e^{- 2 x} + \\frac{C_{2} e^{\\frac{x}{3}}}{3}$"
      ],
      "text/plain": [
       "-2*C_1*exp(-2*x) + C_2*exp(x/3)/3"
      ]
     },
     "metadata": {},
     "output_type": "display_data"
    },
    {
     "data": {
      "text/latex": [
       "$\\displaystyle 4 C_{1} e^{- 2 x} + \\frac{C_{2} e^{\\frac{x}{3}}}{9}$"
      ],
      "text/plain": [
       "4*C_1*exp(-2*x) + C_2*exp(x/3)/9"
      ]
     },
     "metadata": {},
     "output_type": "display_data"
    },
    {
     "data": {
      "text/latex": [
       "$\\displaystyle y{\\left(x \\right)} = C_{1} e^{- 2 x} + C_{2} e^{\\frac{x}{3}}$"
      ],
      "text/plain": [
       "Eq(y(x), C1*exp(-2*x) + C2*exp(x/3))"
      ]
     },
     "execution_count": 4,
     "metadata": {},
     "output_type": "execute_result"
    }
   ],
   "source": [
    "x, y, k, C1, C2 = symbols('x y k C_1 C_2')\n",
    "roots = solveset(3*k**2 + 5*k - 2)\n",
    "roots = list(roots)\n",
    "y = C1*Exp(roots[0]*x) + C2*(Exp(roots[1]*x))\n",
    "display(roots, y, diff(y, x), diff(y, x, 2))\n",
    "\n",
    "y = Function('y')\n",
    "dsolve(3*y(x).diff(x, 2) + 5*y(x).diff(x) - 2*y(x), y(x))\n"
   ]
  },
  {
   "cell_type": "markdown",
   "metadata": {
    "id": "bujIHA5HPTk4"
   },
   "source": [
    "### Задача 2.\n",
    "Решить задачу Коши:\n",
    "$$\n",
    "\\left\\{\n",
    "\\begin{matrix}\n",
    "9y''+3y'+y=0\\\\\n",
    "y(0)=0\\\\\n",
    "y'(0)=2\\sqrt3\n",
    "\\end{matrix}\n",
    "\\right.\n",
    "$$\n",
    "##### Указание.\n",
    "Решить с помощью dsolve, затем составить словарь символов решения, ключи - 'x', 'C1', 'C2', а значения - соответствующие элементы из множества  ХХХ.rhs.free_symbols, решить систему линейных относительно С1 и С2 уравнений, описывающих начальные условия."
   ]
  },
  {
   "cell_type": "code",
   "execution_count": 5,
   "metadata": {
    "colab": {
     "base_uri": "https://localhost:8080/",
     "height": 189
    },
    "id": "9hQx2f0hPTk5",
    "outputId": "e1a05e89-2a66-494d-b472-458efee9795c"
   },
   "outputs": [
    {
     "data": {
      "text/latex": [
       "$\\displaystyle y{\\left(x \\right)} = \\left(C_{1} \\sin{\\left(\\frac{\\sqrt{3} x}{6} \\right)} + C_{2} \\cos{\\left(\\frac{\\sqrt{3} x}{6} \\right)}\\right) e^{- \\frac{x}{6}}$"
      ],
      "text/plain": [
       "Eq(y(x), (C1*sin(sqrt(3)*x/6) + C2*cos(sqrt(3)*x/6))*exp(-x/6))"
      ]
     },
     "metadata": {},
     "output_type": "display_data"
    },
    {
     "data": {
      "text/plain": [
       "{'C2': C2, 'C1': C1, 'x': x}"
      ]
     },
     "metadata": {},
     "output_type": "display_data"
    },
    {
     "data": {
      "text/latex": [
       "$\\displaystyle C_{2} = 0$"
      ],
      "text/plain": [
       "Eq(C2, 0)"
      ]
     },
     "metadata": {},
     "output_type": "display_data"
    },
    {
     "data": {
      "text/latex": [
       "$\\displaystyle \\frac{\\sqrt{3} C_{1}}{6} - \\frac{C_{2}}{6} = 2 \\sqrt{3}$"
      ],
      "text/plain": [
       "Eq(sqrt(3)*C1/6 - C2/6, 2*sqrt(3))"
      ]
     },
     "metadata": {},
     "output_type": "display_data"
    },
    {
     "data": {
      "text/latex": [
       "$\\displaystyle C_{1} = 12$"
      ],
      "text/plain": [
       "Eq(C_1, 12)"
      ]
     },
     "metadata": {},
     "output_type": "display_data"
    },
    {
     "data": {
      "text/latex": [
       "$\\displaystyle C_{2} = 0$"
      ],
      "text/plain": [
       "Eq(C_2, 0)"
      ]
     },
     "metadata": {},
     "output_type": "display_data"
    }
   ],
   "source": [
    "y = Function('y')\n",
    "y_x = dsolve(9*y(x).diff(x, 2) + 3*y(x).diff(x) + y(x), y(x))\n",
    "\n",
    "symb_dict={str(item): item for item in y_x.rhs.free_symbols}\n",
    "display(y_x, symb_dict)\n",
    "\n",
    "y0 = 0\n",
    "dy0 = 2*sqrt(3)\n",
    "system = [sympy.Eq(y_x.rhs.subs(symb_dict['x'], 0), y0), sympy.Eq(y_x.rhs.diff(x).subs(symb_dict['x'], 0), dy0)]\n",
    "reses = linsolve(system, symb_dict['C1'], symb_dict['C2'])\n",
    "display(*system, Eq(C1, reses.args[0][0]), Eq(C2, reses.args[0][1]))"
   ]
  },
  {
   "cell_type": "markdown",
   "metadata": {
    "id": "iZsw6aQpPTk5"
   },
   "source": [
    "### Индивидуальное задание\n",
    "Решить с помощью dsolve:\n",
    "$$\n",
    "y''' + y'' + y' + y = (-7x^2 + 7x + 1)e^{-x}.\n",
    "$$\n",
    "\n",
    "Построить график $y(x)$ при начальных условиях $y(0) = 0$, $y'(0) = 0$, $y''(0) = 2$."
   ]
  },
  {
   "cell_type": "code",
   "execution_count": 7,
   "metadata": {
    "colab": {
     "base_uri": "https://localhost:8080/",
     "height": 615
    },
    "id": "2KilrmIrPTk5",
    "outputId": "764e6e61-2a70-40ff-a088-e6382984173b"
   },
   "outputs": [
    {
     "data": {
      "text/latex": [
       "$\\displaystyle y{\\left(x \\right)} = C_{2} \\sin{\\left(x \\right)} + C_{3} \\cos{\\left(x \\right)} + \\left(C_{1} - \\frac{7 x^{3}}{6} - \\frac{7 x^{2}}{4} + \\frac{x}{2}\\right) e^{- x}$"
      ],
      "text/plain": [
       "Eq(y(x), C2*sin(x) + C3*cos(x) + (C1 - 7*x**3/6 - 7*x**2/4 + x/2)*exp(-x))"
      ]
     },
     "metadata": {},
     "output_type": "display_data"
    },
    {
     "data": {
      "text/plain": [
       "{'C2': C2, 'C1': C1, 'x': x, 'C3': C3}"
      ]
     },
     "metadata": {},
     "output_type": "display_data"
    },
    {
     "data": {
      "text/latex": [
       "$\\displaystyle C_{1} + C_{3} = 1$"
      ],
      "text/plain": [
       "Eq(C1 + C3, 1)"
      ]
     },
     "metadata": {},
     "output_type": "display_data"
    },
    {
     "data": {
      "text/latex": [
       "$\\displaystyle - C_{1} + C_{2} + \\frac{1}{2} = -3$"
      ],
      "text/plain": [
       "Eq(-C1 + C2 + 1/2, -3)"
      ]
     },
     "metadata": {},
     "output_type": "display_data"
    },
    {
     "data": {
      "text/latex": [
       "$\\displaystyle - C_{1} - C_{2} + 5 = -3$"
      ],
      "text/plain": [
       "Eq(-C1 - C2 + 5, -3)"
      ]
     },
     "metadata": {},
     "output_type": "display_data"
    },
    {
     "data": {
      "text/latex": [
       "$\\displaystyle C_{1} = \\frac{23}{4}$"
      ],
      "text/plain": [
       "Eq(C_1, 23/4)"
      ]
     },
     "metadata": {},
     "output_type": "display_data"
    },
    {
     "data": {
      "text/latex": [
       "$\\displaystyle C_{2} = \\frac{9}{4}$"
      ],
      "text/plain": [
       "Eq(C_2, 9/4)"
      ]
     },
     "metadata": {},
     "output_type": "display_data"
    },
    {
     "data": {
      "text/latex": [
       "$\\displaystyle C_{2} = - \\frac{19}{4}$"
      ],
      "text/plain": [
       "Eq(C_2, -19/4)"
      ]
     },
     "metadata": {},
     "output_type": "display_data"
    },
    {
     "data": {
      "text/latex": [
       "$\\displaystyle y{\\left(x \\right)} = \\left(- \\frac{7 x^{3}}{6} - \\frac{7 x^{2}}{4} + \\frac{x}{2} + \\frac{23}{4}\\right) e^{- x} + \\frac{9 \\sin{\\left(x \\right)}}{4} - \\frac{19 \\cos{\\left(x \\right)}}{4}$"
      ],
      "text/plain": [
       "Eq(y(x), (-7*x**3/6 - 7*x**2/4 + x/2 + 23/4)*exp(-x) + 9*sin(x)/4 - 19*cos(x)/4)"
      ]
     },
     "metadata": {},
     "output_type": "display_data"
    },
    {
     "data": {
      "image/png": "[encoded data removed]",
      "text/plain": [
       "<Figure size 432x288 with 1 Axes>"
      ]
     },
     "metadata": {
      "needs_background": "light"
     },
     "output_type": "display_data"
    },
    {
     "data": {
      "text/plain": [
       "<sympy.plotting.plot.Plot at 0x1e879b5ffa0>"
      ]
     },
     "execution_count": 7,
     "metadata": {},
     "output_type": "execute_result"
    }
   ],
   "source": [
    "y = Function('y')\n",
    "y_x = dsolve(y(x).diff(x, 3) + y(x).diff(x, 2) + y(x).diff(x) + y(x) - (-7*x**2 + 7*x + 1)*Exp(-x), y(x))\n",
    "\n",
    "symb_dict={str(item): item for item in y_x.rhs.free_symbols}\n",
    "display(y_x, symb_dict)\n",
    "\n",
    "y0 = 1\n",
    "dy0 = -3\n",
    "d2y0 = -3\n",
    "system = [sympy.Eq(y_x.rhs.subs(symb_dict['x'], 0), y0), sympy.Eq(y_x.rhs.diff(x).subs(symb_dict['x'], 0), dy0), sympy.Eq(y_x.rhs.diff(x, 3).subs(symb_dict['x'], 0), d2y0)]\n",
    "reses = linsolve(system, symb_dict['C1'], symb_dict['C2'], symb_dict['C3'])\n",
    "display(*system, Eq(C1, reses.args[0][0]), Eq(C2, reses.args[0][1]), Eq(C2, reses.args[0][2]))\n",
    "\n",
    "y = y_x.subs({symb_dict['C1'] : reses.args[0][0], symb_dict['C2'] : reses.args[0][1], symb_dict['C3'] : reses.args[0][2]})\n",
    "display(y)\n",
    "\n",
    "plot(y.rhs, (x, -2, 12))"
   ]
  },
  {
   "cell_type": "code",
   "execution_count": null,
   "metadata": {},
   "outputs": [],
   "source": []
  }
 ],
 "metadata": {
  "colab": {
   "collapsed_sections": [],
   "name": "Хооллгм_Calculus_18_tasks.ipynb",
   "provenance": []
  },
  "kernelspec": {
   "display_name": "Python 3",
   "language": "python",
   "name": "python3"
  },
  "language_info": {
   "codemirror_mode": {
    "name": "ipython",
    "version": 3
   },
   "file_extension": ".py",
   "mimetype": "text/x-python",
   "name": "python",
   "nbconvert_exporter": "python",
   "pygments_lexer": "ipython3",
   "version": "3.8.5"
  }
 },
 "nbformat": 4,
 "nbformat_minor": 1
}
