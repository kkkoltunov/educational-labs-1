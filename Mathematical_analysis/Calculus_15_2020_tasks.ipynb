{
 "cells": [
  {
   "cell_type": "code",
   "execution_count": null,
   "metadata": {
    "id": "hfc-xiM-BT7G"
   },
   "outputs": [],
   "source": [
    "import sympy\n",
    "import math\n",
    "from sympy import S, Symbol, symbols, simplify, nonlinsolve, Matrix, diff, factor"
   ]
  },
  {
   "cell_type": "markdown",
   "metadata": {
    "id": "jfobkWZEBT7I"
   },
   "source": [
    "## Занятие 15\n",
    "## Математический анализ\n",
    "## Экстремум функции нескольких переменных \n",
    "### Задание 1\n",
    "Найти точки экстремума:\n",
    "\n",
    "1) $z = x^2 + xy + y^2 - 2x - y$\n",
    "\n",
    "2) $z = x^3y^2(6 - x - y)$, $(x, y > 0)$\n",
    "\n",
    "3) $z = \\frac{8}{x} + \\frac{x}{y} + y$\n",
    "\n",
    "4) $z = \\frac{1 + x - y}{\\sqrt{1 + x^2 + y^2}}$\n",
    "###### Указание.\n",
    "Вначале найти стационарные точки. Составить определитель из вторых производных в произвольной точке. Подставляя найденные (вещественные) стационарные точки, решить вопрос о наличии экстремума."
   ]
  },
  {
   "cell_type": "code",
   "execution_count": null,
   "metadata": {
    "colab": {
     "base_uri": "https://localhost:8080/",
     "height": 387
    },
    "id": "gilVImWXBT7J",
    "outputId": "bbc0c2c4-efbc-4dd7-d356-8c48b98ba06e"
   },
   "outputs": [
    {
     "data": {
      "application/vnd.google.colaboratory.intrinsic+json": {
       "type": "string"
      },
      "text/plain": [
       "'stat_points #1'"
      ]
     },
     "metadata": {
      "tags": []
     },
     "output_type": "display_data"
    },
    {
     "data": {
      "text/latex": [
       "$\\displaystyle \\left( 1, \\  0\\right)$"
      ],
      "text/plain": [
       "(1, 0)"
      ]
     },
     "metadata": {
      "tags": []
     },
     "output_type": "display_data"
    },
    {
     "data": {
      "application/vnd.google.colaboratory.intrinsic+json": {
       "type": "string"
      },
      "text/plain": [
       "'minimum'"
      ]
     },
     "metadata": {
      "tags": []
     },
     "output_type": "display_data"
    },
    {
     "data": {
      "text/latex": [
       "$\\displaystyle \\left( 1, \\  0\\right)$"
      ],
      "text/plain": [
       "(1, 0)"
      ]
     },
     "metadata": {
      "tags": []
     },
     "output_type": "display_data"
    },
    {
     "data": {
      "application/vnd.google.colaboratory.intrinsic+json": {
       "type": "string"
      },
      "text/plain": [
       "'stat_points #2'"
      ]
     },
     "metadata": {
      "tags": []
     },
     "output_type": "display_data"
    },
    {
     "data": {
      "text/latex": [
       "$\\displaystyle \\left( 0, \\  y\\right)$"
      ],
      "text/plain": [
       "(0, y)"
      ]
     },
     "metadata": {
      "tags": []
     },
     "output_type": "display_data"
    },
    {
     "data": {
      "text/latex": [
       "$\\displaystyle \\left( x, \\  0\\right)$"
      ],
      "text/plain": [
       "(x, 0)"
      ]
     },
     "metadata": {
      "tags": []
     },
     "output_type": "display_data"
    },
    {
     "data": {
      "application/vnd.google.colaboratory.intrinsic+json": {
       "type": "string"
      },
      "text/plain": [
       "'stat_points #3'"
      ]
     },
     "metadata": {
      "tags": []
     },
     "output_type": "display_data"
    },
    {
     "data": {
      "text/latex": [
       "$\\displaystyle \\left( 4, \\  2\\right)$"
      ],
      "text/plain": [
       "(4, 2)"
      ]
     },
     "metadata": {
      "tags": []
     },
     "output_type": "display_data"
    },
    {
     "data": {
      "text/latex": [
       "$\\displaystyle \\left( \\left(-1 + \\sqrt{3} i\\right)^{2}, \\  -1 + \\sqrt{3} i\\right)$"
      ],
      "text/plain": [
       "((-1 + sqrt(3)*I)**2, -1 + sqrt(3)*I)"
      ]
     },
     "metadata": {
      "tags": []
     },
     "output_type": "display_data"
    },
    {
     "data": {
      "text/latex": [
       "$\\displaystyle \\left( \\left(-1 - \\sqrt{3} i\\right)^{2}, \\  -1 - \\sqrt{3} i\\right)$"
      ],
      "text/plain": [
       "((-1 - sqrt(3)*I)**2, -1 - sqrt(3)*I)"
      ]
     },
     "metadata": {
      "tags": []
     },
     "output_type": "display_data"
    },
    {
     "data": {
      "application/vnd.google.colaboratory.intrinsic+json": {
       "type": "string"
      },
      "text/plain": [
       "'minimum'"
      ]
     },
     "metadata": {
      "tags": []
     },
     "output_type": "display_data"
    },
    {
     "data": {
      "text/latex": [
       "$\\displaystyle \\left( 4, \\  2\\right)$"
      ],
      "text/plain": [
       "(4, 2)"
      ]
     },
     "metadata": {
      "tags": []
     },
     "output_type": "display_data"
    },
    {
     "data": {
      "application/vnd.google.colaboratory.intrinsic+json": {
       "type": "string"
      },
      "text/plain": [
       "'stat_points #4'"
      ]
     },
     "metadata": {
      "tags": []
     },
     "output_type": "display_data"
    },
    {
     "data": {
      "text/latex": [
       "$\\displaystyle \\left( 1, \\  -1\\right)$"
      ],
      "text/plain": [
       "(1, -1)"
      ]
     },
     "metadata": {
      "tags": []
     },
     "output_type": "display_data"
    },
    {
     "data": {
      "application/vnd.google.colaboratory.intrinsic+json": {
       "type": "string"
      },
      "text/plain": [
       "'maximum'"
      ]
     },
     "metadata": {
      "tags": []
     },
     "output_type": "display_data"
    },
    {
     "data": {
      "text/latex": [
       "$\\displaystyle \\left( 1, \\  -1\\right)$"
      ],
      "text/plain": [
       "(1, -1)"
      ]
     },
     "metadata": {
      "tags": []
     },
     "output_type": "display_data"
    }
   ],
   "source": [
    "def Delta(u, x, y):\n",
    "  return Matrix([[u.diff(x, 2), u.diff(x, y)], [u.diff(y, x), u.diff(y, 2)]]).det()\n",
    "\n",
    "x, y = symbols('x y')\n",
    "u = x**2 + x*y + y**2 - 2*x - y\n",
    "stat_points = nonlinsolve([u.diff(x), u.diff(y)], [x, y])\n",
    "display('stat_points #1', *stat_points)\n",
    "\n",
    "for point in stat_points:\n",
    "  x0, y0 = point\n",
    "  if x0.is_real and y0.is_real:\n",
    "    if Delta(u, x, y).subs({x: x0, y: y0}) > 0:\n",
    "      A = u.diff(x, 2).subs({x: x0, y: y0})\n",
    "      B = u.diff(y, 2).subs({x: x0, y: y0})\n",
    "      if A > 0 or B > 0:\n",
    "        display('minimum', point)\n",
    "      elif A < 0 or B < 0:\n",
    "        display('maximum', point) \n",
    "\n",
    "x, y = symbols('x y', positive=True)\n",
    "u = x**3*y**2*(6 - x - y)\n",
    "stat_points = nonlinsolve([u.diff(x), u.diff(y)], [x, y])\n",
    "display('stat_points #2', *stat_points)\n",
    "\n",
    "for point in stat_points:\n",
    "  x0, y0 = point\n",
    "  if x0.is_real and y0.is_real:\n",
    "    if Delta(u, x, y).subs({x: x0, y: y0}) > 0:\n",
    "      A = u.diff(x, 2).subs({x: x0, y: y0})\n",
    "      B = u.diff(y, 2).subs({x: x0, y: y0})\n",
    "      if A > 0 or B > 0:\n",
    "        display('minimum', point)\n",
    "      elif A < 0 or B < 0:\n",
    "        display('maximum', point) \n",
    "\n",
    "x, y = symbols('x y')\n",
    "u = 8/x + x/y + y\n",
    "stat_points = nonlinsolve([u.diff(x), u.diff(y)], [x, y])\n",
    "display('stat_points #3', *stat_points)\n",
    "\n",
    "for point in stat_points:\n",
    "  x0, y0 = point\n",
    "  if x0.is_real and y0.is_real:\n",
    "    if Delta(u, x, y).subs({x: x0, y: y0}) > 0:\n",
    "      A = u.diff(x, 2).subs({x: x0, y: y0})\n",
    "      B = u.diff(y, 2).subs({x: x0, y: y0})\n",
    "      if A > 0 or B > 0:\n",
    "        display('minimum', point)\n",
    "      elif A < 0 or B < 0:\n",
    "        display('maximum', point) \n",
    "\n",
    "x, y = symbols('x y')\n",
    "u = (1 + x - y)/sympy.sqrt(1 + x**2 + y**2)\n",
    "stat_points = nonlinsolve([u.diff(x), u.diff(y)], [x, y])\n",
    "display('stat_points #4', *stat_points)\n",
    "\n",
    "for point in stat_points:\n",
    "  x0, y0 = point\n",
    "  if x0.is_real and y0.is_real:\n",
    "    if Delta(u, x, y).subs({x: x0, y: y0}) > 0:\n",
    "      A = u.diff(x, 2).subs({x: x0, y: y0})\n",
    "      B = u.diff(y, 2).subs({x: x0, y: y0})\n",
    "      if A > 0 or B > 0:\n",
    "        display('minimum', point)\n",
    "      elif A < 0 or B < 0:\n",
    "        display('maximum', point) "
   ]
  },
  {
   "cell_type": "markdown",
   "metadata": {
    "id": "31g2oqKHBT7J"
   },
   "source": [
    "### Задание 2.\n",
    "С помощью метода Лагранжа найти условный экстремум функции\n",
    "$z = x + 2y$ при условии $x^2 + y^2 = 5$."
   ]
  },
  {
   "cell_type": "code",
   "execution_count": null,
   "metadata": {
    "colab": {
     "base_uri": "https://localhost:8080/",
     "height": 246
    },
    "id": "FmvTuzg3BT7K",
    "outputId": "1a09e645-6959-4435-ca6d-bc030ea05d3c"
   },
   "outputs": [
    {
     "data": {
      "text/latex": [
       "$\\displaystyle \\left\\{\\left( -1, \\  -2, \\  \\frac{1}{2}\\right), \\left( 1, \\  2, \\  - \\frac{1}{2}\\right)\\right\\}$"
      ],
      "text/plain": [
       "FiniteSet((-1, -2, 1/2), (1, 2, -1/2))"
      ]
     },
     "metadata": {
      "tags": []
     },
     "output_type": "display_data"
    },
    {
     "data": {
      "text/latex": [
       "$\\displaystyle x$"
      ],
      "text/plain": [
       "x"
      ]
     },
     "metadata": {
      "tags": []
     },
     "output_type": "display_data"
    },
    {
     "data": {
      "text/latex": [
       "$\\displaystyle y$"
      ],
      "text/plain": [
       "y"
      ]
     },
     "metadata": {
      "tags": []
     },
     "output_type": "display_data"
    },
    {
     "data": {
      "text/latex": [
       "$\\displaystyle \\lambda$"
      ],
      "text/plain": [
       "lamda"
      ]
     },
     "metadata": {
      "tags": []
     },
     "output_type": "display_data"
    },
    {
     "data": {
      "application/vnd.google.colaboratory.intrinsic+json": {
       "type": "string"
      },
      "text/plain": [
       "'factor'"
      ]
     },
     "metadata": {
      "tags": []
     },
     "output_type": "display_data"
    },
    {
     "data": {
      "text/latex": [
       "$\\displaystyle 2 \\lambda \\left(dx^{2} + dy^{2}\\right)$"
      ],
      "text/plain": [
       "2*lamda*(dx^2 + dy^2)"
      ]
     },
     "metadata": {
      "tags": []
     },
     "output_type": "display_data"
    },
    {
     "data": {
      "text/latex": [
       "$\\displaystyle \\left( -1, \\  -2\\right)$"
      ],
      "text/plain": [
       "(-1, -2)"
      ]
     },
     "metadata": {
      "tags": []
     },
     "output_type": "display_data"
    },
    {
     "data": {
      "text/latex": [
       "$\\displaystyle f = -5$"
      ],
      "text/plain": [
       "Eq(f, -5)"
      ]
     },
     "metadata": {
      "tags": []
     },
     "output_type": "display_data"
    },
    {
     "data": {
      "text/latex": [
       "$\\displaystyle \\left( 1, \\  2\\right)$"
      ],
      "text/plain": [
       "(1, 2)"
      ]
     },
     "metadata": {
      "tags": []
     },
     "output_type": "display_data"
    },
    {
     "data": {
      "text/latex": [
       "$\\displaystyle f = 5$"
      ],
      "text/plain": [
       "Eq(f, 5)"
      ]
     },
     "metadata": {
      "tags": []
     },
     "output_type": "display_data"
    }
   ],
   "source": [
    "x, y, lam = symbols('x y lamda')\n",
    "varrs = [x, y, lam]\n",
    "\n",
    "f2 = x + 2*y\n",
    "restriction2 = x**2 + y**2 - 5\n",
    "\n",
    "L = f2 + lam*restriction2\n",
    "stat_points = nonlinsolve([L.diff(var)for var in varrs], varrs)\n",
    "display(stat_points, *varrs)\n",
    "\n",
    "dx, dy, dx2, dy2 = symbols('dx dy dx^2 dy^2')\n",
    "d2L = L.diff(x,2)*dx2 + 2*L.diff(x,y)*dx*dy + L.diff(y,2)*dy2\n",
    "display('factor', factor(d2L))\n",
    "\n",
    "ff = Symbol('f')\n",
    "for point in stat_points:\n",
    " display(point[:-1], sympy.Eq(ff, f2.subs({var: point[j] for j, var in enumerate(varrs)})))"
   ]
  },
  {
   "cell_type": "markdown",
   "metadata": {
    "id": "2WVqZTlBBT7K"
   },
   "source": [
    "### Задание 3.\n",
    "С помощью метода Лагранжа найти условный экстремум функции\n",
    "$z=x^2+y^2$ при условии $\\frac{x}{2}+\\frac{y}{3}=1$."
   ]
  },
  {
   "cell_type": "code",
   "execution_count": null,
   "metadata": {
    "colab": {
     "base_uri": "https://localhost:8080/",
     "height": 237
    },
    "id": "1wzT1kehBT7K",
    "outputId": "1b26264a-61b3-4edb-9e55-b2299d137d8d"
   },
   "outputs": [
    {
     "data": {
      "text/latex": [
       "$\\displaystyle \\left\\{\\left( \\frac{18}{13}, \\  \\frac{12}{13}, \\  - \\frac{72}{13}\\right)\\right\\}$"
      ],
      "text/plain": [
       "FiniteSet((18/13, 12/13, -72/13))"
      ]
     },
     "metadata": {
      "tags": []
     },
     "output_type": "display_data"
    },
    {
     "data": {
      "text/latex": [
       "$\\displaystyle x$"
      ],
      "text/plain": [
       "x"
      ]
     },
     "metadata": {
      "tags": []
     },
     "output_type": "display_data"
    },
    {
     "data": {
      "text/latex": [
       "$\\displaystyle y$"
      ],
      "text/plain": [
       "y"
      ]
     },
     "metadata": {
      "tags": []
     },
     "output_type": "display_data"
    },
    {
     "data": {
      "text/latex": [
       "$\\displaystyle \\lambda$"
      ],
      "text/plain": [
       "lamda"
      ]
     },
     "metadata": {
      "tags": []
     },
     "output_type": "display_data"
    },
    {
     "data": {
      "application/vnd.google.colaboratory.intrinsic+json": {
       "type": "string"
      },
      "text/plain": [
       "'factor'"
      ]
     },
     "metadata": {
      "tags": []
     },
     "output_type": "display_data"
    },
    {
     "data": {
      "text/latex": [
       "$\\displaystyle 2 \\left(dx^{2} + dy^{2}\\right)$"
      ],
      "text/plain": [
       "2*(dx^2 + dy^2)"
      ]
     },
     "metadata": {
      "tags": []
     },
     "output_type": "display_data"
    },
    {
     "data": {
      "text/latex": [
       "$\\displaystyle \\left( \\frac{18}{13}, \\  \\frac{12}{13}\\right)$"
      ],
      "text/plain": [
       "(18/13, 12/13)"
      ]
     },
     "metadata": {
      "tags": []
     },
     "output_type": "display_data"
    },
    {
     "data": {
      "text/latex": [
       "$\\displaystyle f = \\frac{36}{13}$"
      ],
      "text/plain": [
       "Eq(f, 36/13)"
      ]
     },
     "metadata": {
      "tags": []
     },
     "output_type": "display_data"
    }
   ],
   "source": [
    "x, y, lam = symbols('x y lamda')\n",
    "varrs = [x, y, lam]\n",
    "\n",
    "f3 = x**2 + y**2\n",
    "restriction3 = x/2 + y/3 - 1\n",
    "\n",
    "L3 = f3 + lam*restriction3\n",
    "stat_points = nonlinsolve([L3.diff(var)for var in varrs], varrs)\n",
    "display(stat_points, *varrs)\n",
    "\n",
    "dx, dy, dx2, dy2 = symbols('dx dy dx^2 dy^2')\n",
    "d2L = L3.diff(x,2)*dx2 + 2*L3.diff(x,y)*dx*dy + L3.diff(y,2)*dy2\n",
    "display('factor', factor(d2L))\n",
    "\n",
    "ff = Symbol('f')\n",
    "for point in stat_points:\n",
    " display(point[:-1], sympy.Eq(ff, f3.subs({var: point[j] for j, var in enumerate(varrs)})))"
   ]
  },
  {
   "cell_type": "markdown",
   "metadata": {
    "id": "UBDYb6bEBT7K"
   },
   "source": [
    "### Задание 4.\n",
    "С помощью метода Лагранжа найти экстремум функции $u = x - 2y + 2z$ при условии $x^2 + y^2 + z^2 = 9$."
   ]
  },
  {
   "cell_type": "code",
   "execution_count": null,
   "metadata": {
    "colab": {
     "base_uri": "https://localhost:8080/",
     "height": 206
    },
    "id": "F39A-_gsBT7L",
    "outputId": "241a9914-e37e-4ecf-c964-3e01157b7b73"
   },
   "outputs": [
    {
     "data": {
      "text/latex": [
       "$\\displaystyle \\left\\{\\left( -1, \\  2, \\  -2, \\  \\frac{1}{2}\\right), \\left( 1, \\  -2, \\  2, \\  - \\frac{1}{2}\\right)\\right\\}$"
      ],
      "text/plain": [
       "FiniteSet((-1, 2, -2, 1/2), (1, -2, 2, -1/2))"
      ]
     },
     "metadata": {
      "tags": []
     },
     "output_type": "display_data"
    },
    {
     "data": {
      "text/latex": [
       "$\\displaystyle 2 dx^{2} \\lambda + 2 dy^{2} \\lambda + 2 dz^{2} \\lambda$"
      ],
      "text/plain": [
       "2*dx^2*lamda + 2*dy^2*lamda + 2*dz^2*lamda"
      ]
     },
     "metadata": {
      "tags": []
     },
     "output_type": "display_data"
    },
    {
     "data": {
      "text/latex": [
       "$\\displaystyle 1.0 dx^{2} + 1.0 dy^{2} + 1.0 dz^{2}$"
      ],
      "text/plain": [
       "1.0*dx^2 + 1.0*dy^2 + 1.0*dz^2"
      ]
     },
     "metadata": {
      "tags": []
     },
     "output_type": "display_data"
    },
    {
     "data": {
      "text/latex": [
       "$\\displaystyle - 1.0 dx^{2} - 1.0 dy^{2} - 1.0 dz^{2}$"
      ],
      "text/plain": [
       "-1.0*dx^2 - 1.0*dy^2 - 1.0*dz^2"
      ]
     },
     "metadata": {
      "tags": []
     },
     "output_type": "display_data"
    },
    {
     "data": {
      "text/latex": [
       "$\\displaystyle \\left( -1, \\  2, \\  -2\\right)$"
      ],
      "text/plain": [
       "(-1, 2, -2)"
      ]
     },
     "metadata": {
      "tags": []
     },
     "output_type": "display_data"
    },
    {
     "data": {
      "text/latex": [
       "$\\displaystyle u = -9$"
      ],
      "text/plain": [
       "Eq(u, -9)"
      ]
     },
     "metadata": {
      "tags": []
     },
     "output_type": "display_data"
    },
    {
     "data": {
      "text/latex": [
       "$\\displaystyle \\left( 1, \\  -2, \\  2\\right)$"
      ],
      "text/plain": [
       "(1, -2, 2)"
      ]
     },
     "metadata": {
      "tags": []
     },
     "output_type": "display_data"
    },
    {
     "data": {
      "text/latex": [
       "$\\displaystyle u = 9$"
      ],
      "text/plain": [
       "Eq(u, 9)"
      ]
     },
     "metadata": {
      "tags": []
     },
     "output_type": "display_data"
    }
   ],
   "source": [
    "x, y, z, lam = symbols('x y z lamda')\n",
    "varrs = [x, y, z, lam]\n",
    "u4 = x - 2*y + 2*z\n",
    "restriction4 = x**2 + y**2 + z**2 - 9\n",
    "L4 = u4 + lam*restriction4\n",
    "\n",
    "stat_points = nonlinsolve([L4.diff(var)for var in varrs], varrs)\n",
    "display(stat_points)\n",
    "\n",
    "dx, dy, dz, dx2, dy2, dz2 = symbols('dx dy dz dx^2 dy^2 dz^2')\n",
    "d2L = 0\n",
    "diffs = {x: (dx, dx2), y: (dy, dy2), z: (dz, dz2)}\n",
    "\n",
    "for i, var in enumerate(varrs[:-1]):\n",
    "  d2L += L4.diff(var, 2)*diffs[var][1]\n",
    "  for j in range(i + 1, 3):\n",
    "    d2L += 2*L4.diff(var, varrs[j])*diffs[var][0]*diffs[varrs[j]][0]\n",
    "display(d2L)\n",
    "\n",
    "L2_points = [d2L.subs(lam, lval) for lval in (1/2, -1/2)]\n",
    "display(*L2_points)\n",
    "\n",
    "uu = Symbol('u')\n",
    "for point in stat_points:\n",
    "    display(point[:-1], sympy.Eq(uu, u.subs({var: point[j] for j, var in enumerate(varrs)})))"
   ]
  },
  {
   "cell_type": "markdown",
   "metadata": {
    "id": "QddbGJR-BT7L"
   },
   "source": [
    "### Индивидуальное задание\n",
    "Найти точки экстремума $u = 4x^2 + 4xy - 5x + 2y^2 - 2yz + 5y + 4z^2$."
   ]
  },
  {
   "cell_type": "code",
   "execution_count": null,
   "metadata": {
    "colab": {
     "base_uri": "https://localhost:8080/",
     "height": 116
    },
    "id": "pqF_hhbbBT7L",
    "outputId": "97a63b39-d6ec-4dd0-f9de-801f66f6636f"
   },
   "outputs": [
    {
     "data": {
      "text/latex": [
       "$\\displaystyle \\left( \\frac{25}{8}, \\  -5, \\  - \\frac{5}{4}\\right)$"
      ],
      "text/plain": [
       "(25/8, -5, -5/4)"
      ]
     },
     "metadata": {
      "tags": []
     },
     "output_type": "display_data"
    },
    {
     "data": {
      "application/vnd.google.colaboratory.intrinsic+json": {
       "type": "string"
      },
      "text/plain": [
       "'minimum'"
      ]
     },
     "metadata": {
      "tags": []
     },
     "output_type": "display_data"
    },
    {
     "data": {
      "text/latex": [
       "$\\displaystyle \\left( \\frac{25}{8}, \\  -5, \\  - \\frac{5}{4}\\right)$"
      ],
      "text/plain": [
       "(25/8, -5, -5/4)"
      ]
     },
     "metadata": {
      "tags": []
     },
     "output_type": "display_data"
    }
   ],
   "source": [
    "def Delta(u, x, y, z):\n",
    " return Matrix([[u.diff(x, 2), u.diff(x, y), u.diff(x, z)],\n",
    "      [u.diff(y, x), u.diff(y, 2), u.diff(y, z)],\n",
    "      [u.diff(z, x), u.diff(z, y), u.diff(z,2)],]).det()\n",
    "\n",
    "x, y, z = symbols('x y z', positive=True)\n",
    "u = 4*x**2 + 4*x*y - 5*x + 2*y**2 - 2*y*z + 5*y + 4*z**2\n",
    "stat_points = nonlinsolve([u.diff(x), u.diff(y), u.diff(z)], [x, y, z])\n",
    "display(*stat_points)\n",
    "\n",
    "for point in stat_points:\n",
    "  x0, y0, z0 = point\n",
    "  if x0.is_real and y0.is_real and z0.is_real:\n",
    "    if Delta(u, x, y, z).subs({x: x0, y: y0, z: z0}) > 0:\n",
    "      A = u.diff(x, 2).subs({x: x0, y: y0, z: z0})\n",
    "      B = u.diff(y, 2).subs({x: x0, y: y0, z: z0})\n",
    "      C = u.diff(z, 2).subs({x: x0, y: y0, z: z0})\n",
    "      if A > 0 or B > 0 or C > 0:\n",
    "          display('minimum', point)\n",
    "      elif A < 0 or B < 0 or C < 0:\n",
    "          display('maximum', point)"
   ]
  }
 ],
 "metadata": {
  "colab": {
   "name": "KOLTUNOVCalculus_15_2020_tasks.ipynb",
   "provenance": []
  },
  "kernelspec": {
   "display_name": "Python 3",
   "language": "python",
   "name": "python3"
  },
  "language_info": {
   "codemirror_mode": {
    "name": "ipython",
    "version": 3
   },
   "file_extension": ".py",
   "mimetype": "text/x-python",
   "name": "python",
   "nbconvert_exporter": "python",
   "pygments_lexer": "ipython3",
   "version": "3.8.5"
  }
 },
 "nbformat": 4,
 "nbformat_minor": 1
}
