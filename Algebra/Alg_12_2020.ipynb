{
  "nbformat": 4,
  "nbformat_minor": 0,
  "metadata": {
    "kernelspec": {
      "display_name": "Python 3",
      "language": "python",
      "name": "python3"
    },
    "language_info": {
      "codemirror_mode": {
        "name": "ipython",
        "version": 3
      },
      "file_extension": ".py",
      "mimetype": "text/x-python",
      "name": "python",
      "nbconvert_exporter": "python",
      "pygments_lexer": "ipython3",
      "version": "3.7.3"
    },
    "colab": {
      "name": "KOLTUNOVAlg_12_2020_lin_op_tasks.ipynb",
      "provenance": []
    }
  },
  "cells": [
    {
      "cell_type": "code",
      "metadata": {
        "id": "fbMHLclpgn5W"
      },
      "source": [
        "import sympy\n",
        "import numpy as np\n",
        "from sympy import Expr, Eq, latex, plot_implicit, Matrix, plot, solve, linsolve, nonlinsolve, symbols, eye\n",
        "from sympy import pi as Pi\n",
        "from sympy import cos as Cos\n",
        "from sympy import sin as Sin\n",
        "import matplotlib.pyplot as plt"
      ],
      "execution_count": null,
      "outputs": []
    },
    {
      "cell_type": "markdown",
      "metadata": {
        "id": "dri3n7hngn5c"
      },
      "source": [
        "# Занятие 12\n",
        "# Алгебра\n",
        "### Задание 1.\n",
        "Написать функцию, составляющую матрицу линейного оператора поворота на alpha градусов или радиан По или Против часовой стрелки на плоскости. Параметры: обязательные - угол поворота, необязательные - тип меры угла (градусы или радианы), направление поворота (По или Против часовой стрелки). Значения по умолчанию - против часовой стрелки в радианах.\n",
        "\n",
        "Использовать полученную функцию для выведения на экран координат векторов, полученных поворотом на 10, 20, 45 градусов По или часовой стрелке и на $\\pi/3$ радиан против."
      ]
    },
    {
      "cell_type": "code",
      "metadata": {
        "colab": {
          "base_uri": "https://localhost:8080/",
          "height": 371
        },
        "id": "EleIn_kjgn5c",
        "outputId": "4790f8ed-84f3-4653-bed0-24c18ecb57f0"
      },
      "source": [
        "def create_matrix(alpha, mera='rad', direction='against'):\n",
        "  if mera != 'rad':\n",
        "    alpha = alpha * Pi/180\n",
        "  if direction != 'against':\n",
        "    alpha *= -1\n",
        "  return Matrix([[Cos(alpha), -Sin(alpha)], [Sin(alpha), Cos(alpha)]])\n",
        "\n",
        "e1 = Matrix([1, 0])\n",
        "e2 = Matrix([0, 1])\n",
        "\n",
        "degs = [10, 20, 45]\n",
        "for deg in degs:\n",
        "  display(create_matrix(deg, 'deg', 'clockwise') * e1)\n",
        "  display(create_matrix(deg, 'deg', 'clockwise') * e2)\n",
        "  \n",
        "display(create_matrix(Pi/3) * e1)\n",
        "display(create_matrix(Pi/3) * e2)\n"
      ],
      "execution_count": null,
      "outputs": [
        {
          "output_type": "display_data",
          "data": {
            "text/latex": "$\\displaystyle \\left[\\begin{matrix}\\cos{\\left(\\frac{\\pi}{18} \\right)}\\\\- \\sin{\\left(\\frac{\\pi}{18} \\right)}\\end{matrix}\\right]$",
            "text/plain": [
              "Matrix([\n",
              "[ cos(pi/18)],\n",
              "[-sin(pi/18)]])"
            ]
          },
          "metadata": {
            "tags": []
          }
        },
        {
          "output_type": "display_data",
          "data": {
            "text/latex": "$\\displaystyle \\left[\\begin{matrix}\\sin{\\left(\\frac{\\pi}{18} \\right)}\\\\\\cos{\\left(\\frac{\\pi}{18} \\right)}\\end{matrix}\\right]$",
            "text/plain": [
              "Matrix([\n",
              "[sin(pi/18)],\n",
              "[cos(pi/18)]])"
            ]
          },
          "metadata": {
            "tags": []
          }
        },
        {
          "output_type": "display_data",
          "data": {
            "text/latex": "$\\displaystyle \\left[\\begin{matrix}\\cos{\\left(\\frac{\\pi}{9} \\right)}\\\\- \\sin{\\left(\\frac{\\pi}{9} \\right)}\\end{matrix}\\right]$",
            "text/plain": [
              "Matrix([\n",
              "[ cos(pi/9)],\n",
              "[-sin(pi/9)]])"
            ]
          },
          "metadata": {
            "tags": []
          }
        },
        {
          "output_type": "display_data",
          "data": {
            "text/latex": "$\\displaystyle \\left[\\begin{matrix}\\sin{\\left(\\frac{\\pi}{9} \\right)}\\\\\\cos{\\left(\\frac{\\pi}{9} \\right)}\\end{matrix}\\right]$",
            "text/plain": [
              "Matrix([\n",
              "[sin(pi/9)],\n",
              "[cos(pi/9)]])"
            ]
          },
          "metadata": {
            "tags": []
          }
        },
        {
          "output_type": "display_data",
          "data": {
            "text/latex": "$\\displaystyle \\left[\\begin{matrix}\\frac{\\sqrt{2}}{2}\\\\- \\frac{\\sqrt{2}}{2}\\end{matrix}\\right]$",
            "text/plain": [
              "Matrix([\n",
              "[ sqrt(2)/2],\n",
              "[-sqrt(2)/2]])"
            ]
          },
          "metadata": {
            "tags": []
          }
        },
        {
          "output_type": "display_data",
          "data": {
            "text/latex": "$\\displaystyle \\left[\\begin{matrix}\\frac{\\sqrt{2}}{2}\\\\\\frac{\\sqrt{2}}{2}\\end{matrix}\\right]$",
            "text/plain": [
              "Matrix([\n",
              "[sqrt(2)/2],\n",
              "[sqrt(2)/2]])"
            ]
          },
          "metadata": {
            "tags": []
          }
        },
        {
          "output_type": "display_data",
          "data": {
            "text/latex": "$\\displaystyle \\left[\\begin{matrix}\\frac{1}{2}\\\\\\frac{\\sqrt{3}}{2}\\end{matrix}\\right]$",
            "text/plain": [
              "Matrix([\n",
              "[      1/2],\n",
              "[sqrt(3)/2]])"
            ]
          },
          "metadata": {
            "tags": []
          }
        },
        {
          "output_type": "display_data",
          "data": {
            "text/latex": "$\\displaystyle \\left[\\begin{matrix}- \\frac{\\sqrt{3}}{2}\\\\\\frac{1}{2}\\end{matrix}\\right]$",
            "text/plain": [
              "Matrix([\n",
              "[-sqrt(3)/2],\n",
              "[       1/2]])"
            ]
          },
          "metadata": {
            "tags": []
          }
        }
      ]
    },
    {
      "cell_type": "markdown",
      "metadata": {
        "id": "sapGvSjkgn5d"
      },
      "source": [
        "### Задание 2.\n",
        "Найти собственные числа и собственные векторы линейного оператора, заданного матрицей \n",
        "$$\n",
        "\\left(\\begin{matrix}\n",
        "-34&20&-5\\\\\n",
        "-40&56&-20\\\\\n",
        "20&-8&50\n",
        "\\end{matrix}\\right)\n",
        "$$\n",
        "Воспользоваться eigenvals и eigenvects, проверить выполнение равенства нулю характеристического многочлена $|A-\\lambda E|$ и условия $Ax=\\lambda x$.\n"
      ]
    },
    {
      "cell_type": "code",
      "metadata": {
        "colab": {
          "base_uri": "https://localhost:8080/",
          "height": 582
        },
        "id": "MmcGMa21gn5d",
        "outputId": "c1cfe799-70c3-483e-9561-39d90b370c40"
      },
      "source": [
        "A = Matrix([[-34, 20, -5], [-40, 56, -20], [20, -8, 50]])\n",
        "res1 = A.eigenvects()\n",
        "res2 = A.eigenvals()\n",
        "display('eigenvals', res2)\n",
        "display('eigenvects')\n",
        "for item in res1:\n",
        "  print(item[0], item[1])\n",
        "  display(*item[2])\n",
        "  display((A - item[0] * eye(3)).det())\n",
        "  display(A * (item[2][0]) - item[0] * (item[2][0]))\n",
        "\n",
        "lam = symbols('lamda')\n",
        "lambdas = solve((A - lam*eye(3)).det())\n",
        "display('проверка по определению', lambdas)"
      ],
      "execution_count": null,
      "outputs": [
        {
          "output_type": "display_data",
          "data": {
            "application/vnd.google.colaboratory.intrinsic+json": {
              "type": "string"
            },
            "text/plain": [
              "'eigenvals'"
            ]
          },
          "metadata": {
            "tags": []
          }
        },
        {
          "output_type": "display_data",
          "data": {
            "text/plain": [
              "{-24: 1, 40: 1, 56: 1}"
            ]
          },
          "metadata": {
            "tags": []
          }
        },
        {
          "output_type": "display_data",
          "data": {
            "application/vnd.google.colaboratory.intrinsic+json": {
              "type": "string"
            },
            "text/plain": [
              "'eigenvects'"
            ]
          },
          "metadata": {
            "tags": []
          }
        },
        {
          "output_type": "stream",
          "text": [
            "-24 1\n"
          ],
          "name": "stdout"
        },
        {
          "output_type": "display_data",
          "data": {
            "text/latex": "$\\displaystyle \\left[\\begin{matrix}- \\frac{9}{2}\\\\-2\\\\1\\end{matrix}\\right]$",
            "text/plain": [
              "Matrix([\n",
              "[-9/2],\n",
              "[  -2],\n",
              "[   1]])"
            ]
          },
          "metadata": {
            "tags": []
          }
        },
        {
          "output_type": "display_data",
          "data": {
            "text/latex": "$\\displaystyle 0$",
            "text/plain": [
              "0"
            ]
          },
          "metadata": {
            "tags": []
          }
        },
        {
          "output_type": "display_data",
          "data": {
            "text/latex": "$\\displaystyle \\left[\\begin{matrix}0\\\\0\\\\0\\end{matrix}\\right]$",
            "text/plain": [
              "Matrix([\n",
              "[0],\n",
              "[0],\n",
              "[0]])"
            ]
          },
          "metadata": {
            "tags": []
          }
        },
        {
          "output_type": "stream",
          "text": [
            "40 1\n"
          ],
          "name": "stdout"
        },
        {
          "output_type": "display_data",
          "data": {
            "text/latex": "$\\displaystyle \\left[\\begin{matrix}\\frac{5}{6}\\\\\\frac{10}{3}\\\\1\\end{matrix}\\right]$",
            "text/plain": [
              "Matrix([\n",
              "[ 5/6],\n",
              "[10/3],\n",
              "[   1]])"
            ]
          },
          "metadata": {
            "tags": []
          }
        },
        {
          "output_type": "display_data",
          "data": {
            "text/latex": "$\\displaystyle 0$",
            "text/plain": [
              "0"
            ]
          },
          "metadata": {
            "tags": []
          }
        },
        {
          "output_type": "display_data",
          "data": {
            "text/latex": "$\\displaystyle \\left[\\begin{matrix}0\\\\0\\\\0\\end{matrix}\\right]$",
            "text/plain": [
              "Matrix([\n",
              "[0],\n",
              "[0],\n",
              "[0]])"
            ]
          },
          "metadata": {
            "tags": []
          }
        },
        {
          "output_type": "stream",
          "text": [
            "56 1\n"
          ],
          "name": "stdout"
        },
        {
          "output_type": "display_data",
          "data": {
            "text/latex": "$\\displaystyle \\left[\\begin{matrix}- \\frac{1}{2}\\\\-2\\\\1\\end{matrix}\\right]$",
            "text/plain": [
              "Matrix([\n",
              "[-1/2],\n",
              "[  -2],\n",
              "[   1]])"
            ]
          },
          "metadata": {
            "tags": []
          }
        },
        {
          "output_type": "display_data",
          "data": {
            "text/latex": "$\\displaystyle 0$",
            "text/plain": [
              "0"
            ]
          },
          "metadata": {
            "tags": []
          }
        },
        {
          "output_type": "display_data",
          "data": {
            "text/latex": "$\\displaystyle \\left[\\begin{matrix}0\\\\0\\\\0\\end{matrix}\\right]$",
            "text/plain": [
              "Matrix([\n",
              "[0],\n",
              "[0],\n",
              "[0]])"
            ]
          },
          "metadata": {
            "tags": []
          }
        },
        {
          "output_type": "display_data",
          "data": {
            "application/vnd.google.colaboratory.intrinsic+json": {
              "type": "string"
            },
            "text/plain": [
              "'проверка по определению'"
            ]
          },
          "metadata": {
            "tags": []
          }
        },
        {
          "output_type": "display_data",
          "data": {
            "text/plain": [
              "[-24, 40, 56]"
            ]
          },
          "metadata": {
            "tags": []
          }
        }
      ]
    },
    {
      "cell_type": "markdown",
      "metadata": {
        "id": "AygJ15Dwgn5d"
      },
      "source": [
        "### Задание 3.\n",
        "Построить матрицу оператора из задания 2 в базисе из векторов $(1,1,1)$, $(0,5,3)$ и $(1,6,0)$.\n"
      ]
    },
    {
      "cell_type": "code",
      "metadata": {
        "colab": {
          "base_uri": "https://localhost:8080/",
          "height": 178
        },
        "id": "tMOVMzPXgn5e",
        "outputId": "397142cc-c1a9-4076-8ca9-9884e485e88e"
      },
      "source": [
        "P = Matrix([[1, 0, 1], [1, 5, 6], [1, 3, 0]])\n",
        "display(P, P.det())\n",
        "\n",
        "A_new = P**(-1)*A*P\n",
        "display('матрица в новом базисе', A_new)"
      ],
      "execution_count": null,
      "outputs": [
        {
          "output_type": "display_data",
          "data": {
            "text/latex": "$\\displaystyle \\left[\\begin{matrix}1 & 0 & 1\\\\1 & 5 & 6\\\\1 & 3 & 0\\end{matrix}\\right]$",
            "text/plain": [
              "Matrix([\n",
              "[1, 0, 1],\n",
              "[1, 5, 6],\n",
              "[1, 3, 0]])"
            ]
          },
          "metadata": {
            "tags": []
          }
        },
        {
          "output_type": "display_data",
          "data": {
            "text/latex": "$\\displaystyle -20$",
            "text/plain": [
              "-20"
            ]
          },
          "metadata": {
            "tags": []
          }
        },
        {
          "output_type": "display_data",
          "data": {
            "application/vnd.google.colaboratory.intrinsic+json": {
              "type": "string"
            },
            "text/plain": [
              "'матрица в новом базисе'"
            ]
          },
          "metadata": {
            "tags": []
          }
        },
        {
          "output_type": "display_data",
          "data": {
            "text/latex": "$\\displaystyle \\left[\\begin{matrix}-1 & 71 & 26\\\\21 & 13 & -18\\\\-18 & 14 & 60\\end{matrix}\\right]$",
            "text/plain": [
              "Matrix([\n",
              "[ -1, 71,  26],\n",
              "[ 21, 13, -18],\n",
              "[-18, 14,  60]])"
            ]
          },
          "metadata": {
            "tags": []
          }
        }
      ]
    },
    {
      "cell_type": "markdown",
      "metadata": {
        "id": "reuyM50qgn5e"
      },
      "source": [
        "### Задание 4.\n",
        "Построить матрицу оператора из задания 2 в базисе из собственных векторов с помощью eigenvects и матрицы перехода. Сравнить диагональные элементы с собственными числами."
      ]
    },
    {
      "cell_type": "code",
      "metadata": {
        "colab": {
          "base_uri": "https://localhost:8080/",
          "height": 225
        },
        "id": "r4C4raw5gn5e",
        "outputId": "d8f14b61-8ca7-4b5d-b758-a5c960faaba0"
      },
      "source": [
        "A = Matrix([[-34, 20, -5], [-40, 56, -20], [20, -8, 50]])\n",
        "res = A.eigenvects()\n",
        "P = res[0][2][0].row_join(res[1][2][0]).row_join(res[2][2][0])\n",
        "display(P, P.det())\n",
        "A_new = P**(-1)*A*P\n",
        "display(A_new)\n",
        "\n",
        "for item in res:\n",
        "  print(item[0])"
      ],
      "execution_count": null,
      "outputs": [
        {
          "output_type": "display_data",
          "data": {
            "text/latex": "$\\displaystyle \\left[\\begin{matrix}- \\frac{9}{2} & \\frac{5}{6} & - \\frac{1}{2}\\\\-2 & \\frac{10}{3} & -2\\\\1 & 1 & 1\\end{matrix}\\right]$",
            "text/plain": [
              "Matrix([\n",
              "[-9/2,  5/6, -1/2],\n",
              "[  -2, 10/3,   -2],\n",
              "[   1,    1,    1]])"
            ]
          },
          "metadata": {
            "tags": []
          }
        },
        {
          "output_type": "display_data",
          "data": {
            "text/latex": "$\\displaystyle - \\frac{64}{3}$",
            "text/plain": [
              "-64/3"
            ]
          },
          "metadata": {
            "tags": []
          }
        },
        {
          "output_type": "display_data",
          "data": {
            "text/latex": "$\\displaystyle \\left[\\begin{matrix}-24 & 0 & 0\\\\0 & 40 & 0\\\\0 & 0 & 56\\end{matrix}\\right]$",
            "text/plain": [
              "Matrix([\n",
              "[-24,  0,  0],\n",
              "[  0, 40,  0],\n",
              "[  0,  0, 56]])"
            ]
          },
          "metadata": {
            "tags": []
          }
        },
        {
          "output_type": "stream",
          "text": [
            "-24\n",
            "40\n",
            "56\n"
          ],
          "name": "stdout"
        }
      ]
    },
    {
      "cell_type": "markdown",
      "metadata": {
        "id": "2FhraiiMgn5e"
      },
      "source": [
        "###  Индивидуальное задание\n",
        "Найти собственные числа и собственные векторы линейного оператора. Построить матрицу оператора в заданном базисе. Построить матрицу оператора в базисе из собственных векторов.\n",
        "\n",
        "Вывести на экран матрицу оператора А, матрицу перехода к базису ($e_1$, $e_2$, $e_3$), матрицу оператора в базисе ($e_1$, $e_2$, $e_3$), матрицу перехода к базису из собственных векторов, матрицу оператора в базисе из собственных векторов.\n",
        "\n",
        "$$A = \\left[\\begin{matrix}-48 & -62 & 6\\\\-16 & -103 & 78\\\\-68 & 80 & -77\\end{matrix}\\right],\\quad e_1 = \\left[\\begin{matrix}-4\\\\-4\\\\1\\end{matrix}\\right],\\quad e_2 = \\left[\\begin{matrix}4\\\\1\\\\-2\\end{matrix}\\right],\\quad e_3 = \\left[\\begin{matrix}3\\\\-3\\\\2\\end{matrix}\\right]$$"
      ]
    },
    {
      "cell_type": "code",
      "metadata": {
        "colab": {
          "base_uri": "https://localhost:8080/",
          "height": 649
        },
        "id": "c5xzQUK3gn5f",
        "outputId": "2efe9f00-a673-4d35-93c4-5e2a34a0c91a"
      },
      "source": [
        "A = Matrix([[-48, -62, 6], [-16, -103, 78], [-68, 80, -77]])\n",
        "display('Матрица оператора А', A)\n",
        "\n",
        "res = A.eigenvects()\n",
        "for item in res:\n",
        "    print(item[0], item[1])\n",
        "    display(*item[2])\n",
        "\n",
        "P = Matrix([[-4, 4, 3], [-4, 1, -3], [1, -2, 2]])\n",
        "display('Матрица перехода к заданному базису', P)\n",
        "\n",
        "A_new = P**(-1)*A*P\n",
        "display('Матрица в заданном базисе', A_new)\n",
        "\n",
        "T = res[0][2][0].row_join(res[1][2][0]).row_join(res[2][2][0])\n",
        "display('Матрица перехода к базису из собственных векторов', T)\n",
        "\n",
        "B_new = T**(-1)*A*T\n",
        "display('Матрица в базисе из собственных векторов', B_new) "
      ],
      "execution_count": null,
      "outputs": [
        {
          "output_type": "display_data",
          "data": {
            "application/vnd.google.colaboratory.intrinsic+json": {
              "type": "string"
            },
            "text/plain": [
              "'Матрица оператора А'"
            ]
          },
          "metadata": {
            "tags": []
          }
        },
        {
          "output_type": "display_data",
          "data": {
            "text/latex": "$\\displaystyle \\left[\\begin{matrix}-48 & -62 & 6\\\\-16 & -103 & 78\\\\-68 & 80 & -77\\end{matrix}\\right]$",
            "text/plain": [
              "Matrix([\n",
              "[-48,  -62,   6],\n",
              "[-16, -103,  78],\n",
              "[-68,   80, -77]])"
            ]
          },
          "metadata": {
            "tags": []
          }
        },
        {
          "output_type": "stream",
          "text": [
            "-152 1\n"
          ],
          "name": "stdout"
        },
        {
          "output_type": "display_data",
          "data": {
            "text/latex": "$\\displaystyle \\left[\\begin{matrix}- \\frac{5}{4}\\\\-2\\\\1\\end{matrix}\\right]$",
            "text/plain": [
              "Matrix([\n",
              "[-5/4],\n",
              "[  -2],\n",
              "[   1]])"
            ]
          },
          "metadata": {
            "tags": []
          }
        },
        {
          "output_type": "stream",
          "text": [
            "-95 1\n"
          ],
          "name": "stdout"
        },
        {
          "output_type": "display_data",
          "data": {
            "text/latex": "$\\displaystyle \\left[\\begin{matrix}\\frac{7}{2}\\\\\\frac{11}{4}\\\\1\\end{matrix}\\right]$",
            "text/plain": [
              "Matrix([\n",
              "[ 7/2],\n",
              "[11/4],\n",
              "[   1]])"
            ]
          },
          "metadata": {
            "tags": []
          }
        },
        {
          "output_type": "stream",
          "text": [
            "19 1\n"
          ],
          "name": "stdout"
        },
        {
          "output_type": "display_data",
          "data": {
            "text/latex": "$\\displaystyle \\left[\\begin{matrix}- \\frac{4}{7}\\\\\\frac{5}{7}\\\\1\\end{matrix}\\right]$",
            "text/plain": [
              "Matrix([\n",
              "[-4/7],\n",
              "[ 5/7],\n",
              "[   1]])"
            ]
          },
          "metadata": {
            "tags": []
          }
        },
        {
          "output_type": "display_data",
          "data": {
            "application/vnd.google.colaboratory.intrinsic+json": {
              "type": "string"
            },
            "text/plain": [
              "'Матрица перехода к заданному базису'"
            ]
          },
          "metadata": {
            "tags": []
          }
        },
        {
          "output_type": "display_data",
          "data": {
            "text/latex": "$\\displaystyle \\left[\\begin{matrix}-4 & 4 & 3\\\\-4 & 1 & -3\\\\1 & -2 & 2\\end{matrix}\\right]$",
            "text/plain": [
              "Matrix([\n",
              "[-4,  4,  3],\n",
              "[-4,  1, -3],\n",
              "[ 1, -2,  2]])"
            ]
          },
          "metadata": {
            "tags": []
          }
        },
        {
          "output_type": "display_data",
          "data": {
            "application/vnd.google.colaboratory.intrinsic+json": {
              "type": "string"
            },
            "text/plain": [
              "'Матрица в заданном базисе'"
            ]
          },
          "metadata": {
            "tags": []
          }
        },
        {
          "output_type": "display_data",
          "data": {
            "text/latex": "$\\displaystyle \\left[\\begin{matrix}- \\frac{2555}{19} & 108 & \\frac{972}{19}\\\\- \\frac{288}{19} & 55 & \\frac{3345}{19}\\\\- \\frac{198}{19} & -18 & - \\frac{2822}{19}\\end{matrix}\\right]$",
            "text/plain": [
              "Matrix([\n",
              "[-2555/19, 108,   972/19],\n",
              "[ -288/19,  55,  3345/19],\n",
              "[ -198/19, -18, -2822/19]])"
            ]
          },
          "metadata": {
            "tags": []
          }
        },
        {
          "output_type": "display_data",
          "data": {
            "application/vnd.google.colaboratory.intrinsic+json": {
              "type": "string"
            },
            "text/plain": [
              "'Матрица перехода к базису из собственных векторов'"
            ]
          },
          "metadata": {
            "tags": []
          }
        },
        {
          "output_type": "display_data",
          "data": {
            "text/latex": "$\\displaystyle \\left[\\begin{matrix}- \\frac{5}{4} & \\frac{7}{2} & - \\frac{4}{7}\\\\-2 & \\frac{11}{4} & \\frac{5}{7}\\\\1 & 1 & 1\\end{matrix}\\right]$",
            "text/plain": [
              "Matrix([\n",
              "[-5/4,  7/2, -4/7],\n",
              "[  -2, 11/4,  5/7],\n",
              "[   1,    1,    1]])"
            ]
          },
          "metadata": {
            "tags": []
          }
        },
        {
          "output_type": "display_data",
          "data": {
            "application/vnd.google.colaboratory.intrinsic+json": {
              "type": "string"
            },
            "text/plain": [
              "'Матрица в базисе из собственных векторов'"
            ]
          },
          "metadata": {
            "tags": []
          }
        },
        {
          "output_type": "display_data",
          "data": {
            "text/latex": "$\\displaystyle \\left[\\begin{matrix}-152 & 0 & 0\\\\0 & -95 & 0\\\\0 & 0 & 19\\end{matrix}\\right]$",
            "text/plain": [
              "Matrix([\n",
              "[-152,   0,  0],\n",
              "[   0, -95,  0],\n",
              "[   0,   0, 19]])"
            ]
          },
          "metadata": {
            "tags": []
          }
        }
      ]
    }
  ]
}