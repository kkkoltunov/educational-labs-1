{
  "nbformat": 4,
  "nbformat_minor": 0,
  "metadata": {
    "colab": {
      "name": "KOLTUNOV_Laba_algebra_8.ipynb",
      "provenance": [],
      "collapsed_sections": []
    },
    "kernelspec": {
      "display_name": "Python 3",
      "language": "python",
      "name": "python3"
    },
    "language_info": {
      "codemirror_mode": {
        "name": "ipython",
        "version": 3
      },
      "file_extension": ".py",
      "mimetype": "text/x-python",
      "name": "python",
      "nbconvert_exporter": "python",
      "pygments_lexer": "ipython3",
      "version": "3.8.5"
    }
  },
  "cells": [
    {
      "cell_type": "code",
      "metadata": {
        "id": "xakB6v5rfgFZ"
      },
      "source": [
        "import sympy\n",
        "from sympy import  Point, Line, Plane, Point3D, Segment, Ray, S, latex\n",
        "import numpy as np\n",
        "import matplotlib.pyplot as plt"
      ],
      "execution_count": null,
      "outputs": []
    },
    {
      "cell_type": "markdown",
      "metadata": {
        "id": "NILK48I4fgFd"
      },
      "source": [
        "# Практическое занятие 8\n",
        "# Алгебра\n",
        "https://docs.sympy.org/latest/search.html?q=geometry\n",
        "\n",
        "## Проекции, сегменты, лучи в модуле Geometry\n",
        "### Задание 1.\n",
        "Даны точки: $A(3, -2, 3)$,  $B(-2, 3, 1)$, \n",
        "$C(1, -8, 6)$, \n",
        "$D(1, 2, 4)$, \n",
        "$F(-7, 8, -1)$.\n",
        "\n",
        "Составить отрезки $АВ$ и $АС$ и лучи $CD$ и $BF$.\n",
        "\n",
        "Найти: \n",
        "\n",
        "угол между лучами $CD$ и $BF$\n",
        "\n",
        "направления луча $CD$ (xdirection, ydirection, zdirection)\n",
        "\n",
        "длину отрезка $АВ$\n",
        "\n",
        "середину отрезка $АВ$"
      ]
    },
    {
      "cell_type": "code",
      "metadata": {
        "id": "plyL1jWrfgFe",
        "colab": {
          "base_uri": "https://localhost:8080/",
          "height": 262
        },
        "outputId": "08e3a990-f211-4b8a-f6b4-6bcb144c3be2"
      },
      "source": [
        "A = Point(3, -2, 3)\n",
        "B = Point(-2, 3, 1)\n",
        "C = Point(1, -8, 6)\n",
        "D = Point(1, 2, 4)\n",
        "F = Point(-7, 8, -1)\n",
        "\n",
        "SegmAB = Segment(A, B)\n",
        "SegmAC = Segment(A, C)\n",
        "RayCD = Ray(C, D)\n",
        "RayBF = Ray(B, F)\n",
        "\n",
        "display('Угол между лучами CD и BF:', RayCD.angle_between(RayBF))\n",
        "display('Направление луча:')\n",
        "display(RayCD.xdirection)\n",
        "display(RayCD.ydirection)\n",
        "display(RayCD.zdirection)\n",
        "display('Длина отрезка AB:', SegmAB.length)\n",
        "display('Середина отрезка AB:', SegmAB.midpoint)"
      ],
      "execution_count": null,
      "outputs": [
        {
          "output_type": "display_data",
          "data": {
            "application/vnd.google.colaboratory.intrinsic+json": {
              "type": "string"
            },
            "text/plain": [
              "'Угол между лучами CD и BF:'"
            ]
          },
          "metadata": {
            "tags": []
          }
        },
        {
          "output_type": "display_data",
          "data": {
            "text/latex": "$\\displaystyle \\operatorname{acos}{\\left(\\frac{3 \\sqrt{39}}{26} \\right)}$",
            "text/plain": [
              "acos(3*sqrt(39)/26)"
            ]
          },
          "metadata": {
            "tags": []
          }
        },
        {
          "output_type": "display_data",
          "data": {
            "application/vnd.google.colaboratory.intrinsic+json": {
              "type": "string"
            },
            "text/plain": [
              "'Направление луча:'"
            ]
          },
          "metadata": {
            "tags": []
          }
        },
        {
          "output_type": "display_data",
          "data": {
            "text/latex": "$\\displaystyle 0$",
            "text/plain": [
              "0"
            ]
          },
          "metadata": {
            "tags": []
          }
        },
        {
          "output_type": "display_data",
          "data": {
            "text/latex": "$\\displaystyle \\infty$",
            "text/plain": [
              "oo"
            ]
          },
          "metadata": {
            "tags": []
          }
        },
        {
          "output_type": "display_data",
          "data": {
            "text/latex": "$\\displaystyle -\\infty$",
            "text/plain": [
              "-oo"
            ]
          },
          "metadata": {
            "tags": []
          }
        },
        {
          "output_type": "display_data",
          "data": {
            "application/vnd.google.colaboratory.intrinsic+json": {
              "type": "string"
            },
            "text/plain": [
              "'Длина отрезка AB:'"
            ]
          },
          "metadata": {
            "tags": []
          }
        },
        {
          "output_type": "display_data",
          "data": {
            "text/latex": "$\\displaystyle 3 \\sqrt{6}$",
            "text/plain": [
              "3*sqrt(6)"
            ]
          },
          "metadata": {
            "tags": []
          }
        },
        {
          "output_type": "display_data",
          "data": {
            "application/vnd.google.colaboratory.intrinsic+json": {
              "type": "string"
            },
            "text/plain": [
              "'Середина отрезка AB:'"
            ]
          },
          "metadata": {
            "tags": []
          }
        },
        {
          "output_type": "display_data",
          "data": {
            "text/latex": "$\\displaystyle Point3D\\left(\\frac{1}{2}, \\frac{1}{2}, 2\\right)$",
            "text/plain": [
              "Point3D(1/2, 1/2, 2)"
            ]
          },
          "metadata": {
            "tags": []
          }
        }
      ]
    },
    {
      "cell_type": "markdown",
      "metadata": {
        "id": "XSbnLkTVfgFe"
      },
      "source": [
        "### Задание 2.\n",
        "Построить прямую $CD$ и проекцию точки $F$ и отрезка $АВ$  на эту прямую."
      ]
    },
    {
      "cell_type": "code",
      "metadata": {
        "id": "tYSNLnZYfgFf",
        "colab": {
          "base_uri": "https://localhost:8080/",
          "height": 98
        },
        "outputId": "71d791ab-e3ac-4a81-d268-06de1972441f"
      },
      "source": [
        "LineCD = Line(C, D)\r\n",
        "display(LineCD.projection(F))\r\n",
        "display(LineCD.projection(SegmAB))"
      ],
      "execution_count": null,
      "outputs": [
        {
          "output_type": "display_data",
          "data": {
            "text/latex": "$\\displaystyle Point3D\\left(1, \\frac{227}{26}, \\frac{69}{26}\\right)$",
            "text/plain": [
              "Point3D(1, 227/26, 69/26)"
            ]
          },
          "metadata": {
            "tags": []
          }
        },
        {
          "output_type": "display_data",
          "data": {
            "text/latex": "$\\displaystyle Segment3D\\left(Point3D\\left(1, - \\frac{43}{26}, \\frac{123}{26}\\right), Point3D\\left(1, \\frac{46}{13}, \\frac{48}{13}\\right)\\right)$",
            "text/plain": [
              "Segment3D(Point3D(1, -43/26, 123/26), Point3D(1, 46/13, 48/13))"
            ]
          },
          "metadata": {
            "tags": []
          }
        }
      ]
    },
    {
      "cell_type": "markdown",
      "metadata": {
        "id": "h5FAbVSrfgFf"
      },
      "source": [
        "### Задание 3.\n",
        "Построить серединный перпендикуляр отрезка $АС$, проходящий через точку $(8, -7, 9/2)$, найти для серединного перпендикуляра уравнение.\n",
        "\n",
        "Указание: должен получиться сегмент, использовать S(9)/2."
      ]
    },
    {
      "cell_type": "code",
      "metadata": {
        "id": "jKul5ebxfgFf",
        "colab": {
          "base_uri": "https://localhost:8080/",
          "height": 173
        },
        "outputId": "5c058a8f-fb63-42ce-f84d-f8095fcb8141"
      },
      "source": [
        "mid = SegmAC.midpoint\r\n",
        "print('AC midpoint')\r\n",
        "display(mid)\r\n",
        "AC_perp = SegmAC.perpendicular_bisector(Point(8, -7, S(9)/2))\r\n",
        "display('Bisectors:', AC_perp)\r\n",
        "AC = Line(AC_perp.p1, AC_perp.p2)\r\n",
        "display('Уравнение:', AC.equation(x='x', y='y', z='z'))"
      ],
      "execution_count": null,
      "outputs": [
        {
          "output_type": "stream",
          "text": [
            "AC midpoint\n"
          ],
          "name": "stdout"
        },
        {
          "output_type": "display_data",
          "data": {
            "text/latex": "$\\displaystyle Point3D\\left(2, -5, \\frac{9}{2}\\right)$",
            "text/plain": [
              "Point3D(2, -5, 9/2)"
            ]
          },
          "metadata": {
            "tags": []
          }
        },
        {
          "output_type": "display_data",
          "data": {
            "application/vnd.google.colaboratory.intrinsic+json": {
              "type": "string"
            },
            "text/plain": [
              "'Bisectors:'"
            ]
          },
          "metadata": {
            "tags": []
          }
        },
        {
          "output_type": "display_data",
          "data": {
            "text/latex": "$\\displaystyle Segment3D\\left(Point3D\\left(8, -7, \\frac{9}{2}\\right), Point3D\\left(2, -5, \\frac{9}{2}\\right)\\right)$",
            "text/plain": [
              "Segment3D(Point3D(8, -7, 9/2), Point3D(2, -5, 9/2))"
            ]
          },
          "metadata": {
            "tags": []
          }
        },
        {
          "output_type": "display_data",
          "data": {
            "application/vnd.google.colaboratory.intrinsic+json": {
              "type": "string"
            },
            "text/plain": [
              "'Уравнение:'"
            ]
          },
          "metadata": {
            "tags": []
          }
        },
        {
          "output_type": "display_data",
          "data": {
            "text/latex": "$\\displaystyle \\left( x + 3 y + 13, \\  2 z - 9\\right)$",
            "text/plain": [
              "(x + 3*y + 13, 2*z - 9)"
            ]
          },
          "metadata": {
            "tags": []
          }
        }
      ]
    },
    {
      "cell_type": "markdown",
      "metadata": {
        "id": "fKoPA-TifgFg"
      },
      "source": [
        "### Задание 4\n",
        "Даны точки: $A(3, -2)$, $B(-2, 3)$, $C(1, -8)$.\n",
        "\n",
        "Построить на общем графике отрезки $АВ$ и $АС$, серединный перпендикуляр отрезка  $АС$.\n",
        "\n",
        "Точки $A$, $B$ и $C$ отметить и подписать именами.\n",
        "\n",
        "Для одинакового масштаба по осям использовать \n",
        "ax.set_aspect('equal')"
      ]
    },
    {
      "cell_type": "code",
      "metadata": {
        "id": "wnoWfQI1fgFg",
        "colab": {
          "base_uri": "https://localhost:8080/",
          "height": 298
        },
        "outputId": "0768505f-9a40-4d38-9ce4-f8ff7e28457c"
      },
      "source": [
        "A = Point(3, -2)\r\n",
        "B = Point(-2, 3)\r\n",
        "C = Point(1, -8)\r\n",
        "\r\n",
        "point_dict = {A: 'A', B: 'B', C: 'C'}\r\n",
        "\r\n",
        "AB = Segment (A, B)\r\n",
        "AC = Segment (A, C)\r\n",
        "\r\n",
        "mid_line = AC.perpendicular_bisector()\r\n",
        "\r\n",
        "ax = plt.gca()\r\n",
        "ax.set_aspect('equal')\r\n",
        "\r\n",
        "X = []\r\n",
        "Y = []\r\n",
        "\r\n",
        "for point in (point_dict.keys()):\r\n",
        "  x_coord = point.x\r\n",
        "  y_coord = point.y\r\n",
        "  X.append(x_coord)\r\n",
        "  Y.append(y_coord)\r\n",
        "  ax.annotate(point_dict[point], xy=(x_coord, y_coord), xycoords='data', xytext=(x_coord + 0.2, y_coord + 0.05), textcoords='data')\r\n",
        "\r\n",
        "ax.plot([A.x, B.x], [A.y, B.y], [A.x, C.x], [A.y, C.y], [mid_line.p1.x, mid_line.p2.x], [mid_line.p1.y, mid_line.p2.y])\r\n",
        "ax.scatter(X, Y)"
      ],
      "execution_count": 82,
      "outputs": [
        {
          "output_type": "stream",
          "text": [
            "No handles with labels found to put in legend.\n"
          ],
          "name": "stderr"
        },
        {
          "output_type": "execute_result",
          "data": {
            "text/plain": [
              "<matplotlib.legend.Legend at 0x7fd910e26f10>"
            ]
          },
          "metadata": {
            "tags": []
          },
          "execution_count": 82
        },
        {
          "output_type": "display_data",
          "data": {
            "image/png": "[encoded data removed]",
            "text/plain": [
              "<Figure size 432x288 with 1 Axes>"
            ]
          },
          "metadata": {
            "tags": [],
            "needs_background": "light"
          }
        }
      ]
    },
    {
      "cell_type": "markdown",
      "metadata": {
        "id": "B70hvkAZfgFg"
      },
      "source": [
        "### Индивидуальное задание.\n",
        "Даны точки на плоскости. \n",
        "\n",
        "Вариант N 92\n",
        "\n",
        "Точки: $L(-2, 5)$, $M(12, -1)$, $N(2, 8)$, $P(2/7, 47/7)$.\n",
        "\n",
        "Построить отрезок $LM$ и луч $MN$, составить уравнения серединного перпендикуляра  к $LM$ и перпендикуляра к $MN$, проходящего через точку $P$, найти точку пересечения перпендикуляров.\n",
        "\n",
        "Построить на графике отрезок, луч (в виде отрезка) и оба перпендикуляра, отметить и подписать концы отрезка и начало луча (точку M), а также точку пересечения перпендикуляров и основания перпендикуляров (точки пересечения перпендикуляров с отрезком и лучом соответственно).\n",
        "\n",
        "В легенду включить уравнения перпендикуляров и уравнения прямых, на которых лежат отрезок и\n",
        " луч."
      ]
    },
    {
      "cell_type": "code",
      "metadata": {
        "id": "93FuNdCZfgFh",
        "colab": {
          "base_uri": "https://localhost:8080/",
          "height": 550
        },
        "outputId": "b1103bf8-b939-44f8-bfbe-1c9126e62a69"
      },
      "source": [
        "L = Point(-2, 5)\r\n",
        "M = Point(12, -1)\r\n",
        "N = Point(2, 8)\r\n",
        "P = Point(2/7, 47/7)\r\n",
        "\r\n",
        "SegmLM = Segment(L, M)\r\n",
        "RayMN = Ray(M, N)\r\n",
        "\r\n",
        "LM = SegmLM.perpendicular_bisector(P)\r\n",
        "MN = RayMN.perpendicular_line(P)\r\n",
        "\r\n",
        "PointIntersection = LM.intersection(MN)\r\n",
        "\r\n",
        "PointIntersection2 = RayMN.intersection(MN)\r\n",
        "\r\n",
        "PointIntersection3 = RayMN.intersection(LM)\r\n",
        "\r\n",
        "display('Пересечение 1:', *PointIntersection)\r\n",
        "\r\n",
        "display('Пересечение 2:', *PointIntersection2)\r\n",
        "\r\n",
        "display('Пересечение 3:', *PointIntersection3)\r\n",
        "\r\n",
        "display('Уравнение 1:', LM.equation(x='x', y='y'))\r\n",
        "\r\n",
        "display('Уравнение 2:', MN.equation(x='x', y='y'))\r\n",
        "\r\n",
        "point_dict = {M: 'M', L: 'L'}\r\n",
        "\r\n",
        "X = []\r\n",
        "Y = []\r\n",
        "\r\n",
        "ax = plt.gca()\r\n",
        "ax.set_aspect('equal')\r\n",
        "\r\n",
        "for point in (point_dict.keys()):\r\n",
        "  x_coord = point.x\r\n",
        "  y_coord = point.y\r\n",
        "  X.append(x_coord)\r\n",
        "  Y.append(y_coord)\r\n",
        "  ax.annotate(point_dict[point], xy=(x_coord, y_coord), xycoords='data', xytext=(x_coord + 0.05, y_coord + 1), textcoords='data')\r\n",
        "\r\n",
        "O = Point(0, 0)\r\n",
        "SegmLM1 = SegmLM.perpendicular_line(O)\r\n",
        "RayMN1 = RayMN.perpendicular_line(O)\r\n",
        "\r\n",
        "ax.plot([M.x, N.x], [M.y, N.y], label = SegmLM1.equation(x='x', y='y'))\r\n",
        "ax.plot([SegmLM.p1.x, SegmLM.p2.x], [SegmLM.p1.y, SegmLM.p2.y], label = RayMN1.equation(x='x', y='y'))\r\n",
        "ax.plot([LM.p1.x,  92/7], [LM.p1.y, 21], label = LM.equation(x='x', y='y'))\r\n",
        "ax.plot([MN.p2.x, 92/7], [MN.p2.y, 21], label = MN.equation(x='x', y='y'))\r\n",
        "\r\n",
        "ax.scatter(92/7, 21)\r\n",
        "ax.annotate('P', xy=(92/7, 21), xycoords='data', xytext=(92/7 + 0.05, 21 - 2), textcoords='data')\r\n",
        "\r\n",
        "ax.scatter(2144/1267, 10487/1267, color = \"blue\")\r\n",
        "ax.annotate('P1', xy=(2144/1267, 10487/1267), xycoords='data', xytext=(2144/1267, 10487/1267 + 2), color = \"blue\", textcoords='data')\r\n",
        "\r\n",
        "ax.scatter(584/97, 425/97, color = \"black\")\r\n",
        "ax.annotate('P2', xy=(584/97, 425/97), xycoords='data', xytext=(584/97 + 1, 425/97 + 1), color = \"black\", textcoords='data')\r\n",
        "\r\n",
        "ax.scatter(X, Y)\r\n",
        "\r\n",
        "ax.legend()"
      ],
      "execution_count": 89,
      "outputs": [
        {
          "output_type": "display_data",
          "data": {
            "application/vnd.google.colaboratory.intrinsic+json": {
              "type": "string"
            },
            "text/plain": [
              "'Пересечение 1:'"
            ]
          },
          "metadata": {
            "tags": []
          }
        },
        {
          "output_type": "display_data",
          "data": {
            "text/latex": "$\\displaystyle Point2D\\left(\\frac{92}{7}, 21\\right)$",
            "text/plain": [
              "Point2D(92/7, 21)"
            ]
          },
          "metadata": {
            "tags": []
          }
        },
        {
          "output_type": "display_data",
          "data": {
            "application/vnd.google.colaboratory.intrinsic+json": {
              "type": "string"
            },
            "text/plain": [
              "'Пересечение 2:'"
            ]
          },
          "metadata": {
            "tags": []
          }
        },
        {
          "output_type": "display_data",
          "data": {
            "text/latex": "$\\displaystyle Point2D\\left(\\frac{2144}{1267}, \\frac{10487}{1267}\\right)$",
            "text/plain": [
              "Point2D(2144/1267, 10487/1267)"
            ]
          },
          "metadata": {
            "tags": []
          }
        },
        {
          "output_type": "display_data",
          "data": {
            "application/vnd.google.colaboratory.intrinsic+json": {
              "type": "string"
            },
            "text/plain": [
              "'Пересечение 3:'"
            ]
          },
          "metadata": {
            "tags": []
          }
        },
        {
          "output_type": "display_data",
          "data": {
            "text/latex": "$\\displaystyle Point2D\\left(\\frac{584}{97}, \\frac{425}{97}\\right)$",
            "text/plain": [
              "Point2D(584/97, 425/97)"
            ]
          },
          "metadata": {
            "tags": []
          }
        },
        {
          "output_type": "display_data",
          "data": {
            "application/vnd.google.colaboratory.intrinsic+json": {
              "type": "string"
            },
            "text/plain": [
              "'Уравнение 1:'"
            ]
          },
          "metadata": {
            "tags": []
          }
        },
        {
          "output_type": "display_data",
          "data": {
            "text/latex": "$\\displaystyle - 14 x + 6 y + 58$",
            "text/plain": [
              "-14*x + 6*y + 58"
            ]
          },
          "metadata": {
            "tags": []
          }
        },
        {
          "output_type": "display_data",
          "data": {
            "application/vnd.google.colaboratory.intrinsic+json": {
              "type": "string"
            },
            "text/plain": [
              "'Уравнение 2:'"
            ]
          },
          "metadata": {
            "tags": []
          }
        },
        {
          "output_type": "display_data",
          "data": {
            "text/latex": "$\\displaystyle 10 x - 9 y + \\frac{403}{7}$",
            "text/plain": [
              "10*x - 9*y + 403/7"
            ]
          },
          "metadata": {
            "tags": []
          }
        },
        {
          "output_type": "execute_result",
          "data": {
            "text/plain": [
              "<matplotlib.legend.Legend at 0x7fd9107656d0>"
            ]
          },
          "metadata": {
            "tags": []
          },
          "execution_count": 89
        },
        {
          "output_type": "display_data",
          "data": {
            "image/png": "[encoded data removed]",
            "text/plain": [
              "<Figure size 432x288 with 1 Axes>"
            ]
          },
          "metadata": {
            "tags": [],
            "needs_background": "light"
          }
        }
      ]
    }
  ]
}