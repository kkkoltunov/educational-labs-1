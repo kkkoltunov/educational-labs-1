{
 "cells": [
  {
   "cell_type": "code",
   "execution_count": 1,
   "metadata": {
    "id": "8kTcxx91CVgD"
   },
   "outputs": [],
   "source": [
    "import matplotlib.pyplot as plt\n",
    "import sympy\n",
    "from sympy import Ellipse, Point, Line, S, plot_implicit, Eq, solve"
   ]
  },
  {
   "cell_type": "markdown",
   "metadata": {
    "id": "dwUjdl0VCVgN"
   },
   "source": [
    "# Занятие 14\n",
    "# Алгебра\n",
    "### Задание 1.\n",
    "Построить эллипс с центром в точке А(1, 2), полуосями 3 и 2. Вычислить и вывести на экран эксцентриситет, площадь и длину дуги полученного эллипса, центр, полуоси, periapsis, apoapsis, межфокусное расстояние и фокусы."
   ]
  },
  {
   "cell_type": "code",
   "execution_count": 3,
   "metadata": {
    "colab": {
     "base_uri": "https://localhost:8080/",
     "height": 462
    },
    "id": "hiItFrN3CVgO",
    "outputId": "4a89b316-8277-4818-d23f-f1f5f044e4ab"
   },
   "outputs": [
    {
     "data": {
      "image/svg+xml": [
       "<svg xmlns=\"http://www.w3.org/2000/svg\"\n",
       "            xmlns:xlink=\"http://www.w3.org/1999/xlink\"\n",
       "            width=\"100.0\" height=\"100.0\" viewBox=\"-2.60000000000000 -0.600000000000000 7.20000000000000 5.20000000000000\"\n",
       "            preserveAspectRatio=\"xMinYMin meet\">\n",
       "            <defs>\n",
       "                <marker id=\"markerCircle\" markerWidth=\"8\" markerHeight=\"8\"\n",
       "                    refx=\"5\" refy=\"5\" markerUnits=\"strokeWidth\">\n",
       "                    <circle cx=\"5\" cy=\"5\" r=\"1.5\" style=\"stroke: none; fill:#000000;\"/>\n",
       "                </marker>\n",
       "                <marker id=\"markerArrow\" markerWidth=\"13\" markerHeight=\"13\" refx=\"2\" refy=\"4\"\n",
       "                       orient=\"auto\" markerUnits=\"strokeWidth\">\n",
       "                    <path d=\"M2,2 L2,6 L6,4\" style=\"fill: #000000;\" />\n",
       "                </marker>\n",
       "                <marker id=\"markerReverseArrow\" markerWidth=\"13\" markerHeight=\"13\" refx=\"6\" refy=\"4\"\n",
       "                       orient=\"auto\" markerUnits=\"strokeWidth\">\n",
       "                    <path d=\"M6,2 L6,6 L2,4\" style=\"fill: #000000;\" />\n",
       "                </marker>\n",
       "            </defs><g transform=\"matrix(1,0,0,-1,0,4.00000000000000)\"><ellipse fill=\"#66cc99\" stroke=\"#555555\" stroke-width=\"0.144000000000000\" opacity=\"0.6\" cx=\"1.00000000000000\" cy=\"2.00000000000000\" rx=\"3.00000000000000\" ry=\"2.00000000000000\"/></g></svg>"
      ],
      "text/latex": [
       "$\\displaystyle Ellipse\\left(Point2D\\left(1, 2\\right), 3, 2\\right)$"
      ],
      "text/plain": [
       "Ellipse(Point2D(1, 2), 3, 2)"
      ]
     },
     "metadata": {},
     "output_type": "display_data"
    },
    {
     "data": {
      "text/plain": [
       "'center'"
      ]
     },
     "metadata": {},
     "output_type": "display_data"
    },
    {
     "data": {
      "text/latex": [
       "$\\displaystyle Point2D\\left(1, 2\\right)$"
      ],
      "text/plain": [
       "Point2D(1, 2)"
      ]
     },
     "metadata": {},
     "output_type": "display_data"
    },
    {
     "data": {
      "text/plain": [
       "'hradius'"
      ]
     },
     "metadata": {},
     "output_type": "display_data"
    },
    {
     "data": {
      "text/latex": [
       "$\\displaystyle 3$"
      ],
      "text/plain": [
       "3"
      ]
     },
     "metadata": {},
     "output_type": "display_data"
    },
    {
     "data": {
      "text/plain": [
       "'vradius'"
      ]
     },
     "metadata": {},
     "output_type": "display_data"
    },
    {
     "data": {
      "text/latex": [
       "$\\displaystyle 2$"
      ],
      "text/plain": [
       "2"
      ]
     },
     "metadata": {},
     "output_type": "display_data"
    },
    {
     "data": {
      "text/plain": [
       "'area'"
      ]
     },
     "metadata": {},
     "output_type": "display_data"
    },
    {
     "data": {
      "text/latex": [
       "$\\displaystyle 6 \\pi$"
      ],
      "text/plain": [
       "6*pi"
      ]
     },
     "metadata": {},
     "output_type": "display_data"
    },
    {
     "data": {
      "text/plain": [
       "'circumference'"
      ]
     },
     "metadata": {},
     "output_type": "display_data"
    },
    {
     "data": {
      "text/latex": [
       "$\\displaystyle 12 E\\left(\\frac{5}{9}\\right)$"
      ],
      "text/plain": [
       "12*elliptic_e(5/9)"
      ]
     },
     "metadata": {},
     "output_type": "display_data"
    },
    {
     "data": {
      "text/plain": [
       "'eccentricity'"
      ]
     },
     "metadata": {},
     "output_type": "display_data"
    },
    {
     "data": {
      "text/latex": [
       "$\\displaystyle \\frac{\\sqrt{5}}{3}$"
      ],
      "text/plain": [
       "sqrt(5)/3"
      ]
     },
     "metadata": {},
     "output_type": "display_data"
    },
    {
     "data": {
      "text/plain": [
       "'periapsis'"
      ]
     },
     "metadata": {},
     "output_type": "display_data"
    },
    {
     "data": {
      "text/latex": [
       "$\\displaystyle 3 - \\sqrt{5}$"
      ],
      "text/plain": [
       "3 - sqrt(5)"
      ]
     },
     "metadata": {},
     "output_type": "display_data"
    },
    {
     "data": {
      "text/plain": [
       "'apoapsis'"
      ]
     },
     "metadata": {},
     "output_type": "display_data"
    },
    {
     "data": {
      "text/latex": [
       "$\\displaystyle \\sqrt{5} + 3$"
      ],
      "text/plain": [
       "sqrt(5) + 3"
      ]
     },
     "metadata": {},
     "output_type": "display_data"
    },
    {
     "data": {
      "text/plain": [
       "'focus_distance'"
      ]
     },
     "metadata": {},
     "output_type": "display_data"
    },
    {
     "data": {
      "text/latex": [
       "$\\displaystyle \\sqrt{5}$"
      ],
      "text/plain": [
       "sqrt(5)"
      ]
     },
     "metadata": {},
     "output_type": "display_data"
    },
    {
     "data": {
      "text/plain": [
       "'foci'"
      ]
     },
     "metadata": {},
     "output_type": "display_data"
    },
    {
     "data": {
      "text/plain": [
       "(Point2D(1 - sqrt(5), 2), Point2D(1 + sqrt(5), 2))"
      ]
     },
     "metadata": {},
     "output_type": "display_data"
    }
   ],
   "source": [
    "Ellipse1 = Ellipse(Point(1, 2), hradius=3, vradius=2)\n",
    "display(Ellipse1)\n",
    "\n",
    "props = {'center': Ellipse1.center, 'hradius': Ellipse1.hradius, 'vradius': Ellipse1.vradius, 'area': Ellipse1.area, 'circumference': Ellipse1.circumference, 'eccentricity': Ellipse1.eccentricity, 'periapsis': Ellipse1.periapsis, 'apoapsis': Ellipse1.apoapsis, 'focus_distance': Ellipse1.focus_distance, 'foci': Ellipse1.foci}\n",
    "\n",
    "for key in props.keys():\n",
    "  display(key, props[key])"
   ]
  },
  {
   "cell_type": "markdown",
   "metadata": {
    "id": "l_dm5NC7CVgO"
   },
   "source": [
    "### Задание 2.\n",
    "Вывести на экран уравнение эллипса из задания 1, повернутого на 30 градусов против часовой стрелки относительно его центра,  переменные u и v.\n",
    "\n",
    "Изоразить на графике эллипс и повернутый эллипс."
   ]
  },
  {
   "cell_type": "code",
   "execution_count": 4,
   "metadata": {
    "colab": {
     "base_uri": "https://localhost:8080/",
     "height": 381
    },
    "id": "VBu15XpSCVgO",
    "outputId": "40c7cad8-f7f9-45ad-e92c-4e6213234681"
   },
   "outputs": [
    {
     "data": {
      "text/latex": [
       "$\\displaystyle \\frac{\\left(- 30 x + y + 28\\right)^{2}}{3604} + \\frac{\\left(x + 30 y - 61\\right)^{2}}{8109} - 1$"
      ],
      "text/plain": [
       "(-30*x + y + 28)**2/3604 + (x + 30*y - 61)**2/8109 - 1"
      ]
     },
     "metadata": {},
     "output_type": "display_data"
    },
    {
     "data": {
      "text/latex": [
       "$\\displaystyle \\left(\\frac{u}{3} - \\frac{1}{3}\\right)^{2} + \\left(\\frac{v}{2} - 1\\right)^{2} - 1$"
      ],
      "text/plain": [
       "(u/3 - 1/3)**2 + (v/2 - 1)**2 - 1"
      ]
     },
     "metadata": {},
     "output_type": "display_data"
    },
    {
     "data": {
      "image/png": "[encoded data removed]",
      "text/plain": [
       "<Figure size 432x288 with 1 Axes>"
      ]
     },
     "metadata": {
      "needs_background": "light"
     },
     "output_type": "display_data"
    }
   ],
   "source": [
    "from sympy.abc import u, v\n",
    "EQ1 = Ellipse1.equation(_slope=30)\n",
    "display(EQ1)\n",
    "\n",
    "symb_free1 = EQ1.free_symbols\n",
    "dict_free1 = {str(a): a for a in symb_free1}\n",
    "\n",
    "EQ2 = Ellipse1.equation(x='u', y='v')\n",
    "display(EQ2)\n",
    "\n",
    "symb_free2 = EQ2.free_symbols\n",
    "dict_free2 = {str(a): a for a in symb_free2}\n",
    "\n",
    "p = plot_implicit(EQ1, (dict_free1['x'], -5, 5), (dict_free1['y'], -4, 6), aspect_ratio=(1, 1), show=False, adaptive=False)\n",
    "p.extend(plot_implicit(EQ2, (dict_free2['u'], -5, 5), (dict_free2['v'], -4, 6), aspect_ratio=(1, 1), show=False, adaptive=False))\n",
    "p.show()"
   ]
  },
  {
   "cell_type": "markdown",
   "metadata": {
    "id": "wKndnDwcCVgP"
   },
   "source": [
    "### Задание 3.\n",
    "Найти вершины эллипса из Задания 1.\n",
    "\n",
    "Указание: вершины эллипса искать как решение системы уравнений, составленной из уравнения эллипса и уравнения прямой, проходящей через форкусы (воспользоваться Line и методом equation()); вторую пару вершин получить как решение системы из уравнения эллипса и прямой, проходящей через центр эллипса перпендикулярно прямой, проходящей через фокусы. "
   ]
  },
  {
   "cell_type": "code",
   "execution_count": 5,
   "metadata": {
    "id": "3S-OaiKsCVgP"
   },
   "outputs": [
    {
     "name": "stdout",
     "output_type": "stream",
     "text": [
      "Первая пара\n"
     ]
    },
    {
     "data": {
      "text/latex": [
       "$\\displaystyle Point2D\\left(-2, 2\\right)$"
      ],
      "text/plain": [
       "Point2D(-2, 2)"
      ]
     },
     "metadata": {},
     "output_type": "display_data"
    },
    {
     "data": {
      "text/latex": [
       "$\\displaystyle Point2D\\left(4, 2\\right)$"
      ],
      "text/plain": [
       "Point2D(4, 2)"
      ]
     },
     "metadata": {},
     "output_type": "display_data"
    },
    {
     "name": "stdout",
     "output_type": "stream",
     "text": [
      "Вторая пара\n"
     ]
    },
    {
     "data": {
      "text/latex": [
       "$\\displaystyle Point2D\\left(1, 0\\right)$"
      ],
      "text/plain": [
       "Point2D(1, 0)"
      ]
     },
     "metadata": {},
     "output_type": "display_data"
    },
    {
     "data": {
      "text/latex": [
       "$\\displaystyle Point2D\\left(1, 4\\right)$"
      ],
      "text/plain": [
       "Point2D(1, 4)"
      ]
     },
     "metadata": {},
     "output_type": "display_data"
    }
   ],
   "source": [
    "AB = Line(Ellipse1.foci[0], Ellipse1.foci[1])\n",
    "dicts_list1 = solve([Eq(AB.equation(x='x', y='y'), 0), Eq(Ellipse1.equation(x='x', y='y'), 0)])\n",
    "CD = AB.perpendicular_line(Ellipse1.center)\n",
    "dicts_list2 = solve([Eq(CD.equation(x='x', y='y'), 0), Eq(Ellipse1.equation(x='x', y='y'), 0)])\n",
    "print('Первая пара')\n",
    "for point_dict in dicts_list1:\n",
    "    point = list()\n",
    "    for key in point_dict.keys():\n",
    "        point.append(point_dict[key])\n",
    "    display(Point(point[0], point[1]))\n",
    "print('Вторая пара')\n",
    "for point_dict in dicts_list2:\n",
    "    point = list()\n",
    "    for key in point_dict.keys():\n",
    "        point.append(point_dict[key])\n",
    "    display(Point(point[0], point[1]))"
   ]
  },
  {
   "cell_type": "markdown",
   "metadata": {
    "id": "p60BH3DeCVgP"
   },
   "source": [
    "###  Индивидуальное задание\n",
    "Построить эллипс с заданными центром, вертикальной полуосью  и эксцентриситетом.\n",
    "Изобразить на графике этот эллипс, а также эллипс, повернутый на угол $\\alpha$ против часовой стрелки. \n",
    "\n",
    "Вывести на экран центр и фокусы эллипса, длины полуосей, уравнение эллипса, вершины эллипса.\n",
    "\n",
    "Point2D(-1, 3), a=4, b=3, alpha = pi/4, против часовой стрелки."
   ]
  },
  {
   "cell_type": "code",
   "execution_count": null,
   "metadata": {
    "colab": {
     "base_uri": "https://localhost:8080/",
     "height": 534
    },
    "id": "IDbZ2UBVCVgQ",
    "outputId": "d061dce8-38d9-4cde-d48b-7d247cce7d0b"
   },
   "outputs": [
    {
     "data": {
      "image/svg+xml": [
       "<svg xmlns=\"http://www.w3.org/2000/svg\"\n",
       "            xmlns:xlink=\"http://www.w3.org/1999/xlink\"\n",
       "            width=\"100.0\" height=\"100.0\" viewBox=\"-5.80000000000000 -0.800000000000000 9.60000000000000 7.60000000000000\"\n",
       "            preserveAspectRatio=\"xMinYMin meet\">\n",
       "            <defs>\n",
       "                <marker id=\"markerCircle\" markerWidth=\"8\" markerHeight=\"8\"\n",
       "                    refx=\"5\" refy=\"5\" markerUnits=\"strokeWidth\">\n",
       "                    <circle cx=\"5\" cy=\"5\" r=\"1.5\" style=\"stroke: none; fill:#000000;\"/>\n",
       "                </marker>\n",
       "                <marker id=\"markerArrow\" markerWidth=\"13\" markerHeight=\"13\" refx=\"2\" refy=\"4\"\n",
       "                       orient=\"auto\" markerUnits=\"strokeWidth\">\n",
       "                    <path d=\"M2,2 L2,6 L6,4\" style=\"fill: #000000;\" />\n",
       "                </marker>\n",
       "                <marker id=\"markerReverseArrow\" markerWidth=\"13\" markerHeight=\"13\" refx=\"6\" refy=\"4\"\n",
       "                       orient=\"auto\" markerUnits=\"strokeWidth\">\n",
       "                    <path d=\"M6,2 L6,6 L2,4\" style=\"fill: #000000;\" />\n",
       "                </marker>\n",
       "            </defs><g transform=\"matrix(1,0,0,-1,0,6.00000000000000)\"><ellipse fill=\"#66cc99\" stroke=\"#555555\" stroke-width=\"0.192000000000000\" opacity=\"0.6\" cx=\"-1.00000000000000\" cy=\"3.00000000000000\" rx=\"4.00000000000000\" ry=\"3.00000000000000\"/></g></svg>"
      ],
      "text/latex": [
       "$\\displaystyle Ellipse\\left(Point2D\\left(-1, 3\\right), 4, 3\\right)$"
      ],
      "text/plain": [
       "Ellipse(Point2D(-1, 3), 4, 3)"
      ]
     },
     "metadata": {
      "tags": []
     },
     "output_type": "display_data"
    },
    {
     "data": {
      "application/vnd.google.colaboratory.intrinsic+json": {
       "type": "string"
      },
      "text/plain": [
       "'center'"
      ]
     },
     "metadata": {
      "tags": []
     },
     "output_type": "display_data"
    },
    {
     "data": {
      "text/latex": [
       "$\\displaystyle Point2D\\left(-1, 3\\right)$"
      ],
      "text/plain": [
       "Point2D(-1, 3)"
      ]
     },
     "metadata": {
      "tags": []
     },
     "output_type": "display_data"
    },
    {
     "data": {
      "application/vnd.google.colaboratory.intrinsic+json": {
       "type": "string"
      },
      "text/plain": [
       "'focus_distance'"
      ]
     },
     "metadata": {
      "tags": []
     },
     "output_type": "display_data"
    },
    {
     "data": {
      "text/latex": [
       "$\\displaystyle \\sqrt{7}$"
      ],
      "text/plain": [
       "sqrt(7)"
      ]
     },
     "metadata": {
      "tags": []
     },
     "output_type": "display_data"
    },
    {
     "data": {
      "application/vnd.google.colaboratory.intrinsic+json": {
       "type": "string"
      },
      "text/plain": [
       "'circumference'"
      ]
     },
     "metadata": {
      "tags": []
     },
     "output_type": "display_data"
    },
    {
     "data": {
      "text/latex": [
       "$\\displaystyle 16 E\\left(\\frac{7}{16}\\right)$"
      ],
      "text/plain": [
       "16*elliptic_e(7/16)"
      ]
     },
     "metadata": {
      "tags": []
     },
     "output_type": "display_data"
    },
    {
     "data": {
      "application/vnd.google.colaboratory.intrinsic+json": {
       "type": "string"
      },
      "text/plain": [
       "'foci'"
      ]
     },
     "metadata": {
      "tags": []
     },
     "output_type": "display_data"
    },
    {
     "data": {
      "text/plain": [
       "(Point2D(-sqrt(7) - 1, 3), Point2D(-1 + sqrt(7), 3))"
      ]
     },
     "metadata": {
      "tags": []
     },
     "output_type": "display_data"
    },
    {
     "data": {
      "text/latex": [
       "$\\displaystyle \\left(\\frac{x}{4} + \\frac{1}{4}\\right)^{2} + \\left(\\frac{y}{3} - 1\\right)^{2} - 1$"
      ],
      "text/plain": [
       "(x/4 + 1/4)**2 + (y/3 - 1)**2 - 1"
      ]
     },
     "metadata": {
      "tags": []
     },
     "output_type": "display_data"
    },
    {
     "data": {
      "image/png": "[encoded data removed]",
      "text/plain": [
       "<Figure size 432x288 with 1 Axes>"
      ]
     },
     "metadata": {
      "needs_background": "light",
      "tags": []
     },
     "output_type": "display_data"
    }
   ],
   "source": [
    "Ellipse2 = Ellipse(Point(-1, 3), hradius=4, vradius=3)\n",
    "display(Ellipse2)\n",
    "\n",
    "props = {'center': Ellipse2.center, 'focus_distance': Ellipse2.focus_distance,  'circumference': Ellipse2.circumference, 'foci': Ellipse2.foci}\n",
    "\n",
    "for key in props.keys():\n",
    "  display(key, props[key])\n",
    "\n",
    "from sympy.abc import x, y\n",
    "EQ1 = Ellipse1.equation(_slope=sympy.pi/4)\n",
    "\n",
    "symb_free1 = EQ1.free_symbols\n",
    "dict_free1 = {str(a): a for a in symb_free1}\n",
    "\n",
    "EQ2 = Ellipse2.equation(x='x', y='y')\n",
    "display(EQ2)\n",
    "\n",
    "symb_free2 = EQ2.free_symbols\n",
    "dict_free2 = {str(a): a for a in symb_free2}\n",
    "\n",
    "p = plot_implicit(EQ1, (dict_free1['x'], -5, 5), (dict_free1['y'], -3, 8), aspect_ratio=(1, 1), show=False, adaptive=False)\n",
    "p.extend(plot_implicit(EQ2, (dict_free2['x'], -5, 5), (dict_free2['y'], -3, 8), aspect_ratio=(1, 1), show=False, adaptive=False))\n",
    "p.show()"
   ]
  }
 ],
 "metadata": {
  "colab": {
   "collapsed_sections": [],
   "name": "KOLTUNOVAlg_14_2020_ellipse_task.ipynb",
   "provenance": []
  },
  "kernelspec": {
   "display_name": "Python 3",
   "language": "python",
   "name": "python3"
  },
  "language_info": {
   "codemirror_mode": {
    "name": "ipython",
    "version": 3
   },
   "file_extension": ".py",
   "mimetype": "text/x-python",
   "name": "python",
   "nbconvert_exporter": "python",
   "pygments_lexer": "ipython3",
   "version": "3.8.5"
  }
 },
 "nbformat": 4,
 "nbformat_minor": 1
}
