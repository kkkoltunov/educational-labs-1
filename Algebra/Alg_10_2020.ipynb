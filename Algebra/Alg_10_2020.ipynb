{
  "nbformat": 4,
  "nbformat_minor": 0,
  "metadata": {
    "kernelspec": {
      "display_name": "Python 3",
      "language": "python",
      "name": "python3"
    },
    "language_info": {
      "codemirror_mode": {
        "name": "ipython",
        "version": 3
      },
      "file_extension": ".py",
      "mimetype": "text/x-python",
      "name": "python",
      "nbconvert_exporter": "python",
      "pygments_lexer": "ipython3",
      "version": "3.7.3"
    },
    "colab": {
      "name": "KOLTUNOVAlg_10_2020_complex_num_tasks.ipynb",
      "provenance": []
    }
  },
  "cells": [
    {
      "cell_type": "code",
      "metadata": {
        "id": "Cs1nJUEpqw9D"
      },
      "source": [
        "import sympy\n",
        "from sympy import I\n",
        "import numpy as np\n",
        "import matplotlib.pyplot as plt\n",
        "from sympy import sin as sin\n",
        "from sympy import cos as cos\n",
        "from sympy import pi as Pi\n",
        "from sympy import atan as atan\n",
        "from sympy import exp as exp"
      ],
      "execution_count": 7,
      "outputs": []
    },
    {
      "cell_type": "markdown",
      "metadata": {
        "id": "V47UO-YIqw9J"
      },
      "source": [
        "# Занятие 10\n",
        "# Алгебра\n",
        "## Комплексные числа в sympy\n",
        "### Задание 1.\n",
        "Даны комплексные числа\n",
        "$$\n",
        "z_1 = 5\\sqrt{3} + 5i,\\quad z_2 = -3 + 3i,\\quad z_3 = - 1 + i,\\quad z_4 = i,\\quad z_5 = \\frac{12}{13} + \\frac{5}{13}i,\n",
        "$$\n",
        "вычислить (представить в алгебраической форме) с помощью sympy\n",
        "$$\n",
        "z_1 \\cdot z_2,\\quad (z_2 - 5z_3)^6,\\quad \\sqrt{\\frac{z_4}{z_3}},\\quad \\frac{z_1^2 + z_3}{13z_5 - 2z_2}.\n",
        "$$"
      ]
    },
    {
      "cell_type": "code",
      "metadata": {
        "colab": {
          "base_uri": "https://localhost:8080/",
          "height": 170
        },
        "id": "OWDCwbOkqw9K",
        "outputId": "06fee63d-7010-4426-c99e-e4e7f8572157"
      },
      "source": [
        "z1 = 5*3**sympy.S.Half + 5*I\n",
        "z2 = -3 + 3*I\n",
        "z3 = -1 + I\n",
        "z4 = I\n",
        "z5 = sympy.S(12)/13 + sympy.S(5)/13*I\n",
        "\n",
        "display(sympy.expand_complex(z1 * z2), sympy.expand_complex((z2 - 5*z3)**6), sympy.expand_complex((sympy.S(z4)/z3)**sympy.S.Half), sympy.expand_complex((z1**2 + z3)/(13*z5 - 2*z2)))"
      ],
      "execution_count": 4,
      "outputs": [
        {
          "output_type": "display_data",
          "data": {
            "text/latex": "$\\displaystyle - 15 \\sqrt{3} - 15 + i \\left(-15 + 15 \\sqrt{3}\\right)$",
            "text/plain": [
              "-15*sqrt(3) - 15 + I*(-15 + 15*sqrt(3))"
            ]
          },
          "metadata": {
            "tags": []
          }
        },
        {
          "output_type": "display_data",
          "data": {
            "text/latex": "$\\displaystyle 512 i$",
            "text/plain": [
              "512*I"
            ]
          },
          "metadata": {
            "tags": []
          }
        },
        {
          "output_type": "display_data",
          "data": {
            "text/latex": "$\\displaystyle \\frac{2^{\\frac{3}{4}} \\sqrt{\\frac{\\sqrt{2}}{4} + \\frac{1}{2}}}{2} - \\frac{2^{\\frac{3}{4}} i \\sqrt{\\frac{1}{2} - \\frac{\\sqrt{2}}{4}}}{2}$",
            "text/plain": [
              "2**(3/4)*sqrt(sqrt(2)/4 + 1/2)/2 - 2**(3/4)*I*sqrt(1/2 - sqrt(2)/4)/2"
            ]
          },
          "metadata": {
            "tags": []
          }
        },
        {
          "output_type": "display_data",
          "data": {
            "text/latex": "$\\displaystyle - \\frac{2 \\sqrt{3}}{13} + \\frac{881}{325} + i \\left(\\frac{67}{325} + \\frac{36 \\sqrt{3}}{13}\\right)$",
            "text/plain": [
              "-2*sqrt(3)/13 + 881/325 + I*(67/325 + 36*sqrt(3)/13)"
            ]
          },
          "metadata": {
            "tags": []
          }
        }
      ]
    },
    {
      "cell_type": "markdown",
      "metadata": {
        "id": "HqtXmvXlqw9K"
      },
      "source": [
        "### Задание  2.\n",
        "Вычисления Примера 1 проделать для мнимой единицы из python (использовать встроенную функцию complex).\n",
        "\n",
        "Даны комплексные числа\n",
        "$$\n",
        "z_1 = 5\\sqrt{3} + 5i,\\quad z_2 = -3 + 3i,\\quad z_3 = - 1 + i,\\quad z_4 = i,\\quad z_5 = \\frac{12}{13} + \\frac{5}{13}i,\n",
        "$$\n",
        "вычислить (представить в алгебраической форме) с помощью sympy\n",
        "$$\n",
        "z_1 \\cdot z_2,\\quad (z_2 - 5z_3)^6,\\quad \\sqrt{\\frac{z_4}{z_3}},\\quad \\frac{z_1^2 + z_3}{13z_5 - 2z_2}.\n",
        "$$"
      ]
    },
    {
      "cell_type": "code",
      "metadata": {
        "colab": {
          "base_uri": "https://localhost:8080/",
          "height": 103
        },
        "id": "vmxVfjIOqw9L",
        "outputId": "9e802133-e637-4e9b-a57a-dfaffeede3fd"
      },
      "source": [
        "z1 = complex(5 * 3**(1/2), 5)\n",
        "z2 = complex(-3, 3)\n",
        "z3 = complex(-1, 1)\n",
        "z4 = complex(0, 1)\n",
        "z5 = complex(12/13, 5/13)\n",
        "\n",
        "display(sympy.expand_complex(z1 * z2), sympy.expand_complex((z2 - 5*z3)**6), sympy.expand_complex((sympy.S(z4)/z3)**sympy.S.Half), sympy.expand_complex((z1**2 + z3)/(13*z5 - 2*z2)))"
      ],
      "execution_count": 5,
      "outputs": [
        {
          "output_type": "display_data",
          "data": {
            "text/latex": "$\\displaystyle -40.9807621135332 + 10.9807621135332 i$",
            "text/plain": [
              "-40.9807621135332 + 10.9807621135332*I"
            ]
          },
          "metadata": {
            "tags": []
          }
        },
        {
          "output_type": "display_data",
          "data": {
            "text/latex": "$\\displaystyle 512.0 i$",
            "text/plain": [
              "512.0*I"
            ]
          },
          "metadata": {
            "tags": []
          }
        },
        {
          "output_type": "display_data",
          "data": {
            "text/latex": "$\\displaystyle 0.776886987015019 - 0.321797126452791 i$",
            "text/plain": [
              "0.776886987015019 - 0.321797126452791*I"
            ]
          },
          "metadata": {
            "tags": []
          }
        },
        {
          "output_type": "display_data",
          "data": {
            "text/latex": "$\\displaystyle 2.44429987575863 + 5.00260223634458 i$",
            "text/plain": [
              "2.44429987575863 + 5.00260223634458*I"
            ]
          },
          "metadata": {
            "tags": []
          }
        }
      ]
    },
    {
      "cell_type": "markdown",
      "metadata": {
        "id": "wtkJRAuIqw9L"
      },
      "source": [
        "### Задание  3.\n",
        "Изобразить на координатной плоскости точки, соответствующие корням  $7$-й степени комплексного числа $z = \\frac{3}{5} + i\\frac{3}{5}$. Подписать точки $Ak$, где $k$  - номер корня."
      ]
    },
    {
      "cell_type": "code",
      "metadata": {
        "colab": {
          "base_uri": "https://localhost:8080/",
          "height": 300
        },
        "id": "gU_SRULRqw9L",
        "outputId": "3a7873f8-cae1-42e4-db1e-dbd7b57b82f0"
      },
      "source": [
        "z9 = sympy.S(3)/5 + sympy.S(3)/5 * I\n",
        "\n",
        "n = 7\n",
        "roots_list3 = [sympy.root(z9, n, k) for k in range(n)]\n",
        "\n",
        "roots_x = [sympy.re(item) for item in roots_list3]\n",
        "roots_y = [sympy.im(item) for item in roots_list3]\n",
        "\n",
        "roots3 = [1, 2, 3, 4, 5, 6, 7]\n",
        "\n",
        "plt.scatter(roots_x, roots_y)\n",
        "for k, x_coord in enumerate(roots_x):\n",
        "  plt.annotate('$A_' + str(k) + ' = ' + sympy.latex(roots3[k]) + '$',\n",
        "    xy=(x_coord, roots_y[k]),\n",
        "    xytext=(x_coord + 0.05, roots_y[k] - 0.05))\n",
        "plt.axis('equal')\n",
        "plt.xlabel(\"Re\")\n",
        "plt.ylabel(\"Im\")\n",
        "plt.xlim(-2.5, 4.5)\n",
        "plt.ylim(-1.5, 1.5)"
      ],
      "execution_count": null,
      "outputs": [
        {
          "output_type": "execute_result",
          "data": {
            "text/plain": [
              "(-1.5, 1.5)"
            ]
          },
          "metadata": {
            "tags": []
          },
          "execution_count": 21
        },
        {
          "output_type": "display_data",
          "data": {
            "image/png": "[encoded data removed]",
            "text/plain": [
              "<Figure size 432x288 with 1 Axes>"
            ]
          },
          "metadata": {
            "tags": [],
            "needs_background": "light"
          }
        }
      ]
    },
    {
      "cell_type": "markdown",
      "metadata": {
        "id": "vDU-htGUqw9M"
      },
      "source": [
        "### Задание  4.\n",
        "Изобразить на координатной плоскости точки, соответствующие $z_4 = - \\frac{3}{5} + \\frac{4}{5}i$ и $\\bar{z_4}$, подписать $z_4$ тригонометрической формой, $\\bar{z_4}$ - экспоненциальной ($z = r e^{i\\varphi}$, $r$ и $\\varphi$ такие же, как в тригонометрической форме)."
      ]
    },
    {
      "cell_type": "code",
      "metadata": {
        "colab": {
          "base_uri": "https://localhost:8080/",
          "height": 296
        },
        "id": "6WTxPpOMqw9M",
        "outputId": "0fb65981-299d-4987-80ad-2e58e52da909"
      },
      "source": [
        "z4 = -sympy.S(3)/5 + sympy.S(4)/5*I\n",
        "z4_ = sympy.conjugate(z4)\n",
        "\n",
        "roots_x = [sympy.re(item) for item in [z4,z4_]]\n",
        "roots_y = [sympy.im(item) for item in [z4,z4_]]\n",
        "plt.scatter(roots_x, roots_y)\n",
        "\n",
        "\n",
        "plt.annotate('$z4 =  ' + sympy.latex(1 *(cos(Pi - atan(4/3)) + I*sin(Pi - atan(4/3)))) + '$', xy=(roots_x[0], roots_y[0]),xytext=(roots_x[0] + 0.05, roots_y[0] - 0.05))\n",
        "plt.annotate('$~z4 = ' + sympy.latex(exp(I - Pi + atan(4/3))) + '$', xy=(roots_x[1], roots_y[1]),xytext=(roots_x[1] + 0.05, roots_y[1] - 0.05))\n",
        "\n",
        "plt.axis('equal')\n",
        "plt.xlabel(\"Re\") \n",
        "plt.ylabel(\"Im\")\n",
        "plt.xlim(-10, 10)\n",
        "plt.ylim(-10, 10)"
      ],
      "execution_count": 9,
      "outputs": [
        {
          "output_type": "execute_result",
          "data": {
            "text/plain": [
              "(-10.0, 10.0)"
            ]
          },
          "metadata": {
            "tags": []
          },
          "execution_count": 9
        },
        {
          "output_type": "display_data",
          "data": {
            "image/png": "[encoded data removed]",
            "text/plain": [
              "<Figure size 432x288 with 1 Axes>"
            ]
          },
          "metadata": {
            "tags": [],
            "needs_background": "light"
          }
        }
      ]
    },
    {
      "cell_type": "markdown",
      "metadata": {
        "id": "ol1L0ztAqw9M"
      },
      "source": [
        "#### Задание  5.\n",
        "Изобразить корни 4 степени числа $5e^{\\frac{i\\pi}{8}}$, в полярной системе координат, подписи к точкам - аргументы (углы) сответствующих комплексных чисел. \n",
        "\n",
        "Число вводить в тригонометрической форме, для получения корней комплексного числа $z = r(\\cos(\\varphi) + \\sin(\\varphi))$ использовать формулу \n",
        "$\\sqrt[n]{z} = \\sqrt[n]{r}(\\cos(\\varphi_k) + i \\sin(\\varphi_k))$, \n",
        "$\\varphi_k = \\frac{\\varphi + 2\\pi k}{n}$, $k = 0, ..., n$. \n",
        "\n",
        "Вывести алгебраическую форму полученных корней на экран и сравнить с результатом, полученным с помощью sympy.root (с использованием sympy.expand_complex для упрощения выражения). Аналитическое представление оказывается разным.\n",
        "\n",
        "Для каждого корня найти разность в формате float модуля разности корней, полученных двумя способами (т.е. нужно для каждой пары одинаковых корней, полученных двумя способами находить разность корней, вычислять модуль sympy.Abs этой разности и преобразовывать результат в формат float)."
      ]
    },
    {
      "cell_type": "code",
      "metadata": {
        "id": "FrbQdtkiqw9N",
        "colab": {
          "base_uri": "https://localhost:8080/",
          "height": 636
        },
        "outputId": "13e4ee8a-774e-408a-ebc4-539159905f99"
      },
      "source": [
        "n=4\n",
        "z = 5*cos(Pi/8) + 5*I*sin(Pi/8)\n",
        "r = 5**sympy.S(1)/n \n",
        "args_list = [(Pi/8+2*Pi*k)/n for k in range(n)]\n",
        "\n",
        "roots = [r * (cos(args_list[k]) + I* sin(args_list[k])) for k in range(n)]\n",
        "\n",
        "names = ('K', 'L', 'M', 'N', 'P', 'Q', 'R')\n",
        "\n",
        "plt.polar(args_list, [r]*4, 'go')\n",
        "\n",
        "for k, phi_k in enumerate(args_list):\n",
        "    plt.annotate(names[k] + ' arg: '+ '$'+ sympy.latex(phi_k) + '$', \n",
        "                 xy=(phi_k, r),\n",
        "                 xytext=(phi_k + 0.15, r))\n",
        "    \n",
        "for i in range(4):\n",
        "    my_root = sympy.expand_complex(roots[i])\n",
        "    sympy_root = sympy.expand_complex(sympy.root(1 - I, n, i))\n",
        "    display(my_root)\n",
        "    display(sympy_root)\n",
        "    display(float(sympy.Abs(my_root - sympy_root)))"
      ],
      "execution_count": 13,
      "outputs": [
        {
          "output_type": "display_data",
          "data": {
            "text/latex": "$\\displaystyle \\frac{5 \\cos{\\left(\\frac{\\pi}{32} \\right)}}{4} + \\frac{5 i \\sin{\\left(\\frac{\\pi}{32} \\right)}}{4}$",
            "text/plain": [
              "5*cos(pi/32)/4 + 5*I*sin(pi/32)/4"
            ]
          },
          "metadata": {
            "tags": []
          }
        },
        {
          "output_type": "display_data",
          "data": {
            "text/latex": "$\\displaystyle \\sqrt[8]{2} \\cos{\\left(\\frac{\\pi}{16} \\right)} - \\sqrt[8]{2} i \\sin{\\left(\\frac{\\pi}{16} \\right)}$",
            "text/plain": [
              "2**(1/8)*cos(pi/16) - 2**(1/8)*I*sin(pi/16)"
            ]
          },
          "metadata": {
            "tags": []
          }
        },
        {
          "output_type": "display_data",
          "data": {
            "text/plain": [
              "0.37792859836821985"
            ]
          },
          "metadata": {
            "tags": []
          }
        },
        {
          "output_type": "display_data",
          "data": {
            "text/latex": "$\\displaystyle - \\frac{5 \\cos{\\left(\\frac{15 \\pi}{32} \\right)}}{4} + \\frac{5 i \\sin{\\left(\\frac{15 \\pi}{32} \\right)}}{4}$",
            "text/plain": [
              "-5*cos(15*pi/32)/4 + 5*I*sin(15*pi/32)/4"
            ]
          },
          "metadata": {
            "tags": []
          }
        },
        {
          "output_type": "display_data",
          "data": {
            "text/latex": "$\\displaystyle \\sqrt[8]{2} \\sin{\\left(\\frac{\\pi}{16} \\right)} + \\sqrt[8]{2} i \\cos{\\left(\\frac{\\pi}{16} \\right)}$",
            "text/plain": [
              "2**(1/8)*sin(pi/16) + 2**(1/8)*I*cos(pi/16)"
            ]
          },
          "metadata": {
            "tags": []
          }
        },
        {
          "output_type": "display_data",
          "data": {
            "text/plain": [
              "0.37792859836821985"
            ]
          },
          "metadata": {
            "tags": []
          }
        },
        {
          "output_type": "display_data",
          "data": {
            "text/latex": "$\\displaystyle - \\frac{5 \\cos{\\left(\\frac{\\pi}{32} \\right)}}{4} - \\frac{5 i \\sin{\\left(\\frac{\\pi}{32} \\right)}}{4}$",
            "text/plain": [
              "-5*cos(pi/32)/4 - 5*I*sin(pi/32)/4"
            ]
          },
          "metadata": {
            "tags": []
          }
        },
        {
          "output_type": "display_data",
          "data": {
            "text/latex": "$\\displaystyle - \\sqrt[8]{2} \\cos{\\left(\\frac{\\pi}{16} \\right)} + \\sqrt[8]{2} i \\sin{\\left(\\frac{\\pi}{16} \\right)}$",
            "text/plain": [
              "-2**(1/8)*cos(pi/16) + 2**(1/8)*I*sin(pi/16)"
            ]
          },
          "metadata": {
            "tags": []
          }
        },
        {
          "output_type": "display_data",
          "data": {
            "text/plain": [
              "0.37792859836821985"
            ]
          },
          "metadata": {
            "tags": []
          }
        },
        {
          "output_type": "display_data",
          "data": {
            "text/latex": "$\\displaystyle \\frac{5 \\cos{\\left(\\frac{15 \\pi}{32} \\right)}}{4} - \\frac{5 i \\sin{\\left(\\frac{15 \\pi}{32} \\right)}}{4}$",
            "text/plain": [
              "5*cos(15*pi/32)/4 - 5*I*sin(15*pi/32)/4"
            ]
          },
          "metadata": {
            "tags": []
          }
        },
        {
          "output_type": "display_data",
          "data": {
            "text/latex": "$\\displaystyle - \\sqrt[8]{2} \\sin{\\left(\\frac{\\pi}{16} \\right)} - \\sqrt[8]{2} i \\cos{\\left(\\frac{\\pi}{16} \\right)}$",
            "text/plain": [
              "-2**(1/8)*sin(pi/16) - 2**(1/8)*I*cos(pi/16)"
            ]
          },
          "metadata": {
            "tags": []
          }
        },
        {
          "output_type": "display_data",
          "data": {
            "text/plain": [
              "0.37792859836821985"
            ]
          },
          "metadata": {
            "tags": []
          }
        },
        {
          "output_type": "display_data",
          "data": {
            "image/png": "[encoded data removed]",
            "text/plain": [
              "<Figure size 432x288 with 1 Axes>"
            ]
          },
          "metadata": {
            "tags": [],
            "needs_background": "light"
          }
        }
      ]
    },
    {
      "cell_type": "markdown",
      "metadata": {
        "id": "ux3XgUolqw9N"
      },
      "source": [
        "### Индивидуальное задание.\n",
        "Решить уравнение.\n",
        "Для получения корней использовать sympy.roots.\n",
        "Корни уравнения вывести на экран в алгебраической, тригонометрической и экспоненциальной форме.\n",
        "\n",
        "Вариант N 92\n",
        "\n",
        "$(-6 + 9 i)x^2 + (-150 - 48 i)x + 180 - 660 i = 0$"
      ]
    },
    {
      "cell_type": "code",
      "metadata": {
        "colab": {
          "base_uri": "https://localhost:8080/",
          "height": 273
        },
        "id": "2u2iAfpwqw9N",
        "outputId": "78a6c35c-8104-4acd-86a3-728fdd9f61da"
      },
      "source": [
        "x = sympy.Symbol('x')\n",
        "\n",
        "z1 = -6 + 9*I\n",
        "z2 = -150 - 48*I\n",
        "z3 = 180 - 660*I\n",
        "\n",
        "display('Алгебраическая форма:', *sympy.solve(sympy.Eq(z1 * x**2 + z2 * x**1 + z3 * x**0, 0)))\n",
        "\n",
        "z4 = -6 - 8*I\n",
        "z5 = 2 - 6*I\n",
        "\n",
        "display('Тригонометрическая форма:')\n",
        "\n",
        "r4 = sympy.functions.Abs(z4)\n",
        "phi4 = sympy.functions.arg(z4)\n",
        "r, phi = sympy.symbols('r phi')\n",
        "z4_trig = r*(sympy.cos(phi) + sympy.sin(phi)*I)\n",
        "print('Первый корень:')\n",
        "display(z4_trig)\n",
        "print('r =', r4, ' phi =', phi4)\n",
        "\n",
        "r5 = sympy.functions.Abs(z5)\n",
        "phi5 = sympy.functions.arg(z5)\n",
        "print('Второй корень:')\n",
        "display(z4_trig)\n",
        "print('r =', r5, ' phi =', phi5)\n",
        "\n",
        "display('Экспоненциальная форма:')\n",
        "display(r4*sympy.exp(phi4*I))\n",
        "display(r5*sympy.exp(phi5*I))"
      ],
      "execution_count": 20,
      "outputs": [
        {
          "output_type": "display_data",
          "data": {
            "application/vnd.google.colaboratory.intrinsic+json": {
              "type": "string"
            },
            "text/plain": [
              "'Алгебраическая форма:'"
            ]
          },
          "metadata": {
            "tags": []
          }
        },
        {
          "output_type": "display_data",
          "data": {
            "text/latex": "$\\displaystyle -6 - 8 i$",
            "text/plain": [
              "-6 - 8*I"
            ]
          },
          "metadata": {
            "tags": []
          }
        },
        {
          "output_type": "display_data",
          "data": {
            "text/latex": "$\\displaystyle 2 - 6 i$",
            "text/plain": [
              "2 - 6*I"
            ]
          },
          "metadata": {
            "tags": []
          }
        },
        {
          "output_type": "display_data",
          "data": {
            "application/vnd.google.colaboratory.intrinsic+json": {
              "type": "string"
            },
            "text/plain": [
              "'Тригонометрическая форма:'"
            ]
          },
          "metadata": {
            "tags": []
          }
        },
        {
          "output_type": "stream",
          "text": [
            "Первый корень:\n"
          ],
          "name": "stdout"
        },
        {
          "output_type": "display_data",
          "data": {
            "text/latex": "$\\displaystyle r \\left(i \\sin{\\left(\\phi \\right)} + \\cos{\\left(\\phi \\right)}\\right)$",
            "text/plain": [
              "r*(I*sin(phi) + cos(phi))"
            ]
          },
          "metadata": {
            "tags": []
          }
        },
        {
          "output_type": "stream",
          "text": [
            "r = 10  phi = -pi + atan(4/3)\n",
            "Второй корень:\n"
          ],
          "name": "stdout"
        },
        {
          "output_type": "display_data",
          "data": {
            "text/latex": "$\\displaystyle r \\left(i \\sin{\\left(\\phi \\right)} + \\cos{\\left(\\phi \\right)}\\right)$",
            "text/plain": [
              "r*(I*sin(phi) + cos(phi))"
            ]
          },
          "metadata": {
            "tags": []
          }
        },
        {
          "output_type": "stream",
          "text": [
            "r = 2*sqrt(10)  phi = -atan(3)\n"
          ],
          "name": "stdout"
        },
        {
          "output_type": "display_data",
          "data": {
            "application/vnd.google.colaboratory.intrinsic+json": {
              "type": "string"
            },
            "text/plain": [
              "'Экспоненциальная форма:'"
            ]
          },
          "metadata": {
            "tags": []
          }
        },
        {
          "output_type": "display_data",
          "data": {
            "text/latex": "$\\displaystyle 10 e^{i \\left(- \\pi + \\operatorname{atan}{\\left(\\frac{4}{3} \\right)}\\right)}$",
            "text/plain": [
              "10*exp(I*(-pi + atan(4/3)))"
            ]
          },
          "metadata": {
            "tags": []
          }
        },
        {
          "output_type": "display_data",
          "data": {
            "text/latex": "$\\displaystyle 2 \\sqrt{10} e^{- i \\operatorname{atan}{\\left(3 \\right)}}$",
            "text/plain": [
              "2*sqrt(10)*exp(-I*atan(3))"
            ]
          },
          "metadata": {
            "tags": []
          }
        }
      ]
    }
  ]
}