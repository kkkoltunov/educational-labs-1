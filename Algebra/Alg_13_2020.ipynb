{
  "nbformat": 4,
  "nbformat_minor": 0,
  "metadata": {
    "kernelspec": {
      "display_name": "Python 3",
      "language": "python",
      "name": "python3"
    },
    "language_info": {
      "codemirror_mode": {
        "name": "ipython",
        "version": 3
      },
      "file_extension": ".py",
      "mimetype": "text/x-python",
      "name": "python",
      "nbconvert_exporter": "python",
      "pygments_lexer": "ipython3",
      "version": "3.7.3"
    },
    "colab": {
      "name": "KOLTUNOVAlg_13_2020_quadr_form_tasks.ipynb",
      "provenance": [],
      "collapsed_sections": []
    }
  },
  "cells": [
    {
      "cell_type": "code",
      "metadata": {
        "id": "d6yIui90x6-E"
      },
      "source": [
        "import sympy\n",
        "from sympy import Eq, S, latex, plot_implicit, Matrix, symbols, simplify, expand, collect, solve, solveset\n",
        "from sympy import pi as Pi\n",
        "from sympy import cos as Cos\n",
        "from sympy import sin as Sin\n",
        "import matplotlib.pyplot as plt\n",
        "%matplotlib inline"
      ],
      "execution_count": null,
      "outputs": []
    },
    {
      "cell_type": "markdown",
      "metadata": {
        "id": "1jT4_z3rx6-G"
      },
      "source": [
        "# Занятие 13\n",
        "# Алгебра\n",
        "### Задание 1.\n",
        "Составить матрицу квадратичной формы $7x^2+10\\sqrt{3}xy-3y^2−20z^2$, проверить, что она определяет именно заданное уравнение. Найти и вывести на экран собственные числа и собственные векторы матрицы квадратичной формы. "
      ]
    },
    {
      "cell_type": "code",
      "metadata": {
        "colab": {
          "base_uri": "https://localhost:8080/",
          "height": 422
        },
        "id": "C5rWYMdWx6-H",
        "outputId": "e4261fe8-1186-4dbc-b2d2-c8bcbfc10ec7"
      },
      "source": [
        "from sympy.abc import x, y, z\n",
        "q = 7*x**2 + 10*sympy.sqrt(3)*x*y - 3*y**2 - 20*z**2\n",
        "Q = Matrix([[7, 10*sympy.sqrt(3)/2, 0], [10*sympy.sqrt(3)/2, -3, 0], [0, 0, -20]])\n",
        "display(Q)\n",
        "\n",
        "X = Matrix([x, y, z])\n",
        "res = simplify(expand(X.T*Q*X))\n",
        "display(X, res, res[0] - q)\n",
        "\n",
        "ev = Q.eigenvects()\n",
        "P = Matrix([])\n",
        "\n",
        "for item in ev:\n",
        "  degree = item[1]\n",
        "  print('собственное число', item[0], 'кратность', degree, 'собственный вектор')\n",
        "  for i in range(degree):\n",
        "    e_i = item[2][i]\n",
        "    display(e_i)\n",
        "    P = P.row_join(e_i.normalized())"
      ],
      "execution_count": null,
      "outputs": [
        {
          "output_type": "display_data",
          "data": {
            "text/latex": "$\\displaystyle \\left[\\begin{matrix}7 & 5 \\sqrt{3} & 0\\\\5 \\sqrt{3} & -3 & 0\\\\0 & 0 & -20\\end{matrix}\\right]$",
            "text/plain": [
              "Matrix([\n",
              "[        7, 5*sqrt(3),   0],\n",
              "[5*sqrt(3),        -3,   0],\n",
              "[        0,         0, -20]])"
            ]
          },
          "metadata": {
            "tags": []
          }
        },
        {
          "output_type": "display_data",
          "data": {
            "text/latex": "$\\displaystyle \\left[\\begin{matrix}x\\\\y\\\\z\\end{matrix}\\right]$",
            "text/plain": [
              "Matrix([\n",
              "[x],\n",
              "[y],\n",
              "[z]])"
            ]
          },
          "metadata": {
            "tags": []
          }
        },
        {
          "output_type": "display_data",
          "data": {
            "text/latex": "$\\displaystyle \\left[\\begin{matrix}7 x^{2} + 10 \\sqrt{3} x y - 3 y^{2} - 20 z^{2}\\end{matrix}\\right]$",
            "text/plain": [
              "Matrix([[7*x**2 + 10*sqrt(3)*x*y - 3*y**2 - 20*z**2]])"
            ]
          },
          "metadata": {
            "tags": []
          }
        },
        {
          "output_type": "display_data",
          "data": {
            "text/latex": "$\\displaystyle 0$",
            "text/plain": [
              "0"
            ]
          },
          "metadata": {
            "tags": []
          }
        },
        {
          "output_type": "stream",
          "text": [
            "собственное число -20 кратность 1 собственный вектор\n"
          ],
          "name": "stdout"
        },
        {
          "output_type": "display_data",
          "data": {
            "text/latex": "$\\displaystyle \\left[\\begin{matrix}0\\\\0\\\\1\\end{matrix}\\right]$",
            "text/plain": [
              "Matrix([\n",
              "[0],\n",
              "[0],\n",
              "[1]])"
            ]
          },
          "metadata": {
            "tags": []
          }
        },
        {
          "output_type": "stream",
          "text": [
            "собственное число -8 кратность 1 собственный вектор\n"
          ],
          "name": "stdout"
        },
        {
          "output_type": "display_data",
          "data": {
            "text/latex": "$\\displaystyle \\left[\\begin{matrix}- \\frac{\\sqrt{3}}{3}\\\\1\\\\0\\end{matrix}\\right]$",
            "text/plain": [
              "Matrix([\n",
              "[-sqrt(3)/3],\n",
              "[         1],\n",
              "[         0]])"
            ]
          },
          "metadata": {
            "tags": []
          }
        },
        {
          "output_type": "stream",
          "text": [
            "собственное число 12 кратность 1 собственный вектор\n"
          ],
          "name": "stdout"
        },
        {
          "output_type": "display_data",
          "data": {
            "text/latex": "$\\displaystyle \\left[\\begin{matrix}\\sqrt{3}\\\\1\\\\0\\end{matrix}\\right]$",
            "text/plain": [
              "Matrix([\n",
              "[sqrt(3)],\n",
              "[      1],\n",
              "[      0]])"
            ]
          },
          "metadata": {
            "tags": []
          }
        }
      ]
    },
    {
      "cell_type": "markdown",
      "metadata": {
        "id": "G2gQk8Tcx6-H"
      },
      "source": [
        "### Задание 2.\n",
        "Привести квадратичную форму Примера 1 к каноническому виду с помощью перехода к новому базису из собственных векторов."
      ]
    },
    {
      "cell_type": "code",
      "metadata": {
        "colab": {
          "base_uri": "https://localhost:8080/",
          "height": 257
        },
        "id": "a7e8r4hdx6-H",
        "outputId": "ef8b9159-fe58-404b-80f3-706753462dbb"
      },
      "source": [
        "display(q, Q, P)\n",
        "Q_new = P.T*Q*P\n",
        "display(simplify(Q_new))\n",
        "\n",
        "X = Matrix([x, y, z])\n",
        "res = simplify(expand(X.T*Q_new*X))[0]\n",
        "display(res)"
      ],
      "execution_count": null,
      "outputs": [
        {
          "output_type": "display_data",
          "data": {
            "text/latex": "$\\displaystyle 7 x^{2} + 10 \\sqrt{3} x y - 3 y^{2} - 20 z^{2}$",
            "text/plain": [
              "7*x**2 + 10*sqrt(3)*x*y - 3*y**2 - 20*z**2"
            ]
          },
          "metadata": {
            "tags": []
          }
        },
        {
          "output_type": "display_data",
          "data": {
            "text/latex": "$\\displaystyle \\left[\\begin{matrix}7 & 5 \\sqrt{3} & 0\\\\5 \\sqrt{3} & -3 & 0\\\\0 & 0 & -20\\end{matrix}\\right]$",
            "text/plain": [
              "Matrix([\n",
              "[        7, 5*sqrt(3),   0],\n",
              "[5*sqrt(3),        -3,   0],\n",
              "[        0,         0, -20]])"
            ]
          },
          "metadata": {
            "tags": []
          }
        },
        {
          "output_type": "display_data",
          "data": {
            "text/latex": "$\\displaystyle \\left[\\begin{matrix}0 & - \\frac{1}{2} & \\frac{\\sqrt{3}}{2}\\\\0 & \\frac{\\sqrt{3}}{2} & \\frac{1}{2}\\\\1 & 0 & 0\\end{matrix}\\right]$",
            "text/plain": [
              "Matrix([\n",
              "[0,      -1/2, sqrt(3)/2],\n",
              "[0, sqrt(3)/2,       1/2],\n",
              "[1,         0,         0]])"
            ]
          },
          "metadata": {
            "tags": []
          }
        },
        {
          "output_type": "display_data",
          "data": {
            "text/latex": "$\\displaystyle \\left[\\begin{matrix}-20 & 0 & 0\\\\0 & -8 & 0\\\\0 & 0 & 12\\end{matrix}\\right]$",
            "text/plain": [
              "Matrix([\n",
              "[-20,  0,  0],\n",
              "[  0, -8,  0],\n",
              "[  0,  0, 12]])"
            ]
          },
          "metadata": {
            "tags": []
          }
        },
        {
          "output_type": "display_data",
          "data": {
            "text/latex": "$\\displaystyle - 20 x^{2} - 8 y^{2} + 12 z^{2}$",
            "text/plain": [
              "-20*x**2 - 8*y**2 + 12*z**2"
            ]
          },
          "metadata": {
            "tags": []
          }
        }
      ]
    },
    {
      "cell_type": "markdown",
      "metadata": {
        "id": "DnPVjyX1x6-I"
      },
      "source": [
        "### Задание 3.\n",
        "Определить тип кривой второго порядка, заданной уравнением\n",
        "$$\n",
        "97x^2 - 144xy + 97y^2 + 482x - 532y = 3452\n",
        "$$\n",
        "Построить в одной координатной плоскости график заданного уравнения и канонического уравнения соответствующей кривой, каноническое уравнение сделать названием графика. "
      ]
    },
    {
      "cell_type": "code",
      "metadata": {
        "colab": {
          "base_uri": "https://localhost:8080/",
          "height": 714
        },
        "id": "7aLrqzYix6-I",
        "outputId": "c0e0ebac-9f51-4880-b072-29ea7f652604"
      },
      "source": [
        "A3 = Matrix([[97, -72, 241], [-72, 97, -266], [241, -266, -3452]])\n",
        "X3 = Matrix([x, y, 1])\n",
        "display(A3, X3)\n",
        "\n",
        "eq3 = Eq(simplify(expand(X3.transpose()*A3*X3))[0], 0)\n",
        "display(eq3)\n",
        "\n",
        "alpha = sympy.acot((A3[0, 0] - A3[1, 1])/(2*A3[0, 1]))/2\n",
        "P = Matrix([[Cos(alpha), -Sin(alpha), 0], [Sin(alpha), Cos(alpha), 0], [0, 0, 1]])\n",
        "display(P)\n",
        "\n",
        "A3 = simplify(expand((P.transpose()*A3*P)))\n",
        "display(A3)\n",
        "\n",
        "from sympy.abc import X, Y, Z\n",
        "X3 = Matrix((X, Y, 1)) \n",
        "simplify(expand((X3.T*A3*X3)[0]))\n",
        "X3_new = Matrix((X - A3[0, 2]/A3[0, 0], Y - A3[1, 2]/A3[1, 1], 1))\n",
        "eq3_new = simplify(expand(X3_new.T*A3*X3_new))[0]\n",
        "display(X3_new, eq3_new)\n",
        "\n",
        "free = eq3_new.subs({X: 0, Y: 0})\n",
        "eq3_last = eq3_new/(-free) + 1\n",
        "Eq(eq3_last, 1)\n",
        "\n",
        "eq3_last_xy = Eq(eq3_last.subs({X: x, Y: y}), 1)\n",
        "display(eq3_last_xy)\n",
        "\n",
        "p = plot_implicit(eq3, (x, -15, 15), (y, -15, 15), line_color='g', aspect_ratio=(1, 1), xlabel='$x$', ylabel='$y$', title=latex(eq3_last_xy, mode='inline') + '\\n', adaptive=False, show=False)\n",
        "p.extend(plot_implicit(eq3_last_xy, (x, -15, 15), (y, -20, 20), line_color='m', aspect_ratio=(1, 1), adaptive=False, show=False)) \n",
        "p.show()"
      ],
      "execution_count": null,
      "outputs": [
        {
          "output_type": "display_data",
          "data": {
            "text/latex": "$\\displaystyle \\left[\\begin{matrix}97 & -72 & 241\\\\-72 & 97 & -266\\\\241 & -266 & -3452\\end{matrix}\\right]$",
            "text/plain": [
              "Matrix([\n",
              "[ 97,  -72,   241],\n",
              "[-72,   97,  -266],\n",
              "[241, -266, -3452]])"
            ]
          },
          "metadata": {
            "tags": []
          }
        },
        {
          "output_type": "display_data",
          "data": {
            "text/latex": "$\\displaystyle \\left[\\begin{matrix}x\\\\y\\\\1\\end{matrix}\\right]$",
            "text/plain": [
              "Matrix([\n",
              "[x],\n",
              "[y],\n",
              "[1]])"
            ]
          },
          "metadata": {
            "tags": []
          }
        },
        {
          "output_type": "display_data",
          "data": {
            "text/latex": "$\\displaystyle 97 x^{2} - 144 x y + 482 x + 97 y^{2} - 532 y - 3452 = 0$",
            "text/plain": [
              "Eq(97*x**2 - 144*x*y + 482*x + 97*y**2 - 532*y - 3452, 0)"
            ]
          },
          "metadata": {
            "tags": []
          }
        },
        {
          "output_type": "display_data",
          "data": {
            "text/latex": "$\\displaystyle \\left[\\begin{matrix}\\frac{\\sqrt{2}}{2} & - \\frac{\\sqrt{2}}{2} & 0\\\\\\frac{\\sqrt{2}}{2} & \\frac{\\sqrt{2}}{2} & 0\\\\0 & 0 & 1\\end{matrix}\\right]$",
            "text/plain": [
              "Matrix([\n",
              "[sqrt(2)/2, -sqrt(2)/2, 0],\n",
              "[sqrt(2)/2,  sqrt(2)/2, 0],\n",
              "[        0,          0, 1]])"
            ]
          },
          "metadata": {
            "tags": []
          }
        },
        {
          "output_type": "display_data",
          "data": {
            "text/latex": "$\\displaystyle \\left[\\begin{matrix}25 & 0 & - \\frac{25 \\sqrt{2}}{2}\\\\0 & 169 & - \\frac{507 \\sqrt{2}}{2}\\\\- \\frac{25 \\sqrt{2}}{2} & - \\frac{507 \\sqrt{2}}{2} & -3452\\end{matrix}\\right]$",
            "text/plain": [
              "Matrix([\n",
              "[           25,              0,  -25*sqrt(2)/2],\n",
              "[            0,            169, -507*sqrt(2)/2],\n",
              "[-25*sqrt(2)/2, -507*sqrt(2)/2,          -3452]])"
            ]
          },
          "metadata": {
            "tags": []
          }
        },
        {
          "output_type": "display_data",
          "data": {
            "text/latex": "$\\displaystyle \\left[\\begin{matrix}X + \\frac{\\sqrt{2}}{2}\\\\Y + \\frac{3 \\sqrt{2}}{2}\\\\1\\end{matrix}\\right]$",
            "text/plain": [
              "Matrix([\n",
              "[  X + sqrt(2)/2],\n",
              "[Y + 3*sqrt(2)/2],\n",
              "[              1]])"
            ]
          },
          "metadata": {
            "tags": []
          }
        },
        {
          "output_type": "display_data",
          "data": {
            "text/latex": "$\\displaystyle 25 X^{2} + 169 Y^{2} - 4225$",
            "text/plain": [
              "25*X**2 + 169*Y**2 - 4225"
            ]
          },
          "metadata": {
            "tags": []
          }
        },
        {
          "output_type": "display_data",
          "data": {
            "text/latex": "$\\displaystyle \\frac{x^{2}}{169} + \\frac{y^{2}}{25} = 1$",
            "text/plain": [
              "Eq(x**2/169 + y**2/25, 1)"
            ]
          },
          "metadata": {
            "tags": []
          }
        },
        {
          "output_type": "display_data",
          "data": {
            "image/png": "[encoded data removed]",
            "text/plain": [
              "<Figure size 432x288 with 1 Axes>"
            ]
          },
          "metadata": {
            "tags": [],
            "needs_background": "light"
          }
        }
      ]
    },
    {
      "cell_type": "markdown",
      "metadata": {
        "id": "c-t7Qbk3x6-I"
      },
      "source": [
        "### Задание 4.\n",
        "Определить тип кривой второго порядка, заданной уравнением\n",
        "$$\n",
        "x^2+2xy+y^2-4x+4y=4\n",
        "$$\n",
        "Построить в одной координатной плоскости график заданного уравнения и канонического уравнения соответствующей кривой, каноническое уравнение сделать названием графика. \n",
        "\n",
        "Указание: каноническое уравнение параболы $y^2 = 2px$ или $x^2 = 2py$; для того, чтобы выразить $x$ или $y$ можно воспользоваться solve или solveset."
      ]
    },
    {
      "cell_type": "code",
      "metadata": {
        "colab": {
          "base_uri": "https://localhost:8080/",
          "height": 728
        },
        "id": "KgsnKqpbx6-I",
        "outputId": "3c372796-27fa-4fda-d843-e4a8e6662226"
      },
      "source": [
        "A3 = Matrix([[1, 1, -2], [1, 1, 2], [-2, 2, -4]])\n",
        "X3 = Matrix([x, y, 1])\n",
        "display(A3, X3)\n",
        "\n",
        "eq3 = Eq(simplify(expand(X3.transpose()*A3*X3))[0], 0)\n",
        "display(eq3)\n",
        "\n",
        "alpha = sympy.acot((A3[0, 0] - A3[1, 1])/(2*A3[0, 1]))/2\n",
        "P = Matrix([[Cos(alpha), -Sin(alpha), 0], [Sin(alpha), Cos(alpha), 0], [0, 0, 1]])\n",
        "display(P)\n",
        "\n",
        "A3 = simplify(expand((P.transpose()*A3*P)))\n",
        "display(A3)\n",
        "\n",
        "from sympy.abc import X, Y, Z\n",
        "X3 = Matrix((X, Y, 1)) \n",
        "display(simplify(expand((X3.T*A3*X3)[0])))\n",
        "X3_new = Matrix((X, Y + 2 ** (S(1) / 2) / 2, 1))\n",
        "eq3_new = simplify(expand(X3_new.T*A3*X3_new))[0]\n",
        "display(X3_new, eq3_new)\n",
        "\n",
        "eq3_last_xy = Eq(eq3_new.subs({X: x, Y: y}), 0)\n",
        "display(eq3_last_xy)\n",
        "right = solve(eq3_last_xy, x**2)[0]\n",
        "display(right)\n",
        "\n",
        "p = plot_implicit(eq3, (x, -15, 15), (y, -15, 2), line_color='g', aspect_ratio=(1, 1), xlabel='$x$', ylabel='$y$', title=latex(Eq(x**2, right), mode='inline') + '\\n', adaptive=False, show=False)\n",
        "p.extend(plot_implicit(eq3_last_xy, (x, -15, 15), (y, -20, 2), line_color='m', aspect_ratio=(1, 1), adaptive=False, show=False)) \n",
        "p.show()"
      ],
      "execution_count": null,
      "outputs": [
        {
          "output_type": "display_data",
          "data": {
            "text/latex": "$\\displaystyle \\left[\\begin{matrix}1 & 1 & -2\\\\1 & 1 & 2\\\\-2 & 2 & -4\\end{matrix}\\right]$",
            "text/plain": [
              "Matrix([\n",
              "[ 1, 1, -2],\n",
              "[ 1, 1,  2],\n",
              "[-2, 2, -4]])"
            ]
          },
          "metadata": {
            "tags": []
          }
        },
        {
          "output_type": "display_data",
          "data": {
            "text/latex": "$\\displaystyle \\left[\\begin{matrix}x\\\\y\\\\1\\end{matrix}\\right]$",
            "text/plain": [
              "Matrix([\n",
              "[x],\n",
              "[y],\n",
              "[1]])"
            ]
          },
          "metadata": {
            "tags": []
          }
        },
        {
          "output_type": "display_data",
          "data": {
            "text/latex": "$\\displaystyle x^{2} + 2 x y - 4 x + y^{2} + 4 y - 4 = 0$",
            "text/plain": [
              "Eq(x**2 + 2*x*y - 4*x + y**2 + 4*y - 4, 0)"
            ]
          },
          "metadata": {
            "tags": []
          }
        },
        {
          "output_type": "display_data",
          "data": {
            "text/latex": "$\\displaystyle \\left[\\begin{matrix}\\frac{\\sqrt{2}}{2} & - \\frac{\\sqrt{2}}{2} & 0\\\\\\frac{\\sqrt{2}}{2} & \\frac{\\sqrt{2}}{2} & 0\\\\0 & 0 & 1\\end{matrix}\\right]$",
            "text/plain": [
              "Matrix([\n",
              "[sqrt(2)/2, -sqrt(2)/2, 0],\n",
              "[sqrt(2)/2,  sqrt(2)/2, 0],\n",
              "[        0,          0, 1]])"
            ]
          },
          "metadata": {
            "tags": []
          }
        },
        {
          "output_type": "display_data",
          "data": {
            "text/latex": "$\\displaystyle \\left[\\begin{matrix}2 & 0 & 0\\\\0 & 0 & 2 \\sqrt{2}\\\\0 & 2 \\sqrt{2} & -4\\end{matrix}\\right]$",
            "text/plain": [
              "Matrix([\n",
              "[2,         0,         0],\n",
              "[0,         0, 2*sqrt(2)],\n",
              "[0, 2*sqrt(2),        -4]])"
            ]
          },
          "metadata": {
            "tags": []
          }
        },
        {
          "output_type": "display_data",
          "data": {
            "text/latex": "$\\displaystyle 2 X^{2} + 4 \\sqrt{2} Y - 4$",
            "text/plain": [
              "2*X**2 + 4*sqrt(2)*Y - 4"
            ]
          },
          "metadata": {
            "tags": []
          }
        },
        {
          "output_type": "display_data",
          "data": {
            "text/latex": "$\\displaystyle \\left[\\begin{matrix}X\\\\Y + \\frac{\\sqrt{2}}{2}\\\\1\\end{matrix}\\right]$",
            "text/plain": [
              "Matrix([\n",
              "[            X],\n",
              "[Y + sqrt(2)/2],\n",
              "[            1]])"
            ]
          },
          "metadata": {
            "tags": []
          }
        },
        {
          "output_type": "display_data",
          "data": {
            "text/latex": "$\\displaystyle 2 X^{2} + 4 \\sqrt{2} Y$",
            "text/plain": [
              "2*X**2 + 4*sqrt(2)*Y"
            ]
          },
          "metadata": {
            "tags": []
          }
        },
        {
          "output_type": "display_data",
          "data": {
            "text/latex": "$\\displaystyle 2 x^{2} + 4 \\sqrt{2} y = 0$",
            "text/plain": [
              "Eq(2*x**2 + 4*sqrt(2)*y, 0)"
            ]
          },
          "metadata": {
            "tags": []
          }
        },
        {
          "output_type": "display_data",
          "data": {
            "text/latex": "$\\displaystyle - 2 \\sqrt{2} y$",
            "text/plain": [
              "-2*sqrt(2)*y"
            ]
          },
          "metadata": {
            "tags": []
          }
        },
        {
          "output_type": "display_data",
          "data": {
            "image/png": "[encoded data removed]",
            "text/plain": [
              "<Figure size 432x288 with 1 Axes>"
            ]
          },
          "metadata": {
            "tags": [],
            "needs_background": "light"
          }
        }
      ]
    },
    {
      "cell_type": "markdown",
      "metadata": {
        "id": "lulVbtuex6-J"
      },
      "source": [
        "###  Индивидуальное задание\n",
        "Составить матрицу квадратичной формы и привести ее к каноническому виду с помощью перехода к новому базису из собственных векторов. Векторы выводить на экран не нужно. Вывести на экран матрицу в исходном виде и канонической форме, а также саму квадратичную форму в каноническом виде.\n",
        "\n",
        "Вариант N 92\n",
        "\n",
        "$$Q = 2336 x^{2} + 60 \\sqrt{11} x y + 164 \\sqrt{21} x z - 975 y^{2} - 30 \\sqrt{231} y z + 1639 z^{2}$$"
      ]
    },
    {
      "cell_type": "code",
      "metadata": {
        "colab": {
          "base_uri": "https://localhost:8080/",
          "height": 236
        },
        "id": "HSYdVGvCx6-J",
        "outputId": "79cebb51-4d7b-4d69-ec4b-80f8ab80a8d7"
      },
      "source": [
        "from sympy.abc import x, y, z\n",
        "Qi = Matrix([[2336, S(60*sympy.sqrt(11))/2, S(164*sympy.sqrt(21))/2], [S(60*sympy.sqrt(11))/2, -975, S(-30*sympy.sqrt(231))/2], [S(164*sympy.sqrt(21))/2, S(-30*sympy.sqrt(231))/2, 1639]])\n",
        "\n",
        "ev = Qi.eigenvects()\n",
        "Pind = Matrix([])\n",
        "\n",
        "for item in ev:\n",
        "  degree = item[1]\n",
        "  for i in range(degree):\n",
        "    e_i = item[2][i]\n",
        "    Pind = Pind.row_join(e_i.normalized())\n",
        "\n",
        "Q_new = Pind.T*Qi*Pind\n",
        "\n",
        "X = Matrix([x, y, z])\n",
        "res = simplify(expand(X.T*Q_new*X))[0]\n",
        "\n",
        "display(Qi, Pind, simplify(Q_new), res)"
      ],
      "execution_count": null,
      "outputs": [
        {
          "output_type": "display_data",
          "data": {
            "text/latex": "$\\displaystyle \\left[\\begin{matrix}2336 & 30 \\sqrt{11} & 82 \\sqrt{21}\\\\30 \\sqrt{11} & -975 & - 15 \\sqrt{231}\\\\82 \\sqrt{21} & - 15 \\sqrt{231} & 1639\\end{matrix}\\right]$",
            "text/plain": [
              "Matrix([\n",
              "[       2336,   30*sqrt(11),   82*sqrt(21)],\n",
              "[30*sqrt(11),          -975, -15*sqrt(231)],\n",
              "[82*sqrt(21), -15*sqrt(231),          1639]])"
            ]
          },
          "metadata": {
            "tags": []
          }
        },
        {
          "output_type": "display_data",
          "data": {
            "text/latex": "$\\displaystyle \\left[\\begin{matrix}- \\frac{1}{25} & - \\frac{3 \\sqrt{11}}{25} & \\frac{\\sqrt{21}}{5}\\\\\\frac{3 \\sqrt{11}}{10} & - \\frac{1}{10} & 0\\\\\\frac{\\sqrt{21}}{50} & \\frac{3 \\sqrt{231}}{50} & \\frac{2}{5}\\end{matrix}\\right]$",
            "text/plain": [
              "Matrix([\n",
              "[        -1/25, -3*sqrt(11)/25, sqrt(21)/5],\n",
              "[3*sqrt(11)/10,          -1/10,          0],\n",
              "[  sqrt(21)/50, 3*sqrt(231)/50,        2/5]])"
            ]
          },
          "metadata": {
            "tags": []
          }
        },
        {
          "output_type": "display_data",
          "data": {
            "text/latex": "$\\displaystyle \\left[\\begin{matrix}-1000 & 0 & 0\\\\0 & 1500 & 0\\\\0 & 0 & 2500\\end{matrix}\\right]$",
            "text/plain": [
              "Matrix([\n",
              "[-1000,    0,    0],\n",
              "[    0, 1500,    0],\n",
              "[    0,    0, 2500]])"
            ]
          },
          "metadata": {
            "tags": []
          }
        },
        {
          "output_type": "display_data",
          "data": {
            "text/latex": "$\\displaystyle - 1000 x^{2} + 1500 y^{2} + 2500 z^{2}$",
            "text/plain": [
              "-1000*x**2 + 1500*y**2 + 2500*z**2"
            ]
          },
          "metadata": {
            "tags": []
          }
        }
      ]
    }
  ]
}