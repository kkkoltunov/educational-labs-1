{
 "cells": [
  {
   "cell_type": "code",
   "execution_count": 2,
   "metadata": {},
   "outputs": [],
   "source": [
    "import sympy\n",
    "from sympy import  Symbol, symbols, S, Point, Line, Plane, Point3D"
   ]
  },
  {
   "cell_type": "markdown",
   "metadata": {},
   "source": [
    "# Занятие 6\n",
    "# Алгебра\n",
    "\n",
    "##  Прямые и плоскости в пространстве. Geometry.\n",
    "### Задание 1.\n",
    "Найти угол между плоскостями $ABC$ и  $ABD$, где \n",
    "$A(-1, 2, -4)$,\n",
    "$B(2, -2, 1)$,\n",
    "$C(5, 3, -6)$,\n",
    "$D(0, 3, -6)$."
   ]
  },
  {
   "cell_type": "code",
   "execution_count": 6,
   "metadata": {},
   "outputs": [
    {
     "data": {
      "text/latex": [
       "$\\displaystyle \\operatorname{acos}{\\left(\\frac{99 \\sqrt{40454}}{20227} \\right)}$"
      ],
      "text/plain": [
       "acos(99*sqrt(40454)/20227)"
      ]
     },
     "execution_count": 6,
     "metadata": {},
     "output_type": "execute_result"
    }
   ],
   "source": [
    "A = Point(-1, 2, -4)\n",
    "B = Point(2, -2, 1)\n",
    "C = Point(5, 3, -6)\n",
    "D = Point(0, 3, -6)\n",
    "\n",
    "ABC = Plane(A, B, C)\n",
    "ABD = Plane(A, B, D)\n",
    "ABC.angle_between(ABD)"
   ]
  },
  {
   "cell_type": "markdown",
   "metadata": {},
   "source": [
    "### Задание 2.\n",
    "Найти угол между прямой, проходящей через точки $A(-3,5,1)$ и $B(5,2,-3)$ и плоскостью, в которой лежат точки \n",
    "$K(4,3,0)$, $M(2,4,-2)$ и $N(-2,2,-1)$."
   ]
  },
  {
   "cell_type": "code",
   "execution_count": 9,
   "metadata": {},
   "outputs": [
    {
     "data": {
      "text/latex": [
       "$\\displaystyle - \\operatorname{asin}{\\left(\\frac{86 \\sqrt{15397}}{15397} \\right)}$"
      ],
      "text/plain": [
       "-asin(86*sqrt(15397)/15397)"
      ]
     },
     "execution_count": 9,
     "metadata": {},
     "output_type": "execute_result"
    }
   ],
   "source": [
    "A = Point(-3, 5, 1)\n",
    "B = Point(5, 2, -3)\n",
    "\n",
    "K = Point(4, 3, 0)\n",
    "M = Point(2, 4, -2)\n",
    "N = Point(-2, 2, -1)\n",
    "\n",
    "KMN = Plane(K, M, N)\n",
    "AB = Line(A, B)\n",
    "KMN.angle_between(AB)"
   ]
  },
  {
   "cell_type": "markdown",
   "metadata": {},
   "source": [
    "### Задание 3.\n",
    "Проверить, лежат ли точки в одной плоскости\n",
    "\n",
    "а) $A(3, 2, -1)$, $B(2, -1, 0)$, $C(5, 2, -6)$, $D(6, 5, -7)$\n",
    "\n",
    "b) $A(-1, 5, -4)$, $B(7, -2, 1)$, $C(6, 3, -8)$, $D(0, 3, 0)$"
   ]
  },
  {
   "cell_type": "code",
   "execution_count": 12,
   "metadata": {},
   "outputs": [
    {
     "data": {
      "text/plain": [
       "'1'"
      ]
     },
     "metadata": {},
     "output_type": "display_data"
    },
    {
     "data": {
      "text/plain": [
       "True"
      ]
     },
     "metadata": {},
     "output_type": "display_data"
    },
    {
     "data": {
      "text/plain": [
       "'2'"
      ]
     },
     "metadata": {},
     "output_type": "display_data"
    },
    {
     "data": {
      "text/plain": [
       "False"
      ]
     },
     "metadata": {},
     "output_type": "display_data"
    }
   ],
   "source": [
    "A = Point(3, 2, -1)\n",
    "B = Point(2, -1, 0)\n",
    "C = Point(5, 2, -6)\n",
    "D = Point(6, 5, -7)\n",
    "\n",
    "display('1', Point3D.are_coplanar(A, B, C, D))\n",
    "\n",
    "A = Point(-1, 5, -4)\n",
    "B = Point(7, -2, 1)\n",
    "C = Point(6, 3, -8)\n",
    "D = Point(0, 3, 0)\n",
    "\n",
    "display('2', Point3D.are_coplanar(A, B, C, D))"
   ]
  },
  {
   "cell_type": "markdown",
   "metadata": {},
   "source": [
    "###  Задание 4.\n",
    "Прямая задана параметрическими уравнениями:\n",
    "$$\n",
    "\\left\\{\\begin{matrix}\n",
    "x=2+5t\\\\\n",
    "y=-1-2t\\\\\n",
    "z=4-3t\n",
    "\\end{matrix}\\right..\n",
    "$$\n",
    "Представить прямую в виде линии пересечения двух плоскостей (вывести на экран уравнения плоскостей), \n",
    "одна из которых проходит через начало координат, а вторая плоскость перпендикулярна первой плоскости.\n",
    "\n",
    "Указание: сначала составить список правых частей параметрических уравнений, затем составить две различные точки на прямой и далее решить средствами для работы с прямыми и плоскостями из модуля Geometry."
   ]
  },
  {
   "cell_type": "code",
   "execution_count": 3,
   "metadata": {},
   "outputs": [
    {
     "data": {
      "text/latex": [
       "$\\displaystyle 11 x + 26 y + z$"
      ],
      "text/plain": [
       "11*x + 26*y + z"
      ]
     },
     "metadata": {},
     "output_type": "display_data"
    },
    {
     "data": {
      "text/latex": [
       "$\\displaystyle 76 x - 38 y + 152 z - 798$"
      ],
      "text/plain": [
       "76*x - 38*y + 152*z - 798"
      ]
     },
     "metadata": {},
     "output_type": "display_data"
    }
   ],
   "source": [
    "t = Symbol('t')\n",
    "O = Point(0, 0, 0)\n",
    "list_coords = [2 + 5*t, -1 -2*t, 4 - 3*t]\n",
    "\n",
    "A, B = [Point([list_coords[i].subs(t, j) for i in range(3)]) for j in (0, 1)]\n",
    "ABO = Plane(A, B, O)\n",
    "PlaneAB = ABO.perpendicular_plane(A, B)\n",
    "display(ABO.equation())\n",
    "display(PlaneAB.equation())"
   ]
  },
  {
   "cell_type": "markdown",
   "metadata": {},
   "source": [
    "###  Задание 5.\n",
    "Даны точки  пространстве\n",
    "$A(-2, 7, -5)$, $B(6, 2, -4)$, $C(14, -3, -2)$, $D(22, -8, -2)$, $K(30, -7, -4)$,\n",
    "$M(94, -35, -2)$.\n",
    "\n",
    "Определить, какие тройки точек лежат на одной прямой, какие четверки - в одной плоскости.\n",
    "\n",
    "Для проверки того, что три точки лежат на одной прямой использовать Point3D.are_collinear.\n",
    "\n",
    "Вывести на экран тройки точек, лежащие на одной прямой и четверки точек, лежащих в одной плоскости."
   ]
  },
  {
   "cell_type": "code",
   "execution_count": 8,
   "metadata": {},
   "outputs": [
    {
     "data": {
      "text/plain": [
       "'Лежат на одной прямой:'"
      ]
     },
     "metadata": {},
     "output_type": "display_data"
    },
    {
     "data": {
      "text/latex": [
       "$\\displaystyle Point3D\\left(22, -8, -2\\right)$"
      ],
      "text/plain": [
       "Point3D(22, -8, -2)"
      ]
     },
     "metadata": {},
     "output_type": "display_data"
    },
    {
     "data": {
      "text/latex": [
       "$\\displaystyle Point3D\\left(6, 2, -4\\right)$"
      ],
      "text/plain": [
       "Point3D(6, 2, -4)"
      ]
     },
     "metadata": {},
     "output_type": "display_data"
    },
    {
     "data": {
      "text/latex": [
       "$\\displaystyle Point3D\\left(-2, 7, -5\\right)$"
      ],
      "text/plain": [
       "Point3D(-2, 7, -5)"
      ]
     },
     "metadata": {},
     "output_type": "display_data"
    },
    {
     "data": {
      "text/plain": [
       "'Лежат на одной прямой:'"
      ]
     },
     "metadata": {},
     "output_type": "display_data"
    },
    {
     "data": {
      "text/latex": [
       "$\\displaystyle Point3D\\left(94, -35, -2\\right)$"
      ],
      "text/plain": [
       "Point3D(94, -35, -2)"
      ]
     },
     "metadata": {},
     "output_type": "display_data"
    },
    {
     "data": {
      "text/latex": [
       "$\\displaystyle Point3D\\left(30, -7, -4\\right)$"
      ],
      "text/plain": [
       "Point3D(30, -7, -4)"
      ]
     },
     "metadata": {},
     "output_type": "display_data"
    },
    {
     "data": {
      "text/latex": [
       "$\\displaystyle Point3D\\left(-2, 7, -5\\right)$"
      ],
      "text/plain": [
       "Point3D(-2, 7, -5)"
      ]
     },
     "metadata": {},
     "output_type": "display_data"
    },
    {
     "data": {
      "text/plain": [
       "'Лежат в одной плоскости:'"
      ]
     },
     "metadata": {},
     "output_type": "display_data"
    },
    {
     "data": {
      "text/latex": [
       "$\\displaystyle Point3D\\left(22, -8, -2\\right)$"
      ],
      "text/plain": [
       "Point3D(22, -8, -2)"
      ]
     },
     "metadata": {},
     "output_type": "display_data"
    },
    {
     "data": {
      "text/latex": [
       "$\\displaystyle Point3D\\left(14, -3, -2\\right)$"
      ],
      "text/plain": [
       "Point3D(14, -3, -2)"
      ]
     },
     "metadata": {},
     "output_type": "display_data"
    },
    {
     "data": {
      "text/latex": [
       "$\\displaystyle Point3D\\left(6, 2, -4\\right)$"
      ],
      "text/plain": [
       "Point3D(6, 2, -4)"
      ]
     },
     "metadata": {},
     "output_type": "display_data"
    },
    {
     "data": {
      "text/latex": [
       "$\\displaystyle Point3D\\left(-2, 7, -5\\right)$"
      ],
      "text/plain": [
       "Point3D(-2, 7, -5)"
      ]
     },
     "metadata": {},
     "output_type": "display_data"
    },
    {
     "data": {
      "text/plain": [
       "'Лежат в одной плоскости:'"
      ]
     },
     "metadata": {},
     "output_type": "display_data"
    },
    {
     "data": {
      "text/latex": [
       "$\\displaystyle Point3D\\left(30, -7, -4\\right)$"
      ],
      "text/plain": [
       "Point3D(30, -7, -4)"
      ]
     },
     "metadata": {},
     "output_type": "display_data"
    },
    {
     "data": {
      "text/latex": [
       "$\\displaystyle Point3D\\left(22, -8, -2\\right)$"
      ],
      "text/plain": [
       "Point3D(22, -8, -2)"
      ]
     },
     "metadata": {},
     "output_type": "display_data"
    },
    {
     "data": {
      "text/latex": [
       "$\\displaystyle Point3D\\left(6, 2, -4\\right)$"
      ],
      "text/plain": [
       "Point3D(6, 2, -4)"
      ]
     },
     "metadata": {},
     "output_type": "display_data"
    },
    {
     "data": {
      "text/latex": [
       "$\\displaystyle Point3D\\left(-2, 7, -5\\right)$"
      ],
      "text/plain": [
       "Point3D(-2, 7, -5)"
      ]
     },
     "metadata": {},
     "output_type": "display_data"
    },
    {
     "data": {
      "text/plain": [
       "'Лежат в одной плоскости:'"
      ]
     },
     "metadata": {},
     "output_type": "display_data"
    },
    {
     "data": {
      "text/latex": [
       "$\\displaystyle Point3D\\left(94, -35, -2\\right)$"
      ],
      "text/plain": [
       "Point3D(94, -35, -2)"
      ]
     },
     "metadata": {},
     "output_type": "display_data"
    },
    {
     "data": {
      "text/latex": [
       "$\\displaystyle Point3D\\left(22, -8, -2\\right)$"
      ],
      "text/plain": [
       "Point3D(22, -8, -2)"
      ]
     },
     "metadata": {},
     "output_type": "display_data"
    },
    {
     "data": {
      "text/latex": [
       "$\\displaystyle Point3D\\left(6, 2, -4\\right)$"
      ],
      "text/plain": [
       "Point3D(6, 2, -4)"
      ]
     },
     "metadata": {},
     "output_type": "display_data"
    },
    {
     "data": {
      "text/latex": [
       "$\\displaystyle Point3D\\left(-2, 7, -5\\right)$"
      ],
      "text/plain": [
       "Point3D(-2, 7, -5)"
      ]
     },
     "metadata": {},
     "output_type": "display_data"
    },
    {
     "data": {
      "text/plain": [
       "'Лежат в одной плоскости:'"
      ]
     },
     "metadata": {},
     "output_type": "display_data"
    },
    {
     "data": {
      "text/latex": [
       "$\\displaystyle Point3D\\left(94, -35, -2\\right)$"
      ],
      "text/plain": [
       "Point3D(94, -35, -2)"
      ]
     },
     "metadata": {},
     "output_type": "display_data"
    },
    {
     "data": {
      "text/latex": [
       "$\\displaystyle Point3D\\left(30, -7, -4\\right)$"
      ],
      "text/plain": [
       "Point3D(30, -7, -4)"
      ]
     },
     "metadata": {},
     "output_type": "display_data"
    },
    {
     "data": {
      "text/latex": [
       "$\\displaystyle Point3D\\left(6, 2, -4\\right)$"
      ],
      "text/plain": [
       "Point3D(6, 2, -4)"
      ]
     },
     "metadata": {},
     "output_type": "display_data"
    },
    {
     "data": {
      "text/latex": [
       "$\\displaystyle Point3D\\left(-2, 7, -5\\right)$"
      ],
      "text/plain": [
       "Point3D(-2, 7, -5)"
      ]
     },
     "metadata": {},
     "output_type": "display_data"
    },
    {
     "data": {
      "text/plain": [
       "'Лежат в одной плоскости:'"
      ]
     },
     "metadata": {},
     "output_type": "display_data"
    },
    {
     "data": {
      "text/latex": [
       "$\\displaystyle Point3D\\left(94, -35, -2\\right)$"
      ],
      "text/plain": [
       "Point3D(94, -35, -2)"
      ]
     },
     "metadata": {},
     "output_type": "display_data"
    },
    {
     "data": {
      "text/latex": [
       "$\\displaystyle Point3D\\left(30, -7, -4\\right)$"
      ],
      "text/plain": [
       "Point3D(30, -7, -4)"
      ]
     },
     "metadata": {},
     "output_type": "display_data"
    },
    {
     "data": {
      "text/latex": [
       "$\\displaystyle Point3D\\left(14, -3, -2\\right)$"
      ],
      "text/plain": [
       "Point3D(14, -3, -2)"
      ]
     },
     "metadata": {},
     "output_type": "display_data"
    },
    {
     "data": {
      "text/latex": [
       "$\\displaystyle Point3D\\left(-2, 7, -5\\right)$"
      ],
      "text/plain": [
       "Point3D(-2, 7, -5)"
      ]
     },
     "metadata": {},
     "output_type": "display_data"
    },
    {
     "data": {
      "text/plain": [
       "'Лежат в одной плоскости:'"
      ]
     },
     "metadata": {},
     "output_type": "display_data"
    },
    {
     "data": {
      "text/latex": [
       "$\\displaystyle Point3D\\left(94, -35, -2\\right)$"
      ],
      "text/plain": [
       "Point3D(94, -35, -2)"
      ]
     },
     "metadata": {},
     "output_type": "display_data"
    },
    {
     "data": {
      "text/latex": [
       "$\\displaystyle Point3D\\left(30, -7, -4\\right)$"
      ],
      "text/plain": [
       "Point3D(30, -7, -4)"
      ]
     },
     "metadata": {},
     "output_type": "display_data"
    },
    {
     "data": {
      "text/latex": [
       "$\\displaystyle Point3D\\left(22, -8, -2\\right)$"
      ],
      "text/plain": [
       "Point3D(22, -8, -2)"
      ]
     },
     "metadata": {},
     "output_type": "display_data"
    },
    {
     "data": {
      "text/latex": [
       "$\\displaystyle Point3D\\left(-2, 7, -5\\right)$"
      ],
      "text/plain": [
       "Point3D(-2, 7, -5)"
      ]
     },
     "metadata": {},
     "output_type": "display_data"
    },
    {
     "data": {
      "text/plain": [
       "'Лежат в одной плоскости:'"
      ]
     },
     "metadata": {},
     "output_type": "display_data"
    },
    {
     "data": {
      "text/latex": [
       "$\\displaystyle Point3D\\left(94, -35, -2\\right)$"
      ],
      "text/plain": [
       "Point3D(94, -35, -2)"
      ]
     },
     "metadata": {},
     "output_type": "display_data"
    },
    {
     "data": {
      "text/latex": [
       "$\\displaystyle Point3D\\left(30, -7, -4\\right)$"
      ],
      "text/plain": [
       "Point3D(30, -7, -4)"
      ]
     },
     "metadata": {},
     "output_type": "display_data"
    },
    {
     "data": {
      "text/latex": [
       "$\\displaystyle Point3D\\left(22, -8, -2\\right)$"
      ],
      "text/plain": [
       "Point3D(22, -8, -2)"
      ]
     },
     "metadata": {},
     "output_type": "display_data"
    },
    {
     "data": {
      "text/latex": [
       "$\\displaystyle Point3D\\left(6, 2, -4\\right)$"
      ],
      "text/plain": [
       "Point3D(6, 2, -4)"
      ]
     },
     "metadata": {},
     "output_type": "display_data"
    }
   ],
   "source": [
    "A = Point(-2, 7, -5)\n",
    "B = Point(6, 2, -4)\n",
    "C = Point(14, -3, -2)\n",
    "D = Point(22, -8, -2)\n",
    "K = Point(30, -7, -4)\n",
    "M = Point(94, -35, -2)\n",
    "points = [A, B, C, D, K, M]\n",
    "\n",
    "for i, first in enumerate(points):\n",
    "    for j, second in enumerate(points[:i]):\n",
    "        for k, third in enumerate(points[:j]):\n",
    "            if Point3D.are_collinear(first, second, third):\n",
    "                display('Лежат на одной прямой:', first, second, third)\n",
    "                \n",
    "for i, first in enumerate(points):\n",
    "    for j, second in enumerate(points[:i]):\n",
    "        for k, third in enumerate(points[:j]):\n",
    "            for z, fourth in enumerate(points[:k]):\n",
    "                if Point3D.are_coplanar(first, second, third, fourth):\n",
    "                    display('Лежат в одной плоскости:', first, second, third, fourth)"
   ]
  },
  {
   "cell_type": "markdown",
   "metadata": {},
   "source": [
    "###  Задание 6.\n",
    "Составить уравнения всех (различных!) плоскостей, определяемых точками задания 5.\n",
    "\n",
    "Указание: решать аналогично Примеру 11, проверить, что $A$, $B$, $C$ не лежат на одной прямой и составить плоскость $ABC$, включить ее в список плоскостей. "
   ]
  },
  {
   "cell_type": "code",
   "execution_count": 17,
   "metadata": {},
   "outputs": [
    {
     "data": {
      "text/latex": [
       "$\\displaystyle - 5 x - 8 y + 46$"
      ],
      "text/plain": [
       "-5*x - 8*y + 46"
      ]
     },
     "metadata": {},
     "output_type": "display_data"
    },
    {
     "data": {
      "text/latex": [
       "$\\displaystyle 9 x + 24 y + 48 z + 90$"
      ],
      "text/plain": [
       "9*x + 24*y + 48*z + 90"
      ]
     },
     "metadata": {},
     "output_type": "display_data"
    },
    {
     "data": {
      "text/latex": [
       "$\\displaystyle 32 x + 80 y + 96 z - 16$"
      ],
      "text/plain": [
       "32*x + 80*y + 96*z - 16"
      ]
     },
     "metadata": {},
     "output_type": "display_data"
    },
    {
     "data": {
      "text/latex": [
       "$\\displaystyle 18 x + 48 y + 48 z - 12$"
      ],
      "text/plain": [
       "18*x + 48*y + 48*z - 12"
      ]
     },
     "metadata": {},
     "output_type": "display_data"
    },
    {
     "data": {
      "text/latex": [
       "$\\displaystyle 64 x + 160 y + 144 z - 128$"
      ],
      "text/plain": [
       "64*x + 160*y + 144*z - 128"
      ]
     },
     "metadata": {},
     "output_type": "display_data"
    },
    {
     "data": {
      "text/latex": [
       "$\\displaystyle 10 x + 16 y + 48 z + 4$"
      ],
      "text/plain": [
       "10*x + 16*y + 48*z + 4"
      ]
     },
     "metadata": {},
     "output_type": "display_data"
    },
    {
     "data": {
      "text/latex": [
       "$\\displaystyle 144 z + 288$"
      ],
      "text/plain": [
       "144*z + 288"
      ]
     },
     "metadata": {},
     "output_type": "display_data"
    }
   ],
   "source": [
    "planes = [Plane(A, B, C)]\n",
    "\n",
    "lenght = len(points)\n",
    "\n",
    "for i in range(lenght):\n",
    "    for j in range(i + 1, lenght):\n",
    "        for k in range(j + 1, lenght):\n",
    "            if not Point3D.are_collinear(points[i], points[j], points[k]):\n",
    "                current_plane = Plane(points[i], points[j], points[k])\n",
    "                unique = True\n",
    "                for plane in planes:\n",
    "                    if plane.is_coplanar(current_plane):\n",
    "                        unique = False\n",
    "                        break\n",
    "                if unique:\n",
    "                    planes.append(current_plane)\n",
    "                    \n",
    "for plane in planes:\n",
    "    display(plane.equation())"
   ]
  },
  {
   "cell_type": "markdown",
   "metadata": {},
   "source": [
    "### Индивидуальное задание\n",
    "Даны точки в пространстве\n",
    "$G(3, -1, 9)$, $H(9, 5, 3)$, $P(3, 1, 11)$ и\n",
    "$Q(6, 3, 16)$.\n",
    "\n",
    "Найти угол между прямой $GP$ и плоскостью $z = 0$, угол между $GQ$ и $QH$, угол между плоскостями $GPQ$ \n",
    "и $PQH$.\n",
    "\n",
    "Составить уравнение: \n",
    "\n",
    "a) плоскости, параллельной $GPQ$ и проходящей через $H$,\n",
    "\n",
    "b) плоскости, перпендикулярной $GPQ$ и проходящей через $G$ и $Q$,\n",
    "\n",
    "c) прямой, перпендикулярной $GPQ$ и проходящей через $Q$.\n"
   ]
  },
  {
   "cell_type": "code",
   "execution_count": 5,
   "metadata": {},
   "outputs": [
    {
     "data": {
      "text/plain": [
       "'Угол между прямой и плоскостью.'"
      ]
     },
     "metadata": {},
     "output_type": "display_data"
    },
    {
     "data": {
      "text/latex": [
       "$\\displaystyle - \\frac{\\pi}{4}$"
      ],
      "text/plain": [
       "-pi/4"
      ]
     },
     "metadata": {},
     "output_type": "display_data"
    },
    {
     "data": {
      "text/plain": [
       "'Угол между прямыми'"
      ]
     },
     "metadata": {},
     "output_type": "display_data"
    },
    {
     "data": {
      "text/latex": [
       "$\\displaystyle \\operatorname{acos}{\\left(- \\frac{\\sqrt{3367}}{91} \\right)}$"
      ],
      "text/plain": [
       "acos(-sqrt(3367)/91)"
      ]
     },
     "metadata": {},
     "output_type": "display_data"
    },
    {
     "data": {
      "text/plain": [
       "'Угол между плоскостями'"
      ]
     },
     "metadata": {},
     "output_type": "display_data"
    },
    {
     "data": {
      "text/latex": [
       "$\\displaystyle \\operatorname{acos}{\\left(\\frac{\\sqrt{39}}{39} \\right)}$"
      ],
      "text/plain": [
       "acos(sqrt(39)/39)"
      ]
     },
     "metadata": {},
     "output_type": "display_data"
    },
    {
     "data": {
      "text/plain": [
       "'Уравнение плоскости, параллельной GPQ и проходящей через H'"
      ]
     },
     "metadata": {},
     "output_type": "display_data"
    },
    {
     "data": {
      "text/latex": [
       "$\\displaystyle 6 x + 6 y - 6 z - 66$"
      ],
      "text/plain": [
       "6*x + 6*y - 6*z - 66"
      ]
     },
     "metadata": {},
     "output_type": "display_data"
    },
    {
     "data": {
      "text/plain": [
       "'Уравнение плоскости, перпендикулярной GPQ и проходящей через G и Q'"
      ]
     },
     "metadata": {},
     "output_type": "display_data"
    },
    {
     "data": {
      "text/latex": [
       "$\\displaystyle - 66 x + 60 y - 6 z + 312$"
      ],
      "text/plain": [
       "-66*x + 60*y - 6*z + 312"
      ]
     },
     "metadata": {},
     "output_type": "display_data"
    },
    {
     "data": {
      "text/plain": [
       "'Уравнение прямой, перпендикулярной GPQ и проходящей через Q'"
      ]
     },
     "metadata": {},
     "output_type": "display_data"
    },
    {
     "data": {
      "text/latex": [
       "$\\displaystyle \\left( - x + y + 3, \\  x + z - 22\\right)$"
      ],
      "text/plain": [
       "(-x + y + 3, x + z - 22)"
      ]
     },
     "metadata": {},
     "output_type": "display_data"
    }
   ],
   "source": [
    "A = (0, 1, 0)\n",
    "B = (1, 0, 0)\n",
    "C = (0, 0, 0)\n",
    "\n",
    "G = Point(3, -1, 9)\n",
    "H = Point(9, 5, 3)\n",
    "P = Point(3, 1, 11)\n",
    "Q = Point(6, 3, 16)\n",
    "\n",
    "# Угол между прямой и плоскостью.\n",
    "GP = Line(G, P)\n",
    "ABC = Plane(A, B, C)\n",
    "display('Угол между прямой и плоскостью.', ABC.angle_between(GP))\n",
    "\n",
    "# Угол между прямыми\n",
    "GQ = Line(G, Q)\n",
    "QH = Line(Q, H)\n",
    "display('Угол между прямыми', GQ.angle_between(QH))\n",
    "\n",
    "# Угол между плоскостями\n",
    "GPQ = Plane(G, P, Q)\n",
    "PQH = Plane(P, Q, H)\n",
    "display('Угол между плоскостями', GPQ.angle_between(PQH))\n",
    "\n",
    "# Уравнения\n",
    "display('Уравнение плоскости, параллельной GPQ и проходящей через H', GPQ.parallel_plane(H).equation())\n",
    "display('Уравнение плоскости, перпендикулярной GPQ и проходящей через G и Q', GPQ.perpendicular_plane(G, Q).equation())\n",
    "display('Уравнение прямой, перпендикулярной GPQ и проходящей через Q', GPQ.perpendicular_line(Q).equation())"
   ]
  },
  {
   "cell_type": "code",
   "execution_count": null,
   "metadata": {},
   "outputs": [],
   "source": []
  }
 ],
 "metadata": {
  "kernelspec": {
   "display_name": "Python 3",
   "language": "python",
   "name": "python3"
  },
  "language_info": {
   "codemirror_mode": {
    "name": "ipython",
    "version": 3
   },
   "file_extension": ".py",
   "mimetype": "text/x-python",
   "name": "python",
   "nbconvert_exporter": "python",
   "pygments_lexer": "ipython3",
   "version": "3.8.5"
  }
 },
 "nbformat": 4,
 "nbformat_minor": 2
}
