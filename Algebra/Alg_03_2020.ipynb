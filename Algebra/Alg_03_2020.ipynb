{
 "cells": [
  {
   "cell_type": "markdown",
   "metadata": {},
   "source": [
    "# Занятие 3\n",
    "# Алгебра\n",
    "## Решение систем линейных алгебраических уравнений (СЛАУ)"
   ]
  },
  {
   "cell_type": "markdown",
   "metadata": {},
   "source": [
    "https://docs.sympy.org/latest/modules/solvers/solveset.html#sympy.solvers.solveset.linsolve"
   ]
  },
  {
   "cell_type": "code",
   "execution_count": 3,
   "metadata": {},
   "outputs": [],
   "source": [
    "import sympy\n",
    "from sympy import linsolve, Matrix, S, Symbol, symbols, Eq, linear_eq_to_matrix, simplify"
   ]
  },
  {
   "cell_type": "markdown",
   "metadata": {},
   "source": [
    "### Задание 1.\n",
    "Решить СЛАУ, представив их тремя различными способами (расширенная матрица, список уравнений, матричный вид)\n",
    "$$\n",
    "a)\\ \\left\\{\n",
    "\\begin{matrix}\n",
    "-x+5y-3z=8\\\\\n",
    "4x-y+5z=-1\\\\\n",
    "3x+4y+5z=10\n",
    "\\end{matrix}\n",
    "\\right., \\quad \n",
    "b)\\ \\left\\{\n",
    "\\begin{matrix}\n",
    "-x+5y-3z=8\\\\\n",
    "4x-y+5z=-1\\\\\n",
    "3x+4y+2z=7\n",
    "\\end{matrix}\n",
    "\\right., \\quad \n",
    "c)\\ \\left\\{\n",
    "\\begin{matrix}\n",
    "-x+5y-3z=8\\\\\n",
    "4x-y+5z=-1\\\\\n",
    "3x+4y+2z=5\n",
    "\\end{matrix}\n",
    "\\right.\n",
    "$$"
   ]
  },
  {
   "cell_type": "code",
   "execution_count": 4,
   "metadata": {},
   "outputs": [
    {
     "data": {
      "text/latex": [
       "$\\displaystyle \\left\\{\\left( -1, \\  2, \\  1\\right)\\right\\}$"
      ],
      "text/plain": [
       "FiniteSet((-1, 2, 1))"
      ]
     },
     "metadata": {},
     "output_type": "display_data"
    },
    {
     "data": {
      "text/latex": [
       "$\\displaystyle \\left\\{\\left( \\frac{3}{19} - \\frac{22 z}{19}, \\  \\frac{7 z}{19} + \\frac{31}{19}, \\  z\\right)\\right\\}$"
      ],
      "text/plain": [
       "FiniteSet((3/19 - 22*z/19, 7*z/19 + 31/19, z))"
      ]
     },
     "metadata": {},
     "output_type": "display_data"
    },
    {
     "data": {
      "text/latex": [
       "$\\displaystyle \\emptyset$"
      ],
      "text/plain": [
       "EmptySet"
      ]
     },
     "metadata": {},
     "output_type": "display_data"
    }
   ],
   "source": [
    "Ab = Matrix([[-1, 5, -3, 8], [4, -1, 5, -1], [3, 4, 5, 10]])\n",
    "display(linsolve(Ab))\n",
    "\n",
    "x, y, z = symbols('x y z')\n",
    "System_eq = [-1*x + 5*y - 3*z - 8, 4*x - 1*y + 5*z + 1, 3*x + 4*y + 2*z - 7]\n",
    "display(linsolve(System_eq, x, y, z))\n",
    "\n",
    "A = Matrix([[-1, 5, -3], [4, -1, 5], [3, 4, 2]])\n",
    "b = Matrix([8, -1, 5])\n",
    "display(linsolve((A, b)))"
   ]
  },
  {
   "cell_type": "markdown",
   "metadata": {},
   "source": [
    "### Задание 2.\n",
    "\n",
    "Решить СЛАУ с параметром $a$, представив их списком уравнений, а затем приведя к матричному виду с помощью linear_eq_to_matrix\n",
    "$$\n",
    "a)\\ \\left\\{\n",
    "\\begin{matrix}\n",
    "ax+5y-3z=8\\\\\n",
    "4x-y+5z=-1\\\\\n",
    "3x+4y+5z=10\n",
    "\\end{matrix}\n",
    "\\right., \\quad \n",
    "b)\\ \\left\\{\n",
    "\\begin{matrix}\n",
    "(a-1)x+5y-3z=8\\\\\n",
    "(4+a)x-y+5z=-1\\\\\n",
    "(3+2a)x+4y+2z=7\n",
    "\\end{matrix}\n",
    "\\right., \\quad \n",
    "c) \\left\\{\n",
    "\\begin{matrix}\n",
    "-x+5y-3z=8a\\\\\n",
    "4x-y+5z=-a\\\\\n",
    "3x+4y+2z=5a\n",
    "\\end{matrix}\n",
    "\\right.\n",
    "$$\n",
    "Решить СЛАУ а) при $a=-82/25$, b) при $a=-19/6$, $-3.17$ и $-3.167$, c) при $a=1$.\n",
    "\n",
    "Проанализировать результаты. Для каждого случая (кроме случая несовместной СЛАУ) провести проверку подстановкой.\n",
    "\n",
    "При подстановке дробей пользоваться конструкцией вида $S(num)/den$, например,\n",
    "$S(2)/3$"
   ]
  },
  {
   "cell_type": "code",
   "execution_count": 39,
   "metadata": {},
   "outputs": [
    {
     "name": "stdout",
     "output_type": "stream",
     "text": [
      "1 matrix\n"
     ]
    },
    {
     "data": {
      "text/latex": [
       "$\\displaystyle \\left[\\begin{matrix}a & 5 & -3\\\\4 & -1 & 5\\\\3 & 4 & 5\\end{matrix}\\right]$"
      ],
      "text/plain": [
       "Matrix([\n",
       "[a,  5, -3],\n",
       "[4, -1,  5],\n",
       "[3,  4,  5]])"
      ]
     },
     "metadata": {},
     "output_type": "display_data"
    },
    {
     "data": {
      "text/latex": [
       "$\\displaystyle \\left[\\begin{matrix}8\\\\1\\\\10\\end{matrix}\\right]$"
      ],
      "text/plain": [
       "Matrix([\n",
       "[ 8],\n",
       "[ 1],\n",
       "[10]])"
      ]
     },
     "metadata": {},
     "output_type": "display_data"
    },
    {
     "data": {
      "text/latex": [
       "$\\displaystyle \\emptyset$"
      ],
      "text/plain": [
       "EmptySet"
      ]
     },
     "metadata": {},
     "output_type": "display_data"
    },
    {
     "name": "stdout",
     "output_type": "stream",
     "text": [
      "2 matrix\n"
     ]
    },
    {
     "data": {
      "text/latex": [
       "$\\displaystyle \\left\\{\\left( \\frac{6 y}{5} - \\frac{111}{55}, \\  y, \\  \\frac{3}{22}\\right)\\right\\}$"
      ],
      "text/plain": [
       "FiniteSet((6*y/5 - 111/55, y, 3/22))"
      ]
     },
     "metadata": {},
     "output_type": "display_data"
    },
    {
     "data": {
      "text/latex": [
       "$\\displaystyle \\emptyset$"
      ],
      "text/plain": [
       "EmptySet"
      ]
     },
     "metadata": {},
     "output_type": "display_data"
    },
    {
     "data": {
      "text/latex": [
       "$\\displaystyle \\emptyset$"
      ],
      "text/plain": [
       "EmptySet"
      ]
     },
     "metadata": {},
     "output_type": "display_data"
    },
    {
     "name": "stdout",
     "output_type": "stream",
     "text": [
      "3 matrix\n"
     ]
    },
    {
     "data": {
      "text/latex": [
       "$\\displaystyle \\left\\{\\left( \\frac{53}{57}, \\  \\frac{79}{57}, \\  - \\frac{2}{3}\\right)\\right\\}$"
      ],
      "text/plain": [
       "FiniteSet((53/57, 79/57, -2/3))"
      ]
     },
     "metadata": {},
     "output_type": "display_data"
    }
   ],
   "source": [
    "print('1 matrix')\n",
    "a = Symbol('a')\n",
    "System1 = [Eq(a*x + 5*y - 3*z, 8), Eq(4*x - y + 5*z, 1), Eq(3*x + 4*y + 5*z, 10)]\n",
    "M1, b1 = linear_eq_to_matrix(System1, [x, y, z])\n",
    "display(M1, b1)\n",
    "R1=linsolve((M1.subs(a, S(-82)/25), b1))\n",
    "display(R1)\n",
    "\n",
    "print('2 matrix')\n",
    "eqs = [Eq((a - 1)*x + 5*y - 3*z, 8), Eq((4 + a)*x - y + 5*z, -1), Eq((3 + 2*a)*x + 4*y + 2*z, 7)]\n",
    "A, b = linear_eq_to_matrix(eqs, x, y, z)\n",
    "X = linsolve((A, b), [x, y, z])\n",
    "R3=linsolve((A.subs(a, S(-19)/6), b.subs(a, S(-19)/6)), [x, y, z])\n",
    "display(R3)\n",
    "R4=linsolve((A.subs(a, -3.17), b.subs(a, -3.17)), [x, y, z])\n",
    "display(R4)\n",
    "R5=linsolve((A.subs(a, -3.167), b.subs(a, -3.167)), [x, y, z])\n",
    "display(R5)\n",
    "\n",
    "print('3 matrix')\n",
    "System3 = [Eq(-x + 5*y - 3*z, 8*a), Eq(4*x - y + 5*z, -a), Eq(3*x + 4*y + 5*z, 5*a)]\n",
    "A, b = linear_eq_to_matrix(System3, [x, y, z])\n",
    "X = linsolve((A, b), [x, y, z])\n",
    "display(linsolve((A.subs(a, 1), b.subs(a, 1)), [x, y, z]))"
   ]
  },
  {
   "cell_type": "markdown",
   "metadata": {},
   "source": [
    "### Задание 3\n",
    "В расширенной матрице СЛАУ из Задания 1 а) \n",
    "\n",
    "1) выделить матрицу левой части\n",
    "\n",
    "2) выделить столбец правой части\n",
    "\n",
    "3) транспонировать матрицу, полученную в 1)\n",
    "\n",
    "4) получить расширенную матрицу из матрицы 3) и столбца 2)\n",
    "\n",
    "5) создать на основе лямбда-функции матрицу $3\\times 4$ из расположенных в шахматном порядке чисел 1 и $-1$."
   ]
  },
  {
   "cell_type": "code",
   "execution_count": 36,
   "metadata": {},
   "outputs": [
    {
     "data": {
      "text/latex": [
       "$\\displaystyle \\left[\\begin{matrix}-1 & 5 & -3\\\\4 & -1 & 5\\\\3 & 4 & 2\\end{matrix}\\right]$"
      ],
      "text/plain": [
       "Matrix([\n",
       "[-1,  5, -3],\n",
       "[ 4, -1,  5],\n",
       "[ 3,  4,  2]])"
      ]
     },
     "metadata": {},
     "output_type": "display_data"
    },
    {
     "data": {
      "text/latex": [
       "$\\displaystyle \\left[\\begin{matrix}8\\\\-1\\\\5\\end{matrix}\\right]$"
      ],
      "text/plain": [
       "Matrix([\n",
       "[ 8],\n",
       "[-1],\n",
       "[ 5]])"
      ]
     },
     "metadata": {},
     "output_type": "display_data"
    },
    {
     "data": {
      "text/latex": [
       "$\\displaystyle \\left[\\begin{matrix}-1 & 4 & 3\\\\5 & -1 & 4\\\\-3 & 5 & 2\\end{matrix}\\right]$"
      ],
      "text/plain": [
       "Matrix([\n",
       "[-1,  4, 3],\n",
       "[ 5, -1, 4],\n",
       "[-3,  5, 2]])"
      ]
     },
     "metadata": {},
     "output_type": "display_data"
    },
    {
     "data": {
      "text/latex": [
       "$\\displaystyle \\left[\\begin{matrix}-1 & 4 & 3 & 8\\\\5 & -1 & 4 & -1\\\\-3 & 5 & 2 & 5\\end{matrix}\\right]$"
      ],
      "text/plain": [
       "Matrix([\n",
       "[-1,  4, 3,  8],\n",
       "[ 5, -1, 4, -1],\n",
       "[-3,  5, 2,  5]])"
      ]
     },
     "metadata": {},
     "output_type": "display_data"
    },
    {
     "data": {
      "text/latex": [
       "$\\displaystyle \\left[\\begin{matrix}1 & -1 & 1 & -1\\\\-1 & 1 & -1 & 1\\\\1 & -1 & 1 & -1\\end{matrix}\\right]$"
      ],
      "text/plain": [
       "Matrix([\n",
       "[ 1, -1,  1, -1],\n",
       "[-1,  1, -1,  1],\n",
       "[ 1, -1,  1, -1]])"
      ]
     },
     "metadata": {},
     "output_type": "display_data"
    }
   ],
   "source": [
    "A = Matrix([[-1, 5, -3], [4, -1, 5], [3, 4, 2]])\n",
    "B = Matrix([8, -1, 5])\n",
    "display(A,B,A.T,A.T.row_join(B))\n",
    "\n",
    "R = Matrix(3, 4, lambda i, j:(-1)**(i+j))\n",
    "display(R)"
   ]
  },
  {
   "cell_type": "markdown",
   "metadata": {},
   "source": [
    "### Индивидуальное задание.\n",
    "Решить СЛАУ c параметром тремя способами. Вначале составить список уравнений и решить вторым способом, затем список уравнений преобразовать в матричный вид и решить третьим способом. Затем составить из матрицы левой части и столбца правой расширенную матрицу СЛАУ и решить первым способом. После этого провести проверку подстановкой.\n",
    "\n",
    "Затем отдельно рассмотреть значение параметра, при котором решение СЛАУ нельзя получить по общей формуле, полученной ранее.\n",
    "Найти решение СЛАУ при этом значении параметра первым или третьим способом, используя подстановку subs.\n",
    "\n",
    "\\begin{align*}\n",
    " A = \\left[\\begin{matrix}-3 & 6 & 6 & 6\\\\t & 5 & 1 & -5\\\\4 & -8 & 5 & 3\\\\24 & 44 & 28 & 4\\end{matrix}\\right],\n",
    "\\qquad b = \\left[\\begin{matrix}-9\\\\5\\\\3\\\\4\\end{matrix}\\right]. \n",
    " \\end{align*}"
   ]
  },
  {
   "cell_type": "code",
   "execution_count": 40,
   "metadata": {},
   "outputs": [
    {
     "data": {
      "text/latex": [
       "$\\displaystyle \\left\\{\\left( - \\frac{5}{t - 9}, \\  \\frac{10 \\left(13 - 2 t\\right)}{43 \\left(t - 9\\right)}, \\  \\frac{5 \\left(41 t - 116\\right)}{172 \\left(t - 9\\right)}, \\  \\frac{1952 - 383 t}{172 \\left(t - 9\\right)}\\right)\\right\\}$"
      ],
      "text/plain": [
       "FiniteSet((-5/(t - 9), 10*(13 - 2*t)/(43*(t - 9)), 5*(41*t - 116)/(172*(t - 9)), (1952 - 383*t)/(172*(t - 9))))"
      ]
     },
     "metadata": {},
     "output_type": "display_data"
    },
    {
     "data": {
      "text/latex": [
       "$\\displaystyle \\left\\{\\left( - \\frac{5}{t - 9}, \\  \\frac{10 \\left(13 - 2 t\\right)}{43 \\left(t - 9\\right)}, \\  \\frac{5 \\left(41 t - 116\\right)}{172 \\left(t - 9\\right)}, \\  \\frac{1952 - 383 t}{172 \\left(t - 9\\right)}\\right)\\right\\}$"
      ],
      "text/plain": [
       "FiniteSet((-5/(t - 9), 10*(13 - 2*t)/(43*(t - 9)), 5*(41*t - 116)/(172*(t - 9)), (1952 - 383*t)/(172*(t - 9))))"
      ]
     },
     "metadata": {},
     "output_type": "display_data"
    },
    {
     "data": {
      "text/latex": [
       "$\\displaystyle \\left\\{\\left( - \\frac{5}{t - 9}, \\  \\frac{10 \\left(13 - 2 t\\right)}{43 \\left(t - 9\\right)}, \\  \\frac{5 \\left(41 t - 116\\right)}{172 \\left(t - 9\\right)}, \\  \\frac{1952 - 383 t}{172 \\left(t - 9\\right)}\\right)\\right\\}$"
      ],
      "text/plain": [
       "FiniteSet((-5/(t - 9), 10*(13 - 2*t)/(43*(t - 9)), 5*(41*t - 116)/(172*(t - 9)), (1952 - 383*t)/(172*(t - 9))))"
      ]
     },
     "metadata": {},
     "output_type": "display_data"
    },
    {
     "data": {
      "text/latex": [
       "$\\displaystyle \\left[\\begin{matrix}0\\\\0\\\\0\\\\0\\end{matrix}\\right]$"
      ],
      "text/plain": [
       "Matrix([\n",
       "[0],\n",
       "[0],\n",
       "[0],\n",
       "[0]])"
      ]
     },
     "metadata": {},
     "output_type": "display_data"
    },
    {
     "data": {
      "text/latex": [
       "$\\displaystyle \\left\\{\\left( \\frac{172}{85}, \\  \\frac{4}{731}, \\  - \\frac{26091}{14620}, \\  \\frac{18873}{14620}\\right)\\right\\}$"
      ],
      "text/plain": [
       "FiniteSet((172/85, 4/731, -26091/14620, 18873/14620))"
      ]
     },
     "metadata": {},
     "output_type": "display_data"
    },
    {
     "data": {
      "text/latex": [
       "$\\displaystyle \\left\\{\\left( \\frac{172}{85}, \\  \\frac{4}{731}, \\  - \\frac{26091}{14620}, \\  \\frac{18873}{14620}\\right)\\right\\}$"
      ],
      "text/plain": [
       "FiniteSet((172/85, 4/731, -26091/14620, 18873/14620))"
      ]
     },
     "metadata": {},
     "output_type": "display_data"
    }
   ],
   "source": [
    "t, x, y, z, k = symbols('t x y z k')\n",
    "System1 = [Eq(-3*x + 6*y + 6*z +6*k, -9), Eq(t*x + 5*y + z - 5*k, 5), Eq(4*x - 8*y + 5*z +3*k, 3), Eq(24*x + 44*y + 28*z + 4*k, 4)]\n",
    "R1 = linsolve(System1, x, y, z, k)\n",
    "display(R1)\n",
    "\n",
    "A, b = linear_eq_to_matrix(System1, [x, y, z, k])\n",
    "R2 = linsolve((A, b))\n",
    "display(R2)\n",
    "\n",
    "Ab = A.row_join(b)\n",
    "R2 = linsolve(Ab)\n",
    "display(R2)\n",
    "display(simplify(A*Matrix(*R2)-b))\n",
    "\n",
    "R3=linsolve(Ab.subs(t, (S(1123)/172)))\n",
    "display(R3)\n",
    "R4=linsolve((A.subs(t, (S(1123)/172)), b.subs(t, (S(1123)/172))))\n",
    "display(R4)"
   ]
  },
  {
   "cell_type": "code",
   "execution_count": null,
   "metadata": {},
   "outputs": [],
   "source": []
  }
 ],
 "metadata": {
  "kernelspec": {
   "display_name": "Python 3",
   "language": "python",
   "name": "python3"
  },
  "language_info": {
   "codemirror_mode": {
    "name": "ipython",
    "version": 3
   },
   "file_extension": ".py",
   "mimetype": "text/x-python",
   "name": "python",
   "nbconvert_exporter": "python",
   "pygments_lexer": "ipython3",
   "version": "3.8.3"
  }
 },
 "nbformat": 4,
 "nbformat_minor": 2
}
