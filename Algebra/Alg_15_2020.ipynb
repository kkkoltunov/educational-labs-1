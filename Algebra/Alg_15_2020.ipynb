{
 "cells": [
  {
   "cell_type": "code",
   "execution_count": 1,
   "metadata": {
    "id": "n3TtiCO3CDvT"
   },
   "outputs": [],
   "source": [
    "import numpy as np\n",
    "import sympy\n",
    "from sympy import Expr, Eq, latex, plot_implicit, tan, cot\n",
    "from sympy.core import S, pi, sympify\n",
    "from sympy.core.logic import fuzzy_bool\n",
    "from sympy.core.numbers import Rational, oo\n",
    "from sympy.core.compatibility import ordered\n",
    "from sympy.core.symbol import Dummy, _uniquely_named_symbol, _symbol\n",
    "from sympy.simplify import simplify, trigsimp\n",
    "from sympy.functions.elementary.miscellaneous import sqrt, Max\n",
    "from sympy.functions.elementary.trigonometric import cos, sin, cot, tan\n",
    "from sympy.functions.special.elliptic_integrals import elliptic_e\n",
    "from sympy.geometry.exceptions import GeometryError\n",
    "from sympy.geometry.line import Ray2D, Segment2D, Line2D, LinearEntity3D\n",
    "from sympy.polys import DomainError, Poly, PolynomialError\n",
    "from sympy.polys.polyutils import _not_a_coeff, _nsort\n",
    "from sympy.solvers import solve\n",
    "from sympy.solvers.solveset import linear_coeffs\n",
    "from sympy.utilities.misc import filldedent, func_name\n",
    "from sympy.geometry.entity import GeometryEntity, GeometrySet\n",
    "from sympy.geometry.point import Point, Point2D, Point3D\n",
    "from sympy.geometry.line import Line, Segment\n",
    "from sympy.geometry.util import idiff\n",
    "import matplotlib.pyplot as plt\n",
    "%matplotlib inline"
   ]
  },
  {
   "cell_type": "markdown",
   "metadata": {
    "id": "vtTLX0McCDvf"
   },
   "source": [
    "# Занятие 15\n",
    "# Алгебра\n",
    "## Кривые второго порядка на плоскости: гипербола"
   ]
  },
  {
   "cell_type": "code",
   "execution_count": 2,
   "metadata": {
    "id": "qoGzee3LCDvi"
   },
   "outputs": [],
   "source": [
    "class Hyperbola(GeometrySet):\n",
    "    \"\"\"\n",
    "     Attributes\n",
    "    ==========\n",
    "    center\n",
    "    hradius\n",
    "    vradius\n",
    "    eccentricity\n",
    "    periapsis\n",
    "    focus_distance\n",
    "    foci\n",
    "    ==========\n",
    "    конструктор __new__\n",
    "    скопирован из Эллипса,\n",
    "    изменена формула для  hradius и vradius через эсцентриситет\n",
    "    \"\"\"\n",
    "    def __new__(\n",
    "        cls, center=None, hradius=None, vradius=None, eccentricity=None, **kwargs):\n",
    "        hradius = sympify(hradius)\n",
    "        vradius = sympify(vradius)\n",
    "\n",
    "        eccentricity = sympify(eccentricity)\n",
    "\n",
    "        if center is None:\n",
    "            center = Point(0, 0)\n",
    "        else:\n",
    "            center = Point(center, dim=2)\n",
    "\n",
    "        if len(center) != 2:\n",
    "            raise ValueError('The center of \"{0}\" must be a two dimensional point'.format(cls))\n",
    "\n",
    "        if len(list(filter(lambda x: x is not None, (hradius, vradius, eccentricity)))) != 2:\n",
    "            raise ValueError(filldedent('''\n",
    "                Exactly two arguments of \"hradius\", \"vradius\", and\n",
    "                \"eccentricity\" must not be None.'''))\n",
    "\n",
    "        if eccentricity is not None:\n",
    "            if hradius is None:\n",
    "                hradius = vradius/sqrt( eccentricity**2 - 1)\n",
    "            elif vradius is None:\n",
    "                vradius = hradius*sqrt( eccentricity**2 - 1)\n",
    "\n",
    "        if hradius == 0:\n",
    "            return \"Line\"\n",
    "        if vradius == 0:\n",
    "            return \"Rays\"\n",
    "        return GeometryEntity.__new__(cls, center, hradius, vradius, **kwargs)\n",
    "    \n",
    "    @property\n",
    "    def ambient_dimension(self):\n",
    "        return 2\n",
    "    \n",
    "    @property\n",
    "    def center(self):\n",
    "        return self.args[0]\n",
    "\n",
    "    @property\n",
    "    def hradius(self):\n",
    "        return self.args[1]\n",
    "    \n",
    "    @property\n",
    "    def vradius(self):\n",
    "        return self.args[2]\n",
    "    @property\n",
    "    def focus_distance(self):\n",
    "        return sqrt(self.hradius**2 + self.vradius**2)\n",
    "    \n",
    "    @property\n",
    "    def eccentricity(self):\n",
    "        \"\"\"The eccentricity of the ellipse.\"\"\"\n",
    "        return self.focus_distance/self.hradius\n",
    "    \n",
    "    @property\n",
    "    def periapsis(self):\n",
    "        \"\"\"The apoapsis of the hyperbola.\n",
    "        The smallest distance between the focus and the contour.\"\"\"\n",
    "        return self.focus_distance-self.hradius\n",
    "    @property\n",
    "    def foci(self):\n",
    "        return (self.center + Point(-self.focus_distance, 0), self.center + Point(self.focus_distance, 0))\n",
    "    \n",
    "    @property\n",
    "    def major(self):\n",
    "        return self.hradius\n",
    "    \n",
    "    @property\n",
    "    def minor(self):\n",
    "        return self.vradius\n",
    "    \n",
    "    def equation(self, x='x', y='y', _slope=None, equation=False):\n",
    "        \"\"\"\n",
    "        Returns the equation of a hyperbola aligned with the x and y axes;\n",
    "        when slope is given, the equation returned corresponds to a hyperbola \n",
    "        with a major axis having that slope.\n",
    "        Parameters\n",
    "        ==========\n",
    "        x : str, optional\n",
    "            Label for the x-axis. Default value is 'x'.\n",
    "        y : str, optional\n",
    "            Label for the y-axis. Default value is 'y'.\n",
    "        _slope : Expr, optional\n",
    "                The slope of the major axis. Ignored when 'None'.\n",
    "        Returns\n",
    "        =======\n",
    "        equation : sympy expression   \"\"\"\n",
    "\n",
    "        x = _symbol(x, real=True)\n",
    "        y = _symbol(y, real=True)\n",
    "\n",
    "        dx = x - self.center.x\n",
    "        dy = y - self.center.y\n",
    "\n",
    "        if _slope is not None:\n",
    "            L = (dy - _slope*dx)**2\n",
    "            l = (_slope*dy + dx)**2\n",
    "            h = 1 + _slope**2\n",
    "            a = h*self.major**2\n",
    "            b = h*self.minor**2\n",
    "            res= l/a - L/b \n",
    "\n",
    "        else:\n",
    "            t1 = (dx/self.hradius)**2\n",
    "            t2 = (dy/self.vradius)**2\n",
    "            res = t1 - t2 \n",
    "        if not equation:\n",
    "            return res - 1\n",
    "        else:\n",
    "            return Eq(res, 1)       \n",
    "\n",
    "    def directrix(self, x='x', equation=False):\n",
    "      x = _symbol(x, real=True)\n",
    "      if not equation:\n",
    "        return (self.center.x + self.hradius**2 / self.focus_distance, self.center.x - self.hradius**2 / self.focus_distance)\n",
    "      else:\n",
    "        return (Eq(x, self.center.x + self.hradius**2 / self.focus_distance), Eq(x, self.center.x - self.hradius**2 / self.focus_distance))\n",
    "\n",
    "    def asymptote(self, x='x', y='y', equation=False):\n",
    "      x = _symbol(x, real=True)\n",
    "      y = _symbol(y, real=True)\n",
    "      if not equation:\n",
    "        return (self.center.y + (self.vradius / self.hradius)*(x - self.center.x), self.center.y - (self.vradius / self.hradius)*(x - self.center.x))\n",
    "      else:\n",
    "        return (Eq(y, self.center.y + (self.vradius / self.hradius)*(x - self.center.x)), Eq(y, self.center.y - (self.vradius / self.hradius)*(x - self.center.x)))"
   ]
  },
  {
   "cell_type": "markdown",
   "metadata": {
    "id": "g09Mub5dCDvm"
   },
   "source": [
    "# Занятие 15\n",
    "# Алгебра\n",
    "### Задание 1.\n",
    "Построить гиперболу с центром в точке А(1, 2), полуосями 12 и 5. Вывести на экран эксцентриситет, фокусное расстояние, фокусы (с координатами), periapsis и уравнение гиперболы."
   ]
  },
  {
   "cell_type": "code",
   "execution_count": 4,
   "metadata": {
    "colab": {
     "base_uri": "https://localhost:8080/",
     "height": 242
    },
    "id": "SSOc3rl0CDvp",
    "outputId": "1b5cfba2-50e2-4a0b-f5c8-26dab81bd66e"
   },
   "outputs": [
    {
     "data": {
      "application/vnd.google.colaboratory.intrinsic+json": {
       "type": "string"
      },
      "text/plain": [
       "'eccentricity'"
      ]
     },
     "metadata": {
      "tags": []
     },
     "output_type": "display_data"
    },
    {
     "data": {
      "text/latex": [
       "$\\displaystyle \\frac{13}{12}$"
      ],
      "text/plain": [
       "13/12"
      ]
     },
     "metadata": {
      "tags": []
     },
     "output_type": "display_data"
    },
    {
     "data": {
      "application/vnd.google.colaboratory.intrinsic+json": {
       "type": "string"
      },
      "text/plain": [
       "'periapsis'"
      ]
     },
     "metadata": {
      "tags": []
     },
     "output_type": "display_data"
    },
    {
     "data": {
      "text/latex": [
       "$\\displaystyle 1$"
      ],
      "text/plain": [
       "1"
      ]
     },
     "metadata": {
      "tags": []
     },
     "output_type": "display_data"
    },
    {
     "data": {
      "application/vnd.google.colaboratory.intrinsic+json": {
       "type": "string"
      },
      "text/plain": [
       "'focus_distance'"
      ]
     },
     "metadata": {
      "tags": []
     },
     "output_type": "display_data"
    },
    {
     "data": {
      "text/latex": [
       "$\\displaystyle 13$"
      ],
      "text/plain": [
       "13"
      ]
     },
     "metadata": {
      "tags": []
     },
     "output_type": "display_data"
    },
    {
     "data": {
      "application/vnd.google.colaboratory.intrinsic+json": {
       "type": "string"
      },
      "text/plain": [
       "'foci'"
      ]
     },
     "metadata": {
      "tags": []
     },
     "output_type": "display_data"
    },
    {
     "data": {
      "text/plain": [
       "(Point2D(-12, 2), Point2D(14, 2))"
      ]
     },
     "metadata": {
      "tags": []
     },
     "output_type": "display_data"
    },
    {
     "data": {
      "application/vnd.google.colaboratory.intrinsic+json": {
       "type": "string"
      },
      "text/plain": [
       "'equation'"
      ]
     },
     "metadata": {
      "tags": []
     },
     "output_type": "display_data"
    },
    {
     "data": {
      "text/latex": [
       "$\\displaystyle \\left(\\frac{x}{12} - \\frac{1}{12}\\right)^{2} - \\left(\\frac{y}{5} - \\frac{2}{5}\\right)^{2} - 1$"
      ],
      "text/plain": [
       "(x/12 - 1/12)**2 - (y/5 - 2/5)**2 - 1"
      ]
     },
     "metadata": {
      "tags": []
     },
     "output_type": "display_data"
    }
   ],
   "source": [
    " Hyp1 = Hyperbola(Point(1, 2), hradius=12, vradius=5)\n",
    "\n",
    " props = {'eccentricity': Hyp1.eccentricity, 'periapsis': Hyp1.periapsis,\n",
    " 'focus_distance': Hyp1.focus_distance, 'foci': Hyp1.foci, 'equation': Hyp1.equation()}\n",
    "for key in props.keys():\n",
    "  display(key, props[key])"
   ]
  },
  {
   "cell_type": "markdown",
   "metadata": {
    "id": "IXufojW2CDvr"
   },
   "source": [
    "### Задание 2.\n",
    "Добавить в описание класса гипербол методы \n",
    "\n",
    "asymptote(self, x='x', y='y', equation=False)\n",
    "\n",
    "directrix(self, x='x', equation=False)\n",
    "\n",
    "Для гиперболы Задания 1 вывести на экран уравнения асимптот и директрис."
   ]
  },
  {
   "cell_type": "code",
   "execution_count": 9,
   "metadata": {
    "colab": {
     "base_uri": "https://localhost:8080/",
     "height": 173
    },
    "id": "Nns4uMoVCDvt",
    "outputId": "30154f43-df13-48af-ce4b-f374d74b4ef0"
   },
   "outputs": [
    {
     "data": {
      "text/latex": [
       "$\\displaystyle y = \\frac{5 x}{12} + \\frac{19}{12}$"
      ],
      "text/plain": [
       "Eq(y, 5*x/12 + 19/12)"
      ]
     },
     "metadata": {
      "tags": []
     },
     "output_type": "display_data"
    },
    {
     "data": {
      "text/latex": [
       "$\\displaystyle y = \\frac{29}{12} - \\frac{5 x}{12}$"
      ],
      "text/plain": [
       "Eq(y, 29/12 - 5*x/12)"
      ]
     },
     "metadata": {
      "tags": []
     },
     "output_type": "display_data"
    },
    {
     "data": {
      "application/vnd.google.colaboratory.intrinsic+json": {
       "type": "string"
      },
      "text/plain": [
       "'--------------'"
      ]
     },
     "metadata": {
      "tags": []
     },
     "output_type": "display_data"
    },
    {
     "data": {
      "text/latex": [
       "$\\displaystyle x = \\frac{157}{13}$"
      ],
      "text/plain": [
       "Eq(x, 157/13)"
      ]
     },
     "metadata": {
      "tags": []
     },
     "output_type": "display_data"
    },
    {
     "data": {
      "text/latex": [
       "$\\displaystyle x = - \\frac{131}{13}$"
      ],
      "text/plain": [
       "Eq(x, -131/13)"
      ]
     },
     "metadata": {
      "tags": []
     },
     "output_type": "display_data"
    }
   ],
   "source": [
    "display(*Hyp1.asymptote(equation = True))\n",
    "display('--------------')\n",
    "display(*Hyp1.directrix(equation = True))"
   ]
  },
  {
   "cell_type": "markdown",
   "metadata": {
    "id": "AiM4Ld0rCDvu"
   },
   "source": [
    "### Задание 3.\n",
    "Вывести на экран уравнение гиперболы из задания 1 с поворотом на 30 градусов против часовой стрелки относительно ее центра.\n",
    "Изобразить повернутую гиперболу с помощью plot_implicit."
   ]
  },
  {
   "cell_type": "code",
   "execution_count": 12,
   "metadata": {
    "colab": {
     "base_uri": "https://localhost:8080/",
     "height": 297
    },
    "id": "_XGBg68ICDvv",
    "outputId": "f06d4df5-0db0-462c-d69c-3004f778b8c4"
   },
   "outputs": [
    {
     "data": {
      "image/png": "[encoded data removed]",
      "text/plain": [
       "<Figure size 432x288 with 1 Axes>"
      ]
     },
     "metadata": {
      "needs_background": "light",
      "tags": []
     },
     "output_type": "display_data"
    }
   ],
   "source": [
    "eq2 = Hyp1.equation(_slope=1/3**(S.Half), equation=True)\n",
    "\n",
    "dict_free = {str(a): a for a in eq2.free_symbols}\n",
    "p = plot_implicit(eq2, (dict_free['x'], -30, 30), (dict_free['y'], -30, 30),\n",
    " line_color='r', aspect_ratio=(1, 1), show=False, adaptive=False)\n",
    "\n",
    "p.show()"
   ]
  },
  {
   "cell_type": "markdown",
   "metadata": {
    "id": "hzDi5KWpCDvw"
   },
   "source": [
    "## Уравнения директрис и асимптот при повороте на угол $\\alpha$\n",
    "Пусть  $a$ - горизонтальная полуось, $c$ - фокусное расстояние, $x_0$ - горизонтальная координата центра гиперболы, тогда уравнение директрис \n",
    "$$\n",
    "x = x_0 \\pm \\frac{a^2}{c}\n",
    "$$\n",
    "При повороте на угол $\\alpha$ получается уравнение\n",
    "$$\n",
    "y = y_0 -{\\rm ctg} \\alpha(x - x_0) \\pm \\frac{a^2}{c}\\sqrt{1 + {\\rm ctg} \\alpha}\n",
    "$$\n",
    "Уравнение асимптоты\n",
    "$$\n",
    "y = y_0 \\pm \\frac{b}{a}(x - x_0)\n",
    "$$\n",
    "При повороте на угол $\\alpha$ получаются уравнения\n",
    "\\begin{align*}\n",
    "y_1 = y_0 + k_1(x - x_0), \\quad \n",
    "y_2 = y_0 + k_2(x - x_0), \\\\ \n",
    "k_1 = \\frac{b + a{\\rm tg} \\alpha}{a - b{\\rm tg} \\alpha},\\quad \n",
    "k_2 = \\frac{-b + a{\\rm tg} \\alpha}{a + b{\\rm tg} \\alpha}\n",
    "\\end{align*}\n",
    "### Задание 4.\n",
    "Изобразить гиперболу Задания 3 (т.е. повернутую на угол) и ее асимптоты и директрисы на одном графике plot_implicit."
   ]
  },
  {
   "cell_type": "code",
   "execution_count": 15,
   "metadata": {
    "colab": {
     "base_uri": "https://localhost:8080/",
     "height": 297
    },
    "id": "qxhgFotCCDvy",
    "outputId": "26c938cb-7973-4d7b-ac44-506f023b01d5"
   },
   "outputs": [
    {
     "data": {
      "image/png": "[encoded data removed]",
      "text/plain": [
       "<Figure size 432x288 with 1 Axes>"
      ]
     },
     "metadata": {
      "needs_background": "light",
      "tags": []
     },
     "output_type": "display_data"
    }
   ],
   "source": [
    "a = 12\n",
    "b = 5\n",
    "\n",
    "x0 = 1\n",
    "y0 = 2\n",
    "\n",
    "k1 = (b + a * 1/3**(S.Half)) / (a - b * 1/3**(S.Half))\n",
    "k2 = (-b + a * 1/3**(S.Half)) / (a + b * 1/3**(S.Half))\n",
    "c = Hyp1.focus_distance\n",
    "\n",
    "dict_free = {str(a): a for a in eq2.free_symbols}\n",
    "x = dict_free['x']\n",
    "y = dict_free['y']\n",
    "\n",
    "asymp1 = Eq(y, y0 + k1*(x - x0))\n",
    "asymp2 = Eq(y, y0 + k2*(x - x0))\n",
    "direct1 = Eq(y, y0 - 3**(S.Half)*(x - x0) + a**2/c * (1 + 3**(S.Half))**(S.Half))\n",
    "direct2 = Eq(y, y0 - 3**(S.Half)*(x - x0) - a**2/c * (1 + 3**(S.Half))**(S.Half))\n",
    "\n",
    "p = plot_implicit(eq2, (dict_free['x'], -30, 30), (dict_free['y'], -30, 30),\n",
    " line_color='r', aspect_ratio=(1, 1), show=False, adaptive=False)\n",
    "\n",
    "p.extend(plot_implicit(asymp1, (x, -30, 30), (y, -30, 30), line_color='g', aspect_ratio=(1, 1), show=False, adaptive=False))\n",
    "p.extend(plot_implicit(asymp2, (x, -30, 30), (y, -30, 30), line_color='g', aspect_ratio=(1, 1), show=False, adaptive=False))\n",
    "p.extend(plot_implicit(direct1, (x, -30, 30), (y, -30, 30), line_color='b', aspect_ratio=(1, 1), show=False, adaptive=False))\n",
    "p.extend(plot_implicit(direct2, (x, -30, 30), (y, -30, 30), line_color='b', aspect_ratio=(1, 1), show=False, adaptive=False))\n",
    "\n",
    "p.show()"
   ]
  },
  {
   "cell_type": "markdown",
   "metadata": {
    "id": "jibp-2IiCDvz"
   },
   "source": [
    "###  Индивидуальное задание\n",
    "Определить гиперболу с центром в точке $O (-1, 3)$, полуосями $a = 4$ и $b = 3$.  Вывести на экран эксцентриситет, фокусное расстояние, фокусы (с координатами), periapsis, уравнение гиперболы, уравнения асимптот и директрис. \n",
    "\n",
    "Изобразить гиперболу, повернутую на $\\alpha =\\pi / 4$ градусов против часовой стрелки относительно ее центра, соответствующие асимптоты и директрисы. Вывести на экран уравнения повернутой гиперболы, соответствующих асимптот и директрис.\n"
   ]
  },
  {
   "cell_type": "code",
   "execution_count": 17,
   "metadata": {
    "colab": {
     "base_uri": "https://localhost:8080/",
     "height": 974
    },
    "id": "GDex6Gs2CDv0",
    "outputId": "5dfc99ec-f6c1-45b5-f2eb-8b2e693bcfc5"
   },
   "outputs": [
    {
     "data": {
      "application/vnd.google.colaboratory.intrinsic+json": {
       "type": "string"
      },
      "text/plain": [
       "'eccentricity'"
      ]
     },
     "metadata": {
      "tags": []
     },
     "output_type": "display_data"
    },
    {
     "data": {
      "text/latex": [
       "$\\displaystyle \\frac{5}{4}$"
      ],
      "text/plain": [
       "5/4"
      ]
     },
     "metadata": {
      "tags": []
     },
     "output_type": "display_data"
    },
    {
     "data": {
      "application/vnd.google.colaboratory.intrinsic+json": {
       "type": "string"
      },
      "text/plain": [
       "'periapsis'"
      ]
     },
     "metadata": {
      "tags": []
     },
     "output_type": "display_data"
    },
    {
     "data": {
      "text/latex": [
       "$\\displaystyle 1$"
      ],
      "text/plain": [
       "1"
      ]
     },
     "metadata": {
      "tags": []
     },
     "output_type": "display_data"
    },
    {
     "data": {
      "application/vnd.google.colaboratory.intrinsic+json": {
       "type": "string"
      },
      "text/plain": [
       "'focus_distance'"
      ]
     },
     "metadata": {
      "tags": []
     },
     "output_type": "display_data"
    },
    {
     "data": {
      "text/latex": [
       "$\\displaystyle 5$"
      ],
      "text/plain": [
       "5"
      ]
     },
     "metadata": {
      "tags": []
     },
     "output_type": "display_data"
    },
    {
     "data": {
      "application/vnd.google.colaboratory.intrinsic+json": {
       "type": "string"
      },
      "text/plain": [
       "'foci'"
      ]
     },
     "metadata": {
      "tags": []
     },
     "output_type": "display_data"
    },
    {
     "data": {
      "text/plain": [
       "(Point2D(-6, 3), Point2D(4, 3))"
      ]
     },
     "metadata": {
      "tags": []
     },
     "output_type": "display_data"
    },
    {
     "data": {
      "application/vnd.google.colaboratory.intrinsic+json": {
       "type": "string"
      },
      "text/plain": [
       "'equation'"
      ]
     },
     "metadata": {
      "tags": []
     },
     "output_type": "display_data"
    },
    {
     "data": {
      "text/latex": [
       "$\\displaystyle \\left(\\frac{x}{4} + \\frac{1}{4}\\right)^{2} - \\left(\\frac{y}{3} - 1\\right)^{2} - 1$"
      ],
      "text/plain": [
       "(x/4 + 1/4)**2 - (y/3 - 1)**2 - 1"
      ]
     },
     "metadata": {
      "tags": []
     },
     "output_type": "display_data"
    },
    {
     "data": {
      "application/vnd.google.colaboratory.intrinsic+json": {
       "type": "string"
      },
      "text/plain": [
       "'asymptotes:'"
      ]
     },
     "metadata": {
      "tags": []
     },
     "output_type": "display_data"
    },
    {
     "data": {
      "text/latex": [
       "$\\displaystyle y = \\frac{3 x}{4} + \\frac{15}{4}$"
      ],
      "text/plain": [
       "Eq(y, 3*x/4 + 15/4)"
      ]
     },
     "metadata": {
      "tags": []
     },
     "output_type": "display_data"
    },
    {
     "data": {
      "text/latex": [
       "$\\displaystyle y = \\frac{9}{4} - \\frac{3 x}{4}$"
      ],
      "text/plain": [
       "Eq(y, 9/4 - 3*x/4)"
      ]
     },
     "metadata": {
      "tags": []
     },
     "output_type": "display_data"
    },
    {
     "data": {
      "application/vnd.google.colaboratory.intrinsic+json": {
       "type": "string"
      },
      "text/plain": [
       "'directrixes:'"
      ]
     },
     "metadata": {
      "tags": []
     },
     "output_type": "display_data"
    },
    {
     "data": {
      "text/latex": [
       "$\\displaystyle x = \\frac{11}{5}$"
      ],
      "text/plain": [
       "Eq(x, 11/5)"
      ]
     },
     "metadata": {
      "tags": []
     },
     "output_type": "display_data"
    },
    {
     "data": {
      "text/latex": [
       "$\\displaystyle x = - \\frac{21}{5}$"
      ],
      "text/plain": [
       "Eq(x, -21/5)"
      ]
     },
     "metadata": {
      "tags": []
     },
     "output_type": "display_data"
    },
    {
     "data": {
      "image/png": "[encoded data removed]",
      "text/plain": [
       "<Figure size 432x288 with 1 Axes>"
      ]
     },
     "metadata": {
      "needs_background": "light",
      "tags": []
     },
     "output_type": "display_data"
    },
    {
     "data": {
      "text/latex": [
       "$\\displaystyle \\frac{3 \\left(x + \\frac{\\sqrt{3} \\left(y - 3\\right)}{3} + 1\\right)^{2}}{64} - \\frac{\\left(y - \\frac{\\sqrt{3} \\left(x + 1\\right)}{3} - 3\\right)^{2}}{12} = 1$"
      ],
      "text/plain": [
       "Eq(3*(x + sqrt(3)*(y - 3)/3 + 1)**2/64 - (y - sqrt(3)*(x + 1)/3 - 3)**2/12, 1)"
      ]
     },
     "metadata": {
      "tags": []
     },
     "output_type": "display_data"
    },
    {
     "data": {
      "application/vnd.google.colaboratory.intrinsic+json": {
       "type": "string"
      },
      "text/plain": [
       "'asymptotes:'"
      ]
     },
     "metadata": {
      "tags": []
     },
     "output_type": "display_data"
    },
    {
     "data": {
      "text/latex": [
       "$\\displaystyle y = \\frac{\\left(\\frac{4 \\sqrt{3}}{3} + 3\\right) \\left(x + 1\\right)}{4 - \\sqrt{3}} + 3$"
      ],
      "text/plain": [
       "Eq(y, (4*sqrt(3)/3 + 3)*(x + 1)/(4 - sqrt(3)) + 3)"
      ]
     },
     "metadata": {
      "tags": []
     },
     "output_type": "display_data"
    },
    {
     "data": {
      "text/latex": [
       "$\\displaystyle y = \\frac{\\left(-3 + \\frac{4 \\sqrt{3}}{3}\\right) \\left(x + 1\\right)}{\\sqrt{3} + 4} + 3$"
      ],
      "text/plain": [
       "Eq(y, (-3 + 4*sqrt(3)/3)*(x + 1)/(sqrt(3) + 4) + 3)"
      ]
     },
     "metadata": {
      "tags": []
     },
     "output_type": "display_data"
    },
    {
     "data": {
      "application/vnd.google.colaboratory.intrinsic+json": {
       "type": "string"
      },
      "text/plain": [
       "'directrixes:'"
      ]
     },
     "metadata": {
      "tags": []
     },
     "output_type": "display_data"
    },
    {
     "data": {
      "text/latex": [
       "$\\displaystyle y = - \\sqrt{3} \\left(x + 1\\right) + 3 + \\frac{16 \\sqrt{1 + \\sqrt{3}}}{5}$"
      ],
      "text/plain": [
       "Eq(y, -sqrt(3)*(x + 1) + 3 + 16*sqrt(1 + sqrt(3))/5)"
      ]
     },
     "metadata": {
      "tags": []
     },
     "output_type": "display_data"
    },
    {
     "data": {
      "text/latex": [
       "$\\displaystyle y = - \\sqrt{3} \\left(x + 1\\right) - \\frac{16 \\sqrt{1 + \\sqrt{3}}}{5} + 3$"
      ],
      "text/plain": [
       "Eq(y, -sqrt(3)*(x + 1) - 16*sqrt(1 + sqrt(3))/5 + 3)"
      ]
     },
     "metadata": {
      "tags": []
     },
     "output_type": "display_data"
    }
   ],
   "source": [
    "a = 4\n",
    "b = 3\n",
    "\n",
    "x0 = -1\n",
    "y0 = 3\n",
    "\n",
    "k1 = (b + a * 1/3**(S.Half)) / (a - b * 1/3**(S.Half))\n",
    "k2 = (-b + a * 1/3**(S.Half)) / (a + b * 1/3**(S.Half))\n",
    "\n",
    "Hyp3 = Hyperbola(Point(x0, y0), hradius=a, vradius=b)\n",
    "\n",
    "c = Hyp3.focus_distance\n",
    "\n",
    "props = {'eccentricity': Hyp3.eccentricity, 'periapsis': Hyp3.periapsis,\n",
    " 'focus_distance': Hyp3.focus_distance, 'foci': Hyp3.foci, 'equation': Hyp3.equation()}\n",
    "\n",
    "for key in props.keys():\n",
    "  display(key, props[key])\n",
    "\n",
    "display('asymptotes:',*Hyp3.asymptote(equation = True))\n",
    "display('directrixes:',*Hyp3.directrix(equation = True))\n",
    "\n",
    "eq3 = Hyp3.equation(_slope=1/3**(S.Half), equation=True)\n",
    "\n",
    "dict_free = {str(a): a for a in eq3.free_symbols}\n",
    "x = dict_free['x']\n",
    "y = dict_free['y']\n",
    "\n",
    "asymp1 = Eq(y, y0 + k1*(x - x0))\n",
    "asymp2 = Eq(y, y0 + k2*(x - x0))\n",
    "direct1 = Eq(y, y0 - 3**(S.Half)*(x - x0) + a**2/c * (1 + 3**(S.Half))**(S.Half))\n",
    "direct2 = Eq(y, y0 - 3**(S.Half)*(x - x0) - a**2/c * (1 + 3**(S.Half))**(S.Half))\n",
    "\n",
    "p = plot_implicit(eq3, (dict_free['x'], -20, 20), (dict_free['y'], -20, 20), line_color='r', aspect_ratio=(1, 1), show=False, adaptive=False)\n",
    "\n",
    "p.extend(plot_implicit(asymp1, (x, -40, 40), (y, -40, 40), line_color='g', aspect_ratio=(1, 1), show=False, adaptive=False))\n",
    "p.extend(plot_implicit(asymp2, (x, -40, 40), (y, -40, 40), line_color='g', aspect_ratio=(1, 1), show=False, adaptive=False))\n",
    "p.extend(plot_implicit(direct1, (x, -40, 40), (y, -40, 40), line_color='b', aspect_ratio=(1, 1), show=False, adaptive=False))\n",
    "p.extend(plot_implicit(direct2, (x, -40, 40), (y, -40, 40), line_color='b', aspect_ratio=(1, 1), show=False, adaptive=False))\n",
    "\n",
    "p.show()\n",
    "\n",
    "display(eq3)\n",
    "display('asymptotes:', asymp1, asymp2)\n",
    "display('directrixes:', direct1, direct2)"
   ]
  }
 ],
 "metadata": {
  "colab": {
   "collapsed_sections": [],
   "name": "KOLTUNOV_Alg_15_2020_hyp_tasks.ipynb",
   "provenance": []
  },
  "kernelspec": {
   "display_name": "Python 3",
   "language": "python",
   "name": "python3"
  },
  "language_info": {
   "codemirror_mode": {
    "name": "ipython",
    "version": 3
   },
   "file_extension": ".py",
   "mimetype": "text/x-python",
   "name": "python",
   "nbconvert_exporter": "python",
   "pygments_lexer": "ipython3",
   "version": "3.8.5"
  }
 },
 "nbformat": 4,
 "nbformat_minor": 1
}
