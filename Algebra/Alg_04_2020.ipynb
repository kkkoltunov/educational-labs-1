{
 "cells": [
  {
   "cell_type": "markdown",
   "metadata": {},
   "source": [
    "## Занятие 4\n",
    "## Алгебра\n",
    "## Фундаментальная система решений однородной СЛАУ"
   ]
  },
  {
   "cell_type": "markdown",
   "metadata": {},
   "source": [
    "https://docs.sympy.org/latest/modules"
   ]
  },
  {
   "cell_type": "code",
   "execution_count": 3,
   "metadata": {},
   "outputs": [],
   "source": [
    "import sympy\n",
    "from sympy import linsolve, Matrix, S, Symbol, symbols, Eq, linear_eq_to_matrix, simplify, zeros"
   ]
  },
  {
   "cell_type": "markdown",
   "metadata": {},
   "source": [
    "### Задание 1.\n",
    "Проверить по теореме Кронекера-Капелли совместность СЛАУ $AX = b$, если\n",
    "\\begin{align*}\n",
    "a)\\ A = \\left(\n",
    "\\begin{matrix}\n",
    "-1 & -3 & 5 & 2\\\\\n",
    "2 & -1 & 4 & 7\\\\\n",
    "3 & 4 & -1 & 0\\\\\n",
    "5 & 0 & 1 & -3\n",
    "\\end{matrix}\n",
    "\\right), \\quad \n",
    "b = \\left(\n",
    "\\begin{matrix}\n",
    "14\\\\ 56\\\\ 5\\\\ -6\n",
    "\\end{matrix}\n",
    "\\right), \\quad \n",
    "b)\\ A = \\left(\n",
    "\\begin{matrix}\n",
    "1 & 3 & 5 & 2\\\\\n",
    "2 & -1 & 4 & 1\\\\\n",
    "3 & 4 & -1 & 0\\\\\n",
    "5 & 3 & 3 & 1\n",
    "\\end{matrix}\n",
    "\\right), \\quad \n",
    "b = \\left(\n",
    "\\begin{matrix}\n",
    "24\\\\ 20\\\\ 5\\\\ 5\n",
    "\\end{matrix}\n",
    "\\right), \\quad \n",
    "c)\\ A = \\left(\n",
    "\\begin{matrix}\n",
    "1 & 3 & 5 & 2\\\\\n",
    "2 & -1 & 4 & 1\\\\\n",
    "3 & 2 & 9 & 3\\\\\n",
    "1 & -4 & -1 & -1\n",
    "\\end{matrix}\n",
    "\\right), \\quad \n",
    "b = \\left(\n",
    "\\begin{matrix}\n",
    "24\\\\ 20\\\\ 44\\\\ -4\n",
    "\\end{matrix}\n",
    "\\right)\n",
    "\\end{align*}"
   ]
  },
  {
   "cell_type": "code",
   "execution_count": 23,
   "metadata": {},
   "outputs": [
    {
     "name": "stdout",
     "output_type": "stream",
     "text": [
      "1 matrix\n"
     ]
    },
    {
     "data": {
      "text/plain": [
       "True"
      ]
     },
     "metadata": {},
     "output_type": "display_data"
    },
    {
     "name": "stdout",
     "output_type": "stream",
     "text": [
      "2 matrix\n"
     ]
    },
    {
     "data": {
      "text/plain": [
       "False"
      ]
     },
     "metadata": {},
     "output_type": "display_data"
    },
    {
     "name": "stdout",
     "output_type": "stream",
     "text": [
      "3 matrix\n"
     ]
    },
    {
     "data": {
      "text/plain": [
       "True"
      ]
     },
     "metadata": {},
     "output_type": "display_data"
    }
   ],
   "source": [
    "A = Matrix([[-1, -3, 5, 2], [2, -1, 4, 7], [3, 4, -1, 0], [5, 0, 1, -3]])\n",
    "b = Matrix([14, 56, 5, -6])\n",
    "print('1 matrix')\n",
    "display(A.rank() == A.row_join(b).rank())\n",
    "\n",
    "A = Matrix([[1, 3, 5, 2], [2, -1, 4, 1], [3, 4, -1, 0], [5, 3, 3, 1]])\n",
    "b = Matrix([24, 20, 5, 5])\n",
    "print('2 matrix')\n",
    "display(A.rank() == A.row_join(b).rank())\n",
    "\n",
    "A = Matrix([[1, 3, 5, 2], [2, -1, 4, 1], [3, 2, 9, 3], [1, -4, -1, -1]])\n",
    "b = Matrix([24, 20, 44, -4])\n",
    "print('3 matrix')\n",
    "display(A.rank() == A.row_join(b).rank())"
   ]
  },
  {
   "cell_type": "markdown",
   "metadata": {},
   "source": [
    "### Задание 2.\n",
    "Проверить единственность решения в совместных СЛАУ Задания 1."
   ]
  },
  {
   "cell_type": "code",
   "execution_count": 11,
   "metadata": {},
   "outputs": [
    {
     "data": {
      "text/latex": [
       "$\\displaystyle \\left[\\begin{matrix}-1 & -3 & 5 & 2 & 14\\\\2 & -1 & 4 & 7 & 56\\\\3 & 4 & -1 & 0 & 5\\\\5 & 0 & 1 & -3 & -6\\end{matrix}\\right]$"
      ],
      "text/plain": [
       "Matrix([\n",
       "[-1, -3,  5,  2, 14],\n",
       "[ 2, -1,  4,  7, 56],\n",
       "[ 3,  4, -1,  0,  5],\n",
       "[ 5,  0,  1, -3, -6]])"
      ]
     },
     "metadata": {},
     "output_type": "display_data"
    }
   ],
   "source": [
    "A = Matrix([[-1, -3, 5, 2, 14], [2, -1, 4, 7, 56], [3, 4, -1, 0, 5], [5, 0, 1, -3, -6]])\n",
    "D = Matrix([[1, 3, 5, 2, 24], [2, -1, 4, 1, 20], [3, 4, -1, 0, 5], [5, 3, 3, 1, 5]])\n",
    "C = Matrix([[1, 3, 5, 2, 24], [2, -1, 4, 1, 20], [3, 2, 9, 3, 44], [1, -4, -1, -1, -4]])\n",
    "for B in [A, D, C]:\n",
    "    rgA = B[:, :-1].rank()\n",
    "    n, m = B[:, :-1].shape\n",
    "    if rgA == B.rank() and rgA == m:\n",
    "        display(B)"
   ]
  },
  {
   "cell_type": "markdown",
   "metadata": {},
   "source": [
    "### Задание 3\n",
    "Для однородных СЛАУ, соответствующих СЛАУ из Задания 1 установить, есть ли у однородной СЛАУ нетривиальное решение. "
   ]
  },
  {
   "cell_type": "code",
   "execution_count": 16,
   "metadata": {},
   "outputs": [
    {
     "data": {
      "text/plain": [
       "'B'"
      ]
     },
     "metadata": {},
     "output_type": "display_data"
    },
    {
     "data": {
      "text/plain": [
       "'C'"
      ]
     },
     "metadata": {},
     "output_type": "display_data"
    }
   ],
   "source": [
    "A = Matrix([[-1, -3, 5, 2], [2, -1, 4, 7], [3, 4, -1, 0], [5, 0, 1, -3]])\n",
    "B = Matrix([[1, 3, 5, 2], [2, -1, 4, 1], [3, 4, -1, 0], [5, 3, 3, 1]])\n",
    "C = Matrix([[1, 3, 5, 2], [2, -1, 4, 1], [3, 2, 9, 3], [1, -4, -1, -1]])\n",
    "number = ['A', 'B', 'C']\n",
    "for i, A in enumerate([A, B, C]):\n",
    "    if A.rank() < A.shape[1]:\n",
    "        display(number[i])"
   ]
  },
  {
   "cell_type": "markdown",
   "metadata": {},
   "source": [
    "### Задание 4\n",
    "Для однородных СЛАУ из Задания 3, имеющих нетривиальное решение, составить ФСР. "
   ]
  },
  {
   "cell_type": "code",
   "execution_count": 37,
   "metadata": {},
   "outputs": [
    {
     "name": "stdout",
     "output_type": "stream",
     "text": [
      "Matrix B\n"
     ]
    },
    {
     "data": {
      "text/latex": [
       "$\\displaystyle \\left[\\begin{matrix}\\frac{7}{82}\\\\- \\frac{6}{41}\\\\- \\frac{27}{82}\\\\1\\end{matrix}\\right]$"
      ],
      "text/plain": [
       "Matrix([\n",
       "[  7/82],\n",
       "[ -6/41],\n",
       "[-27/82],\n",
       "[     1]])"
      ]
     },
     "metadata": {},
     "output_type": "display_data"
    },
    {
     "name": "stdout",
     "output_type": "stream",
     "text": [
      "Matrix C\n"
     ]
    },
    {
     "data": {
      "text/latex": [
       "$\\displaystyle \\left[\\begin{matrix}- \\frac{17}{7}\\\\- \\frac{6}{7}\\\\1\\\\0\\end{matrix}\\right]$"
      ],
      "text/plain": [
       "Matrix([\n",
       "[-17/7],\n",
       "[ -6/7],\n",
       "[    1],\n",
       "[    0]])"
      ]
     },
     "metadata": {},
     "output_type": "display_data"
    },
    {
     "data": {
      "text/latex": [
       "$\\displaystyle \\left[\\begin{matrix}- \\frac{5}{7}\\\\- \\frac{3}{7}\\\\0\\\\1\\end{matrix}\\right]$"
      ],
      "text/plain": [
       "Matrix([\n",
       "[-5/7],\n",
       "[-3/7],\n",
       "[   0],\n",
       "[   1]])"
      ]
     },
     "metadata": {},
     "output_type": "display_data"
    }
   ],
   "source": [
    "B = Matrix([[1, 3, 5, 2], [2, -1, 4, 1], [3, 4, -1, 0], [5, 3, 3, 1]])\n",
    "print('Matrix B')\n",
    "display(*B.nullspace())\n",
    "\n",
    "C = Matrix([[1, 3, 5, 2], [2, -1, 4, 1], [3, 2, 9, 3], [1, -4, -1, -1]])\n",
    "print('Matrix C')\n",
    "display(*C.nullspace())"
   ]
  },
  {
   "cell_type": "markdown",
   "metadata": {},
   "source": [
    "### Задание 5\n",
    "Для однородных СЛАУ из Задания 4 построить общее решение, используя построенную в Задании 4 ФСР. Сравнить с результатом, возвращаемым linsolve. "
   ]
  },
  {
   "cell_type": "code",
   "execution_count": 46,
   "metadata": {},
   "outputs": [
    {
     "name": "stdout",
     "output_type": "stream",
     "text": [
      "4\n"
     ]
    },
    {
     "data": {
      "text/latex": [
       "$\\displaystyle \\left[\\begin{matrix}\\frac{7 x_{1}}{82}\\\\- \\frac{6 x_{1}}{41}\\\\- \\frac{27 x_{1}}{82}\\\\x_{1}\\end{matrix}\\right]$"
      ],
      "text/plain": [
       "Matrix([\n",
       "[  7*x1/82],\n",
       "[ -6*x1/41],\n",
       "[-27*x1/82],\n",
       "[       x1]])"
      ]
     },
     "metadata": {},
     "output_type": "display_data"
    },
    {
     "data": {
      "text/latex": [
       "$\\displaystyle \\left[\\begin{matrix}1 & 3 & 5 & 2\\\\2 & -1 & 4 & 1\\\\3 & 4 & -1 & 0\\\\5 & 3 & 3 & 1\\end{matrix}\\right]$"
      ],
      "text/plain": [
       "Matrix([\n",
       "[1,  3,  5, 2],\n",
       "[2, -1,  4, 1],\n",
       "[3,  4, -1, 0],\n",
       "[5,  3,  3, 1]])"
      ]
     },
     "metadata": {},
     "output_type": "display_data"
    },
    {
     "data": {
      "text/latex": [
       "$\\displaystyle \\left\\{\\left( \\frac{7 x_{4}}{82}, \\  - \\frac{6 x_{4}}{41}, \\  - \\frac{27 x_{4}}{82}, \\  x_{4}\\right)\\right\\}$"
      ],
      "text/plain": [
       "FiniteSet((7*x4/82, -6*x4/41, -27*x4/82, x4))"
      ]
     },
     "metadata": {},
     "output_type": "display_data"
    },
    {
     "name": "stdout",
     "output_type": "stream",
     "text": [
      "4\n"
     ]
    },
    {
     "data": {
      "text/latex": [
       "$\\displaystyle \\left[\\begin{matrix}- \\frac{17 x_{1}}{7} - \\frac{5 x_{2}}{7}\\\\- \\frac{6 x_{1}}{7} - \\frac{3 x_{2}}{7}\\\\x_{1}\\\\x_{2}\\end{matrix}\\right]$"
      ],
      "text/plain": [
       "Matrix([\n",
       "[-17*x1/7 - 5*x2/7],\n",
       "[ -6*x1/7 - 3*x2/7],\n",
       "[               x1],\n",
       "[               x2]])"
      ]
     },
     "metadata": {},
     "output_type": "display_data"
    },
    {
     "data": {
      "text/latex": [
       "$\\displaystyle \\left[\\begin{matrix}1 & 3 & 5 & 2\\\\2 & -1 & 4 & 1\\\\3 & 2 & 9 & 3\\\\1 & -4 & -1 & -1\\end{matrix}\\right]$"
      ],
      "text/plain": [
       "Matrix([\n",
       "[1,  3,  5,  2],\n",
       "[2, -1,  4,  1],\n",
       "[3,  2,  9,  3],\n",
       "[1, -4, -1, -1]])"
      ]
     },
     "metadata": {},
     "output_type": "display_data"
    },
    {
     "data": {
      "text/latex": [
       "$\\displaystyle \\left\\{\\left( - \\frac{17 x_{3}}{7} - \\frac{5 x_{4}}{7}, \\  - \\frac{6 x_{3}}{7} - \\frac{3 x_{4}}{7}, \\  x_{3}, \\  x_{4}\\right)\\right\\}$"
      ],
      "text/plain": [
       "FiniteSet((-17*x3/7 - 5*x4/7, -6*x3/7 - 3*x4/7, x3, x4))"
      ]
     },
     "metadata": {},
     "output_type": "display_data"
    }
   ],
   "source": [
    "B = Matrix([[1, 3, 5, 2], [2, -1, 4, 1], [3, 4, -1, 0], [5, 3, 3, 1]])\n",
    "C = Matrix([[1, 3, 5, 2], [2, -1, 4, 1], [3, 2, 9, 3], [1, -4, -1, -1]])\n",
    "\n",
    "for M in [B, C]:\n",
    "    M_ns = M.nullspace()\n",
    "    n, m = M.shape\n",
    "    print(m)\n",
    "    x = symbols('x1:' + str(m + 1))\n",
    "    X = zero_vect\n",
    "    for i, vect in enumerate(M.nullspace()):\n",
    "        X += vect*Symbol('x'+str(i + 1))\n",
    "    display(X, M, linsolve((M, zeros(n, 1)), x))  "
   ]
  },
  {
   "cell_type": "markdown",
   "metadata": {},
   "source": [
    "### Индивидуальное задание.\n",
    "Дана СЛАУ $AX = b$. Проверить совместность по теореме Кронекера-Капелли. Если СЛАУ совместна, проверить единственность решения.\n",
    "Для соответствующей однородной СЛАУ проверить существование нетривиального решения. В случае, если оно существует, \n",
    "найти размерность пространства решений и составить ФСР и общее решение однородной СЛАУ.\n",
    "\n",
    "\\begin{align*}\n",
    " A = \\left[\\begin{matrix}7 & -5 & 1 & -1\\\\-9 & -9 & -4 & -5\\\\-17 & -65 & -16 & -29\\\\-15 & -51 & -13 & -23\\end{matrix}\\right],\n",
    "\\qquad b = \\left[\\begin{matrix}-47\\\\-36\\\\-368\\\\-285\\end{matrix}\\right]. \n",
    " \\end{align*}"
   ]
  },
  {
   "cell_type": "code",
   "execution_count": 38,
   "metadata": {},
   "outputs": [
    {
     "data": {
      "text/plain": [
       "True"
      ]
     },
     "metadata": {},
     "output_type": "display_data"
    },
    {
     "name": "stdout",
     "output_type": "stream",
     "text": [
      "Размерность пространства решений - 2\n",
      "Присутствуют свободные члены\n",
      "Присутствует нетривиальное решение\n",
      "ФСР\n"
     ]
    },
    {
     "data": {
      "text/latex": [
       "$\\displaystyle \\left[\\begin{matrix}- \\frac{29}{108}\\\\- \\frac{19}{108}\\\\1\\\\0\\end{matrix}\\right]$"
      ],
      "text/plain": [
       "Matrix([\n",
       "[-29/108],\n",
       "[-19/108],\n",
       "[      1],\n",
       "[      0]])"
      ]
     },
     "metadata": {},
     "output_type": "display_data"
    },
    {
     "data": {
      "text/latex": [
       "$\\displaystyle \\left[\\begin{matrix}- \\frac{4}{27}\\\\- \\frac{11}{27}\\\\0\\\\1\\end{matrix}\\right]$"
      ],
      "text/plain": [
       "Matrix([\n",
       "[ -4/27],\n",
       "[-11/27],\n",
       "[     0],\n",
       "[     1]])"
      ]
     },
     "metadata": {},
     "output_type": "display_data"
    },
    {
     "name": "stdout",
     "output_type": "stream",
     "text": [
      "Общее решение СЛАУ\n"
     ]
    },
    {
     "data": {
      "text/latex": [
       "$\\displaystyle \\left\\{\\left( - \\frac{29 x_{3}}{108} - \\frac{4 x_{4}}{27}, \\  - \\frac{19 x_{3}}{108} - \\frac{11 x_{4}}{27}, \\  x_{3}, \\  x_{4}\\right)\\right\\}$"
      ],
      "text/plain": [
       "FiniteSet((-29*x3/108 - 4*x4/27, -19*x3/108 - 11*x4/27, x3, x4))"
      ]
     },
     "metadata": {},
     "output_type": "display_data"
    }
   ],
   "source": [
    "A = Matrix([[7, -5, 1, -1], [-9, -9, -4, -5], [-17, -65, -16, -29], [-15, -51, -13, -23]])\n",
    "b = Matrix([-47, -36, -368, -285])\n",
    "display(A.rank() == A.row_join(b).rank())\n",
    "\n",
    "print('Размерность пространства решений -', A.shape[1] - A.rank())\n",
    "\n",
    "D = Matrix([[7, -5, 1, -1, -47], [-9, -9, -4, -5, -36], [-17, -65, -16, -29, -368], [-15, -51, -13, -23, -285]])\n",
    "\n",
    "rgA = D[:, :-1].rank()\n",
    "n, m = D[:, :-1].shape\n",
    "if rgA == D.rank() and rgA == m:\n",
    "    display(D)\n",
    "else:\n",
    "    print('Присутствуют свободные члены')\n",
    "    \n",
    "if A.rank() < A.shape[1]:\n",
    "    print('Присутствует нетривиальное решение')\n",
    "    \n",
    "print('ФСР')\n",
    "display(*A.nullspace())\n",
    "\n",
    "print('Общее решение СЛАУ')\n",
    "x = symbols('x1:' + str(m + 1))\n",
    "display(linsolve((A, zeros(n, 1)), x))"
   ]
  }
 ],
 "metadata": {
  "kernelspec": {
   "display_name": "Python 3",
   "language": "python",
   "name": "python3"
  },
  "language_info": {
   "codemirror_mode": {
    "name": "ipython",
    "version": 3
   },
   "file_extension": ".py",
   "mimetype": "text/x-python",
   "name": "python",
   "nbconvert_exporter": "python",
   "pygments_lexer": "ipython3",
   "version": "3.8.3"
  }
 },
 "nbformat": 4,
 "nbformat_minor": 2
}
