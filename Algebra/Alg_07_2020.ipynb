{
 "cells": [
  {
   "cell_type": "code",
   "execution_count": 2,
   "metadata": {},
   "outputs": [],
   "source": [
    "import sympy\n",
    "from sympy import  Point, Line, Plane, Point3D, solve, solveset"
   ]
  },
  {
   "cell_type": "markdown",
   "metadata": {},
   "source": [
    "# Лабораторная работа 7\n",
    "# Алгебра\n",
    "https://docs.sympy.org/latest/search.html?q=geometry\n",
    "\n",
    "## Прямые и плоскости в пространстве. Модуль Geometry\n",
    "### Задание 1.\n",
    "Даны точки: $A(3, -2, 3)$,  $B(-2, 3, 1)$, $C(1, -8, 6)$, $D(1, 2, 4)$, $F(-7, 8, -1)$.\n",
    "\n",
    "Проверить, различны ли прямые $AB$ и $AF$, $BC$ и $CD$, $ABC$ и $ACF$, $ABC$ и $ACD$. "
   ]
  },
  {
   "cell_type": "code",
   "execution_count": 4,
   "metadata": {},
   "outputs": [
    {
     "name": "stdout",
     "output_type": "stream",
     "text": [
      "пересекаются ли в одной точке прямые AB и AF:  True\n",
      "пересекаются ли в одной точке прямые BC и СD:  False\n",
      "пересекаются ли по общей прямой ABC и ACF:  True\n",
      "пересекаются ли по общей прямой ABC и ACD:  False\n"
     ]
    }
   ],
   "source": [
    "A = Point(3, -2, 3)\n",
    "B = Point(-2, 3, 1)\n",
    "C = Point(1, -8, 6)\n",
    "D = Point(1, 2, 4)\n",
    "F = Point(-7, 8, -1)\n",
    "O = Point(0, 0, 0)\n",
    "\n",
    "AB = Line(A, B)\n",
    "AF = Line(A, F)\n",
    "BC = Line(B, C)\n",
    "CD = Line(C, D)\n",
    "\n",
    "ABC = Plane(A, B, C)\n",
    "ACF = Plane(A, C, F)\n",
    "ACD = Plane(A, C, D)\n",
    "\n",
    "print('пересекаются ли в одной точке прямые AB и AF: ', AB.equals(AF))\n",
    "print('пересекаются ли в одной точке прямые BC и СD: ', BC.equals(CD))\n",
    "print('пересекаются ли по общей прямой ABC и ACF: ', ABC.equals(ACF))\n",
    "print('пересекаются ли по общей прямой ABC и ACD: ', ABC.equals(ACD))"
   ]
  },
  {
   "cell_type": "markdown",
   "metadata": {},
   "source": [
    "###  Задание 2\n",
    "Вывести на экран уравнение обеих биссектрис двугранных углов, образованных при пересечении плоскостей АВС и АСD.\n",
    "\n",
    "Указание: расстояние от любой точки на биссектрисе до каждой из плоскостей АВС и АСD одинаково, полученное из этого уравнение описывает обе биссектрисы, упрощать его не нужно."
   ]
  },
  {
   "cell_type": "code",
   "execution_count": 8,
   "metadata": {},
   "outputs": [
    {
     "data": {
      "text/latex": [
       "$\\displaystyle \\left|{\\frac{3 \\sqrt{1970} \\left(x - 3\\right)}{1970} + \\frac{19 \\sqrt{1970} \\left(y + 2\\right)}{1970} + \\frac{4 \\sqrt{1970} \\left(z - 3\\right)}{197}}\\right|$"
      ],
      "text/plain": [
       "Abs(3*sqrt(1970)*(x - 3)/1970 + 19*sqrt(1970)*(y + 2)/1970 + 4*sqrt(1970)*(z - 3)/197)"
      ]
     },
     "metadata": {},
     "output_type": "display_data"
    },
    {
     "data": {
      "text/latex": [
       "$\\displaystyle \\left|{\\frac{3 \\sqrt{1970} \\left(x - 3\\right)}{1970} + \\frac{19 \\sqrt{1970} \\left(y + 2\\right)}{1970} + \\frac{4 \\sqrt{1970} \\left(z - 3\\right)}{197}}\\right| = \\left|{\\frac{9 \\sqrt{185} \\left(x - 3\\right)}{185} + \\frac{2 \\sqrt{185} \\left(y + 2\\right)}{185} + \\frac{2 \\sqrt{185} \\left(z - 3\\right)}{37}}\\right|$"
      ],
      "text/plain": [
       "Eq(Abs(3*sqrt(1970)*(x - 3)/1970 + 19*sqrt(1970)*(y + 2)/1970 + 4*sqrt(1970)*(z - 3)/197), Abs(9*sqrt(185)*(x - 3)/185 + 2*sqrt(185)*(y + 2)/185 + 2*sqrt(185)*(z - 3)/37))"
      ]
     },
     "metadata": {},
     "output_type": "display_data"
    }
   ],
   "source": [
    "x, y, z = sympy.symbols('x y z')\n",
    "\n",
    "P = Point(x, y, z)\n",
    "display(P.distance(ABC))\n",
    "display(sympy.Eq(P.distance(ABC), P.distance(ACD)))"
   ]
  },
  {
   "cell_type": "markdown",
   "metadata": {},
   "source": [
    "###  Задание 3\n",
    "Построить плоскость, перпендикулярную плоскости АВС, проходящую через D и начало координат. Найти линию пересечения АВС и этой плоскости."
   ]
  },
  {
   "cell_type": "code",
   "execution_count": 15,
   "metadata": {},
   "outputs": [
    {
     "data": {
      "text/plain": [
       "'Плоскость:'"
      ]
     },
     "metadata": {},
     "output_type": "display_data"
    },
    {
     "data": {
      "text/latex": [
       "$\\displaystyle - 4 x + 28 y - 13 z$"
      ],
      "text/plain": [
       "-4*x + 28*y - 13*z"
      ]
     },
     "metadata": {},
     "output_type": "display_data"
    },
    {
     "data": {
      "text/plain": [
       "'Линия пересечения:'"
      ]
     },
     "metadata": {},
     "output_type": "display_data"
    },
    {
     "data": {
      "text/latex": [
       "$\\displaystyle - 121 x + 1367 y - 1183$"
      ],
      "text/plain": [
       "-121*x + 1367*y - 1183"
      ]
     },
     "metadata": {},
     "output_type": "display_data"
    },
    {
     "data": {
      "text/latex": [
       "$\\displaystyle 160 x + 1367 z - 2548$"
      ],
      "text/plain": [
       "160*x + 1367*z - 2548"
      ]
     },
     "metadata": {},
     "output_type": "display_data"
    }
   ],
   "source": [
    "PlaneABC = ABC.perpendicular_plane(D, Point(0, 0, 0))\n",
    "display('Плоскость:', PlaneABC.equation())\n",
    "display('Линия пересечения:', *PlaneABC.intersection(ABC)[0].equation())"
   ]
  },
  {
   "cell_type": "markdown",
   "metadata": {},
   "source": [
    "###  Задание 4\n",
    "Найти пересечение плоскости АВС и прямой DK, где K(3,-2, 3)."
   ]
  },
  {
   "cell_type": "code",
   "execution_count": 17,
   "metadata": {},
   "outputs": [
    {
     "name": "stdout",
     "output_type": "stream",
     "text": [
      "ABC.intersection(DK):  Point3D(3, -2, 3)\n"
     ]
    }
   ],
   "source": [
    "K = Point(3, -2, 3)\n",
    "DK = Line(D, K)\n",
    "ABC = Plane(A, B, C) \n",
    "\n",
    "print('ABC.intersection(DK): ', *ABC.intersection(DK))"
   ]
  },
  {
   "cell_type": "markdown",
   "metadata": {},
   "source": [
    "###  Задание 5\n",
    "Проверить, что точка пересечения из Задания 4 лежит в плоскости AFC."
   ]
  },
  {
   "cell_type": "code",
   "execution_count": 19,
   "metadata": {},
   "outputs": [
    {
     "data": {
      "text/plain": [
       "'True'"
      ]
     },
     "metadata": {},
     "output_type": "display_data"
    }
   ],
   "source": [
    "AFC = Plane (A, F, C)\n",
    "\n",
    "NewPoint = Point(3, -2, 3)\n",
    "\n",
    "if AFC.distance(NewPoint) == 0:\n",
    "    display('True')\n",
    "else:\n",
    "    display(\"False\")"
   ]
  },
  {
   "cell_type": "markdown",
   "metadata": {},
   "source": [
    "###  Задание 6\n",
    "Даны точки: A(3, -2, 3),  B(-2, 3, 1), C(1, -8, 6), D(1, 2, 4), F(-7, 8, -1).\n",
    "\n",
    "Составить словарь всех прямых (в нем должны быть и прямая АВ, и ВА!), каждая из которых проходит хотя бы через две заданные точки, ключ - сама прямая (Line), значение - список из имен ВСЕХ точек, лежащих на этой прямой. Вывести на экран имена только тех прямых, на которых лежит не менее трех точек из условия, а также список точек, лежащих на прямой."
   ]
  },
  {
   "cell_type": "code",
   "execution_count": 25,
   "metadata": {},
   "outputs": [
    {
     "data": {
      "text/plain": [
       "{'AB': ('A', 'B', 'F'),\n",
       " 'AF': ('A', 'F', 'B'),\n",
       " 'BA': ('B', 'A', 'F'),\n",
       " 'BF': ('B', 'F', 'A'),\n",
       " 'FA': ('F', 'A', 'B'),\n",
       " 'FB': ('F', 'B', 'A')}"
      ]
     },
     "execution_count": 25,
     "metadata": {},
     "output_type": "execute_result"
    }
   ],
   "source": [
    "A = Point(3, -2, 3)\n",
    "B = Point(-2, 3, 1)\n",
    "C = Point(1, -8, 6)\n",
    "D = Point(1, 2, 4)\n",
    "F = Point(-7, 8, -1)\n",
    "\n",
    "Points = {A: 'A', B: 'B', C: 'C', D: 'D', F: 'F'}\n",
    "three_points = {}\n",
    "for P1 in Points.keys():\n",
    "    for P2 in Points.keys():\n",
    "        for P3 in Points.keys():\n",
    "            P_name1, P_name2, P_name3 = [Points[P] for P in (P1, P2, P3)]\n",
    "            if Point3D.are_collinear(P1, P2, P3):\n",
    "                if (P1 != P2 and P1 != P3 and P2 != P3):\n",
    "                    three_points[P_name1 + P_name2] = (P_name1, P_name2, P_name3)\n",
    "three_points"
   ]
  },
  {
   "cell_type": "markdown",
   "metadata": {},
   "source": [
    "### Индивидуальное задание\n",
    "\n",
    "Точки: $A(0, 8, -1)$, $B(-4, 7, -2)$, $M(-6, 3, -5)$, $U(-2, 15/2, -3/2)$ и $W(2, 12, 2)$.\n",
    "\n",
    "Составить список lines_list, состоящий из  tuple из троек прямых, каждая из которых проходит через две (или более) заданные точки, причем все прямые пересекаются в одной точке. Совпадающие прямые не учитывать. "
   ]
  },
  {
   "cell_type": "code",
   "execution_count": 7,
   "metadata": {},
   "outputs": [
    {
     "name": "stdout",
     "output_type": "stream",
     "text": [
      "((-5*x + 6*y - 48, -2*x + 3*z + 3), (-2*x + y - 15, -3*x + 2*z - 8), (-9*x + 8*y - 78, -7*x + 8*z - 2))\n",
      "((-2*x + y - 8, -3*x + 2*z + 2), (-5*x + 6*y - 62, -2*x + 3*z - 2), (-9*x + 8*y - 78, -7*x + 8*z - 2))\n"
     ]
    }
   ],
   "source": [
    "A = Point(0, 8, -1)\n",
    "B = Point(-4, 7, -2)\n",
    "M = Point(-6, 3, -5)\n",
    "U = Point(-2, 15/2, -3/2)\n",
    "W = Point(2, 12, 2)\n",
    "\n",
    "Points = {A: \"A\", B: \"B\", M: \"M\", U: \"U\", W: \"W\"} \n",
    "\n",
    "lines_list = []\n",
    "dict1 = {}\n",
    "dict2 = {}\n",
    "dict3 = {}\n",
    "dict4 = {}\n",
    "\n",
    "for P in Points.keys() - {A}:\n",
    "    dict1[Points[P]] = Line(A, P)\n",
    "for P in Points.keys() - {A} - {B}:\n",
    "    dict2[Points[P]] = Line(B, P)\n",
    "for P in Points.keys() - {A} - {B} - {M}:\n",
    "    dict3[Points[P]] = Line(M, P)\n",
    "for P in Points.keys() - {A} - {B} - {M} - {U}:\n",
    "    dict4[Points[P]] = Line(U, P)\n",
    "        \n",
    "for line1 in dict1.values():\n",
    "    for line2 in dict2.values():\n",
    "        for line3 in dict3.values():\n",
    "            if (line1.equals(line2) or line1.equals(line3) or line2.equals(line3)):\n",
    "                break\n",
    "            if (Line.are_concurrent(line1, line2, line3)):\n",
    "                lines_list.append((line1.equation(), line2.equation(), line3.equation()))\n",
    "                \n",
    "for line1 in dict1.values():\n",
    "    for line2 in dict2.values():\n",
    "        for line3 in dict4.values():\n",
    "            if (line1.equals(line2) or line1.equals(line3) or line2.equals(line3)):\n",
    "                break\n",
    "            if (Line.are_concurrent(line1, line2, line3)):\n",
    "                lines_list.append((line1.equation(), line2.equation(), line3.equation()))\n",
    "                \n",
    "for line1 in dict1.values():\n",
    "    for line2 in dict3.values():\n",
    "        for line3 in dict4.values():\n",
    "            if (line1.equals(line2) or line1.equals(line3) or line2.equals(line3)):\n",
    "                break\n",
    "            if(Line.are_concurrent(line1, line2, line3)):\n",
    "                lines_list.append((line1.equation(), line2.equation(), line3.equation()))\n",
    "                \n",
    "for line1 in dict2.values():\n",
    "    for line2 in dict3.values():\n",
    "        for line3 in dict4.values():\n",
    "            if (line1.equals(line2) or line1.equals(line3) or line2.equals(line3)):\n",
    "                break\n",
    "            if(Line.are_concurrent(line1, line2, line3)):\n",
    "                lines_list.append((line1.equation(), line2.equation(), line3.equation()))\n",
    "                \n",
    "lines_newlist = lines_list\n",
    "\n",
    "for i in range(len(lines_list) - 1):\n",
    "    for j in range(i + 1, len(lines_list) - 1):\n",
    "        if (lines_list[i] != lines_list[j]):\n",
    "            lines_newlist.remove(lines_newlist[i])\n",
    "            \n",
    "for i in range(len(lines_list) - 1):\n",
    "    print(lines_newlist[i])"
   ]
  }
 ],
 "metadata": {
  "kernelspec": {
   "display_name": "Python 3",
   "language": "python",
   "name": "python3"
  },
  "language_info": {
   "codemirror_mode": {
    "name": "ipython",
    "version": 3
   },
   "file_extension": ".py",
   "mimetype": "text/x-python",
   "name": "python",
   "nbconvert_exporter": "python",
   "pygments_lexer": "ipython3",
   "version": "3.8.5"
  }
 },
 "nbformat": 4,
 "nbformat_minor": 2
}
