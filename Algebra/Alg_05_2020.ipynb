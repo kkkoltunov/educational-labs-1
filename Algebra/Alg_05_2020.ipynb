{
 "cells": [
  {
   "cell_type": "code",
   "execution_count": 1,
   "metadata": {},
   "outputs": [],
   "source": [
    "import sympy\n",
    "from sympy import linsolve, Matrix, S, Symbol, symbols, linear_eq_to_matrix, Eq, zeros, solve"
   ]
  },
  {
   "cell_type": "markdown",
   "metadata": {},
   "source": [
    "# Занятие 5\n",
    "# Алгебра\n",
    "\n",
    "##  Прямые и плоскости в пространстве. Уравнения прямых и  плоскостей.\n",
    "### Задание 1.\n",
    "Определить, пересекаются ли плоскости (все сразу). Если пересекаются, найти точку пересечения.\n",
    "\n",
    "Составить СЛАУ в виде списка уравнений, решить с помощью linsolve.\n",
    "\n",
    "$-8x+5y-2z+28=0$\n",
    "\n",
    "$-11x-10y-16z+71=0$\n",
    "\n",
    "$-7x+3y+8z-27=0$."
   ]
  },
  {
   "cell_type": "code",
   "execution_count": 14,
   "metadata": {},
   "outputs": [
    {
     "name": "stdout",
     "output_type": "stream",
     "text": [
      "Координаты точки пересечения:\n"
     ]
    },
    {
     "data": {
      "text/latex": [
       "$\\displaystyle \\left( 1, \\  -2, \\  5\\right)$"
      ],
      "text/plain": [
       "(1, -2, 5)"
      ]
     },
     "metadata": {},
     "output_type": "display_data"
    }
   ],
   "source": [
    "x, y, z = symbols('x y z')\n",
    "SLAE = [Eq(-8*x + 5*y - 2*z + 28, 0), Eq(-11*x - 10*y - 16*z + 71, 0), Eq(-7*x + 3*y + 8*z - 27, 0)]\n",
    "result = linsolve(SLAE, x, y, z)\n",
    "print('Координаты точки пересечения:')\n",
    "display(*result)"
   ]
  },
  {
   "cell_type": "markdown",
   "metadata": {},
   "source": [
    "### Задание 2.\n",
    "Найти точку пересечения прямой, проходящей через точки $A(-3,5,1)$ и $B(5,2,-3)$ и плоскости, в которой лежат точки \n",
    "$K(4,3,0)$, $M(2,4,-2)$ и $N(-2,2,-1)$."
   ]
  },
  {
   "cell_type": "code",
   "execution_count": 58,
   "metadata": {},
   "outputs": [
    {
     "data": {
      "text/plain": [
       "'Уравнение плоскости'"
      ]
     },
     "metadata": {},
     "output_type": "display_data"
    },
    {
     "data": {
      "text/latex": [
       "$\\displaystyle - 3 x + 10 y + 8 z - 18 = 0$"
      ],
      "text/plain": [
       "Eq(-3*x + 10*y + 8*z - 18, 0)"
      ]
     },
     "metadata": {},
     "output_type": "display_data"
    },
    {
     "data": {
      "text/plain": [
       "'Уравнение прямой в векторной форме'"
      ]
     },
     "metadata": {},
     "output_type": "display_data"
    },
    {
     "data": {
      "text/latex": [
       "$\\displaystyle \\left[\\begin{matrix}8 t_{1} - 3\\\\5 - 3 t_{1}\\\\1 - 4 t_{1}\\end{matrix}\\right]$"
      ],
      "text/plain": [
       "Matrix([\n",
       "[8*t_1 - 3],\n",
       "[5 - 3*t_1],\n",
       "[1 - 4*t_1]])"
      ]
     },
     "metadata": {},
     "output_type": "display_data"
    },
    {
     "data": {
      "text/plain": [
       "'t'"
      ]
     },
     "metadata": {},
     "output_type": "display_data"
    },
    {
     "data": {
      "text/latex": [
       "$\\displaystyle \\frac{49}{86}$"
      ],
      "text/plain": [
       "49/86"
      ]
     },
     "metadata": {},
     "output_type": "display_data"
    },
    {
     "data": {
      "text/plain": [
       "'Точка пересечения'"
      ]
     },
     "metadata": {},
     "output_type": "display_data"
    },
    {
     "data": {
      "text/latex": [
       "$\\displaystyle \\left[\\begin{matrix}\\frac{67}{43}\\\\\\frac{283}{86}\\\\- \\frac{55}{43}\\end{matrix}\\right]$"
      ],
      "text/plain": [
       "Matrix([\n",
       "[ 67/43],\n",
       "[283/86],\n",
       "[-55/43]])"
      ]
     },
     "metadata": {},
     "output_type": "display_data"
    }
   ],
   "source": [
    "x, y, z = symbols('x y z')\n",
    "PL = Eq(Matrix([[x - 4, y - 3, z], [2 - 4, 4 - 3, -2], [-2 - 4, 2 - 3, -1 + 0]]).det(), 0)\n",
    "display('Уравнение плоскости', PL)\n",
    "\n",
    "t1 = Symbol('t_1')\n",
    "A = Matrix([-3, 5, 1])\n",
    "B = Matrix([5, 2, -3])\n",
    "\n",
    "AB = A + t1*(B - A)\n",
    "display('Уравнение прямой в векторной форме', AB)\n",
    "\n",
    "t = solve(PL.subs({x:AB[0], y:AB[1], z:AB[2]}))[0]\n",
    "display('t', t)\n",
    "\n",
    "display('Точка пересечения', AB.subs({t1:t}))"
   ]
  },
  {
   "cell_type": "markdown",
   "metadata": {},
   "source": [
    "### Задание 3.\n",
    "Составить параметрические уравнения прямой, являющейся линией пересечения плоскостей $𝑦+2𝑧−4=0$ и $4𝑥+3𝑦+2𝑧−4=0$. \n",
    "\n",
    "Указание: составить СЛАУ из уравнений плоскостей, воспользоваться linsolve(), заменить переменную в полученном решении на параметр t и составить СЛАУ из параметрических уравнений."
   ]
  },
  {
   "cell_type": "code",
   "execution_count": 56,
   "metadata": {},
   "outputs": [
    {
     "data": {
      "text/latex": [
       "$\\displaystyle \\left( z - 2, \\  4 - 2 z, \\  z\\right)$"
      ],
      "text/plain": [
       "(z - 2, 4 - 2*z, z)"
      ]
     },
     "metadata": {},
     "output_type": "display_data"
    },
    {
     "data": {
      "text/plain": [
       "'Уравнение прямой'"
      ]
     },
     "metadata": {},
     "output_type": "display_data"
    },
    {
     "data": {
      "text/latex": [
       "$\\displaystyle x = t - 2$"
      ],
      "text/plain": [
       "Eq(x, t - 2)"
      ]
     },
     "metadata": {},
     "output_type": "display_data"
    },
    {
     "data": {
      "text/latex": [
       "$\\displaystyle y = 4 - 2 t$"
      ],
      "text/plain": [
       "Eq(y, 4 - 2*t)"
      ]
     },
     "metadata": {},
     "output_type": "display_data"
    },
    {
     "data": {
      "text/latex": [
       "$\\displaystyle z = t$"
      ],
      "text/plain": [
       "Eq(z, t)"
      ]
     },
     "metadata": {},
     "output_type": "display_data"
    }
   ],
   "source": [
    "SLAE = [Eq(y + 2*z - 4, 0), Eq(4*x + 3*y + 2*z - 4, 0)]\n",
    "result = list(linsolve(SLAE, x, y, z))[0]\n",
    "display(result)\n",
    "\n",
    "xyz = symbols('x y z')\n",
    "t = Symbol('t')\n",
    "\n",
    "display('Уравнение прямой', *[Eq(xyz[i], result.subs(z, t)[i]) for i in range(3)])"
   ]
  },
  {
   "cell_type": "markdown",
   "metadata": {},
   "source": [
    "###  Задание 4.\n",
    "Прямая задана параметрическими уравнениями:\n",
    "$$\n",
    "\\left\\{\\begin{matrix}\n",
    "x=2+5t\\\\\n",
    "y=-1-2t\\\\\n",
    "z=4-3t\n",
    "\\end{matrix}\\right..\n",
    "$$\n",
    "Представить прямую в виде линии пересечения двух плоскостей, одна из которых проходит через начало координат, а вторая плоскость перпендикулярна первой плоскости. Вывести на экран уравнения плоскостей.\n",
    "\n",
    "Указание: составить параметрические уравнения прямой в виде списка правых частей уравнений, затем по образцу Примера 5 составить уравнение плоскости, проходящей через начало координат (по трем точкам). Для составления второй плоскости заметим, что вектор нормали к первой плоскости и любой вектор прямой параллельны второй плоскости, поэтому можно применить формулу 4 уравнения плоскости.\n",
    "Вектор нормали можно составить вручную, глядя на уравнение первой плоскости."
   ]
  },
  {
   "cell_type": "code",
   "execution_count": 16,
   "metadata": {},
   "outputs": [
    {
     "data": {
      "text/plain": [
       "'Прямая №1'"
      ]
     },
     "metadata": {},
     "output_type": "display_data"
    },
    {
     "data": {
      "text/latex": [
       "$\\displaystyle \\left[\\begin{matrix}2\\\\-1\\\\4\\end{matrix}\\right]$"
      ],
      "text/plain": [
       "Matrix([\n",
       "[ 2],\n",
       "[-1],\n",
       "[ 4]])"
      ]
     },
     "metadata": {},
     "output_type": "display_data"
    },
    {
     "data": {
      "text/plain": [
       "'Прямая №2'"
      ]
     },
     "metadata": {},
     "output_type": "display_data"
    },
    {
     "data": {
      "text/latex": [
       "$\\displaystyle \\left[\\begin{matrix}7\\\\-3\\\\1\\end{matrix}\\right]$"
      ],
      "text/plain": [
       "Matrix([\n",
       "[ 7],\n",
       "[-3],\n",
       "[ 1]])"
      ]
     },
     "metadata": {},
     "output_type": "display_data"
    },
    {
     "data": {
      "text/plain": [
       "'Первая матрица'"
      ]
     },
     "metadata": {},
     "output_type": "display_data"
    },
    {
     "data": {
      "text/latex": [
       "$\\displaystyle \\left[\\begin{matrix}x - 2 & y + 1 & z - 4\\\\5 & -2 & -3\\\\-2 & 1 & -4\\end{matrix}\\right]$"
      ],
      "text/plain": [
       "Matrix([\n",
       "[x - 2, y + 1, z - 4],\n",
       "[    5,    -2,    -3],\n",
       "[   -2,     1,    -4]])"
      ]
     },
     "metadata": {},
     "output_type": "display_data"
    },
    {
     "data": {
      "text/plain": [
       "'Вторая матрица'"
      ]
     },
     "metadata": {},
     "output_type": "display_data"
    },
    {
     "data": {
      "text/latex": [
       "$\\displaystyle \\left[\\begin{matrix}x - 2 & y + 1 & z - 4\\\\5 & -2 & -3\\\\11 & 26 & 1\\end{matrix}\\right]$"
      ],
      "text/plain": [
       "Matrix([\n",
       "[x - 2, y + 1, z - 4],\n",
       "[    5,    -2,    -3],\n",
       "[   11,    26,     1]])"
      ]
     },
     "metadata": {},
     "output_type": "display_data"
    },
    {
     "data": {
      "text/plain": [
       "'Уравнение первой плоскости'"
      ]
     },
     "metadata": {},
     "output_type": "display_data"
    },
    {
     "data": {
      "text/latex": [
       "$\\displaystyle 11 x + 26 y + z = 0$"
      ],
      "text/plain": [
       "Eq(11*x + 26*y + z, 0)"
      ]
     },
     "metadata": {},
     "output_type": "display_data"
    },
    {
     "data": {
      "text/plain": [
       "'Уравнение второй плоскости'"
      ]
     },
     "metadata": {},
     "output_type": "display_data"
    },
    {
     "data": {
      "text/latex": [
       "$\\displaystyle 76 x - 38 y + 152 z - 798 = 0$"
      ],
      "text/plain": [
       "Eq(76*x - 38*y + 152*z - 798, 0)"
      ]
     },
     "metadata": {},
     "output_type": "display_data"
    }
   ],
   "source": [
    "x, y, z, t = symbols('x y z t')\n",
    "\n",
    "O = zeros(3, 1)\n",
    "A = Matrix([2, -1, 4])\n",
    "B = Matrix([5, -2, -3])\n",
    "X = Matrix([x, y, z])\n",
    "\n",
    "AB = A + t*B\n",
    "M1 = AB.subs(t, 0)\n",
    "M2 = AB.subs(t, 1)\n",
    "\n",
    "display('Прямая №1', M1)\n",
    "display('Прямая №2', M2)\n",
    "\n",
    "PL1 = Eq(Matrix([(P - M1).T for P in (X, M2, O)]).det(), 0)\n",
    "\n",
    "display('Первая матрица', Matrix([(P - M1).T for P in (X, M2, O)]))\n",
    "\n",
    "vector_n = Matrix([11, 26, 1])\n",
    "\n",
    "display('Вторая матрица', (X - M1).row_join(B).row_join(vector_n).T)\n",
    "\n",
    "PL2 = Eq((X - M1).row_join(B).row_join(vector_n).T.det(), 0)\n",
    "\n",
    "display('Уравнение первой плоскости', PL1)\n",
    "display('Уравнение второй плоскости', PL2)"
   ]
  },
  {
   "cell_type": "markdown",
   "metadata": {},
   "source": [
    "### Индивидуальное задание\n",
    "Даны три точки А, В и С в пространстве. Составить уравнение плоскости АВС, систему параметрических уравнений прямой АВ и прямой АМ, перпендикулярной плоскости АВС.\n",
    "\n",
    "A(0, -4, -5), B(2, -3, -1), C(6, 0, 3)."
   ]
  },
  {
   "cell_type": "code",
   "execution_count": 13,
   "metadata": {},
   "outputs": [
    {
     "data": {
      "text/plain": [
       "'Уравнение плоскости'"
      ]
     },
     "metadata": {},
     "output_type": "display_data"
    },
    {
     "data": {
      "text/latex": [
       "$\\displaystyle - 8 x + 8 y + 2 z + 42 = 0$"
      ],
      "text/plain": [
       "Eq(-8*x + 8*y + 2*z + 42, 0)"
      ]
     },
     "metadata": {},
     "output_type": "display_data"
    },
    {
     "data": {
      "text/plain": [
       "'Параметрическое уравнение прямой AM'"
      ]
     },
     "metadata": {},
     "output_type": "display_data"
    },
    {
     "data": {
      "text/latex": [
       "$\\displaystyle x = - 8 t$"
      ],
      "text/plain": [
       "Eq(x, -8*t)"
      ]
     },
     "metadata": {},
     "output_type": "display_data"
    },
    {
     "data": {
      "text/latex": [
       "$\\displaystyle y = 8 t - 4$"
      ],
      "text/plain": [
       "Eq(y, 8*t - 4)"
      ]
     },
     "metadata": {},
     "output_type": "display_data"
    },
    {
     "data": {
      "text/latex": [
       "$\\displaystyle z = 2 t - 5$"
      ],
      "text/plain": [
       "Eq(z, 2*t - 5)"
      ]
     },
     "metadata": {},
     "output_type": "display_data"
    },
    {
     "data": {
      "text/plain": [
       "'Параметрическое уравнение прямой AB'"
      ]
     },
     "metadata": {},
     "output_type": "display_data"
    },
    {
     "data": {
      "text/latex": [
       "$\\displaystyle x = 2 t$"
      ],
      "text/plain": [
       "Eq(x, 2*t)"
      ]
     },
     "metadata": {},
     "output_type": "display_data"
    },
    {
     "data": {
      "text/latex": [
       "$\\displaystyle y = t - 4$"
      ],
      "text/plain": [
       "Eq(y, t - 4)"
      ]
     },
     "metadata": {},
     "output_type": "display_data"
    },
    {
     "data": {
      "text/latex": [
       "$\\displaystyle z = 4 t - 5$"
      ],
      "text/plain": [
       "Eq(z, 4*t - 5)"
      ]
     },
     "metadata": {},
     "output_type": "display_data"
    }
   ],
   "source": [
    "x, y, z, t = symbols('x y z t')\n",
    "PL = Eq(Matrix([[x - 0, y + 4, z + 5], [2 - 0, -3 + 4, -1 + 5], [6 - 0, 0 + 4, 3 + 5]]).det(), 0)\n",
    "display('Уравнение плоскости', PL) # вектор нормали n(-8, 8, 2)\n",
    "\n",
    "X = Matrix([x, y, z])\n",
    "A = Matrix([0, -4, -5]) # точка\n",
    "a = Matrix([-8, 8, 2]) # вектор\n",
    "SLAE = [Eq(X[i], A[i] + a[i]*t) for i in range(3)]\n",
    "display('Параметрическое уравнение прямой AM', *SLAE)\n",
    "\n",
    "A = Matrix([0, -4, -5]) # точка\n",
    "a = Matrix([2 - 0, -3 + 4, -1 + 5]) # вектор\n",
    "SLAE = [Eq(X[i], A[i] + a[i]*t) for i in range(3)]\n",
    "display('Параметрическое уравнение прямой AB', *SLAE)"
   ]
  },
  {
   "cell_type": "code",
   "execution_count": null,
   "metadata": {},
   "outputs": [],
   "source": []
  }
 ],
 "metadata": {
  "kernelspec": {
   "display_name": "Python 3",
   "language": "python",
   "name": "python3"
  },
  "language_info": {
   "codemirror_mode": {
    "name": "ipython",
    "version": 3
   },
   "file_extension": ".py",
   "mimetype": "text/x-python",
   "name": "python",
   "nbconvert_exporter": "python",
   "pygments_lexer": "ipython3",
   "version": "3.8.5"
  }
 },
 "nbformat": 4,
 "nbformat_minor": 2
}
