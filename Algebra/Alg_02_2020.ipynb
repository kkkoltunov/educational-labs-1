{
 "cells": [
  {
   "cell_type": "markdown",
   "metadata": {},
   "source": [
    "# Практическое занятие 2\n",
    "# Алгебра"
   ]
  },
  {
   "cell_type": "markdown",
   "metadata": {},
   "source": [
    "## Матрицы. Подстановки. Формулы Крамера для решения СЛАУ.\n",
    "https://docs.sympy.org/latest/tutorial/matrices.html"
   ]
  },
  {
   "cell_type": "code",
   "execution_count": 2,
   "metadata": {},
   "outputs": [],
   "source": [
    "#https://www.sympy.org/en/index.html\n",
    "# sympy - модуль для символьных преобразований\n",
    "from sympy import *"
   ]
  },
  {
   "cell_type": "markdown",
   "metadata": {},
   "source": [
    "### Задание 1\n",
    "Решить по формулам Крамера СЛАУ \n",
    "\\begin{align*}\n",
    "\\left\\{\\begin{matrix} 2 x_{1} +  x_{3}  = -8\n",
    "\\\\- 4 x_{1} + 5 x_{2}  = 20\n",
    "\\\\- 6 x_{2} + x_{3}  = 2\n",
    "\\end{matrix}\\right.\n",
    " \\end{align*}\n",
    "Проверить правильность найденного решения подстановкой (в математическом смысле! subs не нужно использовать). "
   ]
  },
  {
   "cell_type": "code",
   "execution_count": 6,
   "metadata": {},
   "outputs": [
    {
     "data": {
      "text/latex": [
       "$\\displaystyle \\left[\\begin{matrix}- \\frac{92}{91}\\\\\\frac{72}{91}\\\\\\frac{68}{91}\\end{matrix}\\right]$"
      ],
      "text/plain": [
       "Matrix([\n",
       "[-92/91],\n",
       "[ 72/91],\n",
       "[ 68/91]])"
      ]
     },
     "metadata": {},
     "output_type": "display_data"
    },
    {
     "data": {
      "text/latex": [
       "$\\displaystyle \\left[\\begin{matrix}0\\\\0\\\\0\\end{matrix}\\right]$"
      ],
      "text/plain": [
       "Matrix([\n",
       "[0],\n",
       "[0],\n",
       "[0]])"
      ]
     },
     "metadata": {},
     "output_type": "display_data"
    }
   ],
   "source": [
    "A = Matrix([[2, 0, -8], [-4, 5, 0], [0, -6, 1]])\n",
    "b = Matrix([-8, 8, -4])\n",
    "A1 = A.copy()\n",
    "A2 = A.copy()\n",
    "A3 = A.copy()\n",
    "A1.col_del(0)\n",
    "A2.col_del(1)\n",
    "A3.col_del(2)\n",
    "A1 = A1.col_insert(0, b)\n",
    "A2 = A2.col_insert(1, b)\n",
    "A3 = A3.col_insert(2, b)\n",
    "A_det = A.det()\n",
    "X = Matrix([A1.det()/A_det, A2.det()/A_det, A3.det()/A_det])\n",
    "display(X, A*X - b)"
   ]
  },
  {
   "cell_type": "markdown",
   "metadata": {},
   "source": [
    "### Задание 2\n",
    "Решить по формулам Крамера СЛАУ с параметром\n",
    "\\begin{align*}\n",
    "\\left\\{\\begin{matrix} a x_{1} + 2 x_{2}  = -7\n",
    "\\\\- 4 x_{1} + 5 x_{2} + 3 x_{3} = 9\n",
    "\\\\ 3 x_{1} + x_{3}  = 2\n",
    "\\end{matrix}\\right.\n",
    " \\end{align*}\n",
    "Проверить правильность найденного решения подстановкой.\n",
    "\n",
    "Составить матрицу $S$, столбцы которой являются решениями данной СЛАУ при $a = -1, 0, 3$.\n",
    "\n",
    "#### Указание. \n",
    "Оформить решение по формулам Крамера в виде функции.\n",
    "\n",
    "Параметр $a$ описать как символ.\n",
    "\n",
    "Использовать подстановки subs для построения матриц данной СЛАУ при $a = -1, 0, 3$ на основе матрицы с параметром.\n",
    "\n",
    "Воспользоваться simplify для того, чтобы упростить выражение при проверке."
   ]
  },
  {
   "cell_type": "code",
   "execution_count": null,
   "metadata": {},
   "outputs": [],
   "source": [
    "a = Symbol('a')\n",
    "A = Matrix([[a, 2, 0], [-4, 5, 3], [3, 0, 1]])\n",
    "b = Matrix([-7, 9, 2])\n",
    "X = Matrix([0, 0, 0])"
   ]
  },
  {
   "cell_type": "code",
   "execution_count": 4,
   "metadata": {},
   "outputs": [
    {
     "data": {
      "text/latex": [
       "$\\displaystyle \\left[\\begin{matrix}- \\frac{31 a}{241} - \\frac{19 b}{241} - \\frac{17 c}{241}\\\\\\frac{13 a}{482} - \\frac{31 b}{241} + \\frac{23 c}{241}\\\\- \\frac{17 a}{482} + \\frac{22 b}{241} + \\frac{7 c}{241}\\end{matrix}\\right]$"
      ],
      "text/plain": [
       "Matrix([\n",
       "[-31*a/241 - 19*b/241 - 17*c/241],\n",
       "[ 13*a/482 - 31*b/241 + 23*c/241],\n",
       "[ -17*a/482 + 22*b/241 + 7*c/241]])"
      ]
     },
     "metadata": {},
     "output_type": "display_data"
    },
    {
     "data": {
      "text/latex": [
       "$\\displaystyle \\left[\\begin{matrix}0\\\\0\\\\0\\end{matrix}\\right]$"
      ],
      "text/plain": [
       "Matrix([\n",
       "[0],\n",
       "[0],\n",
       "[0]])"
      ]
     },
     "metadata": {},
     "output_type": "display_data"
    }
   ],
   "source": [
    "a, b, c = symbols('a b c')\n",
    "A = Matrix([[-6, -2, -8], [-2, -3, 5], [-1, 7, 9]])\n",
    "b = Matrix([a, b, c])\n",
    "X = Matrix([0, 0, 0])\n",
    "A_det = A.det()\n",
    "for i in range(A.shape[0]):\n",
    "    Ai = A.copy()\n",
    "    Ai.col_del(i)\n",
    "    X[i] = Ai.col_insert(i, b).det()/A_det\n",
    "display(X, A*X - b)\n"
   ]
  },
  {
   "cell_type": "markdown",
   "metadata": {},
   "source": [
    "### Задание 3.\n",
    "Решить по формулам Крамера СЛАУ с параметрами\n",
    "\\begin{align*}\n",
    "\\left\\{\\begin{matrix} x_{1} + a_{12} x_{2}  = b_1\n",
    "\\\\ x_{1} + a_{22} x_{2}  = b_2\n",
    "\\end{matrix}\\right.\n",
    "\\end{align*}\n",
    "Проверить правильность найденного решения подстановкой.\n",
    "\n",
    "Найти такие наборы параметров, для которых полученное решение неприменимо (подсказка - из-за деления на ноль).\n",
    "\n",
    "Показать, что для этих наборов определитель матрицы левой части равен нулю, использовать подстановки subs."
   ]
  },
  {
   "cell_type": "code",
   "execution_count": 32,
   "metadata": {},
   "outputs": [
    {
     "data": {
      "text/latex": [
       "$\\displaystyle \\left[\\begin{matrix}\\frac{- a_{12} b_{2} + a_{22} b_{1}}{- a_{12} + a_{22}}\\\\\\frac{- b_{1} + b_{2}}{- a_{12} + a_{22}}\\end{matrix}\\right]$"
      ],
      "text/plain": [
       "Matrix([\n",
       "[(-a12*b2 + a22*b1)/(-a12 + a22)],\n",
       "[        (-b1 + b2)/(-a12 + a22)]])"
      ]
     },
     "metadata": {},
     "output_type": "display_data"
    },
    {
     "data": {
      "text/latex": [
       "$\\displaystyle \\left[\\begin{matrix}1 & a_{12}\\\\1 & a_{12}\\end{matrix}\\right]$"
      ],
      "text/plain": [
       "Matrix([\n",
       "[1, a12],\n",
       "[1, a12]])"
      ]
     },
     "metadata": {},
     "output_type": "display_data"
    },
    {
     "data": {
      "text/latex": [
       "$\\displaystyle 0$"
      ],
      "text/plain": [
       "0"
      ]
     },
     "execution_count": 32,
     "metadata": {},
     "output_type": "execute_result"
    }
   ],
   "source": [
    "a12, a22 = symbols('a12 a22')\n",
    "b1, b2 = symbols('b1 b2')\n",
    "A = Matrix([[1, a12], [1, a22]])\n",
    "b = Matrix([b1, b2])\n",
    "X = Matrix([0, 0])\n",
    "\n",
    "A_det = A.det()\n",
    "\n",
    "for i in range(A.shape[0]):\n",
    "    Ai = A.copy()\n",
    "    Ai.col_del(i)\n",
    "    X[i] = Ai.col_insert(i, b).det()/A_det\n",
    "    \n",
    "display(X)\n",
    "X = A.subs([(a12, a22), (a22, a12)])\n",
    "display(X)\n",
    "\n",
    "X.det()"
   ]
  },
  {
   "cell_type": "markdown",
   "metadata": {},
   "source": [
    "### Задание 4.\n",
    "Дана матрица \n",
    "\\begin{align*}\n",
    "M =\n",
    "\\left(\\begin{matrix} \n",
    "p & 1 & 0 \\\\\n",
    "1 & q & 1 \\\\\n",
    "0 & 1 & r\n",
    "\\end{matrix}\\right)\n",
    "\\end{align*}\n",
    "Вычислить определитель этой матрицы.\n",
    "Найти целочисленные наборы параметров $p$, $q$, $r$, для которых определитель $M$ равен нулю. Рассматривать целые числа от 0 до 12 (НЕ включительно). Использовать подстановки subs в заранее вычисленный определитель.\n",
    "\n",
    "Из найденных наборов как столбцов составить матрицу."
   ]
  },
  {
   "cell_type": "code",
   "execution_count": 9,
   "metadata": {},
   "outputs": [
    {
     "data": {
      "text/latex": [
       "$\\displaystyle p q r - p - r$"
      ],
      "text/plain": [
       "p*q*r - p - r"
      ]
     },
     "metadata": {},
     "output_type": "display_data"
    },
    {
     "data": {
      "text/latex": [
       "$\\displaystyle \\left[\\begin{array}{cccccccccccccc}0 & 0 & 0 & 0 & 0 & 0 & 0 & 0 & 0 & 0 & 0 & 0 & 1 & 2\\\\0 & 1 & 2 & 3 & 4 & 5 & 6 & 7 & 8 & 9 & 10 & 11 & 2 & 1\\\\0 & 0 & 0 & 0 & 0 & 0 & 0 & 0 & 0 & 0 & 0 & 0 & 1 & 2\\end{array}\\right]$"
      ],
      "text/plain": [
       "Matrix([\n",
       "[0, 0, 0, 0, 0, 0, 0, 0, 0, 0,  0,  0, 1, 2],\n",
       "[0, 1, 2, 3, 4, 5, 6, 7, 8, 9, 10, 11, 2, 1],\n",
       "[0, 0, 0, 0, 0, 0, 0, 0, 0, 0,  0,  0, 1, 2]])"
      ]
     },
     "metadata": {},
     "output_type": "display_data"
    }
   ],
   "source": [
    "pS, qS, rS = symbols('p q r')\n",
    "A = Matrix([[pS, 1, 0], [1, qS, 1], [0, 1, rS]])\n",
    "X = []\n",
    "A_det = A.det()\n",
    "display(A_det)\n",
    "i = 0\n",
    "for p in range(12):\n",
    "    for q in range(12):\n",
    "        for r in range(12):\n",
    "            if(A_det.subs([(pS, p), (qS, q), (rS, r)]) == 0):\n",
    "                X.append([p, q, r])\n",
    "display(Matrix(X).transpose())"
   ]
  },
  {
   "cell_type": "markdown",
   "metadata": {},
   "source": [
    "### Индивидуальное задание.\n",
    "В данной матрице выполнить заданные подстановки\n",
    "\\begin{align*}\n",
    "\\left[\\begin{matrix}4 & 4 & -5 & 6 & 2\\\\u_{4} & 1 & u_{2} & -2 & -4\\\\-8 & -3 & -3 & 1 & 6\\\\2 & -5 & u_{3} & -1 & -9\\end{matrix}\\right]\n",
    "\\end{align*}\n",
    "\n",
    "\n",
    "$u_{1}$ = 6, $u_{2}$ = 9, $u_{3}$ = 8, $u_{4}$ = 9, \n",
    "\n",
    "$u_{1}$ = 9, $u_{2}$ = 10, $u_{3}$ = 10, $u_{4}$ = 10, \n",
    "\n",
    "$u_{1}$ = 8, $u_{2}$ = 10, $u_{3}$ = 9, $u_{4}$ = 6, \n",
    "\n",
    "$u_{1}$ = 8, $u_{2}$ = 9, $u_{3}$ = 8, $u_{4}$ = 7, \n",
    "\n",
    "результат каждой подстановки выводить в виде отдельной матрицы."
   ]
  },
  {
   "cell_type": "code",
   "execution_count": 8,
   "metadata": {},
   "outputs": [
    {
     "name": "stdout",
     "output_type": "stream",
     "text": [
      "Исходная матрица:\n"
     ]
    },
    {
     "data": {
      "text/latex": [
       "$\\displaystyle \\left[\\begin{matrix}4 & 4 & -5 & 6 & 2\\\\u_{4} & 1 & u_{2} & -2 & -4\\\\-8 & -3 & -3 & 1 & 6\\\\2 & -5 & u_{3} & -1 & -9\\end{matrix}\\right]$"
      ],
      "text/plain": [
       "Matrix([\n",
       "[ 4,  4, -5,  6,  2],\n",
       "[u4,  1, u2, -2, -4],\n",
       "[-8, -3, -3,  1,  6],\n",
       "[ 2, -5, u3, -1, -9]])"
      ]
     },
     "metadata": {},
     "output_type": "display_data"
    },
    {
     "name": "stdout",
     "output_type": "stream",
     "text": [
      "1 подстановка:\n"
     ]
    },
    {
     "data": {
      "text/latex": [
       "$\\displaystyle \\left[\\begin{matrix}4 & 4 & -5 & 6 & 2\\\\9 & 1 & 9 & -2 & -4\\\\-8 & -3 & -3 & 1 & 6\\\\2 & -5 & 8 & -1 & -9\\end{matrix}\\right]$"
      ],
      "text/plain": [
       "Matrix([\n",
       "[ 4,  4, -5,  6,  2],\n",
       "[ 9,  1,  9, -2, -4],\n",
       "[-8, -3, -3,  1,  6],\n",
       "[ 2, -5,  8, -1, -9]])"
      ]
     },
     "metadata": {},
     "output_type": "display_data"
    },
    {
     "name": "stdout",
     "output_type": "stream",
     "text": [
      "2 подстановка:\n"
     ]
    },
    {
     "data": {
      "text/latex": [
       "$\\displaystyle \\left[\\begin{matrix}4 & 4 & -5 & 6 & 2\\\\10 & 1 & 10 & -2 & -4\\\\-8 & -3 & -3 & 1 & 6\\\\2 & -5 & 10 & -1 & -9\\end{matrix}\\right]$"
      ],
      "text/plain": [
       "Matrix([\n",
       "[ 4,  4, -5,  6,  2],\n",
       "[10,  1, 10, -2, -4],\n",
       "[-8, -3, -3,  1,  6],\n",
       "[ 2, -5, 10, -1, -9]])"
      ]
     },
     "metadata": {},
     "output_type": "display_data"
    },
    {
     "name": "stdout",
     "output_type": "stream",
     "text": [
      "3 подстановка:\n"
     ]
    },
    {
     "data": {
      "text/latex": [
       "$\\displaystyle \\left[\\begin{matrix}4 & 4 & -5 & 6 & 2\\\\6 & 1 & 10 & -2 & -4\\\\-8 & -3 & -3 & 1 & 6\\\\2 & -5 & 9 & -1 & -9\\end{matrix}\\right]$"
      ],
      "text/plain": [
       "Matrix([\n",
       "[ 4,  4, -5,  6,  2],\n",
       "[ 6,  1, 10, -2, -4],\n",
       "[-8, -3, -3,  1,  6],\n",
       "[ 2, -5,  9, -1, -9]])"
      ]
     },
     "metadata": {},
     "output_type": "display_data"
    },
    {
     "name": "stdout",
     "output_type": "stream",
     "text": [
      "4 подстановка:\n"
     ]
    },
    {
     "data": {
      "text/latex": [
       "$\\displaystyle \\left[\\begin{matrix}4 & 4 & -5 & 6 & 2\\\\7 & 1 & 9 & -2 & -4\\\\-8 & -3 & -3 & 1 & 6\\\\2 & -5 & 8 & -1 & -9\\end{matrix}\\right]$"
      ],
      "text/plain": [
       "Matrix([\n",
       "[ 4,  4, -5,  6,  2],\n",
       "[ 7,  1,  9, -2, -4],\n",
       "[-8, -3, -3,  1,  6],\n",
       "[ 2, -5,  8, -1, -9]])"
      ]
     },
     "metadata": {},
     "output_type": "display_data"
    }
   ],
   "source": [
    "u1, u2, u3, u4 = symbols('u1:5')\n",
    "A = Matrix([[4, 4, -5, 6, 2], [u4, 1, u2, -2, -4], [-8, -3, -3, 1, 6], [2, -5, u3, -1, -9]])\n",
    "print('Исходная матрица:')\n",
    "display(A)\n",
    "M1 = A.subs([(u1, 6), (u2, 9), (u3, 8), (u4, 9)])\n",
    "print('1 подстановка:')\n",
    "display(M1)\n",
    "M2 = A.subs([(u1, 9), (u2, 10), (u3, 10), (u4, 10)])\n",
    "print('2 подстановка:')\n",
    "display(M2)\n",
    "M3 = A.subs([(u1, 8), (u2, 10), (u3, 9), (u4, 6)])\n",
    "print('3 подстановка:')\n",
    "display(M3)\n",
    "M4 = A.subs([(u1, 8), (u2, 9), (u3, 8), (u4, 7)])\n",
    "print('4 подстановка:')\n",
    "display(M4)"
   ]
  }
 ],
 "metadata": {
  "kernelspec": {
   "display_name": "Python 3",
   "language": "python",
   "name": "python3"
  },
  "language_info": {
   "codemirror_mode": {
    "name": "ipython",
    "version": 3
   },
   "file_extension": ".py",
   "mimetype": "text/x-python",
   "name": "python",
   "nbconvert_exporter": "python",
   "pygments_lexer": "ipython3",
   "version": "3.8.5"
  }
 },
 "nbformat": 4,
 "nbformat_minor": 2
}
