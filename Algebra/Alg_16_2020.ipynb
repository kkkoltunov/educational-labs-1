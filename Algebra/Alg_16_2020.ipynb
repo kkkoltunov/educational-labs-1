{
 "cells": [
  {
   "cell_type": "code",
   "execution_count": 1,
   "metadata": {
    "id": "IIMlL2JN-HvY"
   },
   "outputs": [],
   "source": [
    "import sympy\n",
    "import numpy as np\n",
    "from sympy import Eq, plot_implicit, Matrix, plot, symbols\n",
    "from sympy.core import sympify\n",
    "from sympy.geometry.point import Point, Point2D, Point3D\n",
    "from sympy.geometry.line import Line\n",
    "from sympy.core.symbol import _symbol\n",
    "from sympy import pi as Pi\n",
    "from sympy import cos as Cos\n",
    "from sympy import sin as Sin\n",
    "from sympy.geometry.entity import GeometryEntity, GeometrySet\n",
    "import matplotlib.pyplot as plt"
   ]
  },
  {
   "cell_type": "markdown",
   "metadata": {
    "id": "tCLYBRGt-Hvb"
   },
   "source": [
    "# Занятие 16\n",
    "# Алгебра\n",
    "## Кривые второго порядка на плоскости: парабола"
   ]
  },
  {
   "cell_type": "markdown",
   "metadata": {
    "id": "R_EeD3gZ-Hvb"
   },
   "source": [
    "### Задание 1\n",
    "Определить класс parabola по образцу класса ellipse.\n",
    "\n",
    "Реализовать атрибуты: \n",
    "\n",
    "параметр $p$,\n",
    "\n",
    "вершина (vertex) в виде точки Point\n",
    "\n",
    "фокус (focus) в виде точки Point\n",
    "\n",
    "угол angle по умолчанию 0 для параболы с осью, параллельной OX, \n",
    "а для параболы с осью, параллельной  OY angle = $\\pi/2$\n",
    "\n",
    "ось симметрии (axis_symmetry) в виде прямой Line\n",
    "\n",
    "директриса (directrix) в виде прямой Line\n",
    "\n",
    "Реализовать методы \n",
    "\n",
    "equation(self) - уравнение параболы,\n",
    "\n",
    "dir_equation(self) - уравнение директрисы,\n",
    "\n",
    "ax_sym_equation(self) - уравнение оси симметрии,\n",
    "\n",
    "rotate(self, angle) - поворот на угол angle против часовой стрелки, метод не изменяет параболу, а возвращает параболу с теми же p и вершиной, но угол увеличен на angle по сравнению с исходной параболой. \n",
    "\n",
    "В конструкторе экземпляра класса  \n",
    "\n",
    "__new__(cls, p, vertex=None, angle=None)\n",
    "\n",
    "p - обязательный параметр, а вид параболы по умолчанию  - парабола с осью, параллельной оси OX,\n",
    "вершина по умолчанию в начале координат."
   ]
  },
  {
   "cell_type": "code",
   "execution_count": 2,
   "metadata": {
    "colab": {
     "base_uri": "https://localhost:8080/",
     "height": 54
    },
    "id": "fejvyO3K-Hvc",
    "outputId": "2e36e40a-445c-4d93-b245-acdac9c2e364"
   },
   "outputs": [
    {
     "data": {
      "text/latex": [
       "$\\displaystyle - \\sqrt{2} x + x + y = - \\frac{x^{2}}{2} - x y - \\frac{y^{2}}{2}$"
      ],
      "text/plain": [
       "Eq(-sqrt(2)*x + x + y, -x**2/2 - x*y - y**2/2)"
      ]
     },
     "metadata": {
      "tags": []
     },
     "output_type": "display_data"
    }
   ],
   "source": [
    "class parabola:\n",
    "    \n",
    "    x, y = symbols('x y')\n",
    "    \n",
    "    # constructor\n",
    "    def __init__(self, p, vertex=None, angle=None):\n",
    "        \n",
    "        # parameter\n",
    "        self.p = p\n",
    "        \n",
    "        # vertex\n",
    "        if vertex:\n",
    "            self.vertex = vertex\n",
    "        else:\n",
    "            self.vertex = Point2D(0,0)\n",
    "        \n",
    "        # rotation angle\n",
    "        if angle:\n",
    "            self.angle = angle\n",
    "        else:\n",
    "            self.angle = 0\n",
    "        \n",
    "        # rotation matrix\n",
    "        self.A = Matrix([[Cos(self.angle), -Sin(self.angle)],[Sin(self.angle), Cos(self.angle)]])\n",
    "        \n",
    "        # focus\n",
    "        coords = self.A*Matrix([[p/2],[0]])\n",
    "        self.focus = Point2D(coords[0], coords[1])\n",
    "        \n",
    "        # directix\n",
    "        coords = self.A*Matrix([[-p/2,-p/2],[0,1]])\n",
    "        self.directix = Line(Point2D(coords[0,0],coords[1,0]),Point2D(coords[0,1],coords[1,1]))\n",
    "        \n",
    "        # axis symmetry\n",
    "        coords = self.A*Matrix([[0,1],[0,0]])\n",
    "        self.axis_symmetry = Line(Point2D(coords[0,0],coords[1,0]),Point2D(coords[0,1],coords[1,1]))\n",
    "        \n",
    "        # base equation\n",
    "        self.eq = Eq((parabola.y - vertex.y)**2, 2*p*(parabola.x - vertex.x))\n",
    "    \n",
    "    # directix equation\n",
    "    def dir_equation(self):\n",
    "        return self.directix.equation()\n",
    "    \n",
    "    # symmetry axis equation\n",
    "    def ax_sym_equation(self):\n",
    "        return self.axis_symmetry.equation()\n",
    "    \n",
    "    # rotation method\n",
    "    def rotate(self, angle):\n",
    "        return parabola(self.p, self.vertex, self.angle + angle)\n",
    "    \n",
    "    # parabola equation in new axis system (2D)\n",
    "    def equation(self):\n",
    "        coords = self.A*Matrix([[self.x],[self.y]])\n",
    "        return self.eq.subs(self.x, coords[0]).subs(self.y, coords[1])\n",
    "    \n",
    "display(parabola(1,Point(0,0), 0).rotate(Pi/4).equation().expand().simplify())"
   ]
  },
  {
   "cell_type": "markdown",
   "metadata": {
    "id": "bZpY7VWh-Hvc"
   },
   "source": [
    "### Задание 2\n",
    "Построить параболу с $p = 3$, вершиной в (-5, 2), осью симметрии, образующей угол $\\pi/4$ с положительным направлением оси ОХ. Вывести на экран ее параметр p, вершину, угол, фокус, ось симметрии и директрису, а также уравнение параболы, оси симметрии и директрисы. "
   ]
  },
  {
   "cell_type": "code",
   "execution_count": null,
   "metadata": {
    "id": "RpR5wY1_-Hvd"
   },
   "outputs": [],
   "source": []
  },
  {
   "cell_type": "markdown",
   "metadata": {
    "id": "zxTzdyk2-Hvd"
   },
   "source": [
    "### Индивидуальное задание\n",
    "Построить параболу, построить другую параболу путем поворота исходной параболы на $\\alpha$. Вывести на экран вершину, угол, фокус, ось симметрии и директрису обеих парабол. \n",
    "\n",
    "Использовать уравнения повернутой параболы, ее оси симметрии и директрисы для построения графиков в одной координатной плоскости. \n",
    "\n",
    "Цвета параболы, оси симметрии, директрисы индивидуальные, название графика Парабола, подписи осей $x$ и $y$.\n",
    "\n",
    "Вариант N 92\n",
    "\n",
    "$p = 3$, $\\alpha = \\frac{\\pi}{3}$."
   ]
  },
  {
   "cell_type": "code",
   "execution_count": null,
   "metadata": {
    "id": "DHDucFC_-Hvd"
   },
   "outputs": [],
   "source": []
  }
 ],
 "metadata": {
  "colab": {
   "collapsed_sections": [],
   "name": "KOLTUNOVAlg_16_2020_par_task.ipynb",
   "provenance": []
  },
  "kernelspec": {
   "display_name": "Python 3",
   "language": "python",
   "name": "python3"
  },
  "language_info": {
   "codemirror_mode": {
    "name": "ipython",
    "version": 3
   },
   "file_extension": ".py",
   "mimetype": "text/x-python",
   "name": "python",
   "nbconvert_exporter": "python",
   "pygments_lexer": "ipython3",
   "version": "3.8.5"
  }
 },
 "nbformat": 4,
 "nbformat_minor": 1
}
