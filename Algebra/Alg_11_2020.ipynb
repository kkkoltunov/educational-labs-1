{
  "nbformat": 4,
  "nbformat_minor": 0,
  "metadata": {
    "kernelspec": {
      "display_name": "Python 3",
      "language": "python",
      "name": "python3"
    },
    "language_info": {
      "codemirror_mode": {
        "name": "ipython",
        "version": 3
      },
      "file_extension": ".py",
      "mimetype": "text/x-python",
      "name": "python",
      "nbconvert_exporter": "python",
      "pygments_lexer": "ipython3",
      "version": "3.7.3"
    },
    "colab": {
      "name": "KOLTUNOVAlg_11_2020_vect_task.ipynb",
      "provenance": [],
      "collapsed_sections": []
    }
  },
  "cells": [
    {
      "cell_type": "code",
      "metadata": {
        "id": "i5mTR9_bFUaN"
      },
      "source": [
        "import sympy\n",
        "from sympy import  Matrix, symbols\n",
        "from sympy import sin as Sin\n",
        "from sympy import cos as Cos\n",
        "from sympy import pi as Pi\n",
        "from sympy.vector import CoordSys3D, Vector, matrix_to_vector, AxisOrienter, express"
      ],
      "execution_count": 2,
      "outputs": []
    },
    {
      "cell_type": "markdown",
      "metadata": {
        "id": "0M6OpmvAFUaa"
      },
      "source": [
        "# Занятие 11\n",
        "# Алгебра\n",
        "## Векторы\n",
        "### Задание 1.\n",
        "Задать систему координат с именем '1'. \n",
        "Найти скалярное и векторное произведение векторов $a(-\\cos(\\pi/4), \\sin(\\pi/3), 1)$ и $b(2, -1, 3)$."
      ]
    },
    {
      "cell_type": "code",
      "metadata": {
        "id": "STIvjX8MFUab",
        "colab": {
          "base_uri": "https://localhost:8080/",
          "height": 131
        },
        "outputId": "23da98af-b6b0-4b4b-d40a-2e83bb81848c"
      },
      "source": [
        "M = CoordSys3D('1')\n",
        "a = -Cos(Pi/4)*M.i + Sin(Pi/3)*M.j + 1*M.k\n",
        "b = 2*M.i - 1*M.j + 3*M.k\n",
        "display('Скалярное произведение', (a & b))\n",
        "display('Векторное произведение', (a ^ b))"
      ],
      "execution_count": null,
      "outputs": [
        {
          "output_type": "display_data",
          "data": {
            "application/vnd.google.colaboratory.intrinsic+json": {
              "type": "string"
            },
            "text/plain": [
              "'Скалярное произведение'"
            ]
          },
          "metadata": {
            "tags": []
          }
        },
        {
          "output_type": "display_data",
          "data": {
            "text/latex": "$\\displaystyle - \\sqrt{2} - \\frac{\\sqrt{3}}{2} + 3$",
            "text/plain": [
              "-sqrt(2) - sqrt(3)/2 + 3"
            ]
          },
          "metadata": {
            "tags": []
          }
        },
        {
          "output_type": "display_data",
          "data": {
            "application/vnd.google.colaboratory.intrinsic+json": {
              "type": "string"
            },
            "text/plain": [
              "'Векторное произведение'"
            ]
          },
          "metadata": {
            "tags": []
          }
        },
        {
          "output_type": "display_data",
          "data": {
            "text/latex": "$\\displaystyle (1 + \\frac{3 \\sqrt{3}}{2})\\mathbf{\\hat{i}_{1}} + (2 + \\frac{3 \\sqrt{2}}{2})\\mathbf{\\hat{j}_{1}} + (- \\sqrt{3} + \\frac{\\sqrt{2}}{2})\\mathbf{\\hat{k}_{1}}$",
            "text/plain": [
              "(1 + 3*sqrt(3)/2)*1.i + (2 + 3*sqrt(2)/2)*1.j + (-sqrt(3) + sqrt(2)/2)*1.k"
            ]
          },
          "metadata": {
            "tags": []
          }
        }
      ]
    },
    {
      "cell_type": "markdown",
      "metadata": {
        "id": "UBTS1R4MFUac"
      },
      "source": [
        "### Задание 2\n",
        "Ввести безымянную систему координат M и символы $p$ и $q$.\n",
        "Вычислить $((v + u)\\cdot(v - u)) + (((2v + u)\\times(v - 3u))\\cdot(2v - 3u)) - ((3v - 2u)\\cdot((5v - u)\\times(- u)))$, $u(q, -p, q + p)$, $v(p, 2p - q, 1)$. Скалярное произведение обозначено $\\cdot$, векторное $\\times$.\n",
        "Использовать  & и ^, скобки расставить как в условии, поскольку приоритет у & и ^ ниже, чем у + и -. Упростить полученное выражение."
      ]
    },
    {
      "cell_type": "code",
      "metadata": {
        "id": "qMT0HE_8FUad",
        "colab": {
          "base_uri": "https://localhost:8080/",
          "height": 38
        },
        "outputId": "0423d796-eaad-4d51-c66c-3360606aff31"
      },
      "source": [
        "from sympy.abc import p, q\n",
        "\n",
        "M = CoordSys3D('')\n",
        "u = q*M.i - p*M.j + (q + p)*M.k\n",
        "v = p*M.i - (2*p - q)*M.j + 1*M.k\n",
        "\n",
        "display(sympy.simplify(((v + u) & (v - u)) + (((2*v + u) ^ (v - 3*u)) & (2*v - 3*u)) - ((3*v - 2*u) & ((5*v - u) ^ (-u)))))"
      ],
      "execution_count": null,
      "outputs": [
        {
          "output_type": "display_data",
          "data": {
            "text/latex": "$\\displaystyle 3 p^{2} - 6 p q - q^{2} + 1$",
            "text/plain": [
              "3*p**2 - 6*p*q - q**2 + 1"
            ]
          },
          "metadata": {
            "tags": []
          }
        }
      ]
    },
    {
      "cell_type": "markdown",
      "metadata": {
        "id": "H1xM70VEFUad"
      },
      "source": [
        "### Задание 3\n",
        "Упростить вектор $g(-2p^2 + 5pq - 3q^2), \\cos(q) + 2\\sin(q - \\pi/2), \\sin^2(p) - \\cos^2(p))$.\n",
        "Вывести на экран координаты упрощенного вектора, его длину и проекции на координатные оси"
      ]
    },
    {
      "cell_type": "code",
      "metadata": {
        "id": "KsR3pMqwFUae",
        "colab": {
          "base_uri": "https://localhost:8080/",
          "height": 159
        },
        "outputId": "decd0e26-a885-4f5d-b2fe-85442a8f5c08"
      },
      "source": [
        "from sympy.abc import p, q\n",
        "\n",
        "M = CoordSys3D('')\n",
        "g = (-2*p**2 + 5*p*q - 3*q**2)*M.i + (Cos(q) + 2*Sin(q - Pi/2))*M.j + (Sin(p)**2 - Cos(p)**2)*M.k\n",
        "display(g.factor().trigsimp())\n",
        "\n",
        "g_m = Matrix([-2*p**2 + 5*p*q - 3*q**2, Cos(q) + 2 * Sin(q - Pi/2), Sin(p)**2 - Cos(p)**2])\n",
        "v = matrix_to_vector(g_m, M).factor().trigsimp()\n",
        "display(sympy.simplify(v.components))\n",
        "display(v.magnitude().factor().trigsimp())\n",
        "display(M.i.projection(v), M.j.projection(v), M.k.projection(v))"
      ],
      "execution_count": 3,
      "outputs": [
        {
          "output_type": "display_data",
          "data": {
            "text/latex": "$\\displaystyle (- \\left(p - q\\right) \\left(2 p - 3 q\\right))\\mathbf{\\hat{i}_{}} + (- \\cos{\\left(q \\right)})\\mathbf{\\hat{j}_{}} + (- \\cos{\\left(2 p \\right)})\\mathbf{\\hat{k}_{}}$",
            "text/plain": [
              "(-(p - q)*(2*p - 3*q))*.i + (-cos(q))*.j + (-cos(2*p))*.k"
            ]
          },
          "metadata": {
            "tags": []
          }
        },
        {
          "output_type": "display_data",
          "data": {
            "text/latex": "$\\displaystyle \\left\\{ \\mathbf{\\hat{i}_{}} : - \\left(p - q\\right) \\left(2 p - 3 q\\right), \\  \\mathbf{\\hat{j}_{}} : - \\cos{\\left(q \\right)}, \\  \\mathbf{\\hat{k}_{}} : - \\cos{\\left(2 p \\right)}\\right\\}$",
            "text/plain": [
              "{.i: -(p - q)*(2*p - 3*q), .j: -cos(q), .k: -cos(2*p)}"
            ]
          },
          "metadata": {
            "tags": []
          }
        },
        {
          "output_type": "display_data",
          "data": {
            "text/latex": "$\\displaystyle \\sqrt{4 p^{4} - 20 p^{3} q + 37 p^{2} q^{2} - 30 p q^{3} + 9 q^{4} + \\cos^{2}{\\left(2 p \\right)} + \\cos^{2}{\\left(q \\right)}}$",
            "text/plain": [
              "sqrt(4*p**4 - 20*p**3*q + 37*p**2*q**2 - 30*p*q**3 + 9*q**4 + cos(2*p)**2 + cos(q)**2)"
            ]
          },
          "metadata": {
            "tags": []
          }
        },
        {
          "output_type": "display_data",
          "data": {
            "text/latex": "$\\displaystyle (- \\left(p - q\\right) \\left(2 p - 3 q\\right))\\mathbf{\\hat{i}_{}}$",
            "text/plain": [
              "(-(p - q)*(2*p - 3*q))*.i"
            ]
          },
          "metadata": {
            "tags": []
          }
        },
        {
          "output_type": "display_data",
          "data": {
            "text/latex": "$\\displaystyle (- \\cos{\\left(q \\right)})\\mathbf{\\hat{j}_{}}$",
            "text/plain": [
              "(-cos(q))*.j"
            ]
          },
          "metadata": {
            "tags": []
          }
        },
        {
          "output_type": "display_data",
          "data": {
            "text/latex": "$\\displaystyle (- \\cos{\\left(2 p \\right)})\\mathbf{\\hat{k}_{}}$",
            "text/plain": [
              "(-cos(2*p))*.k"
            ]
          },
          "metadata": {
            "tags": []
          }
        }
      ]
    },
    {
      "cell_type": "markdown",
      "metadata": {
        "id": "KreOI99QFUae"
      },
      "source": [
        "### Задание  4\n",
        "Преобразовать матрицу $\\left(\\begin{matrix}-q\\\\ p\\\\ q + p\\end{matrix}\\right)$ в вектор в системе координат из Заданий 1 и 2."
      ]
    },
    {
      "cell_type": "code",
      "metadata": {
        "id": "1eputnOPFUae",
        "colab": {
          "base_uri": "https://localhost:8080/",
          "height": 62
        },
        "outputId": "63f74caa-7104-4e8c-fe1c-db84cbff0917"
      },
      "source": [
        "from sympy.abc import p, q\n",
        "\n",
        "# Задание системы координат.\n",
        "M1 = CoordSys3D('1')\n",
        "M2 = CoordSys3D('')\n",
        "b = Matrix([-q, p, (q + p)])\n",
        "\n",
        "# Преобразование матрицы в вектор.\n",
        "display(matrix_to_vector(b, M1))\n",
        "display(matrix_to_vector(b, M2))"
      ],
      "execution_count": null,
      "outputs": [
        {
          "output_type": "display_data",
          "data": {
            "text/latex": "$\\displaystyle (- q)\\mathbf{\\hat{i}_{1}} + (p)\\mathbf{\\hat{j}_{1}} + (p + q)\\mathbf{\\hat{k}_{1}}$",
            "text/plain": [
              "(-q)*1.i + p*1.j + (p + q)*1.k"
            ]
          },
          "metadata": {
            "tags": []
          }
        },
        {
          "output_type": "display_data",
          "data": {
            "text/latex": "$\\displaystyle (- q)\\mathbf{\\hat{i}_{}} + (p)\\mathbf{\\hat{j}_{}} + (p + q)\\mathbf{\\hat{k}_{}}$",
            "text/plain": [
              "(-q)*.i + p*.j + (p + q)*.k"
            ]
          },
          "metadata": {
            "tags": []
          }
        }
      ]
    },
    {
      "cell_type": "markdown",
      "metadata": {
        "id": "gCx4rT71FUaf"
      },
      "source": [
        "### Задание 5.\n",
        "Ввести новую систему координат S5, которая получается поворотом системы координат M из Задания 2 на угол $\\pi/4$ относительно оси $j$ по часовой стрелке.\n",
        "Определить вектор b5 на основе матрицы из Задания 4 в соответствии с системой координат M, затем получить представление в матричном виде вектора b5_S5 в системе координат S5.  Вывести на экран матрицу поворота, вектор b5 в системе координат M  и S5."
      ]
    },
    {
      "cell_type": "code",
      "metadata": {
        "id": "0EjG7CASFUaf",
        "colab": {
          "base_uri": "https://localhost:8080/",
          "height": 204
        },
        "outputId": "3c5e8f79-ee90-465f-e45d-578900c54692"
      },
      "source": [
        "b = Matrix([-q, p, (q + p)])\n",
        "M = CoordSys3D('1')\n",
        "\n",
        "# Новая система с помощью поворота.\n",
        "S5 = M.orient_new_axis('S5', -sympy.pi/4, M.j)\n",
        "\n",
        "# Преобразование матрицы в вектор.\n",
        "b5 = matrix_to_vector(b, M)\n",
        "b5_S5_new = b5.to_matrix(S5)\n",
        "\n",
        "# Матрица поворота.\n",
        "R_matr = M.rotation_matrix(S5)\n",
        "display('Матрица поворота', R_matr, 'Вектор в M', b5, 'Вектор в S5', matrix_to_vector(b5_S5_new, S5).factor().trigsimp())"
      ],
      "execution_count": 5,
      "outputs": [
        {
          "output_type": "display_data",
          "data": {
            "application/vnd.google.colaboratory.intrinsic+json": {
              "type": "string"
            },
            "text/plain": [
              "'Матрица поворота'"
            ]
          },
          "metadata": {
            "tags": []
          }
        },
        {
          "output_type": "display_data",
          "data": {
            "text/latex": "$\\displaystyle \\left[\\begin{matrix}\\frac{\\sqrt{2}}{2} & 0 & - \\frac{\\sqrt{2}}{2}\\\\0 & 1 & 0\\\\\\frac{\\sqrt{2}}{2} & 0 & \\frac{\\sqrt{2}}{2}\\end{matrix}\\right]$",
            "text/plain": [
              "Matrix([\n",
              "[sqrt(2)/2, 0, -sqrt(2)/2],\n",
              "[        0, 1,          0],\n",
              "[sqrt(2)/2, 0,  sqrt(2)/2]])"
            ]
          },
          "metadata": {
            "tags": []
          }
        },
        {
          "output_type": "display_data",
          "data": {
            "application/vnd.google.colaboratory.intrinsic+json": {
              "type": "string"
            },
            "text/plain": [
              "'Вектор в M'"
            ]
          },
          "metadata": {
            "tags": []
          }
        },
        {
          "output_type": "display_data",
          "data": {
            "text/latex": "$\\displaystyle (- q)\\mathbf{\\hat{i}_{1}} + (p)\\mathbf{\\hat{j}_{1}} + (p + q)\\mathbf{\\hat{k}_{1}}$",
            "text/plain": [
              "(-q)*1.i + p*1.j + (p + q)*1.k"
            ]
          },
          "metadata": {
            "tags": []
          }
        },
        {
          "output_type": "display_data",
          "data": {
            "application/vnd.google.colaboratory.intrinsic+json": {
              "type": "string"
            },
            "text/plain": [
              "'Вектор в S5'"
            ]
          },
          "metadata": {
            "tags": []
          }
        },
        {
          "output_type": "display_data",
          "data": {
            "text/latex": "$\\displaystyle (\\frac{\\sqrt{2} p}{2})\\mathbf{\\hat{i}_{S5}} + (p)\\mathbf{\\hat{j}_{S5}} + (\\frac{\\sqrt{2} \\left(p + 2 q\\right)}{2})\\mathbf{\\hat{k}_{S5}}$",
            "text/plain": [
              "(sqrt(2)*p/2)*S5.i + p*S5.j + (sqrt(2)*(p + 2*q)/2)*S5.k"
            ]
          },
          "metadata": {
            "tags": []
          }
        }
      ]
    },
    {
      "cell_type": "markdown",
      "metadata": {
        "id": "qjdatGywFUaf"
      },
      "source": [
        "### Задание 6.\n",
        "Повернуть систему координат  M  из Задания 2 на $\\pi/4$ по часовой стрелке относительно оси, определяемой вектором $(1, -1, 0)$. Выразить вектор b5 в новой системе координат."
      ]
    },
    {
      "cell_type": "code",
      "metadata": {
        "id": "X5_CJBj0FUag",
        "colab": {
          "base_uri": "https://localhost:8080/",
          "height": 56
        },
        "outputId": "ded2321d-7b5f-452e-a8f8-e906586c2a4c"
      },
      "source": [
        "S6 = M.orient_new_axis('', -Pi/4, M.i - M.j)\n",
        "display(sympy.simplify(matrix_to_vector(b5.to_matrix(S6), S6)))"
      ],
      "execution_count": 6,
      "outputs": [
        {
          "output_type": "display_data",
          "data": {
            "text/latex": "$\\displaystyle (- p + \\frac{\\sqrt{2} p}{4} - q - \\frac{\\sqrt{2} q}{4})\\mathbf{\\hat{i}_{}} + (\\frac{\\sqrt{2} \\left(p - q\\right)}{4})\\mathbf{\\hat{j}_{}} + (\\frac{p}{2} - \\frac{q}{2} + \\frac{\\sqrt{2} \\left(p + q\\right)}{2})\\mathbf{\\hat{k}_{}}$",
            "text/plain": [
              "(-p + sqrt(2)*p/4 - q - sqrt(2)*q/4)*.i + (sqrt(2)*(p - q)/4)*.j + (p/2 - q/2 + sqrt(2)*(p + q)/2)*.k"
            ]
          },
          "metadata": {
            "tags": []
          }
        }
      ]
    },
    {
      "cell_type": "markdown",
      "metadata": {
        "id": "2Sksd5J7FUag"
      },
      "source": [
        "### Индивидуальное задание.\n",
        "Ввести безымянную систему координат XYZ, задать в ней векторы $v_1$ и $v_2$. Построить новую систему координат XYZ1 с именем '1' поворотом  XYZ на $\\alpha$ против часовой стрелки относительно оси, определяемой вектором $v_3$, выразить векторы $v_1$ и $v_2$ в новой системе координат. Найти скалярное и векторное произведение векторов в новой и старой системе координат. Выразить вектор, равный векторному произведению $v_1$ и $v_2$ в старой системе координат через новую систему координат, сравнить с векторным произведением $v_1$ и $v_2$, выраженных в новой системе координат.\n",
        "\n",
        "Вариант N 92\n",
        "\n",
        "$v_1 = (5)\\mathbf{\\hat{i}_{}} + (2)\\mathbf{\\hat{j}_{}} + (9)\\mathbf{\\hat{k}_{}}$, $v_2 = (-8)\\mathbf{\\hat{i}_{}} + (-8)\\mathbf{\\hat{j}_{}} + (2)\\mathbf{\\hat{k}_{}}$, Name = 2, угол поворота $- 8 \\pi / 3$, ось $(-6)\\mathbf{\\hat{i}_{}} + (-2)\\mathbf{\\hat{j}_{}}$"
      ]
    },
    {
      "cell_type": "code",
      "metadata": {
        "id": "CneYKtasFUag",
        "colab": {
          "base_uri": "https://localhost:8080/",
          "height": 381
        },
        "outputId": "c20a75fe-1195-4806-9a10-8f54147866ff"
      },
      "source": [
        "XYZ = CoordSys3D('')\n",
        "\n",
        "v1 = 5*XYZ.i + 2*XYZ.j + 9*XYZ.k\n",
        "v2 = -8*XYZ.i - 8*XYZ.j + 2*XYZ.k\n",
        "\n",
        "# Новая система с помощью поворота.\n",
        "XYZ1 = XYZ.orient_new_axis('1', 8*Pi/3, (-6*XYZ.i - 2*XYZ.j))\n",
        "\n",
        "# Выражение ветора в новой системе координат.\n",
        "v1_exp = express(v1, XYZ1)\n",
        "display('v1 в новой системе координат', v1_exp)\n",
        "v2_exp = express(v2, XYZ1)\n",
        "display('v2 в новой системе координат', v2_exp)\n",
        "\n",
        "# Скалярное произведение.\n",
        "sc = v1.dot(v2)\n",
        "sc_new = sympy.simplify(v1_exp.dot(v2_exp))\n",
        "\n",
        "# Векторное произведение.\n",
        "vec1 = v1.cross(v2)\n",
        "vec2 = v2.cross(v1)\n",
        "\n",
        "# Векторное произведение новое.\n",
        "vec1_new = sympy.simplify(v1_exp.cross(v2_exp))\n",
        "vec2_new = sympy.simplify(v2_exp.cross(v1_exp))\n",
        "\n",
        "display('Скалярное произведение в старой системе', sc, 'Скалярное произведение в новой системе', sc_new)\n",
        "display('Векторные произведения в старой системе', vec1, vec2, 'Векторные произведения в новой системе', vec1_new, vec2_new)\n",
        "display(matrix_to_vector(vec1.to_matrix(XYZ1), XYZ1) == vec1_new)"
      ],
      "execution_count": 13,
      "outputs": [
        {
          "output_type": "display_data",
          "data": {
            "application/vnd.google.colaboratory.intrinsic+json": {
              "type": "string"
            },
            "text/plain": [
              "'v1 в новой системе координат'"
            ]
          },
          "metadata": {
            "tags": []
          }
        },
        {
          "output_type": "display_data",
          "data": {
            "text/latex": "$\\displaystyle (\\frac{9 \\sqrt{30}}{20} + \\frac{103}{20})\\mathbf{\\hat{i}_{1}} + (\\frac{31}{20} - \\frac{27 \\sqrt{30}}{20})\\mathbf{\\hat{j}_{1}} + (- \\frac{9}{2} + \\frac{\\sqrt{30}}{20})\\mathbf{\\hat{k}_{1}}$",
            "text/plain": [
              "(9*sqrt(30)/20 + 103/20)*1.i + (31/20 - 27*sqrt(30)/20)*1.j + (-9/2 + sqrt(30)/20)*1.k"
            ]
          },
          "metadata": {
            "tags": []
          }
        },
        {
          "output_type": "display_data",
          "data": {
            "application/vnd.google.colaboratory.intrinsic+json": {
              "type": "string"
            },
            "text/plain": [
              "'v2 в новой системе координат'"
            ]
          },
          "metadata": {
            "tags": []
          }
        },
        {
          "output_type": "display_data",
          "data": {
            "text/latex": "$\\displaystyle (- \\frac{52}{5} + \\frac{\\sqrt{30}}{10})\\mathbf{\\hat{i}_{1}} + (- \\frac{3 \\sqrt{30}}{10} - \\frac{4}{5})\\mathbf{\\hat{j}_{1}} + (- \\frac{4 \\sqrt{30}}{5} - 1)\\mathbf{\\hat{k}_{1}}$",
            "text/plain": [
              "(-52/5 + sqrt(30)/10)*1.i + (-3*sqrt(30)/10 - 4/5)*1.j + (-4*sqrt(30)/5 - 1)*1.k"
            ]
          },
          "metadata": {
            "tags": []
          }
        },
        {
          "output_type": "display_data",
          "data": {
            "application/vnd.google.colaboratory.intrinsic+json": {
              "type": "string"
            },
            "text/plain": [
              "'Скалярное произведение в старой системе'"
            ]
          },
          "metadata": {
            "tags": []
          }
        },
        {
          "output_type": "display_data",
          "data": {
            "text/latex": "$\\displaystyle -38$",
            "text/plain": [
              "-38"
            ]
          },
          "metadata": {
            "tags": []
          }
        },
        {
          "output_type": "display_data",
          "data": {
            "application/vnd.google.colaboratory.intrinsic+json": {
              "type": "string"
            },
            "text/plain": [
              "'Скалярное произведение в новой системе'"
            ]
          },
          "metadata": {
            "tags": []
          }
        },
        {
          "output_type": "display_data",
          "data": {
            "text/latex": "$\\displaystyle -38$",
            "text/plain": [
              "-38"
            ]
          },
          "metadata": {
            "tags": []
          }
        },
        {
          "output_type": "display_data",
          "data": {
            "application/vnd.google.colaboratory.intrinsic+json": {
              "type": "string"
            },
            "text/plain": [
              "'Векторные произведения в старой системе'"
            ]
          },
          "metadata": {
            "tags": []
          }
        },
        {
          "output_type": "display_data",
          "data": {
            "text/latex": "$\\displaystyle (76)\\mathbf{\\hat{i}_{}} + (-82)\\mathbf{\\hat{j}_{}} + (-24)\\mathbf{\\hat{k}_{}}$",
            "text/plain": [
              "76*.i + (-82)*.j + (-24)*.k"
            ]
          },
          "metadata": {
            "tags": []
          }
        },
        {
          "output_type": "display_data",
          "data": {
            "text/latex": "$\\displaystyle (-76)\\mathbf{\\hat{i}_{}} + (82)\\mathbf{\\hat{j}_{}} + (24)\\mathbf{\\hat{k}_{}}$",
            "text/plain": [
              "(-76)*.i + 82*.j + 24*.k"
            ]
          },
          "metadata": {
            "tags": []
          }
        },
        {
          "output_type": "display_data",
          "data": {
            "application/vnd.google.colaboratory.intrinsic+json": {
              "type": "string"
            },
            "text/plain": [
              "'Векторные произведения в новой системе'"
            ]
          },
          "metadata": {
            "tags": []
          }
        },
        {
          "output_type": "display_data",
          "data": {
            "text/latex": "$\\displaystyle (\\frac{277}{10} - \\frac{6 \\sqrt{30}}{5})\\mathbf{\\hat{i}_{1}} + (\\frac{18 \\sqrt{30}}{5} + \\frac{629}{10})\\mathbf{\\hat{j}_{1}} + (12 - \\frac{161 \\sqrt{30}}{10})\\mathbf{\\hat{k}_{1}}$",
            "text/plain": [
              "(277/10 - 6*sqrt(30)/5)*1.i + (18*sqrt(30)/5 + 629/10)*1.j + (12 - 161*sqrt(30)/10)*1.k"
            ]
          },
          "metadata": {
            "tags": []
          }
        },
        {
          "output_type": "display_data",
          "data": {
            "text/latex": "$\\displaystyle (- \\frac{277}{10} + \\frac{6 \\sqrt{30}}{5})\\mathbf{\\hat{i}_{1}} + (- \\frac{629}{10} - \\frac{18 \\sqrt{30}}{5})\\mathbf{\\hat{j}_{1}} + (-12 + \\frac{161 \\sqrt{30}}{10})\\mathbf{\\hat{k}_{1}}$",
            "text/plain": [
              "(-277/10 + 6*sqrt(30)/5)*1.i + (-629/10 - 18*sqrt(30)/5)*1.j + (-12 + 161*sqrt(30)/10)*1.k"
            ]
          },
          "metadata": {
            "tags": []
          }
        },
        {
          "output_type": "display_data",
          "data": {
            "text/plain": [
              "True"
            ]
          },
          "metadata": {
            "tags": []
          }
        }
      ]
    }
  ]
}