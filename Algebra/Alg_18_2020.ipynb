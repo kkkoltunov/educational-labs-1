{
  "nbformat": 4,
  "nbformat_minor": 0,
  "metadata": {
    "kernelspec": {
      "display_name": "Python 3",
      "language": "python",
      "name": "python3"
    },
    "language_info": {
      "codemirror_mode": {
        "name": "ipython",
        "version": 3
      },
      "file_extension": ".py",
      "mimetype": "text/x-python",
      "name": "python",
      "nbconvert_exporter": "python",
      "pygments_lexer": "ipython3",
      "version": "3.7.3"
    },
    "colab": {
      "name": "KOLTUNOVAlg_18_2020_QR_task.ipynb",
      "provenance": [],
      "collapsed_sections": []
    }
  },
  "cells": [
    {
      "cell_type": "code",
      "metadata": {
        "id": "vpXnL4VcfUHW"
      },
      "source": [
        "import sympy\n",
        "from sympy import Matrix, S, Symbol, symbols, I, zeros, eye, simplify, expand, expand_complex\n",
        "import numpy as np\n",
        "from numpy import random"
      ],
      "execution_count": 2,
      "outputs": []
    },
    {
      "cell_type": "markdown",
      "metadata": {
        "id": "CqEy_A0JfUHb"
      },
      "source": [
        "# Занятие 18\n",
        "# Алгебра\n",
        "## Матричные разложения: Холецкого, LDL, LU, QR. Жорданова форма."
      ]
    },
    {
      "cell_type": "markdown",
      "metadata": {
        "id": "zq3DD4QLfUHc"
      },
      "source": [
        "### Задание 1.\n",
        "Построить разложение Холецкого матриц\n",
        "$$\n",
        "M1=\\left(\n",
        "\\begin{matrix}\n",
        "1&-3&0\\\\\n",
        "-3&-2&10\\\\\n",
        "0&10&7\n",
        "\\end{matrix}\n",
        "\\right)\n",
        "\\quad\n",
        "M2=\\left(\n",
        "\\begin{matrix}\n",
        "18&1 - 2I& -2\\\\\n",
        "1 + 2I&4&-3I\\\\\n",
        "-2&3I&5\n",
        "\\end{matrix}\n",
        "\\right)\n",
        "$$\n",
        "Проверить положительную определенность эрмитовой матрицы."
      ]
    },
    {
      "cell_type": "code",
      "metadata": {
        "id": "7B3-Bl5TfUHd",
        "colab": {
          "base_uri": "https://localhost:8080/",
          "height": 587
        },
        "outputId": "5c335b82-3b98-45be-e93d-5f4f633a09d0"
      },
      "source": [
        "A = Matrix([[1, -3, 0], [-3, -2, 10], [0, 10, 7]])\n",
        "B = Matrix([[18, 1 - 2*I, -2], [1 + 2*I, 4, -3*I], [-2, 3*I, 5]])\n",
        "\n",
        "LA = A.cholesky(hermitian=False)\n",
        "LB = B.cholesky()\n",
        "\n",
        "display('LA', LA, 'simplify(LA*LA.T - A)', simplify(LA*LA.T - A),\n",
        "  'B.is_positive_definite', B.is_positive_definite,\n",
        "  'LB', LB, 'simplify(LB)', simplify(LB),\n",
        "  'simplify(expand(LB))', simplify(expand(LB)),\n",
        "  'simplify(LB*LB.H - B)', simplify(LB*LB.H - B))"
      ],
      "execution_count": 5,
      "outputs": [
        {
          "output_type": "display_data",
          "data": {
            "application/vnd.google.colaboratory.intrinsic+json": {
              "type": "string"
            },
            "text/plain": [
              "'LA'"
            ]
          },
          "metadata": {
            "tags": []
          }
        },
        {
          "output_type": "display_data",
          "data": {
            "text/latex": "$\\displaystyle \\left[\\begin{matrix}1 & 0 & 0\\\\-3 & \\sqrt{11} i & 0\\\\0 & - \\frac{10 \\sqrt{11} i}{11} & \\frac{\\sqrt{1947}}{11}\\end{matrix}\\right]$",
            "text/plain": [
              "Matrix([\n",
              "[ 1,                 0,             0],\n",
              "[-3,        sqrt(11)*I,             0],\n",
              "[ 0, -10*sqrt(11)*I/11, sqrt(1947)/11]])"
            ]
          },
          "metadata": {
            "tags": []
          }
        },
        {
          "output_type": "display_data",
          "data": {
            "application/vnd.google.colaboratory.intrinsic+json": {
              "type": "string"
            },
            "text/plain": [
              "'simplify(LA*LA.T - A)'"
            ]
          },
          "metadata": {
            "tags": []
          }
        },
        {
          "output_type": "display_data",
          "data": {
            "text/latex": "$\\displaystyle \\left[\\begin{matrix}0 & 0 & 0\\\\0 & 0 & 0\\\\0 & 0 & 0\\end{matrix}\\right]$",
            "text/plain": [
              "Matrix([\n",
              "[0, 0, 0],\n",
              "[0, 0, 0],\n",
              "[0, 0, 0]])"
            ]
          },
          "metadata": {
            "tags": []
          }
        },
        {
          "output_type": "display_data",
          "data": {
            "application/vnd.google.colaboratory.intrinsic+json": {
              "type": "string"
            },
            "text/plain": [
              "'B.is_positive_definite'"
            ]
          },
          "metadata": {
            "tags": []
          }
        },
        {
          "output_type": "display_data",
          "data": {
            "text/plain": [
              "True"
            ]
          },
          "metadata": {
            "tags": []
          }
        },
        {
          "output_type": "display_data",
          "data": {
            "application/vnd.google.colaboratory.intrinsic+json": {
              "type": "string"
            },
            "text/plain": [
              "'LB'"
            ]
          },
          "metadata": {
            "tags": []
          }
        },
        {
          "output_type": "display_data",
          "data": {
            "text/latex": "$\\displaystyle \\left[\\begin{matrix}3 \\sqrt{2} & 0 & 0\\\\\\frac{\\sqrt{2} \\left(1 + 2 i\\right)}{6} & \\sqrt{- \\frac{\\left(1 - 2 i\\right) \\left(1 + 2 i\\right)}{18} + 4} & 0\\\\- \\frac{\\sqrt{2}}{3} & \\frac{\\frac{1}{9} + \\frac{25 i}{9}}{\\sqrt{- \\frac{\\left(1 - 2 i\\right) \\left(1 + 2 i\\right)}{18} + 4}} & \\sqrt{\\frac{43}{9} - \\frac{\\left(\\frac{1}{9} - \\frac{25 i}{9}\\right) \\left(\\frac{1}{9} + \\frac{25 i}{9}\\right)}{- \\frac{\\left(1 - 2 i\\right) \\left(1 + 2 i\\right)}{18} + 4}}\\end{matrix}\\right]$",
            "text/plain": [
              "Matrix([\n",
              "[          3*sqrt(2),                                                0,                                                                        0],\n",
              "[sqrt(2)*(1 + 2*I)/6,                sqrt(-(1 - 2*I)*(1 + 2*I)/18 + 4),                                                                        0],\n",
              "[         -sqrt(2)/3, (1/9 + 25*I/9)/sqrt(-(1 - 2*I)*(1 + 2*I)/18 + 4), sqrt(43/9 - (1/9 - 25*I/9)*(1/9 + 25*I/9)/(-(1 - 2*I)*(1 + 2*I)/18 + 4))]])"
            ]
          },
          "metadata": {
            "tags": []
          }
        },
        {
          "output_type": "display_data",
          "data": {
            "application/vnd.google.colaboratory.intrinsic+json": {
              "type": "string"
            },
            "text/plain": [
              "'simplify(LB)'"
            ]
          },
          "metadata": {
            "tags": []
          }
        },
        {
          "output_type": "display_data",
          "data": {
            "text/latex": "$\\displaystyle \\left[\\begin{matrix}3 \\sqrt{2} & 0 & 0\\\\\\frac{\\sqrt{2} \\left(1 + 2 i\\right)}{6} & \\frac{\\sqrt{134}}{6} & 0\\\\- \\frac{\\sqrt{2}}{3} & \\frac{\\sqrt{134} \\left(1 + 25 i\\right)}{201} & \\frac{\\sqrt{12127}}{67}\\end{matrix}\\right]$",
            "text/plain": [
              "Matrix([\n",
              "[          3*sqrt(2),                        0,              0],\n",
              "[sqrt(2)*(1 + 2*I)/6,              sqrt(134)/6,              0],\n",
              "[         -sqrt(2)/3, sqrt(134)*(1 + 25*I)/201, sqrt(12127)/67]])"
            ]
          },
          "metadata": {
            "tags": []
          }
        },
        {
          "output_type": "display_data",
          "data": {
            "application/vnd.google.colaboratory.intrinsic+json": {
              "type": "string"
            },
            "text/plain": [
              "'simplify(expand(LB))'"
            ]
          },
          "metadata": {
            "tags": []
          }
        },
        {
          "output_type": "display_data",
          "data": {
            "text/latex": "$\\displaystyle \\left[\\begin{matrix}3 \\sqrt{2} & 0 & 0\\\\\\frac{\\sqrt{2} \\left(1 + 2 i\\right)}{6} & \\frac{\\sqrt{134}}{6} & 0\\\\- \\frac{\\sqrt{2}}{3} & \\frac{\\sqrt{134} \\left(1 + 25 i\\right)}{201} & \\frac{\\sqrt{12127}}{67}\\end{matrix}\\right]$",
            "text/plain": [
              "Matrix([\n",
              "[          3*sqrt(2),                        0,              0],\n",
              "[sqrt(2)*(1 + 2*I)/6,              sqrt(134)/6,              0],\n",
              "[         -sqrt(2)/3, sqrt(134)*(1 + 25*I)/201, sqrt(12127)/67]])"
            ]
          },
          "metadata": {
            "tags": []
          }
        },
        {
          "output_type": "display_data",
          "data": {
            "application/vnd.google.colaboratory.intrinsic+json": {
              "type": "string"
            },
            "text/plain": [
              "'simplify(LB*LB.H - B)'"
            ]
          },
          "metadata": {
            "tags": []
          }
        },
        {
          "output_type": "display_data",
          "data": {
            "text/latex": "$\\displaystyle \\left[\\begin{matrix}0 & 0 & 0\\\\0 & 0 & 0\\\\0 & 0 & 0\\end{matrix}\\right]$",
            "text/plain": [
              "Matrix([\n",
              "[0, 0, 0],\n",
              "[0, 0, 0],\n",
              "[0, 0, 0]])"
            ]
          },
          "metadata": {
            "tags": []
          }
        }
      ]
    },
    {
      "cell_type": "markdown",
      "metadata": {
        "id": "LfI3c3BzfUHd"
      },
      "source": [
        "### Задание 2.\n",
        "Построить  LDL разложение для матриц Задания 1. Проверку положительной определенности для эрмитовой матрицы НЕ делать."
      ]
    },
    {
      "cell_type": "code",
      "metadata": {
        "id": "fwH4xfbYfUHd",
        "colab": {
          "base_uri": "https://localhost:8080/",
          "height": 563
        },
        "outputId": "3faf22ae-3c72-43e5-97f4-38e70e5cd954"
      },
      "source": [
        "A = Matrix([[1, -3, 0], [-3, -2, 10], [0, 10, 7]])\n",
        "B = Matrix([[18, 1 - 2*I, -2], [1 + 2*I, 4, -3*I], [-2, 3*I, 5]])\n",
        "\n",
        "LA, DA = A1.LDLdecomposition(hermitian=False)\n",
        "LB, DB = B1.LDLdecomposition()\n",
        "\n",
        "display('LDLA', LA, DA, 'simplify(LA*DA*LA.T - A)', simplify(LA*DA*LA.T - A),\n",
        "  'LDLB', LB, DB, 'simplify(LB)', simplify(LB),\n",
        "  'simplify(LB*DB*LB.H - B)', simplify(LB*DB*LB.H - B))"
      ],
      "execution_count": 7,
      "outputs": [
        {
          "output_type": "display_data",
          "data": {
            "application/vnd.google.colaboratory.intrinsic+json": {
              "type": "string"
            },
            "text/plain": [
              "'LDLA'"
            ]
          },
          "metadata": {
            "tags": []
          }
        },
        {
          "output_type": "display_data",
          "data": {
            "text/latex": "$\\displaystyle \\left[\\begin{matrix}1 & 0 & 0\\\\-3 & 1 & 0\\\\0 & - \\frac{10}{11} & 1\\end{matrix}\\right]$",
            "text/plain": [
              "Matrix([\n",
              "[ 1,      0, 0],\n",
              "[-3,      1, 0],\n",
              "[ 0, -10/11, 1]])"
            ]
          },
          "metadata": {
            "tags": []
          }
        },
        {
          "output_type": "display_data",
          "data": {
            "text/latex": "$\\displaystyle \\left[\\begin{matrix}1 & 0 & 0\\\\0 & -11 & 0\\\\0 & 0 & \\frac{177}{11}\\end{matrix}\\right]$",
            "text/plain": [
              "Matrix([\n",
              "[1,   0,      0],\n",
              "[0, -11,      0],\n",
              "[0,   0, 177/11]])"
            ]
          },
          "metadata": {
            "tags": []
          }
        },
        {
          "output_type": "display_data",
          "data": {
            "application/vnd.google.colaboratory.intrinsic+json": {
              "type": "string"
            },
            "text/plain": [
              "'simplify(LA*DA*LA.T - A)'"
            ]
          },
          "metadata": {
            "tags": []
          }
        },
        {
          "output_type": "display_data",
          "data": {
            "text/latex": "$\\displaystyle \\left[\\begin{matrix}0 & 0 & 0\\\\0 & 0 & 0\\\\0 & 0 & 0\\end{matrix}\\right]$",
            "text/plain": [
              "Matrix([\n",
              "[0, 0, 0],\n",
              "[0, 0, 0],\n",
              "[0, 0, 0]])"
            ]
          },
          "metadata": {
            "tags": []
          }
        },
        {
          "output_type": "display_data",
          "data": {
            "application/vnd.google.colaboratory.intrinsic+json": {
              "type": "string"
            },
            "text/plain": [
              "'LDLB'"
            ]
          },
          "metadata": {
            "tags": []
          }
        },
        {
          "output_type": "display_data",
          "data": {
            "text/latex": "$\\displaystyle \\left[\\begin{matrix}1 & 0 & 0\\\\\\frac{1}{18} + \\frac{i}{9} & 1 & 0\\\\- \\frac{1}{9} & \\frac{\\frac{1}{9} + \\frac{25 i}{9}}{- 18 \\left(\\frac{1}{18} - \\frac{i}{9}\\right) \\left(\\frac{1}{18} + \\frac{i}{9}\\right) + 4} & 1\\end{matrix}\\right]$",
            "text/plain": [
              "Matrix([\n",
              "[         1,                                                  0, 0],\n",
              "[1/18 + I/9,                                                  1, 0],\n",
              "[      -1/9, (1/9 + 25*I/9)/(-18*(1/18 - I/9)*(1/18 + I/9) + 4), 1]])"
            ]
          },
          "metadata": {
            "tags": []
          }
        },
        {
          "output_type": "display_data",
          "data": {
            "text/latex": "$\\displaystyle \\left[\\begin{matrix}18 & 0 & 0\\\\0 & - 18 \\left(\\frac{1}{18} - \\frac{i}{9}\\right) \\left(\\frac{1}{18} + \\frac{i}{9}\\right) + 4 & 0\\\\0 & 0 & \\frac{43}{9} - \\frac{\\left(\\frac{1}{9} - \\frac{25 i}{9}\\right) \\left(\\frac{1}{9} + \\frac{25 i}{9}\\right)}{- 18 \\left(\\frac{1}{18} - \\frac{i}{9}\\right) \\left(\\frac{1}{18} + \\frac{i}{9}\\right) + 4}\\end{matrix}\\right]$",
            "text/plain": [
              "Matrix([\n",
              "[18,                                 0,                                                                        0],\n",
              "[ 0, -18*(1/18 - I/9)*(1/18 + I/9) + 4,                                                                        0],\n",
              "[ 0,                                 0, 43/9 - (1/9 - 25*I/9)*(1/9 + 25*I/9)/(-18*(1/18 - I/9)*(1/18 + I/9) + 4)]])"
            ]
          },
          "metadata": {
            "tags": []
          }
        },
        {
          "output_type": "display_data",
          "data": {
            "application/vnd.google.colaboratory.intrinsic+json": {
              "type": "string"
            },
            "text/plain": [
              "'simplify(LB)'"
            ]
          },
          "metadata": {
            "tags": []
          }
        },
        {
          "output_type": "display_data",
          "data": {
            "text/latex": "$\\displaystyle \\left[\\begin{matrix}1 & 0 & 0\\\\\\frac{1}{18} + \\frac{i}{9} & 1 & 0\\\\- \\frac{1}{9} & \\frac{2}{67} + \\frac{50 i}{67} & 1\\end{matrix}\\right]$",
            "text/plain": [
              "Matrix([\n",
              "[         1,              0, 0],\n",
              "[1/18 + I/9,              1, 0],\n",
              "[      -1/9, 2/67 + 50*I/67, 1]])"
            ]
          },
          "metadata": {
            "tags": []
          }
        },
        {
          "output_type": "display_data",
          "data": {
            "application/vnd.google.colaboratory.intrinsic+json": {
              "type": "string"
            },
            "text/plain": [
              "'simplify(LB*DB*LB.H - B)'"
            ]
          },
          "metadata": {
            "tags": []
          }
        },
        {
          "output_type": "display_data",
          "data": {
            "text/latex": "$\\displaystyle \\left[\\begin{matrix}0 & 0 & 0\\\\0 & 0 & 0\\\\0 & 0 & 0\\end{matrix}\\right]$",
            "text/plain": [
              "Matrix([\n",
              "[0, 0, 0],\n",
              "[0, 0, 0],\n",
              "[0, 0, 0]])"
            ]
          },
          "metadata": {
            "tags": []
          }
        }
      ]
    },
    {
      "cell_type": "markdown",
      "metadata": {
        "id": "jlQeDudhfUHe"
      },
      "source": [
        "### Задание  3.\n",
        "Построить  LU разложение для матрицы \n",
        "$$\n",
        "V=\\left(\n",
        "\\begin{matrix}\n",
        "5&-2 - I&3 - 4I&1 + 4I\\\\\n",
        "1 - I&-2&5 - I&2 - I\\\\\n",
        "5&6 + I&0&5 \n",
        "\\end{matrix}\n",
        "\\right)\n",
        "$$"
      ]
    },
    {
      "cell_type": "code",
      "metadata": {
        "id": "pT0JtC4KfUHe",
        "colab": {
          "base_uri": "https://localhost:8080/",
          "height": 502
        },
        "outputId": "ad934dc1-ff1d-4901-f1d1-68041eb26021"
      },
      "source": [
        "M = Matrix([[5, -2 - I, 3 - 4*I, 1 + 4*I], [1 - I, -2, 5 - I, 2 - I], [5, 6 + I, 0, 5]])\n",
        "L, U, perm = M.LUdecomposition()\n",
        "MLU = simplify(expand((L*U).permuteBkwd(perm)))\n",
        "P = eye(3).permuteFwd(perm)\n",
        "display('L', L, 'U', U, 'perm', perm, 'P', P, 'MLU', MLU,\n",
        " 'M', M, 'P*M == L*U', P*M == simplify(expand(L*U)))"
      ],
      "execution_count": 13,
      "outputs": [
        {
          "output_type": "display_data",
          "data": {
            "application/vnd.google.colaboratory.intrinsic+json": {
              "type": "string"
            },
            "text/plain": [
              "'L'"
            ]
          },
          "metadata": {
            "tags": []
          }
        },
        {
          "output_type": "display_data",
          "data": {
            "text/latex": "$\\displaystyle \\left[\\begin{matrix}1 & 0 & 0\\\\1 & 1 & 0\\\\\\frac{1}{5} - \\frac{i}{5} & \\frac{\\left(-2 - \\left(-2 - i\\right) \\left(\\frac{1}{5} - \\frac{i}{5}\\right)\\right) \\left(8 - 2 i\\right)}{68} & 1\\end{matrix}\\right]$",
            "text/plain": [
              "Matrix([\n",
              "[        1,                                        0, 0],\n",
              "[        1,                                        1, 0],\n",
              "[1/5 - I/5, (-2 - (-2 - I)*(1/5 - I/5))*(8 - 2*I)/68, 1]])"
            ]
          },
          "metadata": {
            "tags": []
          }
        },
        {
          "output_type": "display_data",
          "data": {
            "application/vnd.google.colaboratory.intrinsic+json": {
              "type": "string"
            },
            "text/plain": [
              "'U'"
            ]
          },
          "metadata": {
            "tags": []
          }
        },
        {
          "output_type": "display_data",
          "data": {
            "text/latex": "$\\displaystyle \\left[\\begin{matrix}5 & -2 - i & 3 - 4 i & 1 + 4 i\\\\0 & 8 + 2 i & -3 + 4 i & 4 - 4 i\\\\0 & 0 & 5 - i - \\frac{\\left(-3 + 4 i\\right) \\left(-2 - \\left(-2 - i\\right) \\left(\\frac{1}{5} - \\frac{i}{5}\\right)\\right) \\left(8 - 2 i\\right)}{68} - \\left(\\frac{1}{5} - \\frac{i}{5}\\right) \\left(3 - 4 i\\right) & 2 - i - \\frac{\\left(-2 - \\left(-2 - i\\right) \\left(\\frac{1}{5} - \\frac{i}{5}\\right)\\right) \\left(4 - 4 i\\right) \\left(8 - 2 i\\right)}{68} - \\left(\\frac{1}{5} - \\frac{i}{5}\\right) \\left(1 + 4 i\\right)\\end{matrix}\\right]$",
            "text/plain": [
              "Matrix([\n",
              "[5,  -2 - I,                                                                             3 - 4*I,                                                                            1 + 4*I],\n",
              "[0, 8 + 2*I,                                                                            -3 + 4*I,                                                                            4 - 4*I],\n",
              "[0,       0, 5 - I - (-3 + 4*I)*(-2 - (-2 - I)*(1/5 - I/5))*(8 - 2*I)/68 - (1/5 - I/5)*(3 - 4*I), 2 - I - (-2 - (-2 - I)*(1/5 - I/5))*(4 - 4*I)*(8 - 2*I)/68 - (1/5 - I/5)*(1 + 4*I)]])"
            ]
          },
          "metadata": {
            "tags": []
          }
        },
        {
          "output_type": "display_data",
          "data": {
            "application/vnd.google.colaboratory.intrinsic+json": {
              "type": "string"
            },
            "text/plain": [
              "'perm'"
            ]
          },
          "metadata": {
            "tags": []
          }
        },
        {
          "output_type": "display_data",
          "data": {
            "text/plain": [
              "[[1, 2]]"
            ]
          },
          "metadata": {
            "tags": []
          }
        },
        {
          "output_type": "display_data",
          "data": {
            "application/vnd.google.colaboratory.intrinsic+json": {
              "type": "string"
            },
            "text/plain": [
              "'P'"
            ]
          },
          "metadata": {
            "tags": []
          }
        },
        {
          "output_type": "display_data",
          "data": {
            "text/latex": "$\\displaystyle \\left[\\begin{matrix}1 & 0 & 0\\\\0 & 0 & 1\\\\0 & 1 & 0\\end{matrix}\\right]$",
            "text/plain": [
              "Matrix([\n",
              "[1, 0, 0],\n",
              "[0, 0, 1],\n",
              "[0, 1, 0]])"
            ]
          },
          "metadata": {
            "tags": []
          }
        },
        {
          "output_type": "display_data",
          "data": {
            "application/vnd.google.colaboratory.intrinsic+json": {
              "type": "string"
            },
            "text/plain": [
              "'MLU'"
            ]
          },
          "metadata": {
            "tags": []
          }
        },
        {
          "output_type": "display_data",
          "data": {
            "text/latex": "$\\displaystyle \\left[\\begin{matrix}5 & -2 - i & 3 - 4 i & 1 + 4 i\\\\1 - i & -2 & 5 - i & 2 - i\\\\5 & 6 + i & 0 & 5\\end{matrix}\\right]$",
            "text/plain": [
              "Matrix([\n",
              "[    5, -2 - I, 3 - 4*I, 1 + 4*I],\n",
              "[1 - I,     -2,   5 - I,   2 - I],\n",
              "[    5,  6 + I,       0,       5]])"
            ]
          },
          "metadata": {
            "tags": []
          }
        },
        {
          "output_type": "display_data",
          "data": {
            "application/vnd.google.colaboratory.intrinsic+json": {
              "type": "string"
            },
            "text/plain": [
              "'M'"
            ]
          },
          "metadata": {
            "tags": []
          }
        },
        {
          "output_type": "display_data",
          "data": {
            "text/latex": "$\\displaystyle \\left[\\begin{matrix}5 & -2 - i & 3 - 4 i & 1 + 4 i\\\\1 - i & -2 & 5 - i & 2 - i\\\\5 & 6 + i & 0 & 5\\end{matrix}\\right]$",
            "text/plain": [
              "Matrix([\n",
              "[    5, -2 - I, 3 - 4*I, 1 + 4*I],\n",
              "[1 - I,     -2,   5 - I,   2 - I],\n",
              "[    5,  6 + I,       0,       5]])"
            ]
          },
          "metadata": {
            "tags": []
          }
        },
        {
          "output_type": "display_data",
          "data": {
            "application/vnd.google.colaboratory.intrinsic+json": {
              "type": "string"
            },
            "text/plain": [
              "'P*M == L*U'"
            ]
          },
          "metadata": {
            "tags": []
          }
        },
        {
          "output_type": "display_data",
          "data": {
            "text/plain": [
              "True"
            ]
          },
          "metadata": {
            "tags": []
          }
        }
      ]
    },
    {
      "cell_type": "markdown",
      "metadata": {
        "id": "iIgktlgWfUHe"
      },
      "source": [
        "### Задание  4.\n",
        "Построить  QR разложение для матрицы\n",
        "$$\n",
        "A=\\left(\n",
        "\\begin{matrix}\n",
        "3 + i&  2 & -i & 4 - 2i\\\\\n",
        "-2 & -3 &  i & -3 + i\\\\\n",
        "1 + i & -1 &  0 & 1 - i\\\\\n",
        "-1 + i &  -4 & i & -2\n",
        "\\end{matrix}\n",
        "\\right)\n",
        "$$\n",
        "показать, что $A = QR$."
      ]
    },
    {
      "cell_type": "code",
      "metadata": {
        "id": "XgPWaSWEfUHf",
        "colab": {
          "base_uri": "https://localhost:8080/",
          "height": 439
        },
        "outputId": "9a94604b-6fbb-461b-cc41-8c3ec35eba98"
      },
      "source": [
        "A = Matrix([[3 + I, 2, -I, 4 - 2*I,], [-2, -3, I, -3 + I], [1 + I, -1, 0, 1 - I], [-1 + I, -4, I, -2]])\n",
        "\n",
        "Q, R = A.QRdecomposition()\n",
        "AQR = simplify(expand(Q*R))\n",
        "display('Q', simplify(expand(Q)), 'R', simplify(expand(R)),\n",
        "  'AQR', AQR, 'A', A, 'A = QR', A == AQR)"
      ],
      "execution_count": 10,
      "outputs": [
        {
          "output_type": "display_data",
          "data": {
            "application/vnd.google.colaboratory.intrinsic+json": {
              "type": "string"
            },
            "text/plain": [
              "'Q'"
            ]
          },
          "metadata": {
            "tags": []
          }
        },
        {
          "output_type": "display_data",
          "data": {
            "text/latex": "$\\displaystyle \\left[\\begin{matrix}\\frac{\\sqrt{2} \\left(3 + i\\right)}{6} & - \\frac{\\sqrt{17} \\left(1 + 4 i\\right)}{51}\\\\- \\frac{\\sqrt{2}}{3} & \\frac{\\sqrt{17} \\left(-4 + i\\right)}{51}\\\\\\frac{\\sqrt{2} \\left(1 + i\\right)}{6} & - \\frac{\\sqrt{17} \\left(5 + 3 i\\right)}{51}\\\\\\frac{\\sqrt{2} \\left(-1 + i\\right)}{6} & - \\frac{\\sqrt{17} \\left(9 + 2 i\\right)}{51}\\end{matrix}\\right]$",
            "text/plain": [
              "Matrix([\n",
              "[ sqrt(2)*(3 + I)/6, -sqrt(17)*(1 + 4*I)/51],\n",
              "[        -sqrt(2)/3,   sqrt(17)*(-4 + I)/51],\n",
              "[ sqrt(2)*(1 + I)/6, -sqrt(17)*(5 + 3*I)/51],\n",
              "[sqrt(2)*(-1 + I)/6, -sqrt(17)*(9 + 2*I)/51]])"
            ]
          },
          "metadata": {
            "tags": []
          }
        },
        {
          "output_type": "display_data",
          "data": {
            "application/vnd.google.colaboratory.intrinsic+json": {
              "type": "string"
            },
            "text/plain": [
              "'R'"
            ]
          },
          "metadata": {
            "tags": []
          }
        },
        {
          "output_type": "display_data",
          "data": {
            "text/latex": "$\\displaystyle \\left[\\begin{matrix}3 \\sqrt{2} & \\frac{\\sqrt{2} \\left(5 + i\\right)}{2} & - \\sqrt{2} i & \\sqrt{2} \\left(3 - 2 i\\right)\\\\0 & \\sqrt{17} & \\frac{\\sqrt{17} \\left(1 - 4 i\\right)}{17} & \\frac{\\sqrt{17} \\left(11 + 7 i\\right)}{17}\\end{matrix}\\right]$",
            "text/plain": [
              "Matrix([\n",
              "[3*sqrt(2), sqrt(2)*(5 + I)/2,            -sqrt(2)*I,      sqrt(2)*(3 - 2*I)],\n",
              "[        0,          sqrt(17), sqrt(17)*(1 - 4*I)/17, sqrt(17)*(11 + 7*I)/17]])"
            ]
          },
          "metadata": {
            "tags": []
          }
        },
        {
          "output_type": "display_data",
          "data": {
            "application/vnd.google.colaboratory.intrinsic+json": {
              "type": "string"
            },
            "text/plain": [
              "'AQR'"
            ]
          },
          "metadata": {
            "tags": []
          }
        },
        {
          "output_type": "display_data",
          "data": {
            "text/latex": "$\\displaystyle \\left[\\begin{matrix}3 + i & 2 & - i & 4 - 2 i\\\\-2 & -3 & i & -3 + i\\\\1 + i & -1 & 0 & 1 - i\\\\-1 + i & -4 & i & -2\\end{matrix}\\right]$",
            "text/plain": [
              "Matrix([\n",
              "[ 3 + I,  2, -I, 4 - 2*I],\n",
              "[    -2, -3,  I,  -3 + I],\n",
              "[ 1 + I, -1,  0,   1 - I],\n",
              "[-1 + I, -4,  I,      -2]])"
            ]
          },
          "metadata": {
            "tags": []
          }
        },
        {
          "output_type": "display_data",
          "data": {
            "application/vnd.google.colaboratory.intrinsic+json": {
              "type": "string"
            },
            "text/plain": [
              "'A'"
            ]
          },
          "metadata": {
            "tags": []
          }
        },
        {
          "output_type": "display_data",
          "data": {
            "text/latex": "$\\displaystyle \\left[\\begin{matrix}3 + i & 2 & - i & 4 - 2 i\\\\-2 & -3 & i & -3 + i\\\\1 + i & -1 & 0 & 1 - i\\\\-1 + i & -4 & i & -2\\end{matrix}\\right]$",
            "text/plain": [
              "Matrix([\n",
              "[ 3 + I,  2, -I, 4 - 2*I],\n",
              "[    -2, -3,  I,  -3 + I],\n",
              "[ 1 + I, -1,  0,   1 - I],\n",
              "[-1 + I, -4,  I,      -2]])"
            ]
          },
          "metadata": {
            "tags": []
          }
        },
        {
          "output_type": "display_data",
          "data": {
            "application/vnd.google.colaboratory.intrinsic+json": {
              "type": "string"
            },
            "text/plain": [
              "'A = QR'"
            ]
          },
          "metadata": {
            "tags": []
          }
        },
        {
          "output_type": "display_data",
          "data": {
            "text/plain": [
              "True"
            ]
          },
          "metadata": {
            "tags": []
          }
        }
      ]
    },
    {
      "cell_type": "markdown",
      "metadata": {
        "id": "148vFBzTfUHf"
      },
      "source": [
        "### Задание  5.\n",
        "Построить  жорданову форму для матрицы\n",
        "$$\n",
        "K=\\left(\n",
        "\\begin{matrix}\n",
        "1 &  -5 & 1 & -5\\\\\n",
        "-5 & 1 &  -5 &  1\\\\\n",
        "1 &  1 & 1 & 1\\\\\n",
        "-1 &  5 &  5 &  1\n",
        "\\end{matrix}\n",
        "\\right)\n",
        "$$"
      ]
    },
    {
      "cell_type": "code",
      "metadata": {
        "id": "WfQc8p5efUHf",
        "colab": {
          "base_uri": "https://localhost:8080/",
          "height": 425
        },
        "outputId": "eb959feb-4e0b-4f81-e34b-2e126fa3025a"
      },
      "source": [
        "B = Matrix([[1, -5, 1, -5], [-5, 1, -5, 1], [1, 1, 1, 1], [-1, 5, 5, 1]])\n",
        "\n",
        "P, J = B.jordan_form()\n",
        "P = simplify(expand_complex(expand(P)))\n",
        "\n",
        "display('P', simplify(expand(P)), 'J', simplify(expand(J)),\n",
        " 'PJP**(-1)', simplify(P*J*P**(-1)), 'B', B)"
      ],
      "execution_count": 14,
      "outputs": [
        {
          "output_type": "display_data",
          "data": {
            "application/vnd.google.colaboratory.intrinsic+json": {
              "type": "string"
            },
            "text/plain": [
              "'P'"
            ]
          },
          "metadata": {
            "tags": []
          }
        },
        {
          "output_type": "display_data",
          "data": {
            "text/latex": "$\\displaystyle \\left[\\begin{matrix}-2 & - \\frac{2}{3} & -2 - \\frac{\\sqrt{3}}{3} & -2 + \\frac{\\sqrt{3}}{3}\\\\-2 & -1 & - \\sqrt{3} - \\frac{2}{3} & - \\frac{2}{3} + \\sqrt{3}\\\\1 & \\frac{2}{3} & \\frac{\\sqrt{3}}{3} + \\frac{2}{3} & \\frac{2}{3} - \\frac{\\sqrt{3}}{3}\\\\1 & 1 & 1 & 1\\end{matrix}\\right]$",
            "text/plain": [
              "Matrix([\n",
              "[-2, -2/3,  -2 - sqrt(3)/3,  -2 + sqrt(3)/3],\n",
              "[-2,   -1,  -sqrt(3) - 2/3,  -2/3 + sqrt(3)],\n",
              "[ 1,  2/3, sqrt(3)/3 + 2/3, 2/3 - sqrt(3)/3],\n",
              "[ 1,    1,               1,               1]])"
            ]
          },
          "metadata": {
            "tags": []
          }
        },
        {
          "output_type": "display_data",
          "data": {
            "application/vnd.google.colaboratory.intrinsic+json": {
              "type": "string"
            },
            "text/plain": [
              "'J'"
            ]
          },
          "metadata": {
            "tags": []
          }
        },
        {
          "output_type": "display_data",
          "data": {
            "text/latex": "$\\displaystyle \\left[\\begin{matrix}-2 & 0 & 0 & 0\\\\0 & 0 & 0 & 0\\\\0 & 0 & 3 - 3 \\sqrt{3} & 0\\\\0 & 0 & 0 & 3 + 3 \\sqrt{3}\\end{matrix}\\right]$",
            "text/plain": [
              "Matrix([\n",
              "[-2, 0,             0,             0],\n",
              "[ 0, 0,             0,             0],\n",
              "[ 0, 0, 3 - 3*sqrt(3),             0],\n",
              "[ 0, 0,             0, 3 + 3*sqrt(3)]])"
            ]
          },
          "metadata": {
            "tags": []
          }
        },
        {
          "output_type": "display_data",
          "data": {
            "application/vnd.google.colaboratory.intrinsic+json": {
              "type": "string"
            },
            "text/plain": [
              "'PJP**(-1)'"
            ]
          },
          "metadata": {
            "tags": []
          }
        },
        {
          "output_type": "display_data",
          "data": {
            "text/latex": "$\\displaystyle \\left[\\begin{matrix}1 & -5 & 1 & -5\\\\-5 & 1 & -5 & 1\\\\1 & 1 & 1 & 1\\\\-1 & 5 & 5 & 1\\end{matrix}\\right]$",
            "text/plain": [
              "Matrix([\n",
              "[ 1, -5,  1, -5],\n",
              "[-5,  1, -5,  1],\n",
              "[ 1,  1,  1,  1],\n",
              "[-1,  5,  5,  1]])"
            ]
          },
          "metadata": {
            "tags": []
          }
        },
        {
          "output_type": "display_data",
          "data": {
            "application/vnd.google.colaboratory.intrinsic+json": {
              "type": "string"
            },
            "text/plain": [
              "'B'"
            ]
          },
          "metadata": {
            "tags": []
          }
        },
        {
          "output_type": "display_data",
          "data": {
            "text/latex": "$\\displaystyle \\left[\\begin{matrix}1 & -5 & 1 & -5\\\\-5 & 1 & -5 & 1\\\\1 & 1 & 1 & 1\\\\-1 & 5 & 5 & 1\\end{matrix}\\right]$",
            "text/plain": [
              "Matrix([\n",
              "[ 1, -5,  1, -5],\n",
              "[-5,  1, -5,  1],\n",
              "[ 1,  1,  1,  1],\n",
              "[-1,  5,  5,  1]])"
            ]
          },
          "metadata": {
            "tags": []
          }
        }
      ]
    },
    {
      "cell_type": "markdown",
      "metadata": {
        "id": "hLHWPLDgfUHg"
      },
      "source": [
        "### Индивидуальное задание.\n",
        "Решить с помощью  QR разложения матрицы\n",
        "$A$\n",
        "систему линейных уравнений\n",
        "$AX = b$.\n",
        "Проверить совместность СЛАУ.\n",
        "\n",
        "Матрица $A$ и вектор $b$ в файле для ИЗ18.\n",
        "\n",
        "N92\n",
        "\\begin{align*}\n",
        " A = \\left[\\begin{matrix}-5 & 1 & 1 & -7\\\\-8 & 1 & 6 & 2\\\\-15 & 3 & 22 & -6\\\\-7 & 2 & 16 & -8\\end{matrix}\\right],\n",
        "\\qquad b = \\left[\\begin{matrix}9\\\\-6\\\\6\\\\16\\end{matrix}\\right]. \n",
        " \\end{align*}"
      ]
    },
    {
      "cell_type": "code",
      "metadata": {
        "id": "2n5l9OOsfUHg",
        "colab": {
          "base_uri": "https://localhost:8080/",
          "height": 115
        },
        "outputId": "155d9afe-9253-4544-c160-39e3cd57d3f7"
      },
      "source": [
        "A = Matrix([[-5, 1, 1, -7], [-8, 1, 6, 2], [-15, 3, 22, -6], [-7, 2, 16, -8]])\n",
        "b = Matrix([9, -6, 6, 16])\n",
        "\n",
        "Ab = A.row_join(b)\n",
        "\n",
        "print('A.rank =', A.rank(), 'Ab.rank =', Ab.rank(),\n",
        " 'A.rank == Ab.rank', A.rank() == Ab.rank())\n",
        "\n",
        "X = A.QRsolve(b)\n",
        "display(X.col_join(Matrix([0])))"
      ],
      "execution_count": 27,
      "outputs": [
        {
          "output_type": "stream",
          "text": [
            "A.rank = 3 Ab.rank = 4 A.rank == Ab.rank False\n"
          ],
          "name": "stdout"
        },
        {
          "output_type": "display_data",
          "data": {
            "text/latex": "$\\displaystyle \\left[\\begin{matrix}\\frac{212}{57}\\\\\\frac{544}{19}\\\\- \\frac{59}{57}\\\\0\\end{matrix}\\right]$",
            "text/plain": [
              "Matrix([\n",
              "[212/57],\n",
              "[544/19],\n",
              "[-59/57],\n",
              "[     0]])"
            ]
          },
          "metadata": {
            "tags": []
          }
        }
      ]
    }
  ]
}