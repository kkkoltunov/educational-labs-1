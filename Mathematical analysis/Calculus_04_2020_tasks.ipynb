{
 "cells": [
  {
   "cell_type": "markdown",
   "metadata": {},
   "source": [
    "## Занятие 4\n",
    "## Математический анализ\n",
    "## Анализ функции. Построение графика в matplotlib.pyplot\n",
    "https://matplotlib.org\n",
    "https://matplotlib.org/api/_as_gen/matplotlib.pyplot.plot.html\n",
    "https://matplotlib.org/tutorials/text/annotations.html"
   ]
  },
  {
   "cell_type": "code",
   "execution_count": 3,
   "metadata": {},
   "outputs": [],
   "source": [
    "# Импорт библиотеки matplotlib.pyplot обычно осуществляется так:\n",
    "import matplotlib.pyplot as plt\n",
    "from sympy import Symbol, symbols, S, solve, solveset, latex, fraction, Eq\n",
    "from numpy import pi\n",
    "from sympy.calculus.util import continuous_domain  \n",
    "# А для того, чтобы использовать все остальное, сделаем так:\n",
    "import sympy\n",
    "import numpy as np"
   ]
  },
  {
   "cell_type": "markdown",
   "metadata": {},
   "source": [
    "### Задание 1\n",
    "Найти точки пересечения графика функции $f(x) = (x^2 + 3 x - 2)\\log_2(3x+1)$ с осями координат, построить график и отметить точки пересечения.\n",
    "\n",
    "#### Указание. \n",
    "Определить функцию как в Примере 3, поскольку нужно будет использовать функцию  $\\log_2(x)$ из каждого пакета sympy и numpy.\n",
    "В numpy использовать $log2(x)$ для вычисления логарифма по основанию 2.\n",
    "\n",
    "Сроить график только в пределах области определения функции. Точки пересечения с осью OX должны быть не только решениями соответствующего уравнения, но и принадлежать области определения функции."
   ]
  },
  {
   "cell_type": "code",
   "execution_count": 4,
   "metadata": {},
   "outputs": [
    {
     "data": {
      "text/latex": [
       "$\\displaystyle \\left(- \\frac{1}{3}, \\infty\\right)$"
      ],
      "text/plain": [
       "Interval.open(-1/3, oo)"
      ]
     },
     "metadata": {},
     "output_type": "display_data"
    },
    {
     "data": {
      "text/plain": [
       "<matplotlib.collections.PathCollection at 0x27eeee8dd30>"
      ]
     },
     "execution_count": 4,
     "metadata": {},
     "output_type": "execute_result"
    },
    {
     "data": {
      "image/png": "[encoded data removed]",
      "text/plain": [
       "<Figure size 432x288 with 1 Axes>"
      ]
     },
     "metadata": {
      "needs_background": "light"
     },
     "output_type": "display_data"
    }
   ],
   "source": [
    "x = Symbol('x')\n",
    "def f(x, lib='sympy'):\n",
    "    if lib == 'sympy':\n",
    "        return (x**2 + 3*x - 2) * sympy.log(3*x + 1, 2)\n",
    "    elif lib == 'numpy':\n",
    "        return (x**2 + 3*x - 2) * np.log2(3*x + 1)\n",
    "\n",
    "display(continuous_domain(f(x), x, S.Reals))\n",
    "\n",
    "xIntersection = solve(f(x))\n",
    "xList = []\n",
    "for i in xIntersection:\n",
    "    if (i > -1/3):\n",
    "        xList.append(i)\n",
    "        \n",
    "X = np.linspace(-1/3 + 0.01, 5, 100)\n",
    "plt.plot(X, f(X, 'numpy'))\n",
    "\n",
    "cord = [0]*len(xList)\n",
    "xList.append(0)\n",
    "cord.append(f(0, 'numpy'))\n",
    "plt.scatter(xList, cord)"
   ]
  },
  {
   "cell_type": "markdown",
   "metadata": {},
   "source": [
    "### Задание 2\n",
    "Найти асимптоты графика функции $g(x) = \\frac{35x^2 + 4x - 15}{3x - 2}$, построить график и асимптоты, в легенду графика включить формулы функции и асимптот, подписать оси 'x' и 'y'."
   ]
  },
  {
   "cell_type": "code",
   "execution_count": 5,
   "metadata": {},
   "outputs": [
    {
     "data": {
      "text/plain": [
       "'Нули знаменателя:'"
      ]
     },
     "metadata": {},
     "output_type": "display_data"
    },
    {
     "data": {
      "text/latex": [
       "$\\displaystyle \\left\\{\\frac{2}{3}\\right\\}$"
      ],
      "text/plain": [
       "FiniteSet(2/3)"
      ]
     },
     "metadata": {},
     "output_type": "display_data"
    },
    {
     "data": {
      "text/plain": [
       "'Предел функции справа:'"
      ]
     },
     "metadata": {},
     "output_type": "display_data"
    },
    {
     "data": {
      "text/latex": [
       "$\\displaystyle \\infty$"
      ],
      "text/plain": [
       "oo"
      ]
     },
     "metadata": {},
     "output_type": "display_data"
    },
    {
     "data": {
      "text/plain": [
       "'Предел функции слева:'"
      ]
     },
     "metadata": {},
     "output_type": "display_data"
    },
    {
     "data": {
      "text/latex": [
       "$\\displaystyle -\\infty$"
      ],
      "text/plain": [
       "-oo"
      ]
     },
     "metadata": {},
     "output_type": "display_data"
    },
    {
     "data": {
      "text/plain": [
       "'Наклонная асимптота:'"
      ]
     },
     "metadata": {},
     "output_type": "display_data"
    },
    {
     "data": {
      "text/latex": [
       "$\\displaystyle \\frac{35}{3}$"
      ],
      "text/plain": [
       "35/3"
      ]
     },
     "metadata": {},
     "output_type": "display_data"
    },
    {
     "data": {
      "text/plain": [
       "'Предел:'"
      ]
     },
     "metadata": {},
     "output_type": "display_data"
    },
    {
     "data": {
      "text/latex": [
       "$\\displaystyle \\frac{82}{9}$"
      ],
      "text/plain": [
       "82/9"
      ]
     },
     "metadata": {},
     "output_type": "display_data"
    },
    {
     "data": {
      "text/plain": [
       "'Асимптота'"
      ]
     },
     "metadata": {},
     "output_type": "display_data"
    },
    {
     "data": {
      "text/latex": [
       "$\\displaystyle \\frac{35 x}{3} + \\frac{82}{9}$"
      ],
      "text/plain": [
       "35*x/3 + 82/9"
      ]
     },
     "metadata": {},
     "output_type": "display_data"
    },
    {
     "data": {
      "text/plain": [
       "Text(0, 0.5, 'y')"
      ]
     },
     "execution_count": 5,
     "metadata": {},
     "output_type": "execute_result"
    },
    {
     "data": {
      "image/png": "[encoded data removed]",
      "text/plain": [
       "<Figure size 432x288 with 1 Axes>"
      ]
     },
     "metadata": {
      "needs_background": "light"
     },
     "output_type": "display_data"
    }
   ],
   "source": [
    "def g(x):\n",
    "    return (35*x**2 + 4*x - 15)/(3*x - 2)\n",
    "\n",
    "gnum, gdenom = sympy.fraction(g(x)) \n",
    "null = sympy.solveset(gdenom, x) \n",
    "display('Нули знаменателя:', null)\n",
    "\n",
    "ypos = sympy.limit(g(x), x, +sympy.oo)\n",
    "yneg = sympy.limit(g(x), x, -sympy.oo)\n",
    "display('Предел функции справа:', ypos, 'Предел функции слева:', yneg) # Оба предела бесконечные => горизонтальных асимптот нет.\n",
    "\n",
    "kpos = sympy.limit(g(x)/x, x, +sympy.oo)\n",
    "kneg = sympy.limit(g(x)/x, x, -sympy.oo)\n",
    "if kpos == kneg:\n",
    "    k = kpos\n",
    "else:\n",
    "    k = (kneg, kpos)\n",
    "display('Наклонная асимптота:', k)\n",
    "\n",
    "b = sympy.limit(g(x) - k*x, x, sympy.oo) # Вычислим предел (f(x) - k(x)).\n",
    "display('Предел:', b)\n",
    "\n",
    "y_asymptote = k*x +b\n",
    "display('Асимптота', y_asymptote)\n",
    "\n",
    "minY = -20  \n",
    "maxY = 40\n",
    "ax = plt.gca()\n",
    "ax.set(ylim=(minY, maxY))\n",
    "for item in null:\n",
    "    ax.axvline(x=item, color='blue', linestyle='--')    \n",
    "X1 = np.linspace(-5, float(item - 0.01), 100) \n",
    "X2 = np.linspace(float(item + 0.01), 5, 100)\n",
    "Y1 = g(X1)\n",
    "Y2 = g(X2)\n",
    "\n",
    "ax.plot(X1, Y1, 'k-', label=r'$f(x)=' + sympy.latex(g(x)) + r'$') # График левой ветви функции\n",
    "ax.plot(X2, Y2, 'k-') # График правой ветви функции\n",
    "ax.plot([X1[0], X2[-1]], [y_asymptote.subs(x, X1[0]), y_asymptote.subs(x, X2[-1])], 'g--', \n",
    "         label=r'$asympt. y=' + sympy.latex(y_asymptote) + r'$') # График наклонной асимптоты\n",
    "ax.legend(loc='best') # Расположение легенды.\n",
    "\n",
    "ax.spines['bottom'].set_position(('data', 0)) # Полоска снизу.\n",
    "ax.spines['left'].set_position(('data', 0)) # Полоска слева.\n",
    "ax.spines['right'].set_color('none') # Полоска справа.\n",
    "ax.spines['top'].set_color('none') # Полоска вверху.\n",
    "\n",
    "ax.set_xlabel(\"x\", fontsize=16)\n",
    "ax.set_ylabel(\"y\", fontsize=16)"
   ]
  },
  {
   "cell_type": "markdown",
   "metadata": {},
   "source": [
    "### Задание 3.\n",
    "Описать в виде функции траекторию пули, выпущенной со скоростью $v_0$ под углом $\\alpha$ к горизонту (по умолчанию $v_0 = 0$, $\\alpha = \\pi/2$)\n",
    "$$\n",
    "\\left\\{\n",
    "\\begin{matrix}\n",
    "x=v_0t\\cos\\alpha\\\\\n",
    "y=v_0t\\sin\\alpha-\\frac{10t^2}{2}\n",
    "\\end{matrix}\n",
    "\\right.\n",
    "$$\n",
    "Аргументы функции $t$, $v_0$ и $\\alpha$, результат - два выражения $x$ и $y$, в соответствии с формулами, приведенными выше.\n",
    "\n",
    "Определить соответствующий набору параметров $v_0$ и $\\alpha$ диапазон значений параметра времени $t$, учитывая, что пуля не должна провалиться сквозь землю. \n",
    "\n",
    "Построить траектории при заданных значениях начальной скорости и угла на одном графике (($v_0 = 1$, $\\alpha = \\pi/6$), ($v_0 = 2$, $\\alpha= \\pi/4$), ($v_0 = 2$, $\\alpha = 1$)). Графики должны быть соответственно зеленого, красного и черного цвета. \n",
    "\n",
    "Подписать оси $x$, $y$.\n",
    "\n",
    "В легенде отразить значения параметров, например, $v_0 = 2,\\ \\alpha = \\pi/6$.\n",
    "\n",
    "Название графика - Траектории пуль.\n",
    "#### Указание.\n",
    "Использовать $\\sin$ из numpy.\n",
    "\n",
    "Решить уравнение $y = 0$ относительно $t$, пользуясь solve или solveset, чтобы с помощью найденного значения $t$ определить правую границу значений $x$."
   ]
  },
  {
   "cell_type": "markdown",
   "metadata": {},
   "source": [
    "#### Решение.\n",
    "Определим функцию, зададим списком данные наборы параметров ($v_0 = 1$, $\\alpha = \\pi/6$), ($v_0 = 2$, $\\alpha= \\pi/4$), ($v_0 = 2.5$, $\\alpha = 1$) и найдем значение параметра $t$, при котором  $y = 0$. Затем подстановкой subs в t_interval найдем наибольшее значение $t$ и построим графики:"
   ]
  },
  {
   "cell_type": "code",
   "execution_count": 10,
   "metadata": {},
   "outputs": [
    {
     "data": {
      "text/plain": [
       "'Максимумы:'"
      ]
     },
     "metadata": {},
     "output_type": "display_data"
    },
    {
     "data": {
      "text/latex": [
       "$\\displaystyle 0.1$"
      ],
      "text/plain": [
       "0.100000000000000"
      ]
     },
     "metadata": {},
     "output_type": "display_data"
    },
    {
     "data": {
      "text/latex": [
       "$\\displaystyle 0.28284271247462$"
      ],
      "text/plain": [
       "0.282842712474620"
      ]
     },
     "metadata": {},
     "output_type": "display_data"
    },
    {
     "data": {
      "text/latex": [
       "$\\displaystyle 0.420735492403948$"
      ],
      "text/plain": [
       "0.420735492403948"
      ]
     },
     "metadata": {},
     "output_type": "display_data"
    },
    {
     "data": {
      "image/png": "[encoded data removed]",
      "text/plain": [
       "<Figure size 432x288 with 1 Axes>"
      ]
     },
     "metadata": {
      "needs_background": "light"
     },
     "output_type": "display_data"
    }
   ],
   "source": [
    "t = Symbol('t')\n",
    "\n",
    "def shot(t, v0=0, a=pi/2):\n",
    "    x = v0*t*np.cos(a)\n",
    "    y = v0*t*np.sin(a) - (10*t**2)/2\n",
    "    return x, y\n",
    "\n",
    "def count_t(v0=0, a=pi/2):\n",
    "    return  solve(v0*t*np.sin(a) - (10*t**2)/2)\n",
    "\n",
    "def count_x(t, v0=0, a=pi/2):\n",
    "    return v0*t*np.cos(a)\n",
    "\n",
    "def count_y(t, v0=0, a=pi/2):\n",
    "    return v0*t*np.sin(a) - (10*t**2)/2\n",
    "\n",
    "params = [[1, pi/6], [2, pi/4], [2.5, 1]]\n",
    "\n",
    "tMax = []\n",
    "for i in range(len(params)):\n",
    "    tSols= count_t(params[i][0], params[i][1])\n",
    "    tMax.append(tSols[1])\n",
    "display('Максимумы:',*tMax)\n",
    "\n",
    "gr = plt.gca()\n",
    "minY = 0\n",
    "minX = 0.3\n",
    "\n",
    "gr.set_xlabel(\"x\", fontsize=16)\n",
    "gr.set_ylabel(\"y\", fontsize=16)\n",
    "\n",
    "gr.set_title(r'Траектории пуль')\n",
    "\n",
    "ax.set(ylim=(minY, maxY))\n",
    "\n",
    "T1 = np.arange(0, tMax[0], 0.001)\n",
    "X1 = count_x(T1, params[0][0], params[0][1])\n",
    "Y1 = count_y(T1, params[0][0], params[0][1])\n",
    "gr.plot(X1, Y1, color='green', label=r'$\\alpha = \\frac{\\pi}{6}' + ',v_0 = ' + latex(params[0][0]) + '$')\n",
    "\n",
    "T2 = np.arange(0, tMax[1], 0.001)\n",
    "X2 = count_x(T2, params[1][0], params[1][1])\n",
    "Y2 = count_y(T2, params[1][0], params[1][1])\n",
    "gr.plot(X2, Y2, color='red', label=r'$\\alpha = \\frac{\\pi}{4}' + ',v_0 = ' + latex(params[1][0]) + '$')\n",
    "\n",
    "T3 = np.arange(0, tMax[2], 0.001)\n",
    "X3 = count_x(T3, params[2][0], params[2][1])\n",
    "Y3 = count_y(T3, params[2][0], params[2][1])\n",
    "gr.plot(X3, Y3, color='black', label=r'$\\alpha = ' + latex(1) + ',v_0 = ' + latex(params[2][0]) + '$')\n",
    "\n",
    "gr.legend(loc='upper right')\n",
    "\n",
    "gr.spines['right'].set_color('none')\n",
    "gr.spines['top'].set_color('none')\n",
    "gr.spines['bottom'].set_position(('data', 0))\n",
    "gr.spines['left'].set_position(('data', 0))"
   ]
  },
  {
   "cell_type": "markdown",
   "metadata": {},
   "source": [
    "### Индивидуальное задание.\n",
    "Построить в одной координатной плоскости графики функций $f(x) = $\n",
    "    $3 - 2 x$, $g(x) = $\n",
    "    $3 \\cos{\\left(2 x \\right)}$ на \n",
    "    отрезке $\\left[ \\pi / 2, \\  3 \\pi / 2\\right]$, $f(x)$ синяя \n",
    "    линия из точек, $g(x)$ фиолетовая пунктирная линия. \n",
    "    Отметки на горизонтальной оси от $\\pi / 2$ до $3 \\pi / 2$ с \n",
    "    шагом $\\pi / 4$, отметки подписать формулами как в Примере 3.  \n",
    "    По вертикальной оси отметки $-3$, 0, $3$."
   ]
  },
  {
   "cell_type": "code",
   "execution_count": 33,
   "metadata": {},
   "outputs": [
    {
     "data": {
      "text/plain": [
       "[<matplotlib.axis.YTick at 0x27ef183fa60>,\n",
       " <matplotlib.axis.YTick at 0x27ef17bd760>,\n",
       " <matplotlib.axis.YTick at 0x27ef15fcfa0>]"
      ]
     },
     "execution_count": 33,
     "metadata": {},
     "output_type": "execute_result"
    },
    {
     "data": {
      "image/png": "[encoded data removed]",
      "text/plain": [
       "<Figure size 432x288 with 1 Axes>"
      ]
     },
     "metadata": {
      "needs_background": "light"
     },
     "output_type": "display_data"
    }
   ],
   "source": [
    "def f(x):\n",
    "    return 3 - 2*x\n",
    "def g(x):\n",
    "    return 3 * np.cos(2*x)\n",
    "\n",
    "X = np.linspace(pi/2, 3*pi/2)\n",
    "ax = plt.gca()\n",
    "\n",
    "ax.plot(X, f(X), color='blue', linestyle=':')\n",
    "ax.plot(X, g(X), color='purple', linestyle='--')\n",
    "\n",
    "ax.set_xticks([np.pi/2 + n*np.pi/4 for n in range(5)])\n",
    "ax.set_xticklabels([r'$' + latex(sympy.pi/2 + n*sympy.pi/4) + r'$' for n in range(5)])\n",
    "\n",
    "ax.set_yticks([-3, 0, 3])"
   ]
  }
 ],
 "metadata": {
  "kernelspec": {
   "display_name": "Python 3",
   "language": "python",
   "name": "python3"
  },
  "language_info": {
   "codemirror_mode": {
    "name": "ipython",
    "version": 3
   },
   "file_extension": ".py",
   "mimetype": "text/x-python",
   "name": "python",
   "nbconvert_exporter": "python",
   "pygments_lexer": "ipython3",
   "version": "3.8.5"
  }
 },
 "nbformat": 4,
 "nbformat_minor": 2
}
