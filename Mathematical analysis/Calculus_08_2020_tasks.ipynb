{
 "cells": [
  {
   "cell_type": "code",
   "execution_count": null,
   "metadata": {
    "id": "nJGFOdnhcl8U"
   },
   "outputs": [],
   "source": [
    "import numpy as np\n",
    "import matplotlib.pyplot as plt\n",
    "import sympy\n",
    "from sympy import Symbol, diff, solve, nsolve, solveset, latex, S, simplify, fraction, Union, Interval, intersection, limit\n",
    "from sympy.calculus.util import continuous_domain\n",
    "from sympy import sin as Sin\n",
    "from sympy import cos as Cos\n",
    "from sympy import pi as Pi\n",
    "%matplotlib inline"
   ]
  },
  {
   "cell_type": "markdown",
   "metadata": {
    "id": "tMVss9x-cl8a"
   },
   "source": [
    "## Занятие 8\n",
    "## Математический анализ\n",
    "## Дифференцирование функции, заданной параметрически\n",
    "Пусть зависимость $y$ от $x$ задана параметрически:\n",
    "$$\n",
    "\\left\\{\n",
    "\\begin{matrix}\n",
    "x = \\varphi(t)\\\\\n",
    "y = \\psi(t)\n",
    "\\end{matrix}\n",
    "\\right.\n",
    "$$\n",
    "тогда производная $y$ по $x$  находится по формуле\n",
    "$$\n",
    "y'_x = \\frac{y'_t}{x'_t} = \\frac{\\psi'_t}{\\varphi'_t}\n",
    "$$\n",
    "Вторая производная:\n",
    "$$\n",
    "y''_{xx} = \\frac{x'_t y''_{tt}-x''_{tt}y'_t}{(x'_t)^3}  = \\frac{\\varphi'_t \\psi''_{tt}-\\varphi''_{tt}\\psi'_t}{(\\varphi'_t)^3}\n",
    "$$\n",
    "### Задание 1\n",
    "Найти производные 1 и 2 порядка функции \n",
    "$$\n",
    "\\left\\{\n",
    "\\begin{matrix}\n",
    "x = \\sin(t) - t\\cos(t)\\\\\n",
    "y = \\cos(t) + t\\sin(t)\n",
    "\\end{matrix}\n",
    "\\right.\n",
    "$$"
   ]
  },
  {
   "cell_type": "code",
   "execution_count": null,
   "metadata": {
    "colab": {
     "base_uri": "https://localhost:8080/",
     "height": 192
    },
    "id": "H9hPTa1zcl8a",
    "outputId": "a133d646-e5f2-4a56-dbdc-09929f10dc29"
   },
   "outputs": [
    {
     "data": {
      "application/vnd.google.colaboratory.intrinsic+json": {
       "type": "string"
      },
      "text/plain": [
       "'Производная первого порядка:'"
      ]
     },
     "metadata": {
      "tags": []
     },
     "output_type": "display_data"
    },
    {
     "data": {
      "text/latex": [
       "$\\displaystyle \\frac{\\cos{\\left(t \\right)}}{\\sin{\\left(t \\right)}}$"
      ],
      "text/plain": [
       "cos(t)/sin(t)"
      ]
     },
     "metadata": {
      "tags": []
     },
     "output_type": "display_data"
    },
    {
     "data": {
      "application/vnd.google.colaboratory.intrinsic+json": {
       "type": "string"
      },
      "text/plain": [
       "'Производная второго порядка:'"
      ]
     },
     "metadata": {
      "tags": []
     },
     "output_type": "display_data"
    },
    {
     "data": {
      "text/latex": [
       "$\\displaystyle \\frac{t \\left(- t \\sin{\\left(t \\right)} + \\cos{\\left(t \\right)}\\right) \\sin{\\left(t \\right)} - t \\left(t \\cos{\\left(t \\right)} + \\sin{\\left(t \\right)}\\right) \\cos{\\left(t \\right)}}{t^{3} \\sin^{3}{\\left(t \\right)}}$"
      ],
      "text/plain": [
       "(t*(-t*sin(t) + cos(t))*sin(t) - t*(t*cos(t) + sin(t))*cos(t))/(t**3*sin(t)**3)"
      ]
     },
     "metadata": {
      "tags": []
     },
     "output_type": "display_data"
    },
    {
     "data": {
      "application/vnd.google.colaboratory.intrinsic+json": {
       "type": "string"
      },
      "text/plain": [
       "'Упрощение производной 2 порядка'"
      ]
     },
     "metadata": {
      "tags": []
     },
     "output_type": "display_data"
    },
    {
     "data": {
      "text/latex": [
       "$\\displaystyle - \\frac{1}{t \\sin^{3}{\\left(t \\right)}}$"
      ],
      "text/plain": [
       "-1/(t*sin(t)**3)"
      ]
     },
     "metadata": {
      "tags": []
     },
     "output_type": "display_data"
    }
   ],
   "source": [
    "t = Symbol('t')\n",
    "x = Sin(t) - t*Cos(t)\n",
    "y = Cos(t) + t*Sin(t)\n",
    "dx = diff(x, t)\n",
    "dy = diff(y, t)\n",
    "dy_x = dy/dx\n",
    "dy2_xx = (dx*diff(y, t, 2) - diff(x, t, 2)*dy)/dx**3\n",
    "display('Производная первого порядка:', dy_x,'Производная второго порядка:', dy2_xx)\n",
    "\n",
    "dy2_xx = simplify(dy2_xx)\n",
    "display('Упрощение производной 2 порядка', dy2_xx)"
   ]
  },
  {
   "cell_type": "markdown",
   "metadata": {
    "id": "i5-hOQhccl8b"
   },
   "source": [
    "### Задание 2.\n",
    "Найти нули производных первого и второго порядка, а также точки, в которых эти производные не существуют, для функции\n",
    "$$\n",
    "\\left\\{\n",
    "\\begin{matrix}\n",
    "x = t^2 - 2t\\\\\n",
    "y = t^2 + 2t\n",
    "\\end{matrix}\n",
    "\\right.\n",
    "$$"
   ]
  },
  {
   "cell_type": "code",
   "execution_count": null,
   "metadata": {
    "colab": {
     "base_uri": "https://localhost:8080/",
     "height": 462
    },
    "id": "CK3f6jTYcl8b",
    "outputId": "d17d793e-e96c-42af-b40f-86504ee860ac"
   },
   "outputs": [
    {
     "data": {
      "application/vnd.google.colaboratory.intrinsic+json": {
       "type": "string"
      },
      "text/plain": [
       "'Производная первого порядка:'"
      ]
     },
     "metadata": {
      "tags": []
     },
     "output_type": "display_data"
    },
    {
     "data": {
      "text/latex": [
       "$\\displaystyle \\frac{2 t + 2}{2 t - 2}$"
      ],
      "text/plain": [
       "(2*t + 2)/(2*t - 2)"
      ]
     },
     "metadata": {
      "tags": []
     },
     "output_type": "display_data"
    },
    {
     "data": {
      "application/vnd.google.colaboratory.intrinsic+json": {
       "type": "string"
      },
      "text/plain": [
       "'Производная второго порядка:'"
      ]
     },
     "metadata": {
      "tags": []
     },
     "output_type": "display_data"
    },
    {
     "data": {
      "text/latex": [
       "$\\displaystyle - \\frac{8}{\\left(2 t - 2\\right)^{3}}$"
      ],
      "text/plain": [
       "-8/(2*t - 2)**3"
      ]
     },
     "metadata": {
      "tags": []
     },
     "output_type": "display_data"
    },
    {
     "data": {
      "application/vnd.google.colaboratory.intrinsic+json": {
       "type": "string"
      },
      "text/plain": [
       "'Упрощение производной 2 порядка'"
      ]
     },
     "metadata": {
      "tags": []
     },
     "output_type": "display_data"
    },
    {
     "data": {
      "text/latex": [
       "$\\displaystyle - \\frac{1}{\\left(t - 1\\right)^{3}}$"
      ],
      "text/plain": [
       "-1/(t - 1)**3"
      ]
     },
     "metadata": {
      "tags": []
     },
     "output_type": "display_data"
    },
    {
     "data": {
      "application/vnd.google.colaboratory.intrinsic+json": {
       "type": "string"
      },
      "text/plain": [
       "'Разбиение 1 функции:'"
      ]
     },
     "metadata": {
      "tags": []
     },
     "output_type": "display_data"
    },
    {
     "data": {
      "text/latex": [
       "$\\displaystyle 2 t + 2$"
      ],
      "text/plain": [
       "2*t + 2"
      ]
     },
     "metadata": {
      "tags": []
     },
     "output_type": "display_data"
    },
    {
     "data": {
      "text/latex": [
       "$\\displaystyle 2 t - 2$"
      ],
      "text/plain": [
       "2*t - 2"
      ]
     },
     "metadata": {
      "tags": []
     },
     "output_type": "display_data"
    },
    {
     "data": {
      "application/vnd.google.colaboratory.intrinsic+json": {
       "type": "string"
      },
      "text/plain": [
       "'Первая производная, нули числителя:'"
      ]
     },
     "metadata": {
      "tags": []
     },
     "output_type": "display_data"
    },
    {
     "data": {
      "text/latex": [
       "$\\displaystyle \\left\\{-1\\right\\}$"
      ],
      "text/plain": [
       "FiniteSet(-1)"
      ]
     },
     "metadata": {
      "tags": []
     },
     "output_type": "display_data"
    },
    {
     "data": {
      "application/vnd.google.colaboratory.intrinsic+json": {
       "type": "string"
      },
      "text/plain": [
       "'нули знаменателя:'"
      ]
     },
     "metadata": {
      "tags": []
     },
     "output_type": "display_data"
    },
    {
     "data": {
      "text/latex": [
       "$\\displaystyle \\left\\{1\\right\\}$"
      ],
      "text/plain": [
       "FiniteSet(1)"
      ]
     },
     "metadata": {
      "tags": []
     },
     "output_type": "display_data"
    },
    {
     "data": {
      "application/vnd.google.colaboratory.intrinsic+json": {
       "type": "string"
      },
      "text/plain": [
       "'Разбиение 2 функции:'"
      ]
     },
     "metadata": {
      "tags": []
     },
     "output_type": "display_data"
    },
    {
     "data": {
      "text/latex": [
       "$\\displaystyle -1$"
      ],
      "text/plain": [
       "-1"
      ]
     },
     "metadata": {
      "tags": []
     },
     "output_type": "display_data"
    },
    {
     "data": {
      "text/latex": [
       "$\\displaystyle \\left(t - 1\\right)^{3}$"
      ],
      "text/plain": [
       "(t - 1)**3"
      ]
     },
     "metadata": {
      "tags": []
     },
     "output_type": "display_data"
    },
    {
     "data": {
      "application/vnd.google.colaboratory.intrinsic+json": {
       "type": "string"
      },
      "text/plain": [
       "'Вторая производная, нули числителя:'"
      ]
     },
     "metadata": {
      "tags": []
     },
     "output_type": "display_data"
    },
    {
     "data": {
      "text/latex": [
       "$\\displaystyle \\emptyset$"
      ],
      "text/plain": [
       "EmptySet"
      ]
     },
     "metadata": {
      "tags": []
     },
     "output_type": "display_data"
    },
    {
     "data": {
      "application/vnd.google.colaboratory.intrinsic+json": {
       "type": "string"
      },
      "text/plain": [
       "'нули знаменателя:'"
      ]
     },
     "metadata": {
      "tags": []
     },
     "output_type": "display_data"
    },
    {
     "data": {
      "text/latex": [
       "$\\displaystyle \\left\\{1\\right\\}$"
      ],
      "text/plain": [
       "FiniteSet(1)"
      ]
     },
     "metadata": {
      "tags": []
     },
     "output_type": "display_data"
    }
   ],
   "source": [
    "t = Symbol('t')\n",
    "x = t**2 - 2*t\n",
    "y = t**2 + 2*t\n",
    "dx = diff(x, t)\n",
    "dy = diff(y, t)\n",
    "dy_x = dy/dx\n",
    "dy2_xx = (dx*diff(y, t, 2) - diff(x, t, 2)*dy)/dx**3\n",
    "display('Производная первого порядка:', dy_x,'Производная второго порядка:', dy2_xx)\n",
    "\n",
    "dy2_xx = simplify(dy2_xx)\n",
    "display('Упрощение производной 2 порядка', dy2_xx)\n",
    "\n",
    "# fraction - Разбивает отдельно числитель и знаменатель.\n",
    "dy_x_num, dy_x_den = fraction(dy_x)\n",
    "display('Разбиение 1 функции:', dy_x_num, dy_x_den)\n",
    "\n",
    "dy_x_num_nul = solveset(dy_x_num)\n",
    "dy_x_den_nul = solveset(dy_x_den)\n",
    "\n",
    "display('Первая производная, нули числителя:', dy_x_num_nul, 'нули знаменателя:', dy_x_den_nul)\n",
    "dy2_xx_num, dy2_xx_den = fraction(dy2_xx)\n",
    "\n",
    "display('Разбиение 2 функции:', dy2_xx_num, dy2_xx_den)\n",
    "dy2_xx_num_nul = solveset(dy2_xx_num)\n",
    "dy2_xx_den_nul = solveset(dy2_xx_den)\n",
    "\n",
    "display('Вторая производная, нули числителя:', dy2_xx_num_nul, 'нули знаменателя:', dy2_xx_den_nul)"
   ]
  },
  {
   "cell_type": "markdown",
   "metadata": {
    "id": "bmf1Hykycl8b"
   },
   "source": [
    "### Задание 3. \n",
    "Найти точки экстремума и точки перегиба функции Задания 2."
   ]
  },
  {
   "cell_type": "code",
   "execution_count": 13,
   "metadata": {
    "colab": {
     "base_uri": "https://localhost:8080/",
     "height": 122
    },
    "id": "LR6kCPCGcl8b",
    "outputId": "36285326-041e-47fc-f750-5e8ea38ffa33"
   },
   "outputs": [
    {
     "data": {
      "application/vnd.google.colaboratory.intrinsic+json": {
       "type": "string"
      },
      "text/plain": [
       "'Критические точки:'"
      ]
     },
     "metadata": {
      "tags": []
     },
     "output_type": "display_data"
    },
    {
     "data": {
      "text/plain": [
       "[-1.5, 0, 1.5]"
      ]
     },
     "metadata": {
      "tags": []
     },
     "output_type": "display_data"
    },
    {
     "data": {
      "application/vnd.google.colaboratory.intrinsic+json": {
       "type": "string"
      },
      "text/plain": [
       "'Минимум:'"
      ]
     },
     "metadata": {
      "tags": []
     },
     "output_type": "display_data"
    },
    {
     "data": {
      "text/plain": [
       "[-1]"
      ]
     },
     "metadata": {
      "tags": []
     },
     "output_type": "display_data"
    },
    {
     "data": {
      "application/vnd.google.colaboratory.intrinsic+json": {
       "type": "string"
      },
      "text/plain": [
       "'Максимум:'"
      ]
     },
     "metadata": {
      "tags": []
     },
     "output_type": "display_data"
    },
    {
     "data": {
      "text/plain": [
       "[]"
      ]
     },
     "metadata": {
      "tags": []
     },
     "output_type": "display_data"
    }
   ],
   "source": [
    "# Объединение двух туплов.\n",
    "crit_points = Union(dy_x_num_nul, dy_x_den_nul) \n",
    "crit_points = list(crit_points) \n",
    "crit_points.sort()\n",
    "\n",
    "points = [-1.5] + [(crit_points[0] + crit_points[1])/2] + [1.5] \n",
    "display(\"Критические точки:\", points)\n",
    "\n",
    "max_arr=[]\n",
    "min_arr=[]\n",
    "\n",
    "for i, item in enumerate(crit_points):\n",
    "    if item in dy_x_num_nul:\n",
    "        df_left = dy_x.subs(t, points[i])\n",
    "        df_right = dy_x.subs(t, points[i + 1])\n",
    "        x_left = float(x.subs(t, points[i]))\n",
    "        x_right = float(x.subs(t, points[i + 1]))\n",
    "        if df_left < 0 and df_right > 0 and x_left < x_right or df_left > 0 and df_right < 0 and x_left > x_right:\n",
    "            min_arr.append(item)\n",
    "        elif df_left < 0 and df_right > 0 and x_left > x_right or df_left > 0 and df_right < 0 and x_left < x_right:\n",
    "            max_arr.append(item) \n",
    "            \n",
    "display('Минимум:', min_arr)\n",
    "display('Максимум:', max_arr)"
   ]
  },
  {
   "cell_type": "markdown",
   "metadata": {
    "id": "eTOYqPaocl8c"
   },
   "source": [
    "### Задание 4. Точки перегиба\n",
    "Найти точки перегиба функции, график строить не нужно. \n",
    "$$\n",
    "\\left\\{\n",
    "\\begin{matrix}\n",
    "x = e^t\\\\\n",
    "y = te^{2t}\n",
    "\\end{matrix}\n",
    "\\right.\n",
    "$$"
   ]
  },
  {
   "cell_type": "code",
   "execution_count": null,
   "metadata": {
    "colab": {
     "base_uri": "https://localhost:8080/",
     "height": 124
    },
    "id": "8j2o_pRFcl8c",
    "outputId": "055783db-13cd-4d63-bf77-df5c96f1aa10"
   },
   "outputs": [
    {
     "data": {
      "text/latex": [
       "$\\displaystyle 2 t + 3$"
      ],
      "text/plain": [
       "2*t + 3"
      ]
     },
     "metadata": {
      "tags": []
     },
     "output_type": "display_data"
    },
    {
     "data": {
      "text/plain": [
       "[-3/2]"
      ]
     },
     "metadata": {
      "tags": []
     },
     "output_type": "display_data"
    },
    {
     "data": {
      "application/vnd.google.colaboratory.intrinsic+json": {
       "type": "string"
      },
      "text/plain": [
       "'Точки перегиба:'"
      ]
     },
     "metadata": {
      "tags": []
     },
     "output_type": "display_data"
    },
    {
     "data": {
      "text/plain": [
       "[-3/2]"
      ]
     },
     "metadata": {
      "tags": []
     },
     "output_type": "display_data"
    },
    {
     "name": "stdout",
     "output_type": "stream",
     "text": [
      "x = exp(-3/2)\n",
      "y = -3*exp(-3)/2\n"
     ]
    }
   ],
   "source": [
    "t = Symbol('t')\n",
    "x = sympy.exp(t)\n",
    "y = t*sympy.exp(2*t)\n",
    "\n",
    "dx = diff(x, t)\n",
    "dy = diff(y, t)\n",
    "dy_x = dy/dx\n",
    "\n",
    "dy2_xx = ((dx*diff(y, t, 2) - diff(x, t, 2)*dy)/dx**3).simplify()\n",
    "display(dy2_xx)\n",
    "\n",
    "dy2_xx_null = solveset(dy2_xx)\n",
    "dy2_xx_points = list(dy2_xx_null)\n",
    "display(dy2_xx_points)\n",
    "\n",
    "points = [-2, -1]\n",
    "\n",
    "inflection=[]\n",
    "for i, item in enumerate(dy2_xx_points):\n",
    "    if item in dy2_xx_num_nul:\n",
    "    df_left = dy2_xx.subs(t, points[i])\n",
    "    df_right = dy2_xx.subs(t, points[i + 1])\n",
    "    if df_left*df_right < 0:\n",
    "        inflection.append(item)\n",
    "    \n",
    "display('Точки перегиба:', inflection)\n",
    "print(\"x =\", x.subs(t, inflection[0]))\n",
    "print(\"y =\", y.subs(t, inflection[0]))"
   ]
  },
  {
   "cell_type": "markdown",
   "metadata": {
    "id": "PQ5to4WQcl8c"
   },
   "source": [
    "## Асимптоты параметрически заданной функции\n",
    "Пусть зависимость $y$ от $x$ задана параметрически:\n",
    "$$\n",
    "\\left\\{\n",
    "\\begin{matrix}\n",
    "x = \\varphi(t)\\\\\n",
    "y = \\psi(t)\n",
    "\\end{matrix}\n",
    "\\right.\n",
    "$$\n",
    "Сначала нужно определить, нет ли таких значений параметра $t$, при которых одна из функций $\\varphi(t)$ или $\\psi(t)$ обращается в бесконечность, а другая остается конечной. При $\\varphi(t_0) = \\infty$, а $\\psi(t_0) = c$ кривая имеет горизонтальную асимптоту  $y = c$. При  $\\psi(t_0) = \\infty$, а $\\varphi(t_0) = c$ кривая имеет вертикальную асимптоту $x = c$. \n",
    "\n",
    "Если $\\varphi(t_0) = \\psi(t_0) = \\infty$ и \n",
    "$$\n",
    "\\lim_{t\\to t_0} \\frac{\\psi(t)}{\\varphi(t)} = k;\\qquad \\lim_{t\\to t_0} [\\psi(t) - k\\varphi(t)] = b,\n",
    "$$\n",
    "то   кривая имеет наклонную асимптоту  $y = kx + b$. \n",
    "\n",
    "### Индивидуальное задание.\n",
    "Найти асимптоты параметрически заданной функции и изобразить на графике функцию и ее асимптоты.\n",
    "\n",
    "Вариант 92\n",
    "\n",
    "$x = 6 e^{t} + 6 e^{- t}$\n",
    "\n",
    "$y = 2 e^{t} - 2 e^{- t}$\n",
    "pou"
   ]
  },
  {
   "cell_type": "code",
   "execution_count": null,
   "metadata": {
    "colab": {
     "base_uri": "https://localhost:8080/",
     "height": 402
    },
    "id": "8i-7SFA0cl8c",
    "outputId": "abf132e3-2de5-4d72-efc5-2aed2150343f"
   },
   "outputs": [
    {
     "data": {
      "application/vnd.google.colaboratory.intrinsic+json": {
       "type": "string"
      },
      "text/plain": [
       "'t -> 0'"
      ]
     },
     "metadata": {
      "tags": []
     },
     "output_type": "display_data"
    },
    {
     "data": {
      "text/latex": [
       "$\\displaystyle 12$"
      ],
      "text/plain": [
       "12"
      ]
     },
     "metadata": {
      "tags": []
     },
     "output_type": "display_data"
    },
    {
     "data": {
      "text/latex": [
       "$\\displaystyle 0$"
      ],
      "text/plain": [
       "0"
      ]
     },
     "metadata": {
      "tags": []
     },
     "output_type": "display_data"
    },
    {
     "data": {
      "application/vnd.google.colaboratory.intrinsic+json": {
       "type": "string"
      },
      "text/plain": [
       "'t -> +oo'"
      ]
     },
     "metadata": {
      "tags": []
     },
     "output_type": "display_data"
    },
    {
     "data": {
      "text/latex": [
       "$\\displaystyle \\infty$"
      ],
      "text/plain": [
       "oo"
      ]
     },
     "metadata": {
      "tags": []
     },
     "output_type": "display_data"
    },
    {
     "data": {
      "text/latex": [
       "$\\displaystyle \\infty$"
      ],
      "text/plain": [
       "oo"
      ]
     },
     "metadata": {
      "tags": []
     },
     "output_type": "display_data"
    },
    {
     "data": {
      "text/plain": [
       "(0.0, 400.0)"
      ]
     },
     "execution_count": 3,
     "metadata": {
      "tags": []
     },
     "output_type": "execute_result"
    },
    {
     "data": {
      "image/png": "[encoded data removed]",
      "text/plain": [
       "<Figure size 432x288 with 1 Axes>"
      ]
     },
     "metadata": {
      "tags": []
     },
     "output_type": "display_data"
    }
   ],
   "source": [
    "t = Symbol('t')\n",
    "x = 6*sympy.exp(t) + 6*sympy.exp(-t)\n",
    "y = 2*sympy.exp(t) - 2*sympy.exp(-t)\n",
    "\n",
    "display('t -> 0', limit(x, t, 0), limit(y, t, 0))\n",
    "display('t -> +oo', limit(x, t, +sympy.oo), limit(y, t, +sympy.oo))\n",
    "\n",
    "T1 = np.linspace(-100, 100, 1000)\n",
    "T2 = np.linspace(-100, 100, 1000) \n",
    "\n",
    "for T in [T1, T2]:\n",
    "    plt.plot(6*np.exp(T) + 6*np.exp(-T), 2*np.exp(T) - 2*np.exp(-T), color='green') \n",
    "    \n",
    "plt.axhline(y=0, color='red', linestyle='--') \n",
    "plt.axvline(x=12, color='blue', linestyle='--')\n",
    "\n",
    "plt.ylim(-100, 100)\n",
    "plt.xlim(0, 400)"
   ]
  }
 ],
 "metadata": {
  "colab": {
   "name": "KOLTUNOVLaba_matan_8.ipynb",
   "provenance": []
  },
  "kernelspec": {
   "display_name": "Python 3",
   "language": "python",
   "name": "python3"
  },
  "language_info": {
   "codemirror_mode": {
    "name": "ipython",
    "version": 3
   },
   "file_extension": ".py",
   "mimetype": "text/x-python",
   "name": "python",
   "nbconvert_exporter": "python",
   "pygments_lexer": "ipython3",
   "version": "3.8.5"
  }
 },
 "nbformat": 4,
 "nbformat_minor": 1
}
