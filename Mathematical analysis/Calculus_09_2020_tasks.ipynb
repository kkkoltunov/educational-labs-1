{
 "cells": [
  {
   "cell_type": "code",
   "execution_count": 3,
   "metadata": {
    "id": "qxjObzFMkxci"
   },
   "outputs": [],
   "source": [
    "import sympy\n",
    "from sympy import Symbol, symbols, S, Function, integrate, Integral, diff, solve"
   ]
  },
  {
   "cell_type": "markdown",
   "metadata": {
    "id": "uPmjo7Zdkxck"
   },
   "source": [
    "## Занятие 9\n",
    "## Математический анализ\n",
    "## Интегрирование функции: первообразная и неопределенный интеграл\n",
    "https://docs.sympy.org/1.5.1/modules/integrals/integrals.html\n",
    "\n",
    "https://ru.wikipedia.org/wiki/%D0%9F%D0%B5%D1%80%D0%B2%D0%BE%D0%BE%D0%B1%D1%80%D0%B0%D0%B7%D0%BD%D0%B0%D1%8F\n",
    "\n",
    "https://ru.wikipedia.org/wiki/%D0%A1%D0%BF%D0%B8%D1%81%D0%BE%D0%BA_%D0%B8%D0%BD%D1%82%D0%B5%D0%B3%D1%80%D0%B0%D0%BB%D0%BE%D0%B2_%D1%8D%D0%BB%D0%B5%D0%BC%D0%B5%D0%BD%D1%82%D0%B0%D1%80%D0%BD%D1%8B%D1%85_%D1%84%D1%83%D0%BD%D0%BA%D1%86%D0%B8%D0%B9"
   ]
  },
  {
   "cell_type": "markdown",
   "metadata": {
    "id": "EjhXHDqhkxcl"
   },
   "source": [
    "### Задача 1.\n",
    "Вычислить определенные интегралы:\n",
    "$$\n",
    "1)\\ \\int_2^3 \\frac{1}{\\sqrt{x-2}},\\ 2) \\int_1^6 \\frac{1}{(x-1)^3},\\ 3)\\ \\int_2^\\infty \\frac{1}{(x-1)^3} \n",
    "$$"
   ]
  },
  {
   "cell_type": "code",
   "execution_count": null,
   "metadata": {
    "colab": {
     "base_uri": "https://localhost:8080/",
     "height": 91
    },
    "id": "iPxz6ni6kxcl",
    "outputId": "7d38660c-0622-4631-a90c-f4ba9bfec249"
   },
   "outputs": [
    {
     "data": {
      "text/latex": [
       "$\\displaystyle 2$"
      ],
      "text/plain": [
       "2"
      ]
     },
     "metadata": {
      "tags": []
     },
     "output_type": "display_data"
    },
    {
     "data": {
      "text/latex": [
       "$\\displaystyle \\infty$"
      ],
      "text/plain": [
       "oo"
      ]
     },
     "metadata": {
      "tags": []
     },
     "output_type": "display_data"
    },
    {
     "data": {
      "text/latex": [
       "$\\displaystyle \\frac{1}{2}$"
      ],
      "text/plain": [
       "1/2"
      ]
     },
     "metadata": {
      "tags": []
     },
     "output_type": "display_data"
    }
   ],
   "source": [
    "x = Symbol('x')\n",
    "\n",
    "f = 1/sympy.sqrt(x-2)\n",
    "display (integrate(f, (x, 2, 3)))\n",
    "\n",
    "f = 1/(x-1)**3\n",
    "display (integrate(f, (x, 1, 6)))\n",
    "\n",
    "display (integrate(f, (x, 2, sympy.oo)))"
   ]
  },
  {
   "cell_type": "markdown",
   "metadata": {
    "id": "tDRu8Ti-kxcl"
   },
   "source": [
    "### Задача 2\n",
    "Описать функцию, находящую неопределенный интеграл $\\int f(x)\\,dx$ в виде $F(x)+C$.\n",
    "\n",
    "Использовать эту функцию для интегрирования $\\sin(3x+5)$, $x{\\rm tg}(x^2)$, $(e^{\\sin x})\\cos x$, $x^2e^{x^3}$"
   ]
  },
  {
   "cell_type": "code",
   "execution_count": null,
   "metadata": {
    "colab": {
     "base_uri": "https://localhost:8080/",
     "height": 178
    },
    "id": "BafB6A35kxcm",
    "outputId": "9c8fd888-2e47-4841-98a5-6dfabbe64262"
   },
   "outputs": [
    {
     "data": {
      "text/latex": [
       "$\\displaystyle \\int \\sin{\\left(3 x + 5 \\right)}\\, dx = C - \\frac{\\cos{\\left(3 x + 5 \\right)}}{3}$"
      ],
      "text/plain": [
       "Eq(Integral(sin(3*x + 5), x), C - cos(3*x + 5)/3)"
      ]
     },
     "metadata": {
      "tags": []
     },
     "output_type": "display_data"
    },
    {
     "data": {
      "text/latex": [
       "$\\displaystyle \\int x \\tan{\\left(x^{2} \\right)}\\, dx = C + \\frac{\\log{\\left(\\tan^{2}{\\left(x^{2} \\right)} + 1 \\right)}}{4}$"
      ],
      "text/plain": [
       "Eq(Integral(x*tan(x**2), x), C + log(tan(x**2)**2 + 1)/4)"
      ]
     },
     "metadata": {
      "tags": []
     },
     "output_type": "display_data"
    },
    {
     "data": {
      "text/latex": [
       "$\\displaystyle \\int e^{\\sin{\\left(x \\right)}} \\cos{\\left(x \\right)}\\, dx = C + e^{\\sin{\\left(x \\right)}}$"
      ],
      "text/plain": [
       "Eq(Integral(exp(sin(x))*cos(x), x), C + exp(sin(x)))"
      ]
     },
     "metadata": {
      "tags": []
     },
     "output_type": "display_data"
    },
    {
     "data": {
      "text/latex": [
       "$\\displaystyle \\int x^{2} e^{x^{3}}\\, dx = C + \\frac{e^{x^{3}}}{3}$"
      ],
      "text/plain": [
       "Eq(Integral(x**2*exp(x**3), x), C + exp(x**3)/3)"
      ]
     },
     "metadata": {
      "tags": []
     },
     "output_type": "display_data"
    }
   ],
   "source": [
    "C = Symbol('C')\n",
    "\n",
    "def integr(func):\n",
    "    display(sympy.Eq(Integral(func), func.integrate() + C))\n",
    "\n",
    "functions = (sympy.sin(3*x+5), x*sympy.tan(x**2), sympy.exp(sympy.sin(x))*(sympy.cos(x)), sympy.exp(x**3)*x**2)\n",
    "\n",
    "for func in functions:\n",
    "    integr(func)"
   ]
  },
  {
   "cell_type": "markdown",
   "metadata": {
    "id": "kDPvSVVlkxcm"
   },
   "source": [
    "### Задача 3.\n",
    "Найти первообразную функции $\\frac{x-3}{(x+1)^2}$, график которой проходит через начало координат."
   ]
  },
  {
   "cell_type": "code",
   "execution_count": null,
   "metadata": {
    "colab": {
     "base_uri": "https://localhost:8080/",
     "height": 112
    },
    "id": "n3guoGXnkxcm",
    "outputId": "dc0cde44-fb9d-4a8f-c637-c5a719b39de4"
   },
   "outputs": [
    {
     "data": {
      "text/latex": [
       "$\\displaystyle \\int \\frac{x - 3}{\\left(x + 1\\right)^{2}}\\, dx = C + \\log{\\left(x + 1 \\right)} + \\frac{4}{x + 1}$"
      ],
      "text/plain": [
       "Eq(Integral((x - 3)/(x + 1)**2, x), C + log(x + 1) + 4/(x + 1))"
      ]
     },
     "metadata": {
      "tags": []
     },
     "output_type": "display_data"
    },
    {
     "data": {
      "application/vnd.google.colaboratory.intrinsic+json": {
       "type": "string"
      },
      "text/plain": [
       "'Интеграл, проходящий через начало координат:'"
      ]
     },
     "metadata": {
      "tags": []
     },
     "output_type": "display_data"
    },
    {
     "data": {
      "text/latex": [
       "$\\displaystyle \\log{\\left(x + 1 \\right)} - 4 + \\frac{4}{x + 1}$"
      ],
      "text/plain": [
       "log(x + 1) - 4 + 4/(x + 1)"
      ]
     },
     "metadata": {
      "tags": []
     },
     "output_type": "display_data"
    }
   ],
   "source": [
    "func = (x-3)/(x+1)**2\n",
    "integr(func)\n",
    "c = sympy.log(1) + 4\n",
    "\n",
    "display('Интеграл, проходящий через начало координат:', func.integrate() - c)"
   ]
  },
  {
   "cell_type": "markdown",
   "metadata": {
    "id": "5oVUbP3Ekxcm"
   },
   "source": [
    "### Задача 4.\n",
    "Описать функцию, вычисляющую неопределенный интеграл от $\\frac{1}{\\sqrt{x^2+a}}$ по формуле \"длинного логарифма\":\n",
    "$$\n",
    "\\int\\frac{1}{\\sqrt{x^2+a}} = \\ln|x + \\sqrt{x^2 + a}| + C,\\quad a \\neq 0. \n",
    "$$\n",
    "Функция возвращает $\\ln|x| + C$ при $a = 0$. Аргументы функции - переменная интегрирования $x$ и параметр $a$.\n",
    "\n",
    "Вызвать функцию при $a = 0, 1, 4$. Сравнить с результатом integrate.\n",
    "\n",
    "Проверить дифференцированием, при необходимости использовать simplyfy для того, чтобы упростить выражение.\n",
    "\n",
    "Рекомендется создавать положительные символы, чтобы не было неоднозначности."
   ]
  },
  {
   "cell_type": "code",
   "execution_count": 4,
   "metadata": {
    "colab": {
     "base_uri": "https://localhost:8080/",
     "height": 613
    },
    "id": "qo5jmtyfkxcn",
    "outputId": "ef5420e7-2836-4dda-c16c-6f471aec05dc"
   },
   "outputs": [
    {
     "data": {
      "application/vnd.google.colaboratory.intrinsic+json": {
       "type": "string"
      },
      "text/plain": [
       "'My func'"
      ]
     },
     "metadata": {
      "tags": []
     },
     "output_type": "display_data"
    },
    {
     "data": {
      "text/latex": [
       "$\\displaystyle C + \\log{\\left(x \\right)}$"
      ],
      "text/plain": [
       "C + log(x)"
      ]
     },
     "metadata": {
      "tags": []
     },
     "output_type": "display_data"
    },
    {
     "data": {
      "application/vnd.google.colaboratory.intrinsic+json": {
       "type": "string"
      },
      "text/plain": [
       "'Library func'"
      ]
     },
     "metadata": {
      "tags": []
     },
     "output_type": "display_data"
    },
    {
     "data": {
      "text/latex": [
       "$\\displaystyle \\log{\\left(x \\right)}$"
      ],
      "text/plain": [
       "log(x)"
      ]
     },
     "metadata": {
      "tags": []
     },
     "output_type": "display_data"
    },
    {
     "data": {
      "application/vnd.google.colaboratory.intrinsic+json": {
       "type": "string"
      },
      "text/plain": [
       "'My func diff'"
      ]
     },
     "metadata": {
      "tags": []
     },
     "output_type": "display_data"
    },
    {
     "data": {
      "text/latex": [
       "$\\displaystyle \\frac{1}{x}$"
      ],
      "text/plain": [
       "1/x"
      ]
     },
     "metadata": {
      "tags": []
     },
     "output_type": "display_data"
    },
    {
     "data": {
      "application/vnd.google.colaboratory.intrinsic+json": {
       "type": "string"
      },
      "text/plain": [
       "'Library func diff'"
      ]
     },
     "metadata": {
      "tags": []
     },
     "output_type": "display_data"
    },
    {
     "data": {
      "text/latex": [
       "$\\displaystyle \\frac{1}{x}$"
      ],
      "text/plain": [
       "1/x"
      ]
     },
     "metadata": {
      "tags": []
     },
     "output_type": "display_data"
    },
    {
     "data": {
      "application/vnd.google.colaboratory.intrinsic+json": {
       "type": "string"
      },
      "text/plain": [
       "'My func'"
      ]
     },
     "metadata": {
      "tags": []
     },
     "output_type": "display_data"
    },
    {
     "data": {
      "text/latex": [
       "$\\displaystyle C + \\log{\\left(x + \\sqrt{x^{2} + 1} \\right)}$"
      ],
      "text/plain": [
       "C + log(x + sqrt(x**2 + 1))"
      ]
     },
     "metadata": {
      "tags": []
     },
     "output_type": "display_data"
    },
    {
     "data": {
      "application/vnd.google.colaboratory.intrinsic+json": {
       "type": "string"
      },
      "text/plain": [
       "'Library func'"
      ]
     },
     "metadata": {
      "tags": []
     },
     "output_type": "display_data"
    },
    {
     "data": {
      "text/latex": [
       "$\\displaystyle \\operatorname{asinh}{\\left(x \\right)}$"
      ],
      "text/plain": [
       "asinh(x)"
      ]
     },
     "metadata": {
      "tags": []
     },
     "output_type": "display_data"
    },
    {
     "data": {
      "application/vnd.google.colaboratory.intrinsic+json": {
       "type": "string"
      },
      "text/plain": [
       "'My func diff'"
      ]
     },
     "metadata": {
      "tags": []
     },
     "output_type": "display_data"
    },
    {
     "data": {
      "text/latex": [
       "$\\displaystyle \\frac{1}{\\sqrt{x^{2} + 1}}$"
      ],
      "text/plain": [
       "1/sqrt(x**2 + 1)"
      ]
     },
     "metadata": {
      "tags": []
     },
     "output_type": "display_data"
    },
    {
     "data": {
      "application/vnd.google.colaboratory.intrinsic+json": {
       "type": "string"
      },
      "text/plain": [
       "'Library func diff'"
      ]
     },
     "metadata": {
      "tags": []
     },
     "output_type": "display_data"
    },
    {
     "data": {
      "text/latex": [
       "$\\displaystyle \\frac{1}{\\sqrt{x^{2} + 1}}$"
      ],
      "text/plain": [
       "1/sqrt(x**2 + 1)"
      ]
     },
     "metadata": {
      "tags": []
     },
     "output_type": "display_data"
    },
    {
     "data": {
      "application/vnd.google.colaboratory.intrinsic+json": {
       "type": "string"
      },
      "text/plain": [
       "'My func'"
      ]
     },
     "metadata": {
      "tags": []
     },
     "output_type": "display_data"
    },
    {
     "data": {
      "text/latex": [
       "$\\displaystyle C + \\log{\\left(x + \\sqrt{x^{2} + 4} \\right)}$"
      ],
      "text/plain": [
       "C + log(x + sqrt(x**2 + 4))"
      ]
     },
     "metadata": {
      "tags": []
     },
     "output_type": "display_data"
    },
    {
     "data": {
      "application/vnd.google.colaboratory.intrinsic+json": {
       "type": "string"
      },
      "text/plain": [
       "'Library func'"
      ]
     },
     "metadata": {
      "tags": []
     },
     "output_type": "display_data"
    },
    {
     "data": {
      "text/latex": [
       "$\\displaystyle \\operatorname{asinh}{\\left(\\frac{x}{2} \\right)}$"
      ],
      "text/plain": [
       "asinh(x/2)"
      ]
     },
     "metadata": {
      "tags": []
     },
     "output_type": "display_data"
    },
    {
     "data": {
      "application/vnd.google.colaboratory.intrinsic+json": {
       "type": "string"
      },
      "text/plain": [
       "'My func diff'"
      ]
     },
     "metadata": {
      "tags": []
     },
     "output_type": "display_data"
    },
    {
     "data": {
      "text/latex": [
       "$\\displaystyle \\frac{1}{\\sqrt{x^{2} + 4}}$"
      ],
      "text/plain": [
       "1/sqrt(x**2 + 4)"
      ]
     },
     "metadata": {
      "tags": []
     },
     "output_type": "display_data"
    },
    {
     "data": {
      "application/vnd.google.colaboratory.intrinsic+json": {
       "type": "string"
      },
      "text/plain": [
       "'Library func diff'"
      ]
     },
     "metadata": {
      "tags": []
     },
     "output_type": "display_data"
    },
    {
     "data": {
      "text/latex": [
       "$\\displaystyle \\frac{1}{\\sqrt{x^{2} + 4}}$"
      ],
      "text/plain": [
       "1/sqrt(x**2 + 4)"
      ]
     },
     "metadata": {
      "tags": []
     },
     "output_type": "display_data"
    }
   ],
   "source": [
    "C = Symbol('C', positive=True)\n",
    "x = Symbol('x', positive=True)\n",
    "\n",
    "def long_integ(x, a):\n",
    "    if a == 0:\n",
    "        return sympy.log(sympy.Abs(x)) + C\n",
    "    else:\n",
    "        return sympy.log(sympy.Abs(x + sympy.sqrt(pow(x, 2) + a))) + C\n",
    "\n",
    "a_list = [0, 1, 4]\n",
    "\n",
    "for a in a_list:\n",
    "    display('My func', long_integ(x, a))\n",
    "    display('Library func', integrate(1 / sympy.sqrt(pow(x, 2) + a), x))\n",
    "    display('My func diff', sympy.simplify(diff(long_integ(x, a), x)))\n",
    "    display('Library func diff', sympy.simplify(diff(integrate(1 / sympy.sqrt(pow(x, 2) + a), x), x)))"
   ]
  },
  {
   "cell_type": "markdown",
   "metadata": {
    "id": "gNEI1j_mkxcn"
   },
   "source": [
    "### Задача 5.\n",
    "Провести замену переменной $y = x^2$ в интеграле $\\int x e^{x^2}\\,dx$."
   ]
  },
  {
   "cell_type": "code",
   "execution_count": null,
   "metadata": {
    "colab": {
     "base_uri": "https://localhost:8080/",
     "height": 54
    },
    "id": "XYeXk5EAkxcn",
    "outputId": "d2168871-588d-402e-97ee-41e7dac983ff"
   },
   "outputs": [
    {
     "data": {
      "text/latex": [
       "$\\displaystyle \\int x e^{x^{2}}\\, dx = \\int \\frac{e^{y}}{2}\\, dy$"
      ],
      "text/plain": [
       "Eq(Integral(x*exp(x**2), x), Integral(exp(y)/2, y))"
      ]
     },
     "execution_count": 13,
     "metadata": {
      "tags": []
     },
     "output_type": "execute_result"
    }
   ],
   "source": [
    "y = Symbol('y', positive=True)\n",
    "x = Symbol('x', positive=True)\n",
    "\n",
    "I1 = Integral(x * sympy.exp(x**2))\n",
    "sympy.Eq(I1, I1.transform(x**2, y))"
   ]
  },
  {
   "cell_type": "markdown",
   "metadata": {
    "id": "IXYpIecokxcn"
   },
   "source": [
    "### Индивидуальное задание\n",
    "Провести замену переменных в определенном интеграле, представить результат в виде двух уравнений, как в примере:\n",
    "\\begin{align*}\n",
    "\\int_1^4 \\frac{dx}{\\sqrt{x}\\left(\\sqrt{x}+1\\right)} = \\int_1^2 \\frac{2\\,dy}{y + 1}\\\\\n",
    "\\int_1^2 \\frac{2\\,dy}{y + 1} = 2(\\ln 3 - \\ln 2)\n",
    "\\end{align*}\n",
    "(с точностью до перестановки слагаемых и сомножителей)\n",
    "\n",
    "Вариант 92\n",
    "\n",
    "$$\\int\\limits_{\\log{\\left(\\frac{\\sqrt{3}}{3} \\right)}}^{\\log{\\left(\\sqrt{3} \\right)}} \\frac{e^{x}}{e^{2 x} + 1}\\, dx$$\n",
    "замена $y = e^{x}$"
   ]
  },
  {
   "cell_type": "code",
   "execution_count": null,
   "metadata": {
    "colab": {
     "base_uri": "https://localhost:8080/",
     "height": 175
    },
    "id": "7dY1MQuHkxco",
    "outputId": "89b3246f-3aab-4862-ff15-a887ad9156ad"
   },
   "outputs": [
    {
     "data": {
      "text/latex": [
       "$\\displaystyle \\int\\limits_{\\log{\\left(\\frac{\\sqrt{3}}{3} \\right)}}^{\\log{\\left(\\sqrt{3} \\right)}} \\frac{e^{x}}{e^{2 x} + 1}\\, dx = \\int\\limits_{\\frac{\\sqrt{3}}{3}}^{\\sqrt{3}} \\frac{1}{y^{2} + 1}\\, dy$"
      ],
      "text/plain": [
       "Eq(Integral(exp(x)/(exp(2*x) + 1), (x, log(sqrt(3)/3), log(sqrt(3)))), Integral(1/(y**2 + 1), (y, sqrt(3)/3, sqrt(3))))"
      ]
     },
     "metadata": {
      "tags": []
     },
     "output_type": "display_data"
    },
    {
     "data": {
      "text/latex": [
       "$\\displaystyle \\int\\limits_{\\frac{\\sqrt{3}}{3}}^{\\sqrt{3}} \\frac{1}{y^{2} + 1}\\, dy = \\frac{\\pi}{6}$"
      ],
      "text/plain": [
       "Eq(Integral(1/(y**2 + 1), (y, sqrt(3)/3, sqrt(3))), pi/6)"
      ]
     },
     "metadata": {
      "tags": []
     },
     "output_type": "display_data"
    }
   ],
   "source": [
    "y = Symbol('y', positive=True)\n",
    "x = Symbol('x', positive=True)\n",
    "\n",
    "I2 = Integral((sympy.exp(x)/(sympy.exp(2*x) + 1)), (x, sympy.log(sympy.sqrt(3)/3), sympy.log(sympy.sqrt(3))))\n",
    "transf = I2.transform(sympy.exp(x), y)\n",
    "display(sympy.Eq(I2, transf))\n",
    "display(sympy.Eq(transf, transf.doit()))"
   ]
  }
 ],
 "metadata": {
  "colab": {
   "name": "KOLTUNOVCalculus_9_tasks.ipynb",
   "provenance": []
  },
  "kernelspec": {
   "display_name": "Python 3",
   "language": "python",
   "name": "python3"
  },
  "language_info": {
   "codemirror_mode": {
    "name": "ipython",
    "version": 3
   },
   "file_extension": ".py",
   "mimetype": "text/x-python",
   "name": "python",
   "nbconvert_exporter": "python",
   "pygments_lexer": "ipython3",
   "version": "3.8.5"
  }
 },
 "nbformat": 4,
 "nbformat_minor": 1
}
